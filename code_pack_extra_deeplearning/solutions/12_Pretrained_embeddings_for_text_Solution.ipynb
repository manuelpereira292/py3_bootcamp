{
 "cells": [
  {
   "cell_type": "markdown",
   "metadata": {},
   "source": [
    "# Lab 12: Exercise solutions"
   ]
  },
  {
   "cell_type": "code",
   "execution_count": 1,
   "metadata": {},
   "outputs": [],
   "source": [
    "with open('../course/common.py') as fin:\n",
    "    exec(fin.read())"
   ]
  },
  {
   "cell_type": "code",
   "execution_count": 2,
   "metadata": {},
   "outputs": [],
   "source": [
    "with open('../course/matplotlibconf.py') as fin:\n",
    "    exec(fin.read())"
   ]
  },
  {
   "cell_type": "markdown",
   "metadata": {},
   "source": [
    "## Exercise 1"
   ]
  },
  {
   "cell_type": "markdown",
   "metadata": {},
   "source": [
    "Compare the representations of Word2Vec, Glove and FastText. In the `data/embeddings` folder we provided you with two additional scripts to download FastText and Word2Vec. Go ahead and download each of them into the `data/embeddings`. Then load each of the 3 embeddings in a separate Gensim model and complete the following steps:\n",
    "\n",
    "1. define a list of words containing the following words: 'good', 'bad', 'fast', 'tensor', 'teacher', 'student'.\n",
    "- create a function called `get_top_5(words, model)` that retrieves the top 5 most similar words to the list of words and compare what the 3 different embeddings give you\n",
    "- apply the same function to each word in the list separately and compare the lists of the 3 embeddings.\n",
    "- explore the following word analogies:\n",
    "\n",
    "\n",
    "    man:king=woman:? ==> expected queen\n",
    "    france:paris=germany:? ==> expected berlin\n",
    "    teacher:teach=student:? ==> expected learn\n",
    "    cat:kitten=dog:? ==> expected puppy\n",
    "    english:friday=italiano:? ==> expected venerdì\n",
    "\n",
    "Can word analogies be used for translation?\n",
    "\n",
    "Note that loading the vector may take several minutes depending on your computer. "
   ]
  },
  {
   "cell_type": "code",
   "execution_count": 3,
   "metadata": {},
   "outputs": [],
   "source": [
    "import gensim"
   ]
  },
  {
   "cell_type": "code",
   "execution_count": 4,
   "metadata": {},
   "outputs": [],
   "source": [
    "from gensim.models import KeyedVectors"
   ]
  },
  {
   "cell_type": "code",
   "execution_count": 5,
   "metadata": {},
   "outputs": [],
   "source": [
    "w2v_path = '../data/embeddings/GoogleNews-vectors-negative300.bin'\n",
    "w2v_gs = KeyedVectors.load_word2vec_format(\n",
    "    w2v_path, binary=True)"
   ]
  },
  {
   "cell_type": "code",
   "execution_count": 6,
   "metadata": {},
   "outputs": [],
   "source": [
    "glove_path = '../data/embeddings/glove.6B.50d.txt.vec'\n",
    "glove_gs = KeyedVectors.load_word2vec_format(\n",
    "    glove_path, binary=False)"
   ]
  },
  {
   "cell_type": "code",
   "execution_count": 7,
   "metadata": {},
   "outputs": [],
   "source": [
    "fasttext_path = '../data/embeddings/wiki-news-300d-1M.vec'\n",
    "fasttext_gs = KeyedVectors.load_word2vec_format(\n",
    "    fasttext_path, binary=False)"
   ]
  },
  {
   "cell_type": "code",
   "execution_count": 8,
   "metadata": {},
   "outputs": [],
   "source": [
    "word_list = ['good', 'bad',\n",
    "             'fast', 'tensor',\n",
    "             'teacher', 'student']"
   ]
  },
  {
   "cell_type": "code",
   "execution_count": 9,
   "metadata": {},
   "outputs": [],
   "source": [
    "def get_top_5(words, gs_model):\n",
    "    res = gs_model.most_similar(positive=words, topn=5)\n",
    "    return [r[0] for r in res]"
   ]
  },
  {
   "cell_type": "code",
   "execution_count": 10,
   "metadata": {},
   "outputs": [
    {
     "name": "stdout",
     "output_type": "stream",
     "text": [
      "good\n",
      "W2V     :  ['great', 'bad', 'terrific', 'decent', 'nice']\n",
      "Glove   :  ['better', 'really', 'always', 'sure', 'something']\n",
      "FastText:  ['bad', 'excellent', 'decent', 'nice', 'great']\n",
      "\n",
      "bad\n",
      "W2V     :  ['good', 'terrible', 'horrible', 'Bad', 'lousy']\n",
      "Glove   :  ['worse', 'unfortunately', 'too', 'really', 'little']\n",
      "FastText:  ['good', 'terrible', 'horrible', 'lousy', 'awful']\n",
      "\n",
      "fast\n",
      "W2V     :  ['quick', 'rapidly', 'Fast', 'quickly', 'slow']\n",
      "Glove   :  ['slow', 'faster', 'pace', 'turning', 'better']\n",
      "FastText:  ['slow', 'rapid', 'quick', 'Fast', 'faster']\n",
      "\n",
      "tensor\n",
      "W2V     :  ['uniaxial', 'τ', 'θ', 'φ', 'wavefunction']\n",
      "Glove   :  ['scalar', 'tensors', 'coefficients', 'coefficient', 'formula_12']\n",
      "FastText:  ['tensors', 'Tensor', 'stress-energy', 'pseudotensor', 'tensorial']\n",
      "\n",
      "teacher\n",
      "W2V     :  ['teachers', 'Teacher', 'guidance_counselor', 'elementary', 'PE_teacher']\n",
      "Glove   :  ['student', 'graduate', 'teaching', 'taught', 'teaches']\n",
      "FastText:  ['teachers', 'educator', 'Teacher', 'student', 'pupil']\n",
      "\n",
      "student\n",
      "W2V     :  ['students', 'Student', 'teacher', 'stu_dent', 'faculty']\n",
      "Glove   :  ['teacher', 'students', 'teachers', 'graduate', 'school']\n",
      "FastText:  ['students', 'teacher', 'Student', 'university', 'graduate']\n",
      "\n"
     ]
    }
   ],
   "source": [
    "for word in word_list:\n",
    "    print(word)\n",
    "    print(\"W2V     : \", get_top_5([word], w2v_gs))\n",
    "    print(\"Glove   : \", get_top_5([word.lower()], glove_gs))\n",
    "    print(\"FastText: \", get_top_5([word], fasttext_gs))\n",
    "    print()"
   ]
  },
  {
   "cell_type": "code",
   "execution_count": 11,
   "metadata": {},
   "outputs": [],
   "source": [
    "def word_analogy(model,\n",
    "                 thing='man',\n",
    "                 is_to='king',\n",
    "                 like='woman'):\n",
    "    res = model.most_similar(positive=[is_to, like],\n",
    "                             negative=[thing],\n",
    "                             topn=3)\n",
    "    return [r[0] for r in res]"
   ]
  },
  {
   "cell_type": "code",
   "execution_count": 12,
   "metadata": {},
   "outputs": [
    {
     "name": "stdout",
     "output_type": "stream",
     "text": [
      "man:king=woman:queen\n",
      "W2V     :  ['queen', 'monarch', 'princess']\n",
      "Glove   :  ['queen', 'throne', 'prince']\n",
      "FastText:  ['queen', 'monarch', 'princess']\n",
      "\n",
      "france:paris=germany:berlin\n",
      "W2V     :  ['berlin', 'german', 'lindsay_lohan']\n",
      "Glove   :  ['berlin', 'frankfurt', 'vienna']\n",
      "FastText:  ['berlin', 'munich', 'dresden']\n",
      "\n",
      "teacher:teach=student:learn\n",
      "W2V     :  ['educate', 'learn', 'teaches']\n",
      "Glove   :  ['students', 'teachers', 'teaching']\n",
      "FastText:  ['learn', 'educate', 'attend']\n",
      "\n",
      "cat:kitten=dog:?\n",
      "W2V     :  ['puppy', 'pup', 'pit_bull']\n",
      "Glove   :  ['puppy', 'rottweiler', 'retriever']\n",
      "FastText:  ['puppy', 'puppies', 'pup']\n",
      "\n",
      "english:friday=italiano:?\n",
      "W2V     :  ['noche', 'fatto', 'la_versione']\n",
      "Glove   :  ['exxonmobil', 'eni', 'newmont']\n",
      "FastText:  ['dopo', 'meglio', 'lavoro']\n",
      "\n"
     ]
    }
   ],
   "source": [
    "word_analogies = ['man:king=woman:queen',\n",
    "                  'france:paris=germany:berlin',\n",
    "                  'teacher:teach=student:learn',\n",
    "                  'cat:kitten=dog:?',\n",
    "                  'english:friday=italiano:?']\n",
    "\n",
    "for analogy in word_analogies:\n",
    "    first, second = analogy.split('=')\n",
    "    thing, is_to = first.split(':')\n",
    "    like, answer = second.split(':')\n",
    "    \n",
    "    print(analogy)\n",
    "    print(\"W2V     : \", word_analogy(\n",
    "        w2v_gs, thing, is_to, like))\n",
    "    print(\"Glove   : \", word_analogy(\n",
    "        glove_gs, thing, is_to, like))\n",
    "    print(\"FastText: \", word_analogy(\n",
    "        fasttext_gs, thing, is_to, like))\n",
    "    print()"
   ]
  },
  {
   "cell_type": "markdown",
   "metadata": {},
   "source": [
    "## Exercise 2"
   ]
  },
  {
   "cell_type": "markdown",
   "metadata": {},
   "source": [
    "The [Reuters Newswire topic classification dataset](https://keras.io/datasets/#reuters-newswire-topics-classification) is a dataset of 11,228 newswires from Reuters, labeled over 46 topics. This dataset is provided in the `keras.datasets` module and it's easy to use.\n",
    "\n",
    "Let's compare the performance of a model using pre-trained embeddings with a model using random embeddings on the topic classification task.\n",
    "\n",
    "- Load the data from `keras.datasets.reuters`\n",
    "- Retrieve the word index and create the reverse_word_idx as done for IMDB in [Lab 8](8_NLP_and_Text_Data.ipynb).\n",
    "- Augment the reverse word index with `pad_char`, `start_char` and `oov_char` at indices 0, 1, 2 respectively.\n",
    "- Check the maximum length of a newswire and use the `pad_sequences` function to pad everything to that 100 words.\n",
    "- Create and train two models, one using pre-trained embeddings and the other using a randomly initialized embedding\n",
    "- Compare their performance on this dataset using a recurrent model. In particular, check which of the two models shows the worst overfitting."
   ]
  },
  {
   "cell_type": "code",
   "execution_count": 13,
   "metadata": {},
   "outputs": [],
   "source": [
    "from tensorflow.keras.datasets import reuters"
   ]
  },
  {
   "cell_type": "code",
   "execution_count": 14,
   "metadata": {},
   "outputs": [],
   "source": [
    "vocab_size=20000"
   ]
  },
  {
   "cell_type": "code",
   "execution_count": 15,
   "metadata": {},
   "outputs": [],
   "source": [
    "(X_train, y_train), (X_test, y_test) = \\\n",
    "    reuters.load_data(num_words=vocab_size, index_from=2)"
   ]
  },
  {
   "cell_type": "code",
   "execution_count": 16,
   "metadata": {},
   "outputs": [],
   "source": [
    "reuters_word_idx = reuters.get_word_index()"
   ]
  },
  {
   "cell_type": "code",
   "execution_count": 17,
   "metadata": {},
   "outputs": [],
   "source": [
    "reverse_reuters_word_idx = {index+2:word for word, index \n",
    "                            in reuters_word_idx.items()}"
   ]
  },
  {
   "cell_type": "code",
   "execution_count": 18,
   "metadata": {},
   "outputs": [],
   "source": [
    "reverse_reuters_word_idx[0] = 'pad_char'\n",
    "reverse_reuters_word_idx[1] = 'start_char'\n",
    "reverse_reuters_word_idx[2] = 'oov_char'"
   ]
  },
  {
   "cell_type": "code",
   "execution_count": 19,
   "metadata": {},
   "outputs": [],
   "source": [
    "from tensorflow.keras.preprocessing.sequence import pad_sequences"
   ]
  },
  {
   "cell_type": "code",
   "execution_count": 20,
   "metadata": {},
   "outputs": [
    {
     "data": {
      "text/plain": [
       "'start_char oov_char oov_char said as a result of its december acquisition of space co it expects earnings per share in 1987 of 1 15 to 1 30 dlrs per share up from 70 cts in 1986 the company said pretax net should rise to nine to 10 mln dlrs from six mln dlrs in 1986 and rental operation revenues to 19 to 22 mln dlrs from 12 5 mln dlrs it said cash flow per share this year should be 2 50 to three dlrs reuter 3'"
      ]
     },
     "execution_count": 20,
     "metadata": {},
     "output_type": "execute_result"
    }
   ],
   "source": [
    "' '.join([reverse_reuters_word_idx[i] for i in X_train[0]])"
   ]
  },
  {
   "cell_type": "code",
   "execution_count": 21,
   "metadata": {},
   "outputs": [
    {
     "data": {
      "text/plain": [
       "2376"
      ]
     },
     "execution_count": 21,
     "metadata": {},
     "output_type": "execute_result"
    }
   ],
   "source": [
    "max([len(seq) for seq in X_train])"
   ]
  },
  {
   "cell_type": "code",
   "execution_count": 22,
   "metadata": {},
   "outputs": [],
   "source": [
    "maxlen=100"
   ]
  },
  {
   "cell_type": "code",
   "execution_count": 23,
   "metadata": {},
   "outputs": [],
   "source": [
    "X_train_pad = pad_sequences(X_train, maxlen=maxlen)\n",
    "X_test_pad = pad_sequences(X_test, maxlen=maxlen)"
   ]
  },
  {
   "cell_type": "code",
   "execution_count": 24,
   "metadata": {},
   "outputs": [],
   "source": [
    "embedding_model = fasttext_gs"
   ]
  },
  {
   "cell_type": "code",
   "execution_count": 25,
   "metadata": {},
   "outputs": [],
   "source": [
    "embedding_size = embedding_model.vector_size"
   ]
  },
  {
   "cell_type": "code",
   "execution_count": 26,
   "metadata": {},
   "outputs": [
    {
     "name": "stdout",
     "output_type": "stream",
     "text": [
      "4260 out of 20000 words not found in pre-trained embedding.\n"
     ]
    }
   ],
   "source": [
    "reuters_emb_weights = np.zeros((vocab_size, embedding_size))\n",
    "\n",
    "not_found = 0\n",
    "\n",
    "for i in range(1, vocab_size):\n",
    "    word = reverse_reuters_word_idx[i]\n",
    "    try:\n",
    "        reuters_emb_weights[i] = embedding_model[word]\n",
    "    except:\n",
    "        not_found += 1\n",
    "#         print(word, \"not found in pre-trained embedding\")\n",
    "        reuters_emb_weights[i] = np.random.random(\n",
    "            size=embedding_size)\n",
    "        pass\n",
    "print(\"{} out of {} words not found in pre-trained embedding.\".format(not_found, vocab_size))"
   ]
  },
  {
   "cell_type": "code",
   "execution_count": 27,
   "metadata": {},
   "outputs": [],
   "source": [
    "from tensorflow.keras.layers import LSTM, Embedding, Dense\n",
    "from tensorflow.keras.models import Sequential"
   ]
  },
  {
   "cell_type": "code",
   "execution_count": 28,
   "metadata": {},
   "outputs": [],
   "source": [
    "def build_train_eval(embedding_weights=None):\n",
    "    model = Sequential([\n",
    "        Embedding(vocab_size,\n",
    "                  embedding_size,\n",
    "                  mask_zero=True,\n",
    "                  input_length=maxlen),\n",
    "        LSTM(64, dropout=0.2),\n",
    "        Dense(46, activation='softmax')\n",
    "    ])\n",
    "    \n",
    "    if embedding_weights is not None:\n",
    "        model.layers[0].set_weights([embedding_weights])\n",
    "        model.layers[0].trainable=False\n",
    "    \n",
    "    model.compile(loss='sparse_categorical_crossentropy',\n",
    "                  optimizer='adam',\n",
    "                  metrics=['accuracy'])\n",
    "    \n",
    "    h = model.fit(X_train_pad, y_train,\n",
    "                  batch_size=32,\n",
    "                  epochs=5,\n",
    "                  validation_split=0.1)\n",
    "    \n",
    "    train_loss, train_acc = model.evaluate(X_train_pad,\n",
    "                                           y_train)\n",
    "    print('Train loss:', train_loss)\n",
    "    print('Train accuracy:', train_acc)\n",
    "    \n",
    "    test_loss, test_acc = model.evaluate(X_test_pad,\n",
    "                                         y_test)\n",
    "    print('Test loss:', test_loss)\n",
    "    print('Test accuracy:', test_acc)\n",
    "    \n",
    "    return h, model"
   ]
  },
  {
   "cell_type": "code",
   "execution_count": 29,
   "metadata": {},
   "outputs": [
    {
     "name": "stdout",
     "output_type": "stream",
     "text": [
      "Train on 8083 samples, validate on 899 samples\n",
      "Epoch 1/5\n",
      "8083/8083 [==============================] - 151s 19ms/sample - loss: 2.2536 - accuracy: 0.4403 - val_loss: 2.0236 - val_accuracy: 0.4850\n",
      "Epoch 2/5\n",
      "8083/8083 [==============================] - 149s 18ms/sample - loss: 1.7169 - accuracy: 0.5565 - val_loss: 1.6751 - val_accuracy: 0.5818\n",
      "Epoch 3/5\n",
      "8083/8083 [==============================] - 151s 19ms/sample - loss: 1.3388 - accuracy: 0.6639 - val_loss: 1.5012 - val_accuracy: 0.6429\n",
      "Epoch 4/5\n",
      "8083/8083 [==============================] - 151s 19ms/sample - loss: 1.0099 - accuracy: 0.7459 - val_loss: 1.4512 - val_accuracy: 0.6607\n",
      "Epoch 5/5\n",
      "8083/8083 [==============================] - 149s 18ms/sample - loss: 0.7592 - accuracy: 0.8106 - val_loss: 1.4364 - val_accuracy: 0.6763\n",
      "8982/8982 [==============================] - 16s 2ms/sample - loss: 0.6893 - accuracy: 0.8309\n",
      "Train loss: 0.689289183559303\n",
      "Train accuracy: 0.830884\n",
      "2246/2246 [==============================] - 4s 2ms/sample - loss: 1.4965 - accuracy: 0.6616\n",
      "Test loss: 1.4964812704206893\n",
      "Test accuracy: 0.6616207\n"
     ]
    }
   ],
   "source": [
    "h, random_model = build_train_eval()"
   ]
  },
  {
   "cell_type": "code",
   "execution_count": 30,
   "metadata": {},
   "outputs": [
    {
     "data": {
      "application/pdf": "[encoded data removed]",
      "image/png": "[encoded data removed]",
      "text/plain": [
       "<Figure size 540x360 with 1 Axes>"
      ]
     },
     "metadata": {
      "needs_background": "light"
     },
     "output_type": "display_data"
    }
   ],
   "source": [
    "pd.DataFrame(h.history).plot();"
   ]
  },
  {
   "cell_type": "code",
   "execution_count": 31,
   "metadata": {},
   "outputs": [
    {
     "name": "stdout",
     "output_type": "stream",
     "text": [
      "Train on 8083 samples, validate on 899 samples\n",
      "Epoch 1/5\n",
      "8083/8083 [==============================] - 108s 13ms/sample - loss: 2.2122 - accuracy: 0.4491 - val_loss: 2.0017 - val_accuracy: 0.4761\n",
      "Epoch 2/5\n",
      "8083/8083 [==============================] - 107s 13ms/sample - loss: 1.8587 - accuracy: 0.5168 - val_loss: 1.7530 - val_accuracy: 0.5706\n",
      "Epoch 3/5\n",
      "8083/8083 [==============================] - 106s 13ms/sample - loss: 1.7505 - accuracy: 0.5472 - val_loss: 1.7353 - val_accuracy: 0.5517\n",
      "Epoch 4/5\n",
      "8083/8083 [==============================] - 107s 13ms/sample - loss: 1.6165 - accuracy: 0.5889 - val_loss: 1.5869 - val_accuracy: 0.6207\n",
      "Epoch 5/5\n",
      "8083/8083 [==============================] - 106s 13ms/sample - loss: 1.5091 - accuracy: 0.6209 - val_loss: 1.4469 - val_accuracy: 0.6507\n",
      "8982/8982 [==============================] - 16s 2ms/sample - loss: 1.3545 - accuracy: 0.6634\n",
      "Train loss: 1.354545992377924\n",
      "Train accuracy: 0.66343796\n",
      "2246/2246 [==============================] - 4s 2ms/sample - loss: 1.4376 - accuracy: 0.6389\n",
      "Test loss: 1.4376042904008848\n",
      "Test accuracy: 0.63891363\n"
     ]
    }
   ],
   "source": [
    "h, fixed_model = build_train_eval(reuters_emb_weights)"
   ]
  },
  {
   "cell_type": "code",
   "execution_count": 32,
   "metadata": {},
   "outputs": [
    {
     "data": {
      "application/pdf": "[encoded data removed]",
      "image/png": "[encoded data removed]",
      "text/plain": [
       "<Figure size 540x360 with 1 Axes>"
      ]
     },
     "metadata": {
      "needs_background": "light"
     },
     "output_type": "display_data"
    }
   ],
   "source": [
    "pd.DataFrame(h.history).plot();"
   ]
  },
  {
   "cell_type": "code",
   "execution_count": null,
   "metadata": {},
   "outputs": [],
   "source": []
  }
 ],
 "metadata": {
  "kernelspec": {
   "display_name": "Python 3",
   "language": "python",
   "name": "python3"
  },
  "language_info": {
   "codemirror_mode": {
    "name": "ipython",
    "version": 3
   },
   "file_extension": ".py",
   "mimetype": "text/x-python",
   "name": "python",
   "nbconvert_exporter": "python",
   "pygments_lexer": "ipython3",
   "version": "3.7.3"
  },
  "title": "Pretrained Embeddings for Text Exercises Solutions"
 },
 "nbformat": 4,
 "nbformat_minor": 2
}
