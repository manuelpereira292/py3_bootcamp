{
 "cells": [
  {
   "cell_type": "markdown",
   "metadata": {},
   "source": [
    "# Lab 8: Exercise solutions"
   ]
  },
  {
   "cell_type": "code",
   "execution_count": 1,
   "metadata": {},
   "outputs": [],
   "source": [
    "with open('../course/common.py') as fin:\n",
    "    exec(fin.read())"
   ]
  },
  {
   "cell_type": "code",
   "execution_count": 2,
   "metadata": {},
   "outputs": [],
   "source": [
    "with open('../course/matplotlibconf.py') as fin:\n",
    "    exec(fin.read())"
   ]
  },
  {
   "cell_type": "markdown",
   "metadata": {},
   "source": [
    "## Exercise 1"
   ]
  },
  {
   "cell_type": "markdown",
   "metadata": {},
   "source": [
    "For our Spam detection model, we used a `CountVectorizer` with a vocabulary size of 3000. Was this the best size? Let's find out:\n",
    "\n",
    "- reload the spam dataset\n",
    "- do a train test split with `random_state=0` on the SMS data frame\n",
    "- write a function `train_for_vocab_size` that takes `vocab_size` as input and does the following:\n",
    "    - initialize a `CountVectorizer` with `max_features=vocab_size`\n",
    "    - fit the vectorizer on the training messages\n",
    "    - transform both the training and the test messages to count matrices\n",
    "    - train the model on the training set\n",
    "    - return the model accuracy on the training and test set\n",
    "- plot the behavior of the train and test set accuracies as a function of `vocab_size` for a range of different vocab sizes"
   ]
  },
  {
   "cell_type": "markdown",
   "metadata": {},
   "source": [
    "Let's reload the sms data we have previously saved:"
   ]
  },
  {
   "cell_type": "code",
   "execution_count": 3,
   "metadata": {},
   "outputs": [
    {
     "data": {
      "text/html": [
       "<div>\n",
       "<style scoped>\n",
       "    .dataframe tbody tr th:only-of-type {\n",
       "        vertical-align: middle;\n",
       "    }\n",
       "\n",
       "    .dataframe tbody tr th {\n",
       "        vertical-align: top;\n",
       "    }\n",
       "\n",
       "    .dataframe thead th {\n",
       "        text-align: right;\n",
       "    }\n",
       "</style>\n",
       "<table border=\"1\" class=\"dataframe\">\n",
       "  <thead>\n",
       "    <tr style=\"text-align: right;\">\n",
       "      <th></th>\n",
       "      <th>message</th>\n",
       "      <th>spam</th>\n",
       "    </tr>\n",
       "  </thead>\n",
       "  <tbody>\n",
       "    <tr>\n",
       "      <th>0</th>\n",
       "      <td>Hi Princess! Thank you for...</td>\n",
       "      <td>0</td>\n",
       "    </tr>\n",
       "    <tr>\n",
       "      <th>1</th>\n",
       "      <td>Hello my little party anim...</td>\n",
       "      <td>0</td>\n",
       "    </tr>\n",
       "    <tr>\n",
       "      <th>2</th>\n",
       "      <td>And miss vday the parachut...</td>\n",
       "      <td>0</td>\n",
       "    </tr>\n",
       "    <tr>\n",
       "      <th>3</th>\n",
       "      <td>Maybe you should find some...</td>\n",
       "      <td>0</td>\n",
       "    </tr>\n",
       "    <tr>\n",
       "      <th>4</th>\n",
       "      <td>What year. And how many mi...</td>\n",
       "      <td>0</td>\n",
       "    </tr>\n",
       "  </tbody>\n",
       "</table>\n",
       "</div>"
      ],
      "text/plain": [
       "                         message  spam\n",
       "0  Hi Princess! Thank you for...     0\n",
       "1  Hello my little party anim...     0\n",
       "2  And miss vday the parachut...     0\n",
       "3  Maybe you should find some...     0\n",
       "4  What year. And how many mi...     0"
      ]
     },
     "execution_count": 3,
     "metadata": {},
     "output_type": "execute_result"
    }
   ],
   "source": [
    "df = pd.read_csv('../data/sms_spam.csv')\n",
    "df.head()"
   ]
  },
  {
   "cell_type": "markdown",
   "metadata": {},
   "source": [
    "Train/Test split on the messages, notice that we use Numpy Arrays, not Pandas Dataframes:"
   ]
  },
  {
   "cell_type": "code",
   "execution_count": 4,
   "metadata": {},
   "outputs": [],
   "source": [
    "from sklearn.model_selection import train_test_split"
   ]
  },
  {
   "cell_type": "code",
   "execution_count": 5,
   "metadata": {},
   "outputs": [],
   "source": [
    "docs_train, docs_test, y_train, y_test = \\\n",
    "    train_test_split(df['message'].values,\n",
    "                     df['spam'].values,\n",
    "                     random_state=0)"
   ]
  },
  {
   "cell_type": "markdown",
   "metadata": {},
   "source": [
    "Now let's write the function:"
   ]
  },
  {
   "cell_type": "code",
   "execution_count": 6,
   "metadata": {},
   "outputs": [],
   "source": [
    "from sklearn.feature_extraction.text import CountVectorizer\n",
    "from tensorflow.keras.models import Sequential\n",
    "from tensorflow.keras.layers import Dense"
   ]
  },
  {
   "cell_type": "code",
   "execution_count": 7,
   "metadata": {},
   "outputs": [],
   "source": [
    "def train_for_vocab_size(vocab_size):\n",
    "    vect = CountVectorizer(decode_error='ignore',\n",
    "                           stop_words='english',\n",
    "                           max_features=vocab_size)\n",
    "\n",
    "    vect.fit(docs_train)\n",
    "    X_train_sparse = vect.transform(docs_train)\n",
    "    X_train = X_train_sparse.todense()\n",
    "    \n",
    "    X_test_sparse = vect.transform(docs_test)\n",
    "    X_test = X_test_sparse.todense()\n",
    "    \n",
    "    input_dim = X_train.shape[1]\n",
    "    \n",
    "    model = Sequential()\n",
    "    model.add(Dense(1, input_dim=input_dim, activation='sigmoid'))\n",
    "\n",
    "    model.compile(loss='binary_crossentropy',\n",
    "                  optimizer='adam',\n",
    "                  metrics=['accuracy'])\n",
    "    \n",
    "    model.fit(X_train, y_train, epochs=20, verbose=0)\n",
    "    \n",
    "    train_acc = model.evaluate(X_train, y_train, verbose=0)[1]\n",
    "    test_acc = model.evaluate(X_test, y_test, verbose=0)[1]\n",
    "    return input_dim, train_acc, test_acc"
   ]
  },
  {
   "cell_type": "markdown",
   "metadata": {},
   "source": [
    "Now let's try a few vocab_sizes with increasing separation:"
   ]
  },
  {
   "cell_type": "code",
   "execution_count": 8,
   "metadata": {},
   "outputs": [
    {
     "name": "stdout",
     "output_type": "stream",
     "text": [
      "Done vocab size:  2\n",
      "Done vocab size:  3\n",
      "Done vocab size:  5\n",
      "Done vocab size:  10\n",
      "Done vocab size:  30\n",
      "Done vocab size:  50\n",
      "Done vocab size:  100\n",
      "Done vocab size:  300\n",
      "Done vocab size:  500\n",
      "Done vocab size:  1000\n",
      "Done vocab size:  3000\n",
      "Done vocab size:  5000\n",
      "Done vocab size:  7150\n"
     ]
    }
   ],
   "source": [
    "sizes = [2, 3, 5, 10, 30, 50, 100, 300, \\\n",
    "         500, 1000, 3000, 5000, 10000]\n",
    "idx = []\n",
    "train_accs = []\n",
    "test_accs = []\n",
    "\n",
    "for v in sizes:\n",
    "    i, tra, tea = train_for_vocab_size(v)\n",
    "\n",
    "    idx.append(i)\n",
    "    train_accs.append(tra)\n",
    "    test_accs.append(tea)\n",
    "    \n",
    "    print(\"Done vocab size: \", i)"
   ]
  },
  {
   "cell_type": "markdown",
   "metadata": {},
   "source": [
    "Let's organize the results in a DataFrame"
   ]
  },
  {
   "cell_type": "code",
   "execution_count": 9,
   "metadata": {},
   "outputs": [],
   "source": [
    "resdf = pd.DataFrame(train_accs,\n",
    "                     columns=['Train'],\n",
    "                     index=idx)\n",
    "\n",
    "resdf['Test'] = test_accs"
   ]
  },
  {
   "cell_type": "markdown",
   "metadata": {},
   "source": [
    "and let's plot the results using the logarithmic scale for the x axis. Remember that our benchmark accuracy is 86.6%, so we will add a baseline at that level:"
   ]
  },
  {
   "cell_type": "code",
   "execution_count": 10,
   "metadata": {},
   "outputs": [
    {
     "data": {
      "application/pdf": "[encoded data removed]",
      "image/png": "[encoded data removed]",
      "text/plain": [
       "<Figure size 540x360 with 1 Axes>"
      ]
     },
     "metadata": {
      "needs_background": "light"
     },
     "output_type": "display_data"
    }
   ],
   "source": [
    "resdf.plot(logx=True, style='-o', title='Accuracy')\n",
    "plt.xlabel('vocab size')\n",
    "plt.ylim(0.85, 1)\n",
    "plt.axhline(0.866, color='red');"
   ]
  },
  {
   "cell_type": "markdown",
   "metadata": {},
   "source": [
    "## Exercise 2"
   ]
  },
  {
   "cell_type": "markdown",
   "metadata": {},
   "source": [
    "Keras provides a large dataset of movie reviews extracted from the [Internet Movie Database](www.imdb.com) for sentiment analysis purposes. This dataset is much larger than the one we have used, and its already encoded as sequences of integers. Let's put what we have learned to good use and build a sentiment classifier for movie reviews:\n",
    "\n",
    "- decide what size of vocabulary you are going to use and set the `vocab_size` variable\n",
    "- import the `imdb` module from `keras.datasets`\n",
    "- load the train and test sets using `num_words=vocab_size`\n",
    "- check the data you have just loaded; they should be sequences of integers\n",
    "- pad the sequences to a fixed length of your choice. You will need to:\n",
    "    - decide what a reasonable length to express a movie review is\n",
    "    - decide if you are going to truncate the beginning or the end of reviews that are longer than such length\n",
    "    - decide if you are going to pad with zeros at the beginning or the end for reviews that are shorter than such length\n",
    "- build a model to do sentiment analysis on the truncated sequences\n",
    "- train the model on the training set\n",
    "- evaluate the performance of the model on the test set\n",
    "\n",
    "Bonus points: can you convert back the sentences to their original text form? You should look at `imdb.get_word_index()` to download the word index:"
   ]
  },
  {
   "cell_type": "code",
   "execution_count": 11,
   "metadata": {},
   "outputs": [],
   "source": [
    "vocab_size=20000"
   ]
  },
  {
   "cell_type": "code",
   "execution_count": 12,
   "metadata": {},
   "outputs": [],
   "source": [
    "from tensorflow.keras.datasets import imdb"
   ]
  },
  {
   "cell_type": "code",
   "execution_count": 13,
   "metadata": {},
   "outputs": [],
   "source": [
    "(X_train, y_train), (X_test, y_test) = \\\n",
    "    imdb.load_data(num_words=vocab_size)"
   ]
  },
  {
   "cell_type": "code",
   "execution_count": 14,
   "metadata": {},
   "outputs": [
    {
     "data": {
      "text/plain": [
       "(25000,)"
      ]
     },
     "execution_count": 14,
     "metadata": {},
     "output_type": "execute_result"
    }
   ],
   "source": [
    "X_train.shape"
   ]
  },
  {
   "cell_type": "code",
   "execution_count": 15,
   "metadata": {},
   "outputs": [
    {
     "data": {
      "text/plain": [
       "[1, 14, 22, 16, 43, 530, 973, 1622, 1385, 65]"
      ]
     },
     "execution_count": 15,
     "metadata": {},
     "output_type": "execute_result"
    }
   ],
   "source": [
    "X_train[0][:10]"
   ]
  },
  {
   "cell_type": "markdown",
   "metadata": {},
   "source": [
    "Let's use a maximum review length of 80 words. This seems long enough to express an opinion about the movie:"
   ]
  },
  {
   "cell_type": "code",
   "execution_count": 16,
   "metadata": {},
   "outputs": [],
   "source": [
    "maxlen = 80"
   ]
  },
  {
   "cell_type": "markdown",
   "metadata": {},
   "source": [
    "We will pad sequences using the default `padding='pre'` and `truncating='pre'` parameters."
   ]
  },
  {
   "cell_type": "code",
   "execution_count": 17,
   "metadata": {},
   "outputs": [],
   "source": [
    "from tensorflow.keras.preprocessing.sequence import pad_sequences"
   ]
  },
  {
   "cell_type": "code",
   "execution_count": 18,
   "metadata": {},
   "outputs": [],
   "source": [
    "X_train_pad = pad_sequences(X_train, maxlen=maxlen)\n",
    "X_test_pad = pad_sequences(X_test, maxlen=maxlen)"
   ]
  },
  {
   "cell_type": "markdown",
   "metadata": {},
   "source": [
    "Let's build the model:"
   ]
  },
  {
   "cell_type": "code",
   "execution_count": 19,
   "metadata": {},
   "outputs": [],
   "source": [
    "embedding_size = 100"
   ]
  },
  {
   "cell_type": "code",
   "execution_count": 20,
   "metadata": {},
   "outputs": [],
   "source": [
    "from tensorflow.keras.layers import LSTM, Embedding"
   ]
  },
  {
   "cell_type": "code",
   "execution_count": 21,
   "metadata": {},
   "outputs": [],
   "source": [
    "model = Sequential()\n",
    "model.add(Embedding(vocab_size, embedding_size))\n",
    "model.add(LSTM(64, dropout=0.2))\n",
    "model.add(Dense(1, activation='sigmoid'))\n",
    "\n",
    "model.compile(loss='binary_crossentropy',\n",
    "              optimizer='adam',\n",
    "              metrics=['accuracy'])"
   ]
  },
  {
   "cell_type": "markdown",
   "metadata": {},
   "source": [
    "> TIP: in the above model we have used `dropout`, which has not yet been formally introduced. For now just know that it's a technique aimed at reducing overfitting."
   ]
  },
  {
   "cell_type": "code",
   "execution_count": 22,
   "metadata": {},
   "outputs": [
    {
     "name": "stdout",
     "output_type": "stream",
     "text": [
      "Model: \"sequential_13\"\n",
      "_________________________________________________________________\n",
      "Layer (type)                 Output Shape              Param #   \n",
      "=================================================================\n",
      "embedding (Embedding)        (None, None, 100)         2000000   \n",
      "_________________________________________________________________\n",
      "unified_lstm (UnifiedLSTM)   (None, 64)                42240     \n",
      "_________________________________________________________________\n",
      "dense_13 (Dense)             (None, 1)                 65        \n",
      "=================================================================\n",
      "Total params: 2,042,305\n",
      "Trainable params: 2,042,305\n",
      "Non-trainable params: 0\n",
      "_________________________________________________________________\n"
     ]
    }
   ],
   "source": [
    "model.summary()"
   ]
  },
  {
   "cell_type": "markdown",
   "metadata": {},
   "source": [
    "Let's train the model for a couple of epochs. If you run this model on your laptop it may take a few minutes for each epoch:"
   ]
  },
  {
   "cell_type": "code",
   "execution_count": 23,
   "metadata": {},
   "outputs": [
    {
     "name": "stdout",
     "output_type": "stream",
     "text": [
      "Train on 17500 samples, validate on 7500 samples\n",
      "Epoch 1/2\n",
      "17500/17500 [==============================] - 7s 405us/sample - loss: 0.4623 - accuracy: 0.7750 - val_loss: 0.3731 - val_accuracy: 0.8352\n",
      "Epoch 2/2\n",
      "17500/17500 [==============================] - 6s 317us/sample - loss: 0.2528 - accuracy: 0.9002 - val_loss: 0.3911 - val_accuracy: 0.8284\n"
     ]
    }
   ],
   "source": [
    "model.fit(X_train_pad, y_train,\n",
    "          batch_size=32,\n",
    "          epochs=2,\n",
    "          validation_split=0.3);"
   ]
  },
  {
   "cell_type": "markdown",
   "metadata": {},
   "source": [
    "And let's evaluate the training and test accuracies"
   ]
  },
  {
   "cell_type": "code",
   "execution_count": 24,
   "metadata": {},
   "outputs": [
    {
     "name": "stdout",
     "output_type": "stream",
     "text": [
      "25000/25000 [==============================] - 2s 89us/sample - loss: 0.2349 - accuracy: 0.9164\n",
      "Train loss: 0.23490027963638305\n",
      "Train accuracy: 0.91636\n"
     ]
    }
   ],
   "source": [
    "train_loss, train_acc = model.evaluate(X_train_pad, y_train)\n",
    "\n",
    "print('Train loss:', train_loss)\n",
    "print('Train accuracy:', train_acc)"
   ]
  },
  {
   "cell_type": "code",
   "execution_count": 25,
   "metadata": {},
   "outputs": [
    {
     "name": "stdout",
     "output_type": "stream",
     "text": [
      "25000/25000 [==============================] - 2s 90us/sample - loss: 0.3966 - accuracy: 0.8257\n",
      "Test loss: 0.39658818774223326\n",
      "Test accuracy: 0.82572\n"
     ]
    }
   ],
   "source": [
    "test_loss, test_acc = model.evaluate(X_test_pad, y_test)\n",
    "\n",
    "print('Test loss:', test_loss)\n",
    "print('Test accuracy:', test_acc)"
   ]
  },
  {
   "cell_type": "markdown",
   "metadata": {},
   "source": [
    "Not bad! We have a sentiment analysis model that we can unleash on the social media of our choice. Time to go to an investor and raise money! Not quite, but it's nice to see how easy it has become to build a model that would have been unthinkable just a few years ago."
   ]
  },
  {
   "cell_type": "markdown",
   "metadata": {},
   "source": [
    "Finally, for the bonus question. Let's get the word index:"
   ]
  },
  {
   "cell_type": "code",
   "execution_count": 26,
   "metadata": {},
   "outputs": [],
   "source": [
    "idx = imdb.get_word_index()"
   ]
  },
  {
   "cell_type": "markdown",
   "metadata": {},
   "source": [
    "and let's create the reverse index. Notice that the documentation of `imdb.load_data` reads:\n",
    "\n",
    "```python\n",
    "\"\"\"\n",
    "Signature: imdb.load_data(path='imdb.npz', num_words=None, skip_top=0, maxlen=None, seed=113, start_char=1, oov_char=2, index_from=3, **kwargs)\n",
    "Docstring:\n",
    "Loads the IMDB dataset.\n",
    "\n",
    "# Arguments\n",
    "    path: where to cache the data (relative to `~/.keras/dataset`).\n",
    "    num_words: max number of words to include. Words are ranked\n",
    "        by how often they occur (in the training set) and only\n",
    "        the most frequent words are kept\n",
    "    skip_top: skip the top N most frequently occurring words\n",
    "        (which may not be informative).\n",
    "    maxlen: truncate sequences after this length.\n",
    "    seed: random seed for sample shuffling.\n",
    "    start_char: The start of a sequence will be marked with this character.\n",
    "        Set to 1 because 0 is usually the padding character.\n",
    "    oov_char: words that were cut out because of the `num_words`\n",
    "        or `skip_top` limit will be replaced with this character.\n",
    "    index_from: index actual words with this index and higher.\n",
    "\n",
    "# Returns\n",
    "    Tuple of Numpy arrays: `(x_train, y_train), (x_test, y_test)`.\n",
    "\"\"\"\n",
    "```\n",
    "so we will need to shift all indices by three to recover meaningful sentences:"
   ]
  },
  {
   "cell_type": "code",
   "execution_count": 27,
   "metadata": {},
   "outputs": [],
   "source": [
    "rev_idx = {v+3:k for k,v in idx.items()}"
   ]
  },
  {
   "cell_type": "markdown",
   "metadata": {},
   "source": [
    "Also, following the documentation let's add the start character and the out-of-vocabulary character:"
   ]
  },
  {
   "cell_type": "code",
   "execution_count": 28,
   "metadata": {},
   "outputs": [],
   "source": [
    "rev_idx[1] = 'start_char'\n",
    "rev_idx[2] = 'oov_char'"
   ]
  },
  {
   "cell_type": "markdown",
   "metadata": {},
   "source": [
    "We can then apply the reverse index to recover the text of a review:"
   ]
  },
  {
   "cell_type": "code",
   "execution_count": 29,
   "metadata": {},
   "outputs": [
    {
     "data": {
      "text/plain": [
       "\"start_char this film was just brilliant casting location scenery story direction everyone's really suited the part they played and you could just imagine being there robert oov_char is an amazing actor and now the same being director oov_char father came from the same scottish island as myself so i loved the fact there was a real connection with this film the witty remarks throughout the film were great it was just brilliant so much that i bought the film as soon as it was released for retail and would recommend it to everyone to watch and the fly fishing was amazing really cried at the end it was so sad and you know what they say if you cry at a film it must have been good and this definitely was also congratulations to the two little boy's that played the oov_char of norman and paul they were just brilliant children are often left out of the praising list i think because the stars that play them all grown up are such a big profile for the whole film but these children are amazing and should be praised for what they have done don't you think the whole story was so lovely because it was true and was someone's life after all that was shared with us all\""
      ]
     },
     "execution_count": 29,
     "metadata": {},
     "output_type": "execute_result"
    }
   ],
   "source": [
    "example_review = ' '.join([rev_idx[word] for word in X_train[0]])\n",
    "example_review"
   ]
  },
  {
   "cell_type": "markdown",
   "metadata": {},
   "source": [
    "Great! These are indeed movie reviews."
   ]
  }
 ],
 "metadata": {
  "kernelspec": {
   "display_name": "Python 3",
   "language": "python",
   "name": "python3"
  },
  "language_info": {
   "codemirror_mode": {
    "name": "ipython",
    "version": 3
   },
   "file_extension": ".py",
   "mimetype": "text/x-python",
   "name": "python",
   "nbconvert_exporter": "python",
   "pygments_lexer": "ipython3",
   "version": "3.7.3"
  },
  "title": "Natural Language Processing and Text Data Exercises Solutions"
 },
 "nbformat": 4,
 "nbformat_minor": 2
}
