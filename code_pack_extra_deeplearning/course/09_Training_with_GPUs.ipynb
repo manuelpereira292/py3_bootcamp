{
 "cells": [
  {
   "cell_type": "markdown",
   "metadata": {},
   "source": [
    "# Lab 9: Training with GPUs"
   ]
  },
  {
   "cell_type": "markdown",
   "metadata": {},
   "source": [
    "In this lab, we will learn how to leverage Graphical Processing Units (GPUs) to speed up the training of our models. The faster a model trains, the more experiments we can run, and therefore the better solutions we can find. Also, leveraging cloud GPUs has become so easy by now that it would be a pity not to take advantage of this opportunity. Only a few years ago, training a deep Neural Network using a GPU was a skill that demanded very sophisticated knowledge and much money. Nowadays, we train a model on many GPUs at a relatively affordable cost.\n",
    "\n",
    "We will start this lab by introducing what a GPU is, where it can be found, what kinds of GPUs are available and why they are so useful to do Deep Learning. Then we will review several cloud providers of GPUs and guide you through how to use them. Once we have a working cloud instance with one or more GPUs, we will compare training a model with and without a GPU, and appreciate the speedup, especially with Convolutional Neural Networks. We will then extend training to multiple GPUs and introduce a few ways to use multiple GPUs in Keras.\n",
    "\n",
    "This lab is a bit different from the other labs as there will be less Python code and more links to external documentation and services. Also, while we will do our best to have the most up to date guide to currently existing providers, it is important that you understand how fast the landscape is evolving. During the course of the past six months, each of the providers presented introduced newer and easier ways to access cloud GPUs, making the previous documentation obsolete. Thus, it is important that you understand the principles of why accelerated hardware helps and when. If you do this, it will be easy to adapt to new ways of doing things when they come out. All that said, let's get started!"
   ]
  },
  {
   "cell_type": "markdown",
   "metadata": {},
   "source": [
    "## Graphical Processing Units"
   ]
  },
  {
   "cell_type": "markdown",
   "metadata": {},
   "source": [
    "[Graphical Processing Units](https://en.wikipedia.org/wiki/Graphics_processing_unit) are computer chips that specialize in the parallel manipulation of huge, multi-dimensional arrays. Originally developed to accelerate the display of video games graphics, they are today widely used for other purposes like Machine Learning acceleration.\n",
    "\n",
    "The term GPU became famous in 1999 when Nvidia - the dominant player in the field today - marketed the _GeForce 256_ as \"the world's first GPU\". In 2002, ATI Technologies, a competitor of Nvidia, coined the term \"visual processing unit\" or VPU with the release of the _Radeon 9700_. The following picture shows the original _GeForce 256_ (left side) and the _GeForce GTX 1080_ (right), one of the latest released and most powerful graphics cards in the market.\n",
    "\n",
    "![NVIDIA Graphics cards](./assets/Nvidia_GPU.jpg)\n",
    "\n",
    "In 2006, Nvidia came out with a high-level language called [CUDA](https://en.wikipedia.org/wiki/CUDA) (Compute Unified Device Architecture), that helps software developers and engineers to write programs from graphics processors in a high-level language – an approach termed GPGPU (General-Purpose computing on Graphics Processing Units). CUDA is a language that gives direct access to the GPU's virtual instruction set and parallel computational elements, for the execution of compute kernels. This was probably one of the most significant changes in the way researchers and developers interacted with GPUs.\n",
    "\n",
    "Why are GPUs, initially developed for video games graphics, so useful for Deep Learning?\n",
    "\n",
    "As you already know, training a Neural Network requires several operations, many of which involve large matrix multiplications. They perform matrix multiplications in the forward pass when inputs (or activations) and weights are multiplied (see [Lab 5](./05_Deep_Learning_Internals.ipynb) if you need a refresher on the math). Back-propagation also involves matrix multiplications, when the error is propagated back through the network to adjust the values of the weights. In practice, training a Neural Network mostly consists of matrix multiplications. Consider for example _VGG16_ (a frequently used convolutional Neural Network for image classification. Proposed by [K. Simonyan and A. Zisserman](https://arxiv.org/abs/1409.1556) ), it has approximately 140 million parameters. Using a CPU, it would take weeks to train this model and perform all the matrix multiplications.\n",
    "\n",
    "GPUs allow to dramatically decrease the time needed for matrix multiplication, offering 10 to 100 times more computational power than traditional CPUs. There are several reasons why they make this computational speed-up possible, well discussed in [this article](https://themerkle.com/why-gpus-are-ideal-for-deep-learning/).\n",
    "\n",
    "Summarizing the article, GPUs, comprised of thousands of cores unlike CPUs, not only allow for parallel operations, but they are ideal when it comes to fetching enormous amounts of memory. The best GPUs can fetch up to 750GB/s, which is huge if compared with the best CPU which can handle only up to 50GB/s memory bandwidth.\n",
    "Of course, dedicated GPUs, designed explicitly for High-Performance Computing and Deep Learning, are more performant (and expensive) than gaming GPUs, but the latter, usually available in everyday laptops, is still a good starting option!\n",
    "\n",
    "The following picture shows a comparison between CPU and GPU performance (source: [Nvidia](https://www.nvidia.com/en-us/ai-accelerated-analytics/)). The left image shows that the _Fermi GPU_ can process more than ten times the number of images processed (per second) by an _Intel 4 core CPU_. The right image shows that a _16 GPU Accelerated Servers_ can handle a more than six times bigger Neural Network if compared with a _1000 CPU Servers_.\n",
    "\n",
    "![CPU versus GPU](./assets/CPUvsGPU.png)"
   ]
  },
  {
   "cell_type": "markdown",
   "metadata": {},
   "source": [
    "## Cloud GPU providers"
   ]
  },
  {
   "cell_type": "markdown",
   "metadata": {},
   "source": [
    "As of early 2018, all major cloud providers give access to cloud instances with GPUs. The two leaders in the space are [Amazon Web Services (AWS)](https://aws.amazon.com/) and [Google Cloud Platform (GCP)](https://cloud.google.com/gpu/). These two companies have been pioneers in providing cloud GPUs at affordable rates, and they keep adding new options to their offer. Besides, they both offer additional services specifically built to optimize and serve Deep Learning models at scale.\n",
    "\n",
    "Other companies offering cloud GPUs are [Microsoft Azure Cloud](https://azure.microsoft.com/en-us/)and [IBM](https://www.ibm.com/cloud/gpu). Also, a few startups have started to offer Deep Learning optimized cloud instances, that are often cheaper and easier to access. In this lab we will review [Floydhub](https://www.floydhub.com/), [Pipeline.ai](https://community.cloud.pipeline.ai/admin/app/) and  [Paperspace](https://www.paperspace.com/).\n",
    "\n",
    "Regardless of the cloud provider, if you have a Linux box with an NVIDIA GPU, it is not hard to equip it to run `tensorflow-gpu` and a Jupyter Notebook."
   ]
  },
  {
   "cell_type": "markdown",
   "metadata": {},
   "source": [
    "### Google Colab"
   ]
  },
  {
   "cell_type": "markdown",
   "metadata": {},
   "source": [
    "The easiest way to give GPU acceleration a try is to use [Google Colab](https://research.google.com/colaboratory/faq.html), also known as _Colaboratory_. Besides being so easy, Colab is also free to use (you only need a Google account), which makes it perfect to try out GPU acceleration.\n",
    "\n",
    "Colaboratory is a research tool for Machine Learning education and research. It’s a Jupyter Notebook environment that requires no setup to use: you can create and share Jupyter notebooks with others without having to download, install, or run anything on your computer other than a browser. It works with most major browsers, and it is most thoroughly tested with desktop versions of Chrome and Firefox.\n",
    "\n",
    "This [welcome notebook](https://colab.research.google.com/notebooks/welcome.ipynb) provides the information to start working with Colab. In addition to all the standard operations in Jupyter you can change the notebook settings to enable GPU support:\n",
    "![How to activate GPU in Colaboratory](./assets/colab_gpu_setting.png)\n",
    "\n",
    "Once you've done that, you can run this code to verify that GPU is available:\n",
    "\n",
    "```python\n",
    "import tensorflow as tf\n",
    "tf.test.gpu_device_name()\n",
    "```"
   ]
  },
  {
   "cell_type": "markdown",
   "metadata": {},
   "source": [
    "### Pipeline AI"
   ]
  },
  {
   "cell_type": "markdown",
   "metadata": {},
   "source": [
    "The next best option to try a GPU for free in the cloud is the service offered by [PipelineAI](https://pipeline.ai/). PipelineAI service enables data scientists to train, test, optimize, deploy, and scale models in production rapidly and directly from a Jupyter Notebook or command-line interface. It provides a platform that simplifies the workflow and let the user focus only on the essential Machine Learning aspects.\n",
    "\n",
    "The login process to use PipelineAI is quite simple and straightforward:\n",
    "1. Sign up at [PipelineAI](https://community.cloud.pipeline.ai/admin/app/).\n",
    "2. Once you are successfully logged in, you should see the following dashboard. You can either launch a new notebook or directly type commands in a terminal.\n",
    "![](./assets/Pipeline1.png )<br/><br/>\n",
    "3. Alternatively, you can use some of the already available resources, accessible from the left menu. For example, you can have a look at the `01a_Explore_GPU.ipynb` notebook, under `notebooks > 00_GPU_Workshop`\n",
    "![](./assets/Pipeline2.png )<br/><br/>\n",
    "\n",
    "PipelineAI is not only a platform providing GPU-powered Jupyter Notebooks, but it also allows you to do much more, such as monitoring the training of the algorithms, evaluating the results of your model, comparing the performances of different models, browsing among stored models, and so on. The following picture shows some of the available tools, but have a look at all the options available in the [community edition](https://community.cloud.pipeline.ai/admin/app/).  \n",
    "![](./assets/Pipeline3.png )<br/><br/>\n",
    "\n",
    "To better understand the potential of PipelineAI, we encourage you to take [this tour](https://pipeline.ai/tour/). Pipeline is under active development. You can follow its [Github repository](https://github.com/PipelineAI/pipeline)"
   ]
  },
  {
   "cell_type": "markdown",
   "metadata": {},
   "source": [
    "### Floydhub"
   ]
  },
  {
   "cell_type": "markdown",
   "metadata": {},
   "source": [
    "[Floydhub](https://www.floydhub.com/) is an other easy and cheap option to access GPU in the cloud.\n",
    "Floydhub is a platform for training and deploying Deep Learning and AI applications. FloydHub comes with fully configured CPU and GPU environments ready to use for Deep Learning. It includes CUDA, cuDNN and popular frameworks like Tensorflow, PyTorch, and Keras. Please take a look at the [documentation](https://docs.floydhub.com/) for a more extended explanation of its features.\n",
    "\n",
    "[This tutorial](https://docs.floydhub.com/getstarted/quick_start_jupyter/) explains how to start a Jupyter Notebook on Floydhub:\n",
    "1. [Create an account](https://www.floydhub.com/login) on Floydhub.  \n",
    "2. [Install `floyd-cli`](https://docs.floydhub.com/guides/basics/install/) on your computer.\n",
    "```\n",
    "pip install -U floyd-cli\n",
    "```\n",
    "3. [Create a project](https://www.floydhub.com/projects/create), named for example `my_jupyter_project`:\n",
    "![](./assets/flod2.jpg)<br/><br/>\n",
    "\n",
    "4. From your terminal, use `floyd-cli` to initialize the project (be sure to use the name you gave the project in step 3).\n",
    "```\n",
    "floyd init my_jupyter_project\n",
    "```\n",
    "\n",
    ">TIP: if this is the first time you run `floyd` it will ask you to log in. Just type `floyd login` and follow the instructions provided.\n",
    "\n",
    "5. Use again `floyd-cli` to kick off your first Jupyter Notebook.\n",
    "```\n",
    "floyd run --gpu --mode Jupyter\n",
    "```\n",
    "\n",
    "This will confirm the job:\n",
    "\n",
    "![](./assets/floyd_jupyter.png)\n",
    "\n",
    "and open your FloydHub web page. Here you'll see a `View` button that will direct you to a Jupyter Notebook. The notebook is running on FloyHub's GPU servers.\n",
    "\n",
    "![](./assets/floyd_web.png)\n",
    "\n",
    "Once finished you can stop the Jupyter Notebook with the cancel button. Make sure to save your results by downloading the notebook before you terminate it:\n",
    "\n",
    "![](./assets/floyd_terminate.png)"
   ]
  },
  {
   "cell_type": "markdown",
   "metadata": {},
   "source": [
    "### Paperspace"
   ]
  },
  {
   "cell_type": "markdown",
   "metadata": {},
   "source": [
    "[Paperspace](https://www.paperspace.com/) is a platform to access a virtual desktop in the cloud. In particular, the [Gradient](https://www.paperspace.com/gradient) service allows to explore, collaborate, share code and data using Jupyter Notebooks, and submit tasks to the Paperspace GPU cloud.\n",
    "\n",
    "It is a suite of tools specifically designed to accelerate cloud AI and Machine Learning. Gradient also includes a powerful job runner (that can even run on the new Google TPUs!), first-class support for containers and Jupyter notebooks, and a new set of language integrations. Gradient also has a job runner, that allows you to work on your local machine and submit \"jobs\" to the cloud to process. Discover more about this service reading this [blog post](https://blog.paperspace.com/gradient/).\n",
    "\n",
    "The procedure to run a Jupyter Notebooks within Paperspace is similar to what we have seen so far for different GPU services:\n",
    "\n",
    "1. [Create an account](https://www.paperspace.com/account/signup) on Paperspace.\n",
    "2. [Access the console](https://www.paperspace.com/console).\n",
    "![](./assets/paperspace0.png)<br/><br/>\n",
    "3. [Create a Jupyter Notebook](https://www.paperspace.com/console/notebooks) to create your models. (Credit card information on the billing page are required to enable all functionality.).\n",
    "\n",
    "Paperspace is much more general than simply a hosted Jupyter Notebook service with GPU enabled. Since Paperspace gives you a full virtual desktop (both Linux and Windows, as shown in the [following picture](https://blog.paperspace.com/windows-10/)), you can install [any other applications](https://www.paperspace.com/ml) you need, from 3D rendering software to video editing and more.\n",
    "![](./assets/Paperspace1.png)<br/><br/>"
   ]
  },
  {
   "cell_type": "markdown",
   "metadata": {},
   "source": [
    "### AWS EC2 Deep Learning AMI"
   ]
  },
  {
   "cell_type": "markdown",
   "metadata": {},
   "source": [
    "AWS provides a [Deep Learning AMI](https://aws.amazon.com/machine-learning/amis/) ready to use with all the NVIDIA drivers pre-installed as well as most Deep Learning frameworks and Python packages. It's not free, but it's sufficiently simple and versatile to use. We can quickly launch Amazon EC2 instances pre-installed with popular Deep Learning frameworks such as Apache MXNet and Gluon, TensorFlow, Microsoft Cognitive Toolkit, Caffe, Caffe2, Theano, Torch, PyTorch, Chainer, and Keras to train sophisticated, custom AI models, experiment with new algorithms, or to learn new skills and techniques.\n",
    "\n",
    "To use any AWS service, we need to [open an account](https://portal.aws.amazon.com/billing/signup?nc2=h_ct). Several resources are available for a free trial period, as described in the [official web page](https://aws.amazon.com/free/). After finishing the trial period, keep in mind that the service will charge you. Also, keep in mind that GPU instances are not included in the free tier so you will incur in charges if you complete the next steps.\n",
    "\n",
    "Follow this procedure to spin up a GPU enabled machine on AWS with the Deep Learning AMI:\n",
    "\n",
    "1. [Access the AWS console](https://console.aws.amazon.com/console/home) and select _EC2_ from the _Compute_ menu.\n",
    "![](./assets/aws1.PNG)<br/><br/>\n",
    "2. Click on the _Launch Instance_ button.\n",
    "![](./assets/aws2.PNG)<br/><br/>\n",
    "3. Scroll the page and select an Amazon Machine Image (AMI). The _Deep Learning AMI_ is a good option to start. It comes in 2 flavors: Ubuntu and Amazon Linux. Both are good, and we recommend you use the flavor you are more comfortable with. Also, note that there are both a _Deep Learning AMI_ and a _Deep Learning AMI Basic_. The _Basic_ AMI has only GPU drivers installed but no Deep Learning software. The full AMI comes pre-packaged with a ton of useful packages including [Tensorflow](https://www.tensorflow.org/), [Keras](https://keras.io/), [Pytorch](https://pytorch.org/), [MXNet](https://mxnet.incubator.apache.org/), [CNTK](https://www.microsoft.com/en-us/cognitive-toolkit/) and more. We recommend you use this one to start.\n",
    "![](./assets/aws3.PNG)<br/><br/>\n",
    "4. Chose an instance type from the menu. Roughly speaking, instance types are ordered in ascending order considering the computational power and the storage space.\n",
    "![](./assets/aws4.PNG)<br/><br/>\n",
    "Here's a summary table of AWS GPU instances. Read the [documentation](https://aws.amazon.com/ec2/instance-types/) for a detailed description of every instance type.\n",
    "![](./assets/aws_gpus.PNG)<br/><br/>\n",
    "\n",
    "\n",
    "Once you have chosen the instance go through the other steps:\n",
    "\n",
    "- Step 3: Configure Instance Details\n",
    "- Step 4: Add Storage\n",
    "- Step 5: Add Tags\n",
    "- Step 6: Configure Security Group: make sure to leave port 22 open for SSH\n",
    "- Step 7: Review Instance Launch\n",
    "\n",
    "and finally, launch your instance with a key pair you own. Let's assume it's called `your-key.pem`.\n",
    "\n",
    "You should now be able to see the newly created instance in the dashboard, and you are now ready to connect with it.\n",
    "![](./assets/aws5.png)<br/><br/>\n",
    "\n",
    "Finally, take a look at the [Tutorials and Examples](https://docs.aws.amazon.com/dlami/latest/devguide/tutorials.html) section to understand better how to use Deep Learning AMI service offered by AWS."
   ]
  },
  {
   "cell_type": "markdown",
   "metadata": {},
   "source": [
    "#### Connect to AMI (Linux)"
   ]
  },
  {
   "cell_type": "markdown",
   "metadata": {},
   "source": [
    "Once your Instance state is `running` you are ready to connect to it. We are going to do that from a terminal. We will use the ssh key we have generated, and we will also route remote port 8888 to the local port 8888 so that we get to access Jupyter Notebook. Go ahead and type:\n",
    "\n",
    "```\n",
    "ssh -i your-key.pem -L 8888:localhost:8888 ubuntu@<your-ip>\n",
    "```\n",
    "\n",
    "> TIP: if you get a message that says your key is not protected, you need to change the permissions of your key to read-only. You can do that by executing the command: `chmod 600 your-key.pem`.\n",
    "\n",
    "Once you're connected you should see a screen like the following, where all the environments are listed:\n",
    "![](./assets/aws_dl_instance.png)\n",
    "\n",
    "We will go ahead and activate the `tensorflow_py36` environment with the command:\n",
    "\n",
    "```\n",
    "source activate tensorflow_p36\n",
    "```\n",
    "\n",
    "and launch Jupyter Notebook with:\n",
    "\n",
    "```\n",
    "nohup jupyter notebook --no-browser &\n",
    "```\n",
    "\n",
    "This command launches Jupyter in a way that will not stop if you disconnect from the instance. The final step is to retrieve the Jupyter address: `http://localhost:8888/?token=<your-token>`. You will find it in the `nohup.out` file:\n",
    "```\n",
    "tail nohup.out\n",
    "```\n",
    "Copy it and paste it into your browser. If you've done everything correctly you should see a screen like this one:\n",
    "![](./assets/jupyter_aws.png)\n",
    "\n",
    "> TIP: Aws also has a tutorial here: https://docs.aws.amazon.com/dlami/latest/devguide/tutorials.html"
   ]
  },
  {
   "cell_type": "markdown",
   "metadata": {},
   "source": [
    "#### Connect to AMI (Windows)"
   ]
  },
  {
   "cell_type": "markdown",
   "metadata": {},
   "source": [
    "To connect with the AWS EC2 Deep Learning AMI from _Windows_ similar steps must be followed, but in this case it is convenient to use [PuTTY](https://www.chiark.greenend.org.uk/~sgtatham/putty/latest.html), an SSH client specifically developed for the Windows platform.\n",
    "After the installation of Putty in your machine, the procedure to connect with the cloud instance is as follows:\n",
    "\n",
    "1. In the _Session_ palette:\n",
    "    - Host Name (or IP address): `ubuntu@<your-ip>`\n",
    "    - Port: `22`\n",
    "    - Connection type: `SSH`\n",
    "2. In the _Connection > SSH > Auth_ palette:\n",
    "    - Private key file for autentication: browse the key generated by [PuttyGen](https://www.ssh.com/ssh/putty/windows/puttygen)\n",
    "3. In the _Conenction > SSH > Tunnels_ palette:\n",
    "    - Source port: `8888`\n",
    "    - Destination: `localhost:8888`\n",
    "\n",
    "![](./assets/putty0.png)<br/><br/>\n",
    "\n",
    "Once you are connected, follow the same steps as for the Linux case."
   ]
  },
  {
   "cell_type": "markdown",
   "metadata": {},
   "source": [
    "#### Turning off the instance"
   ]
  },
  {
   "cell_type": "markdown",
   "metadata": {},
   "source": [
    "Once done with your experiments, remember to turn off the instance to avoid useless costs. Just go to your AWS console and either _Stop_ or _Terminate_ the instance, by choosing an action from the `Actions` menu:\n",
    "\n",
    "![](./assets/stop.png)"
   ]
  },
  {
   "cell_type": "markdown",
   "metadata": {},
   "source": [
    "#### AWS Command Line Interface"
   ]
  },
  {
   "cell_type": "markdown",
   "metadata": {},
   "source": [
    "AWS also supports a command line interface [AWS CLI](https://aws.amazon.com/cli/) that allows performing the same operations from the terminal. If you'd like to try it you can install it using the command:\n",
    "\n",
    "```\n",
    "pip install awscli\n",
    "```\n",
    "\n",
    "from your terminal. Once you have installed it, you need to add configuration credentials. First, you'll have to set up an IAM user in the EC2 dashboard, then run the following configuration command:\n",
    "\n",
    "```\n",
    "aws configure\n",
    "```\n",
    "That will prompt you to insert some information:\n",
    "\n",
    "```\n",
    "AWS Access Key ID [None]: <your access key>\n",
    "AWS Secret Access Key [None]: <your secret>\n",
    "Default region name [None]: us-east-1\n",
    "Default output format [None]: ENTER\n",
    "```\n",
    "\n",
    "[Aws regions and availability zones](https://docs.aws.amazon.com/AmazonRDS/latest/UserGuide/Concepts.RegionsAndAvailabilityZones.html) are:\n",
    "\n",
    "![](./assets/awsregions.png)\n",
    "\n",
    "Make sure to choose a region that provides a copy of the Deep Learning AMI.\n",
    "\n",
    "As explained in the [AWS CLI guide](https://docs.aws.amazon.com/cli/latest/userguide/cli-chap-configure.html), the output format can be `json`:\n",
    "\n",
    "![](./assets/aws_json.png)\n",
    "\n",
    "or text:\n",
    "![](./assets/aws_text.png)\n",
    "\n",
    "Once configured you can start your Deep Learning instance with the following command:\n",
    "\n",
    "```\n",
    "aws ec2 run-instances \\\n",
    "  --image-id <DL-AMI-ID-for-your-region> \\\n",
    "  --count 1 \\\n",
    "  --instance-type <instance-type> \\\n",
    "  --key-name <your-ssh-key-name> \\\n",
    "  --subnet-id <subnet-id> \\\n",
    "  --security-group-ids <security-group-id> \\\n",
    "  --tag-specifications 'ResourceType=instance,\n",
    "                        Tags=[{Key=Name,Value=<a-name-tag>}]'\n",
    "```\n",
    "\n",
    "Where you will need to insert the following parameters:\n",
    "\n",
    "- `<DL-AMI-ID-for-your-region>`: the AMI ID for the Deep Learning AMI in the AWS region you've chosen\n",
    "- `<instance-type>`: the type of instance, like `g2.2xlarge`, `p3.16xlarge` etc.\n",
    "- `<your-ssh-key-name>`: then give a name to your ssh key. You must have this on your disk.\n",
    "- `<subnet-id>`: the subnet id, you can find this when you launch an instance from the web interface.\n",
    "- `<security-group-id>`: the security group id, you can find this when you launch an instance from the web interface as well.\n",
    "- `<a-name-tag>`: a name for your instance, so that you can easily retrieve it by name\n",
    "\n",
    "You can query the status of your launch with the command:\n",
    "\n",
    "```\n",
    "aws ec2 describe-instances\n",
    "```\n",
    "and remember to stop or terminate the instance when you are done, for example using this command:\n",
    "\n",
    "```\n",
    "aws ec2 terminate-instances --instance-ids <your-instance-id>\n",
    "```\n",
    "which would return something like this:\n",
    "\n",
    "![](./assets/terminate_instance.png)\n"
   ]
  },
  {
   "cell_type": "markdown",
   "metadata": {},
   "source": [
    "### AWS Sagemaker"
   ]
  },
  {
   "cell_type": "markdown",
   "metadata": {},
   "source": [
    "[AWS Sagemaker](https://aws.amazon.com/sagemaker/) is an AWS managed solution that allows performing all the steps involved in a Deep Learning pipeline. In fact, on Sagemaker you can define, train and deploy a Machine Learning model in just a few steps.\n",
    "\n",
    "Sagemaker provides an integrated Jupyter Notebook instance that can be used to access data stored in other AWS services, explore it, clean it and analyze it as well as to define a Machine Learning model. It also provides common Machine Learning algorithms that are optimized to run efficiently against extensive data in a distributed environment.\n",
    "\n",
    "Detailed information about this service is in the official [documentation](https://docs.aws.amazon.com/sagemaker/latest/dg/whatis.html).\n",
    "\n",
    "The procedure to spin up a notebook is similar to what previously seen:\n",
    "\n",
    "1. [Create an AWS account](https://aws.amazon.com/console/?nc1=h_ls) and access the console.\n",
    "2. From the AWS console, select the _Amazon SageMaker_ service, under the Machine Learning group.\n",
    "![](./assets/sage0.PNG)<br/><br/>\n",
    "3. Click the button _Create notebook instance_.\n",
    "![](./assets/sage1.PNG)<br/><br/>\n",
    "4. Assign a _Notebook instance name_, for example, \"my_first_notebook\" and click the button _Create notebook instance_. Sagemaker offers several types of instances, including a cheap option for development of your notebook, a CPU-heavy instance if your code requires a lot of CPUs and a GPU-enabled instance if you need it. Notice that the instance types available for the notebook instance are different from the ones available for model training and deployment.\n",
    "![](./assets/sage2.PNG)<br/><br/>\n",
    "5. Start working on the newly created notebook\n",
    "![](./assets/sage3.png)<br/><br/>\n",
    "\n",
    "Once done developing your model, Sagemaker allows to export, train and deploy the model with straightforward steps. Please refer to the [User guide](https://docs.aws.amazon.com/sagemaker/latest/dg/how-it-works-training.html) for more information on these steps."
   ]
  },
  {
   "cell_type": "markdown",
   "metadata": {},
   "source": [
    "### Google Cloud and Microsoft Azure"
   ]
  },
  {
   "cell_type": "markdown",
   "metadata": {},
   "source": [
    "Although we reviewed in detail the solutions offered by Amazon AWS, both Google Cloud and Microsoft Azure offer similarly priced GPU-enabled cloud instances. We invite you to check their offering here:\n",
    "- [Google Cloud]()\n",
    "- [Microsoft Azure]()"
   ]
  },
  {
   "cell_type": "markdown",
   "metadata": {},
   "source": [
    "### The DIY solution (on Ubuntu)"
   ]
  },
  {
   "cell_type": "markdown",
   "metadata": {},
   "source": [
    "If you'd like start from scratch on a barebone Linux machine with a GPU, here are the steps you will need to follow:\n",
    "\n",
    "1. Install [NVIDIA Cuda Drivers](https://developer.nvidia.com/cuda-downloads). CUDA is a language that gives direct access to the GPU's virtual instruction set and parallel computational elements, for the execution of compute kernels.\n",
    "- Download and install [CuDNN](https://docs.nvidia.com/deeplearning/sdk/cudnn-install/index.html). CuDNN is an NVIDIA library built on CUDA that implements a lot of common Neural Network algorithms.\n",
    "- Install [Miniconda](https://conda.io/en/latest/miniconda.html). Miniconda is a minimal installation of Python and the `conda` package manager that we will use to install other packages.\n",
    "- Install a few standard packages  `conda install pip numpy pandas scikit-learn scipy matplotlib seaborn h5py`. This command will install the packages in the `base` environment.\n",
    "- Install Tensorflow compiled with GPU support: `pip install tensorflow-gpu`.\n",
    "- (Optional) Install Keras: `pip install keras`."
   ]
  },
  {
   "cell_type": "markdown",
   "metadata": {},
   "source": [
    "## GPU VS CPU training"
   ]
  },
  {
   "cell_type": "markdown",
   "metadata": {},
   "source": [
    "Regardless of how you decided to get access to a GPU-enabled cloud instance, in the following code, we will assume that you have access to such an instance and review some functionality that is available in Tensorflow when running on a GPU instance.\n",
    "\n",
    "Let's start by comparing training speed on a CPU vs. a GPU for a Convolutional Neural Network. We will train this on the CIFAR10 data that we have also encountered in [Lab 6](6_Convolutional_Neural_Networks.ipynb). Let's load the usual packages of Numpy, Pandas, and Matplotlib:"
   ]
  },
  {
   "cell_type": "code",
   "execution_count": 1,
   "metadata": {},
   "outputs": [],
   "source": [
    "with open('common.py') as fin:\n",
    "    exec(fin.read())"
   ]
  },
  {
   "cell_type": "code",
   "execution_count": 2,
   "metadata": {},
   "outputs": [],
   "source": [
    "with open('matplotlibconf.py') as fin:\n",
    "    exec(fin.read())"
   ]
  },
  {
   "cell_type": "markdown",
   "metadata": {},
   "source": [
    "Let's also import Tensorflow:"
   ]
  },
  {
   "cell_type": "code",
   "execution_count": 3,
   "metadata": {},
   "outputs": [],
   "source": [
    "import tensorflow as tf"
   ]
  },
  {
   "cell_type": "markdown",
   "metadata": {},
   "source": [
    "### Tensorflow 2.0 compatibility"
   ]
  },
  {
   "cell_type": "markdown",
   "metadata": {},
   "source": [
    "Tensorflow 2.0 enables [Eager Execution](https://www.tensorflow.org/guide/eager) by default. From our tests this seems to have a problem with the allocation on GPU vs CPU. The issue is documented [here](https://github.com/tensorflow/tensorflow/issues/26244). While the developers at Tensorflow figure out the problem and find a fix, we will disable eager execution:"
   ]
  },
  {
   "cell_type": "code",
   "execution_count": 4,
   "metadata": {},
   "outputs": [],
   "source": [
    "tf.compat.v1.disable_eager_execution()"
   ]
  },
  {
   "cell_type": "markdown",
   "metadata": {},
   "source": [
    "### Convolutional model comparison"
   ]
  },
  {
   "cell_type": "markdown",
   "metadata": {},
   "source": [
    "First, we load the data using a helper function that also rescales it and expands the labels to binary categories. If you're unfamiliar with these steps, we recommend you review [Lab 3](3_Machine_Learning.ipynb), [Lab 4](4_Deep_Learning.ipynb) and [Lab 6](6_Convolutional_Neural_Networks.ipynb) where they are repeated multiple times and explained in detail."
   ]
  },
  {
   "cell_type": "code",
   "execution_count": 5,
   "metadata": {},
   "outputs": [],
   "source": [
    "from tensorflow.keras.datasets import cifar10\n",
    "from tensorflow.keras.utils import to_categorical"
   ]
  },
  {
   "cell_type": "code",
   "execution_count": 6,
   "metadata": {},
   "outputs": [
    {
     "name": "stdout",
     "output_type": "stream",
     "text": [
      "Loading CIFAR10 Data\n"
     ]
    }
   ],
   "source": [
    "def cifar_train_data():\n",
    "    print(\"Loading CIFAR10 Data\")\n",
    "    (X_train, y_train), _ = cifar10.load_data()\n",
    "    X_train = X_train.astype('float32') / 255.0\n",
    "    y_train_cat = to_categorical(y_train, 10)\n",
    "    return X_train, y_train_cat\n",
    "\n",
    "X_conv, y_conv = cifar_train_data()"
   ]
  },
  {
   "cell_type": "markdown",
   "metadata": {},
   "source": [
    "Next, we define a function that creates the convolutional model. By now you should be familiar with every line of code that follows, but just as a reminder, we create a `Sequential` model adding layers in sequence, like pancakes in a stack. The layers in this network are:\n",
    "\n",
    "- **2D Convolutional layer** with 32 filters, each of size 3x3 and ReLU activation. Notice that in the first layer we also specify the input shape of `(32, 32, 3)` which means our images are 32x32 pixels with three colors: RGB.\n",
    "- **2D Convolutional layer** with 32 filters, each of size 3x3 and ReLU activation. We add a second convolutional layer immediately after the first to effectively convolve over larger regions in the input image.\n",
    "- **Max Pooling layer** 2 D with a pool size of 2x2. This will cut in half the height and the width of our feature maps, effectively making the calculations four times faster.\n",
    "- **Flatten layer** to go from the order four tensors used by convolutional layers to an order-2 tensor suitable for fully connected networks.\n",
    "- **Fully connected layer** with 512 nodes and a ReLU activation\n",
    "- **Output layer** with ten nodes and a Softmax activation\n",
    "\n",
    "If you need to review these concepts, make sure to check out [Lab 6](6_Convolutional_Neural_Networks.ipynb) for more details.\n",
    "\n",
    "We also compile the model for a classification problem using the **Categorical Cross-entropy** loss function and the **RMSProp** optimizer. These are explained in detail in [Lab 5](5_Deep_Learning_Internals.ipynb).\n",
    "\n",
    "Notice also that we import the `time` module to track the performance of our model:"
   ]
  },
  {
   "cell_type": "code",
   "execution_count": 7,
   "metadata": {},
   "outputs": [],
   "source": [
    "from tensorflow.keras.models import Sequential\n",
    "from tensorflow.keras.layers import Flatten, Dense\n",
    "from tensorflow.keras.layers import Conv2D, MaxPooling2D\n",
    "from time import time"
   ]
  },
  {
   "cell_type": "code",
   "execution_count": 8,
   "metadata": {},
   "outputs": [],
   "source": [
    "def convolutional_model():\n",
    "    print(\"Defining convolutional model\")\n",
    "    t0 = time()\n",
    "    model = Sequential()\n",
    "    model.add(Conv2D(32, (3, 3),\n",
    "                     padding='same',\n",
    "                     input_shape=(32, 32, 3),\n",
    "                     kernel_initializer='normal',\n",
    "                     activation='relu'))\n",
    "    model.add(Conv2D(32, (3, 3), activation='relu',\n",
    "                     kernel_initializer='normal'))\n",
    "    model.add(MaxPooling2D(pool_size=(2, 2)))\n",
    "    model.add(Flatten())\n",
    "    model.add(Dense(512, activation='relu'))\n",
    "    model.add(Dense(10, activation='softmax'))\n",
    "\n",
    "    print(\"{:0.3f} seconds.\".format(time() - t0))\n",
    "\n",
    "\n",
    "    print(\"Compiling the model...\")\n",
    "    t0 = time()\n",
    "    model.compile(loss='categorical_crossentropy',\n",
    "                  optimizer='rmsprop',\n",
    "                  metrics=['accuracy'])\n",
    "\n",
    "    print(\"{:0.3f} seconds.\".format(time() - t0))\n",
    "    return model"
   ]
  },
  {
   "cell_type": "markdown",
   "metadata": {},
   "source": [
    "Now we are ready to do a comparison between the CPU training time and the GPU training time. We can force tensorflow to create the model on the the CPU with the context setter `with tf.device('cpu:0')`. Let's create a model on the CPU:"
   ]
  },
  {
   "cell_type": "code",
   "execution_count": 9,
   "metadata": {},
   "outputs": [
    {
     "name": "stdout",
     "output_type": "stream",
     "text": [
      "Defining convolutional model\n",
      "0.089 seconds.\n",
      "Compiling the model...\n",
      "0.111 seconds.\n"
     ]
    }
   ],
   "source": [
    "with tf.device('cpu:0'):\n",
    "    model = convolutional_model()"
   ]
  },
  {
   "cell_type": "code",
   "execution_count": 10,
   "metadata": {},
   "outputs": [
    {
     "name": "stdout",
     "output_type": "stream",
     "text": [
      "Model: \"sequential\"\n",
      "_________________________________________________________________\n",
      "Layer (type)                 Output Shape              Param #   \n",
      "=================================================================\n",
      "conv2d (Conv2D)              (None, 32, 32, 32)        896       \n",
      "_________________________________________________________________\n",
      "conv2d_1 (Conv2D)            (None, 30, 30, 32)        9248      \n",
      "_________________________________________________________________\n",
      "max_pooling2d (MaxPooling2D) (None, 15, 15, 32)        0         \n",
      "_________________________________________________________________\n",
      "flatten (Flatten)            (None, 7200)              0         \n",
      "_________________________________________________________________\n",
      "dense (Dense)                (None, 512)               3686912   \n",
      "_________________________________________________________________\n",
      "dense_1 (Dense)              (None, 10)                5130      \n",
      "=================================================================\n",
      "Total params: 3,702,186\n",
      "Trainable params: 3,702,186\n",
      "Non-trainable params: 0\n",
      "_________________________________________________________________\n"
     ]
    }
   ],
   "source": [
    "model.summary()"
   ]
  },
  {
   "cell_type": "markdown",
   "metadata": {},
   "source": [
    "Now let's train the CPU model for 2 epochs:"
   ]
  },
  {
   "cell_type": "code",
   "execution_count": 11,
   "metadata": {},
   "outputs": [
    {
     "name": "stdout",
     "output_type": "stream",
     "text": [
      "Training convolutional CPU model...\n",
      "Epoch 1/2\n",
      "50000/50000 [==============================] - 99s 2ms/sample - loss: 2.0398 - accuracy: 0.2827\n",
      "Epoch 2/2\n",
      "50000/50000 [==============================] - 104s 2ms/sample - loss: 1.6681 - accuracy: 0.4196\n",
      "203.2117199897766 seconds.\n"
     ]
    }
   ],
   "source": [
    "print(\"Training convolutional CPU model...\")\n",
    "t0 = time()\n",
    "model.fit(X_conv, y_conv,\n",
    "          batch_size=1024,\n",
    "          epochs=2,\n",
    "          shuffle=True)\n",
    "print(\"{:0} seconds.\".format(time() - t0))"
   ]
  },
  {
   "cell_type": "markdown",
   "metadata": {},
   "source": [
    "Now let's compare the model with a model living on the GPU. We use a similar context setter: `with tf.device('gpu:0')`:"
   ]
  },
  {
   "cell_type": "code",
   "execution_count": 12,
   "metadata": {},
   "outputs": [
    {
     "name": "stdout",
     "output_type": "stream",
     "text": [
      "Defining convolutional model\n",
      "0.087 seconds.\n",
      "Compiling the model...\n",
      "0.181 seconds.\n"
     ]
    }
   ],
   "source": [
    "with tf.device('gpu:0'):\n",
    "    model = convolutional_model()"
   ]
  },
  {
   "cell_type": "markdown",
   "metadata": {},
   "source": [
    "And then we train the model on the GPU:"
   ]
  },
  {
   "cell_type": "code",
   "execution_count": 13,
   "metadata": {},
   "outputs": [
    {
     "name": "stdout",
     "output_type": "stream",
     "text": [
      "Training convolutional GPU model...\n",
      "Epoch 1/2\n",
      "50000/50000 [==============================] - 4s 75us/sample - loss: 2.0665 - accuracy: 0.2737\n",
      "Epoch 2/2\n",
      "50000/50000 [==============================] - 3s 67us/sample - loss: 1.6770 - accuracy: 0.4141\n",
      "7.567 seconds.\n"
     ]
    }
   ],
   "source": [
    "print(\"Training convolutional GPU model...\")\n",
    "t0 = time()\n",
    "model.fit(X_conv, y_conv,\n",
    "          batch_size=1024,\n",
    "          epochs=2,\n",
    "          shuffle=True)\n",
    "print(\"{:0.3f} seconds.\".format(time() - t0))"
   ]
  },
  {
   "cell_type": "markdown",
   "metadata": {},
   "source": [
    "As you can see training on the GPU is much faster than on the CPU. Also notice that the second epoch runs much faster than the first one. The first epoch also includes the time to transfer the model to the GPU, while for the following ones the model has already been transferred to the GPU. Pretty cool!"
   ]
  },
  {
   "cell_type": "markdown",
   "metadata": {},
   "source": [
    "#### NVIDIA-SMI"
   ]
  },
  {
   "cell_type": "markdown",
   "metadata": {},
   "source": [
    "We can check that the GPU is actually being utilized using `nvidia-smi`. The [NVIDIA System Management Interface](https://developer.nvidia.com/nvidia-system-management-interface) is a tool that allows us to check the operation of our GPUs. To better understand how it works, have a look at the [documentation](http://developer.download.nvidia.com/compute/DCGM/docs/nvidia-smi-367.38.pdf).\n",
    "\n",
    "To use the NVIDIA System Management Interface:\n",
    "1. Open a new terminal from the Jupyter interface\n",
    "![](./assets/terminal0.PNG)\n",
    "2. Type `nvidia-smi` in the command line."
   ]
  },
  {
   "cell_type": "markdown",
   "metadata": {},
   "source": [
    "## Multiple GPUs"
   ]
  },
  {
   "cell_type": "markdown",
   "metadata": {},
   "source": [
    "If your machine has more than one GPU, you can use multiple GPUs to improve your training even more. There are several ways to distribute the training over several GPUs, and the tools to do this are improving and changing very rapidly.\n",
    "\n",
    "We will focus here on the general ideas and suggest a couple of ways to perform parallelization of a model."
   ]
  },
  {
   "cell_type": "markdown",
   "metadata": {},
   "source": [
    "### Distribution strategies"
   ]
  },
  {
   "cell_type": "markdown",
   "metadata": {},
   "source": [
    "There are many ways to distribute the training across multiple GPUs and even across several machines with many GPUs. Tensorflow has iterated a lot on the API to do this, and the stable version at the time of publication (TF 1.13) offers several distribution strategies through [the `tf.contrib` module](https://www.tensorflow.org/api_docs/python/tf/contrib/distribute). All of these will eventually be ported to TF 2.0, which is the version we are using in this labs.\n",
    "\n",
    "Let's start from the basics.\n",
    "\n",
    "One way to distribute the training across multiple GPUs replicate the same model on each GPU and give each GPU a different batch of data. This is called **data parallelization** or **mirrored strategy**. Using this strategy allows increasing the batch size to N times the original batch size, where N is the number of GPUs available. At each weight update, each GPU receives a different batch of data, runs the forward pass and the back-propagation and then communicates the weigh updates to the CPU, where all the updates are averaged and distributed back to each model on each GPU.\n",
    "\n",
    "With this strategy, the batch size is not limited by the GPU memory. The more GPUs we add, the larger a batch size we can use. Many cloud providers offer instances equipped with eight or even sixteen GPUs, and research groups worldwide published results using hundreds and even thousands of GPUs.\n",
    "\n",
    "The only limitation of this strategy is that the whole model must fit in the GPU memory, so even though the batch size is not capped, the model size is capped.\n",
    "\n",
    "The other way to distribute training across multiple GPUs is to split the model across multiple GPUs, which goes by the name of also called **model parallelization** or **model distribution**. Why would one use this strategy at all? It turns out that many state-of-the-art results, especially those concerning language modeling and natural language understanding, require enormous models, that exceed the capacity of a single GPU. Currently, only researchers and large companies like Google or Amazon use this strategy, but in the future, it will become more accessible and more common also for other users.\n",
    "\n",
    "In the rest of this lab, we will focus on data parallelization.\n",
    "\n",
    "We will introduce it with the most recent API offered by Tensorflow 2.0, but we will also mention a couple of other ways to achieve multi GPU parallelization."
   ]
  },
  {
   "cell_type": "markdown",
   "metadata": {},
   "source": [
    "### Data Parallelization using Tensorflow"
   ]
  },
  {
   "cell_type": "markdown",
   "metadata": {},
   "source": [
    "Tensorflow makes it easy to parallelize training by distributing data across multiple GPUs through the `tf.distribute` module. At the time of publishing, although many strategies are available in TF 1.13, TF 2.0 only implements the data parallelization strategy, which we will review here.\n",
    "\n",
    "First, we need to create an instance of the `MirroredStrategy` distribution strategy:"
   ]
  },
  {
   "cell_type": "code",
   "execution_count": 14,
   "metadata": {},
   "outputs": [],
   "source": [
    "strategy = tf.distribute.MirroredStrategy()"
   ]
  },
  {
   "cell_type": "markdown",
   "metadata": {},
   "source": [
    "Next we take our model and replicate it across multiple GPUs using the context setter `with`:"
   ]
  },
  {
   "cell_type": "code",
   "execution_count": 15,
   "metadata": {},
   "outputs": [
    {
     "name": "stdout",
     "output_type": "stream",
     "text": [
      "Defining convolutional model\n",
      "0.174 seconds.\n",
      "Compiling the model...\n",
      "0.169 seconds.\n"
     ]
    }
   ],
   "source": [
    "with strategy.scope():\n",
    "    model = convolutional_model()"
   ]
  },
  {
   "cell_type": "markdown",
   "metadata": {},
   "source": [
    "At this point we can train the model normally, but with a larger batch. We define a flag with the number of GPUs (2 in our case):"
   ]
  },
  {
   "cell_type": "code",
   "execution_count": 16,
   "metadata": {},
   "outputs": [],
   "source": [
    "# adjust this to the number of gpus in your machine\n",
    "NGPU = 2"
   ]
  },
  {
   "cell_type": "markdown",
   "metadata": {},
   "source": [
    "And then we train the model:"
   ]
  },
  {
   "cell_type": "code",
   "execution_count": 17,
   "metadata": {},
   "outputs": [
    {
     "name": "stdout",
     "output_type": "stream",
     "text": [
      "Training recurrent GPU model on 2 GPUs ...\n",
      "Epoch 1/2\n",
      "25/25 [==============================] - 4s 154ms/step - loss: 2.1736 - accuracy: 0.2295\n",
      "Epoch 2/2\n",
      "25/25 [==============================] - 2s 67ms/step - loss: 1.8342 - accuracy: 0.3600\n",
      "13.702 seconds.\n"
     ]
    }
   ],
   "source": [
    "print(\"Training recurrent GPU model on {} GPUs ...\".format(NGPU))\n",
    "t0 = time()\n",
    "model.fit(X_conv, y_conv,\n",
    "          batch_size=1024*NGPU,\n",
    "          epochs=2,\n",
    "          shuffle=True)\n",
    "print(\"{:0.3f} seconds.\".format(time() - t0))"
   ]
  },
  {
   "cell_type": "markdown",
   "metadata": {},
   "source": [
    "The API for `tf.distribute` is still in progress and we invite you to check it out periodically to learn about new strategies that get added."
   ]
  },
  {
   "cell_type": "markdown",
   "metadata": {},
   "source": [
    "### Data Parallelization using Keras"
   ]
  },
  {
   "cell_type": "markdown",
   "metadata": {},
   "source": [
    "Keras also has an independent way to parallelize training by distributing data across multiple GPUs. This is achieved through the `multi_gpu_model` command. Let's import it from `keras.utils`:"
   ]
  },
  {
   "cell_type": "code",
   "execution_count": 18,
   "metadata": {},
   "outputs": [],
   "source": [
    "from tensorflow.keras.utils import multi_gpu_model"
   ]
  },
  {
   "cell_type": "markdown",
   "metadata": {},
   "source": [
    "> TIP: if you're on floydhub the keras version is probably earlier than the one we are using in the labs. If you don't find `keras.utils.multi_gpu_model` try with\n",
    "```python\n",
    "from tensorflow.keras.utils.training_utils import multi_gpu_model\n",
    "```\n",
    "or update keras with `pip install --upgrade keras`"
   ]
  },
  {
   "cell_type": "markdown",
   "metadata": {},
   "source": [
    "Now let's create a new convolutional model (on the cpu):"
   ]
  },
  {
   "cell_type": "code",
   "execution_count": 19,
   "metadata": {},
   "outputs": [
    {
     "name": "stdout",
     "output_type": "stream",
     "text": [
      "Defining convolutional model\n",
      "0.088 seconds.\n",
      "Compiling the model...\n",
      "0.112 seconds.\n"
     ]
    }
   ],
   "source": [
    "with tf.device(\"/cpu:0\"):\n",
    "    model = convolutional_model()"
   ]
  },
  {
   "cell_type": "markdown",
   "metadata": {},
   "source": [
    "and let's distribute it over 2 GPUs (this will only work if you have at least 2 GPUs on your machine):"
   ]
  },
  {
   "cell_type": "code",
   "execution_count": 20,
   "metadata": {},
   "outputs": [],
   "source": [
    "model = multi_gpu_model(model, NGPU, cpu_relocation=True)"
   ]
  },
  {
   "cell_type": "markdown",
   "metadata": {},
   "source": [
    "> TIP: you may need to change the `cpu_relocation` parameter to False if your machine has NV-link. Check the [Tensorflow documentation](https://www.tensorflow.org/versions/r2.0/api_docs/python/tf/keras/utils/multi_gpu_model) for more information."
   ]
  },
  {
   "cell_type": "markdown",
   "metadata": {},
   "source": [
    "Once the model has been parallelized, we need to re-compile it:"
   ]
  },
  {
   "cell_type": "code",
   "execution_count": 21,
   "metadata": {},
   "outputs": [],
   "source": [
    "model.compile(loss='categorical_crossentropy',\n",
    "              optimizer='rmsprop',\n",
    "              metrics=['accuracy'])"
   ]
  },
  {
   "cell_type": "markdown",
   "metadata": {},
   "source": [
    "Finally we can train the model in the exact same way as we did before. Notice that the `multi_gpu_model` documentation explains how a batch is divided to the GPUs:\n",
    "\n",
    "    E.g. if your `batch_size` is 64 and you use `gpus=2`,\n",
    "    then we will divide the input into 2 sub-batches of 32 samples,\n",
    "    process each sub-batch on one GPU, then return the full\n",
    "    batch of 64 processed samples.\n",
    "\n",
    "This also means that if we want to maximize GPU utilization we want to increase the batch size by a factor equal to the number of GPUs, so we will use `batch_size=1024*NGPU`."
   ]
  },
  {
   "cell_type": "code",
   "execution_count": 22,
   "metadata": {},
   "outputs": [
    {
     "name": "stdout",
     "output_type": "stream",
     "text": [
      "Training recurrent GPU model on 2 GPUs ...\n",
      "Epoch 1/2\n",
      "50000/50000 [==============================] - 4s 83us/sample - loss: 2.1872 - accuracy: 0.2267\n",
      "Epoch 2/2\n",
      "50000/50000 [==============================] - 4s 72us/sample - loss: 1.8637 - accuracy: 0.3500\n",
      "8.523 seconds.\n"
     ]
    }
   ],
   "source": [
    "print(\"Training recurrent GPU model on 2 GPUs ...\")\n",
    "t0 = time()\n",
    "model.fit(X_conv, y_conv,\n",
    "          batch_size=1024*NGPU,\n",
    "          epochs=2,\n",
    "          shuffle=True)\n",
    "print(\"{:0.3f} seconds.\".format(time() - t0))"
   ]
  },
  {
   "cell_type": "markdown",
   "metadata": {},
   "source": [
    "Since with 2 GPUs, each epoch takes only a few seconds, let's run the training for a few more epochs:"
   ]
  },
  {
   "cell_type": "code",
   "execution_count": 23,
   "metadata": {},
   "outputs": [],
   "source": [
    "h = model.fit(X_conv, y_conv,\n",
    "              batch_size=1024*NGPU,\n",
    "              epochs=30,\n",
    "              shuffle=True,\n",
    "              verbose=0)"
   ]
  },
  {
   "cell_type": "markdown",
   "metadata": {},
   "source": [
    "and let's plot the history like we've done many times in this labs:"
   ]
  },
  {
   "cell_type": "code",
   "execution_count": 24,
   "metadata": {},
   "outputs": [
    {
     "data": {
      "application/pdf": "[encoded data removed]",
      "image/png": "[encoded data removed]",
      "text/plain": [
       "<Figure size 540x360 with 1 Axes>"
      ]
     },
     "metadata": {
      "needs_background": "light"
     },
     "output_type": "display_data"
    }
   ],
   "source": [
    "pd.DataFrame(h.history).plot()\n",
    "plt.ylim(0, 1.1)\n",
    "plt.axhline(1, color='black');"
   ]
  },
  {
   "cell_type": "markdown",
   "metadata": {},
   "source": [
    "As you can see, with 30 epochs the model seems to be still improving. Having multiple GPUs allowed us to iterate fast and explore the performance of a powerful convolutional model more rapidly. Cool!"
   ]
  },
  {
   "cell_type": "markdown",
   "metadata": {},
   "source": [
    "### Data Parallelization using Horovod"
   ]
  },
  {
   "cell_type": "markdown",
   "metadata": {},
   "source": [
    "[Horovod](https://eng.uber.com/horovod/) is an open source framework maintained by Uber that allows easy parallelization of Deep Learning model written in Tensorflow, Keras, PyTorch, and MXNet. Horovod stems from the realization that the High-performance Computing community has been running programs on supercomputers with thousands of CPUs and GPUs for decades now.\n",
    "\n",
    "Instead of designing and implementing an independent parallelization library as Tensorflow did, Horovod took the approach to leverage the existing best practices from the HPC community and use their results to distribute Deep Learning models on multiple devices. In particular, Horovod uses an open implementation of the [Message Passing Interface standard](https://en.wikipedia.org/wiki/Message_Passing_Interface) called [Open MPI](https://www.open-mpi.org/).\n",
    "\n",
    "Horovod is currently not compatible with TF 2.0, so we will refer the interested reader to an [example using Keras and TF 1.13](https://github.com/horovod/horovod/blob/master/examples/keras_mnist.py). There's an [open issue](https://github.com/horovod/horovod/issues/907) tracking this and Horovod's developers are working on it, so stay tuned."
   ]
  },
  {
   "cell_type": "markdown",
   "metadata": {},
   "source": [
    "### Supercomputing with Tensorflow Mesh"
   ]
  },
  {
   "cell_type": "markdown",
   "metadata": {},
   "source": [
    "Finally, we'd like to mention a new component in the Tensorflow ecosystem called [MESH](https://github.com/tensorflow/mesh). Mesh TensorFlow is aimed ad super computers with many CPUs and GPUs and is not really for the everyday user yet, still it is a very cool project that allows to train incredibly large networks on an arbitrary computing architecture."
   ]
  },
  {
   "cell_type": "markdown",
   "metadata": {},
   "source": [
    "## Conclusion"
   ]
  },
  {
   "cell_type": "markdown",
   "metadata": {},
   "source": [
    "In this lab we have seen how GPUs can easily be used to train faster on larger data. Before you move on to the next lab make sure to terminate all instances or you'll incur in charges!"
   ]
  },
  {
   "cell_type": "markdown",
   "metadata": {},
   "source": [
    "## Exercises"
   ]
  },
  {
   "cell_type": "markdown",
   "metadata": {},
   "source": [
    "### Exercise 1"
   ]
  },
  {
   "cell_type": "markdown",
   "metadata": {},
   "source": [
    "In [Exercise 2 of Lab 8](8_NLP_and_Text_Data.ipynb#Exercise-2) we introduced a model for sentiment analysis of the [IMDB](www.imdb.com) dataset provided in Keras. \n",
    "\n",
    "- Reload that dataset and prepare it for training a model:\n",
    "    - choose vocabulary size\n",
    "    - pad the sequences to a fixed length\n",
    "- define a function `recurrent_model(vocab_size, maxlen)` similar to the `convolutional_model` function defined earlier. The function should return a recurrent model.\n",
    "- Train the model on 1 CPU and measure the training time\n",
    "> TIP: This is currently broken. There's an [issue](https://github.com/tensorflow/tensorflow/issues/26245) open about it. The model definition seems to ignore the context setter on the CPU. Just skip this point for now.\n",
    "- Train the model on 1 GPU and measure the training time\n",
    "- Train the model on a machine with more than 1 GPU using `multi_gpu_model` or even better using distribution strategy\n",
    "\n"
   ]
  },
  {
   "cell_type": "code",
   "execution_count": null,
   "metadata": {},
   "outputs": [],
   "source": []
  },
  {
   "cell_type": "markdown",
   "metadata": {},
   "source": [
    "### Exercise 2"
   ]
  },
  {
   "cell_type": "markdown",
   "metadata": {},
   "source": [
    "_Model parallelism_ is a technique used for models too large to fit in the memory of a single GPU. While this is is not the case for the model we developed in Exercise 1, it is still possible to distribute the model across multiple GPUs using the with context setter. Define a new model with the following architecture:\n",
    "\n",
    "1. Embedding\n",
    "- LSTM\n",
    "- LSTM\n",
    "- LSTM\n",
    "- Dense\n",
    "\n",
    "Place layers 1 and 2 on the first GPU, layers 3 and 4 on the second GPU and the final Dense layer on the CPU.\n",
    "\n",
    "Train the model and see if the performance improves."
   ]
  },
  {
   "cell_type": "code",
   "execution_count": null,
   "metadata": {},
   "outputs": [],
   "source": []
  }
 ],
 "metadata": {
  "kernelspec": {
   "display_name": "Python 3",
   "language": "python",
   "name": "python3"
  },
  "language_info": {
   "codemirror_mode": {
    "name": "ipython",
    "version": 3
   },
   "file_extension": ".py",
   "mimetype": "text/x-python",
   "name": "python",
   "nbconvert_exporter": "python",
   "pygments_lexer": "ipython3",
   "version": "3.7.3"
  },
  "title": "Training with GPUs"
 },
 "nbformat": 4,
 "nbformat_minor": 2
}
