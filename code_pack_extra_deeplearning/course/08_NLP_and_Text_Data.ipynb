{
 "cells": [
  {
   "cell_type": "markdown",
   "metadata": {},
   "source": [
    "# Lab 8: Natural Language Processing and Text Data"
   ]
  },
  {
   "cell_type": "markdown",
   "metadata": {},
   "source": [
    "In this lab, we will learn a few techniques to approach problems involving text. This fundamental topic since textual data is widespread. \n",
    "\n",
    "We will start by introducing text data, and some use cases of Machine Learning and Deep Learning applied to text prediction. Then we will explore the traditional approach to text problems: the **Bag of Words** (BOW) approach. \n",
    "\n",
    "This topic will take us to explore how to extract features from a text. We will introduce new techniques to do this as well as a couple of new Python packages specifically designed to deal with text data.\n",
    "\n",
    "We will explore the limitations of the BOW approach and see how Neural Networks can help to overcome them. In particular, we will look at embeddings to encode text and at how to use them in Keras. Let's get started!"
   ]
  },
  {
   "cell_type": "markdown",
   "metadata": {},
   "source": [
    "## Use cases"
   ]
  },
  {
   "cell_type": "markdown",
   "metadata": {},
   "source": [
    "As noted in the introduction text data is encountered in many applications. Let's take a look at a few of them. We are all familiar with **Spam Detection**. It is a text classification problem where we try to distinguish legitimate documents from spammy ones. \n",
    "\n",
    "Spam detection involves email spam, SMS spam, instant messaging spam and in general any corpus of messages. The problem is as a binary classification where one has two sets of documents: the spam messages and the \"ham\" messages, i.e., the legitimate messages that we would like to keep. \n",
    "\n",
    "A similar binary classification problem involving text is that of **Sentiment Analysis**. \n",
    "\n",
    "Imagine you are a rock star tweeting about your latest album. Millions of people will reply to your tweet, and it will be impossible for you to read all of the messages from your fans. You would like to capture the overall sentiment of your fan base and see if they are happy about what you tweeted. \n",
    "\n",
    "Sentiment analysis does that by classifying a piece of text as having *positive* or *negative* overall sentiment. If you know the sentiment for each tweet, it's easy to extract results like: \"74% of your fans responded positively to your tweet\".\n",
    "\n",
    "Many fields use Sentiment Analysis including stock trading, e-commerce reviews, customer service and in general any website or application where users are allowed to submit free-form text comments.\n",
    "\n",
    "![Text problems](./assets/text_problems.png)\n",
    "\n",
    "Extending beyond classification problems, we can consider regression problems involving text, for example extracting a score, a price, or any other metric starting from a text document. An example of this would be estimating the number of followers your tweet will generate based on its text content or predicting the number of downloads your application will do based on the content of a blog article.\n",
    "\n",
    "All the above problems are traditional Machine Learning problems where text is the input to the problem. Text can also be the output of a Machine Learning problem. For example, **Machine Translation** involves converting text from a language to another. It is a supervised, many-to-many, sequence learning problem, where we feed pairs of sentences in two languages to a model that learns to generate the output sequence (for example a sentence in English), given a particular input sequence (the corresponding sentence in Italian).\n",
    "\n",
    "Machine translation is an example of a whole category of Machine Learning problems involving text: problems involving **automatic text generation**. Another famous example in this category is that of **Language Modeling**.\n",
    "\n",
    "In Language Modeling a _corpus of documents_ (see next section for a proper definition) is fed sequentially to a model. The model will learn the probability distribution of a specific word to appear after a sentence. The model is then sampled randomly and is capable of producing sentences that resemble the properties of the corpus. Using this approach people had models produce new sonnets from Shakespeare, [new labs of Harry Potter](https://medium.com/deep-writing/harry-potter-written-by-artificial-intelligence-8a9431803da6), [new episodes of popular novels](https://medium.com/deep-writing/silicon-valley-a-new-episode-written-by-ai-a8f832645bc2) and so on.\n",
    "\n",
    "Since Language Modeling works on sequences, we can also build character level models that learn the syntax or our input corpus. In this way, we can produce syntactically correct markup languages like HTML, Wiki, Latex and even C! See the [wonderful article by Andrej Karpathy](https://karpathy.github.io/2015/05/21/rnn-effectiveness/) for a few examples of this.\n",
    "\n",
    "It is clear that text is involved in several useful application. So let's see how to prepare text documents for Machine Learning."
   ]
  },
  {
   "cell_type": "markdown",
   "metadata": {},
   "source": [
    "## Text Data"
   ]
  },
  {
   "cell_type": "markdown",
   "metadata": {},
   "source": [
    "### Loading text data"
   ]
  },
  {
   "cell_type": "markdown",
   "metadata": {},
   "source": [
    "Text data is usually a collection of articles or documents. Linguists call this collection a [**corpus**](https://en.wikipedia.org/wiki/Text_corpus) to indicate that it's coherent and organized. For example, we could be dealing with the corpus of patents from our company or with a corpus of articles from a news platform.\n",
    "\n",
    "The first thing we are going to learn is how to load text data using Scikit-Learn. We will build a simple Spam detector to separate SMS containing spam from legitimate SMS messages. The data comes from the [UCI SMS Spam collection](https://archive.ics.uci.edu/ml/datasets/sms+spam+collection), but it is re-organized and compressed.\n",
    "\n",
    "The file `data/sms.zip` is a compressed archive of a folder with the structure:\n",
    "\n",
    "    sms\n",
    "     |-- ham\n",
    "     |    |-- msg_000.txt\n",
    "     |    |-- msg_001.txt\n",
    "     |    |-- msg_003.txt\n",
    "     |    +-- ...\n",
    "     |\n",
    "     +-- spam\n",
    "          |-- msg_002.txt\n",
    "          |-- msg_005.txt\n",
    "          |-- msg_008.txt\n",
    "          +-- ...\n",
    "\n",
    "Let's extract all the data into the data folder:"
   ]
  },
  {
   "cell_type": "markdown",
   "metadata": {},
   "source": [
    "First, let's import the `zipfile` package from Python so that we can extract the data into folders:"
   ]
  },
  {
   "cell_type": "code",
   "execution_count": 1,
   "metadata": {},
   "outputs": [],
   "source": [
    "import zipfile"
   ]
  },
  {
   "cell_type": "markdown",
   "metadata": {},
   "source": [
    "`zipfile` allows to operate directly zipped folder into our workspace. Have a look at the [documentation](https://docs.python.org/2/library/zipfile.html) for further details.  Here we use it to extract the data for later loading it:"
   ]
  },
  {
   "cell_type": "code",
   "execution_count": 2,
   "metadata": {},
   "outputs": [],
   "source": [
    "with zipfile.ZipFile('../data/sms.zip', 'r') as fin:\n",
    "    fin.extractall('../data/')"
   ]
  },
  {
   "cell_type": "markdown",
   "metadata": {},
   "source": [
    "This last operation created a folder called `sms` inside the `data` folder. Let's look at its content. The `os` module contains many functions to interact with the host system. Let's import it:"
   ]
  },
  {
   "cell_type": "code",
   "execution_count": 3,
   "metadata": {},
   "outputs": [],
   "source": [
    "import os"
   ]
  },
  {
   "cell_type": "markdown",
   "metadata": {},
   "source": [
    "And let's use the command `os.listdir` to look at the content of the folder:"
   ]
  },
  {
   "cell_type": "code",
   "execution_count": 4,
   "metadata": {},
   "outputs": [
    {
     "data": {
      "text/plain": [
       "['ham', 'spam']"
      ]
     },
     "execution_count": 4,
     "metadata": {},
     "output_type": "execute_result"
    }
   ],
   "source": [
    "os.listdir('../data/sms')"
   ]
  },
  {
   "cell_type": "markdown",
   "metadata": {},
   "source": [
    "As expected there are two subfolders: `ham` and `spam`. We can count how many files they contain with the help of the following little function that lists the content of `path` and uses a filter to only count files."
   ]
  },
  {
   "cell_type": "code",
   "execution_count": 5,
   "metadata": {},
   "outputs": [],
   "source": [
    "from os.path import isfile, join"
   ]
  },
  {
   "cell_type": "code",
   "execution_count": 6,
   "metadata": {},
   "outputs": [],
   "source": [
    "def count_files(path):\n",
    "    files_list = [name for name in os.listdir(path)\n",
    "                  if isfile(join(path, name))]\n",
    "    return len(files_list)"
   ]
  },
  {
   "cell_type": "markdown",
   "metadata": {},
   "source": [
    "Let's use this function to count the number of files in the folders:"
   ]
  },
  {
   "cell_type": "code",
   "execution_count": 7,
   "metadata": {},
   "outputs": [
    {
     "data": {
      "text/plain": [
       "4825"
      ]
     },
     "execution_count": 7,
     "metadata": {},
     "output_type": "execute_result"
    }
   ],
   "source": [
    "ham_count = count_files('../data/sms/ham/')\n",
    "ham_count"
   ]
  },
  {
   "cell_type": "code",
   "execution_count": 8,
   "metadata": {},
   "outputs": [
    {
     "data": {
      "text/plain": [
       "747"
      ]
     },
     "execution_count": 8,
     "metadata": {},
     "output_type": "execute_result"
    }
   ],
   "source": [
    "spam_count = count_files('../data/sms/spam/')\n",
    "spam_count"
   ]
  },
  {
   "cell_type": "markdown",
   "metadata": {},
   "source": [
    "We have 4825 ham files and 747 spam files. We can use these numbers to establish a baseline for our classification efforts:"
   ]
  },
  {
   "cell_type": "code",
   "execution_count": 9,
   "metadata": {},
   "outputs": [
    {
     "name": "stdout",
     "output_type": "stream",
     "text": [
      "Baseline accuracy: 0.866\n"
     ]
    }
   ],
   "source": [
    "baseline_acc = ham_count / (ham_count + spam_count)\n",
    "print(\"Baseline accuracy: {:0.3f}\".format(baseline_acc))"
   ]
  },
  {
   "cell_type": "markdown",
   "metadata": {},
   "source": [
    "If we always predicted the large class, i.e. we never predicted spam, we would be correct 86.6% of the time. Our model needs to score higher than that to be of any help."
   ]
  },
  {
   "cell_type": "markdown",
   "metadata": {},
   "source": [
    "Let's also look at a couple of examples of our messages for each class:"
   ]
  },
  {
   "cell_type": "code",
   "execution_count": 10,
   "metadata": {},
   "outputs": [],
   "source": [
    "def read_file(path):\n",
    "    with open(path) as fin:\n",
    "        msg = fin.read()\n",
    "    return msg"
   ]
  },
  {
   "cell_type": "code",
   "execution_count": 11,
   "metadata": {},
   "outputs": [
    {
     "data": {
      "text/plain": [
       "'Go until jurong point, crazy.. Available only in bugis n great world la e buffet... Cine there got amore wat...'"
      ]
     },
     "execution_count": 11,
     "metadata": {},
     "output_type": "execute_result"
    }
   ],
   "source": [
    "read_file('../data/sms/ham/msg_000.txt')"
   ]
  },
  {
   "cell_type": "code",
   "execution_count": 12,
   "metadata": {},
   "outputs": [
    {
     "data": {
      "text/plain": [
       "'Ok lar... Joking wif u oni...'"
      ]
     },
     "execution_count": 12,
     "metadata": {},
     "output_type": "execute_result"
    }
   ],
   "source": [
    "read_file('../data/sms/ham/msg_001.txt')"
   ]
  },
  {
   "cell_type": "code",
   "execution_count": 13,
   "metadata": {},
   "outputs": [
    {
     "data": {
      "text/plain": [
       "\"Free entry in 2 a wkly comp to win FA Cup final tkts 21st May 2005. Text FA to 87121 to receive entry question(std txt rate)T&C's apply 08452810075over18's\""
      ]
     },
     "execution_count": 13,
     "metadata": {},
     "output_type": "execute_result"
    }
   ],
   "source": [
    "read_file('../data/sms/spam/msg_002.txt')"
   ]
  },
  {
   "cell_type": "code",
   "execution_count": 14,
   "metadata": {},
   "outputs": [
    {
     "data": {
      "text/plain": [
       "\"FreeMsg Hey there darling it's been 3 week's now and no word back! I'd like some fun you up for it still? Tb ok! XxX std chgs to send, £1.50 to rcv\""
      ]
     },
     "execution_count": 14,
     "metadata": {},
     "output_type": "execute_result"
    }
   ],
   "source": [
    "read_file('../data/sms/spam/msg_005.txt')"
   ]
  },
  {
   "cell_type": "markdown",
   "metadata": {},
   "source": [
    "As expected, spam messages look quite different from ham messages. In order to start building a spam detection model, let's first load all the data into a dataset.\n",
    "\n",
    "Scikit Learn offers a function to load text data from folders for classification purposes. Let's use the `load_files` function from `sklearn.datasets` package:"
   ]
  },
  {
   "cell_type": "code",
   "execution_count": 15,
   "metadata": {},
   "outputs": [],
   "source": [
    "from sklearn.datasets import load_files"
   ]
  },
  {
   "cell_type": "code",
   "execution_count": 16,
   "metadata": {},
   "outputs": [],
   "source": [
    "data = load_files('../data/sms/', encoding='utf-8')"
   ]
  },
  {
   "cell_type": "markdown",
   "metadata": {},
   "source": [
    "`data` is an object of type:"
   ]
  },
  {
   "cell_type": "code",
   "execution_count": 17,
   "metadata": {},
   "outputs": [
    {
     "data": {
      "text/plain": [
       "sklearn.utils.Bunch"
      ]
     },
     "execution_count": 17,
     "metadata": {},
     "output_type": "execute_result"
    }
   ],
   "source": [
    "type(data)"
   ]
  },
  {
   "cell_type": "markdown",
   "metadata": {},
   "source": [
    "The documentation for a `Bunch` reads:\n",
    "\n",
    "    vocabulary-like object, the interesting attributes are: either\n",
    "        data, the raw text data to learn, or 'filenames', the files\n",
    "        holding it, 'target', the classification labels (integer index),\n",
    "        'target_names', the meaning of the labels, and 'DESCR', the full\n",
    "        description of the dataset.\n",
    "\n",
    "so let's look at the available keys:"
   ]
  },
  {
   "cell_type": "code",
   "execution_count": 18,
   "metadata": {},
   "outputs": [
    {
     "data": {
      "text/plain": [
       "dict_keys(['data', 'filenames', 'target_names', 'target', 'DESCR'])"
      ]
     },
     "execution_count": 18,
     "metadata": {},
     "output_type": "execute_result"
    }
   ],
   "source": [
    "data.keys()"
   ]
  },
  {
   "cell_type": "markdown",
   "metadata": {},
   "source": [
    "Following the documentation, let's assign the `data.data` and `data.target` to two variables `docs` and `y`."
   ]
  },
  {
   "cell_type": "code",
   "execution_count": 19,
   "metadata": {},
   "outputs": [],
   "source": [
    "docs = data.data"
   ]
  },
  {
   "cell_type": "markdown",
   "metadata": {},
   "source": [
    "The first five text examples in our `docs` variable are:"
   ]
  },
  {
   "cell_type": "code",
   "execution_count": 20,
   "metadata": {},
   "outputs": [
    {
     "data": {
      "text/plain": [
       "['Hi Princess! Thank you for the pics. You are very pretty. How are you?',\n",
       " \"Hello my little party animal! I just thought I'd buzz you as you were with your friends ...*grins*... Reminding you were loved and send a naughty adoring kiss\",\n",
       " 'And miss vday the parachute and double coins??? U must not know me very well...',\n",
       " 'Maybe you should find something else to do instead???',\n",
       " 'What year. And how many miles.']"
      ]
     },
     "execution_count": 20,
     "metadata": {},
     "output_type": "execute_result"
    }
   ],
   "source": [
    "docs[:5]"
   ]
  },
  {
   "cell_type": "code",
   "execution_count": 21,
   "metadata": {},
   "outputs": [],
   "source": [
    "y = data.target"
   ]
  },
  {
   "cell_type": "markdown",
   "metadata": {},
   "source": [
    "The first five entries in our `y` variable:"
   ]
  },
  {
   "cell_type": "code",
   "execution_count": 22,
   "metadata": {},
   "outputs": [
    {
     "data": {
      "text/plain": [
       "array([0, 0, 0, 0, 0])"
      ]
     },
     "execution_count": 22,
     "metadata": {},
     "output_type": "execute_result"
    }
   ],
   "source": [
    "y[:5]"
   ]
  },
  {
   "cell_type": "markdown",
   "metadata": {},
   "source": [
    "Before we do anything else, let's save the data we have loaded as a DataFrame, just in case we need to reload it later. As usual we import our common files:"
   ]
  },
  {
   "cell_type": "code",
   "execution_count": 23,
   "metadata": {},
   "outputs": [],
   "source": [
    "with open('common.py') as fin:\n",
    "    exec(fin.read())"
   ]
  },
  {
   "cell_type": "code",
   "execution_count": 24,
   "metadata": {},
   "outputs": [],
   "source": [
    "with open('matplotlibconf.py') as fin:\n",
    "    exec(fin.read())"
   ]
  },
  {
   "cell_type": "markdown",
   "metadata": {},
   "source": [
    "and then create a Dataframe with all the documents"
   ]
  },
  {
   "cell_type": "code",
   "execution_count": 25,
   "metadata": {},
   "outputs": [
    {
     "data": {
      "text/html": [
       "<div>\n",
       "<style scoped>\n",
       "    .dataframe tbody tr th:only-of-type {\n",
       "        vertical-align: middle;\n",
       "    }\n",
       "\n",
       "    .dataframe tbody tr th {\n",
       "        vertical-align: top;\n",
       "    }\n",
       "\n",
       "    .dataframe thead th {\n",
       "        text-align: right;\n",
       "    }\n",
       "</style>\n",
       "<table border=\"1\" class=\"dataframe\">\n",
       "  <thead>\n",
       "    <tr style=\"text-align: right;\">\n",
       "      <th></th>\n",
       "      <th>message</th>\n",
       "      <th>spam</th>\n",
       "    </tr>\n",
       "  </thead>\n",
       "  <tbody>\n",
       "    <tr>\n",
       "      <th>0</th>\n",
       "      <td>Hi Princess! Thank you for...</td>\n",
       "      <td>0</td>\n",
       "    </tr>\n",
       "    <tr>\n",
       "      <th>1</th>\n",
       "      <td>Hello my little party anim...</td>\n",
       "      <td>0</td>\n",
       "    </tr>\n",
       "    <tr>\n",
       "      <th>2</th>\n",
       "      <td>And miss vday the parachut...</td>\n",
       "      <td>0</td>\n",
       "    </tr>\n",
       "    <tr>\n",
       "      <th>3</th>\n",
       "      <td>Maybe you should find some...</td>\n",
       "      <td>0</td>\n",
       "    </tr>\n",
       "    <tr>\n",
       "      <th>4</th>\n",
       "      <td>What year. And how many mi...</td>\n",
       "      <td>0</td>\n",
       "    </tr>\n",
       "  </tbody>\n",
       "</table>\n",
       "</div>"
      ],
      "text/plain": [
       "                         message  spam\n",
       "0  Hi Princess! Thank you for...     0\n",
       "1  Hello my little party anim...     0\n",
       "2  And miss vday the parachut...     0\n",
       "3  Maybe you should find some...     0\n",
       "4  What year. And how many mi...     0"
      ]
     },
     "execution_count": 25,
     "metadata": {},
     "output_type": "execute_result"
    }
   ],
   "source": [
    "df = pd.DataFrame(docs, columns=['message'])\n",
    "df['spam'] = y\n",
    "df.head()"
   ]
  },
  {
   "cell_type": "markdown",
   "metadata": {},
   "source": [
    "Pandas allows to save a dataframe to a variety of different formats, including Excel, CSV and SAS. We will export to CSV:"
   ]
  },
  {
   "cell_type": "code",
   "execution_count": 26,
   "metadata": {},
   "outputs": [],
   "source": [
    "df.to_csv('../data/sms_spam.csv',\n",
    "          index=False,\n",
    "          encoding='utf8')"
   ]
  },
  {
   "cell_type": "markdown",
   "metadata": {},
   "source": [
    "### Feature extraction from text"
   ]
  },
  {
   "cell_type": "markdown",
   "metadata": {},
   "source": [
    "A Machine Learning algorithm is not able to deal with text as it is. Instead, we need to extract features from the text!\n",
    "\n",
    "![Feature extraction from text](./assets/text_features.png)\n",
    "\n",
    "Let's begin with a naive solution and gradually build up to a more complex one. The simplest way to build features from a text is to use the counts of certain words that we assume to carry information about the problem.\n",
    "\n",
    "For example, spam messages often offer something for free or give a link to some service. Since these are SMS messages, this link will likely be a number. With these two ideas in mind, let's build a very simple classifier that uses only two features:\n",
    "\n",
    "- The count of the occurrence of the word \"_free_\".\n",
    "- The number of numerical characters.\n",
    "\n",
    "Notice that our text contains uppercase and lowercase words, so as a preprocessing step let's convert everything to lowercase so we don't include meaningless features."
   ]
  },
  {
   "cell_type": "code",
   "execution_count": 27,
   "metadata": {},
   "outputs": [],
   "source": [
    "docs_lower = [d.lower() for d in docs]"
   ]
  },
  {
   "cell_type": "markdown",
   "metadata": {},
   "source": [
    "The first five entries in our `docs_lower` variable are:"
   ]
  },
  {
   "cell_type": "code",
   "execution_count": 28,
   "metadata": {},
   "outputs": [
    {
     "data": {
      "text/plain": [
       "['hi princess! thank you for the pics. you are very pretty. how are you?',\n",
       " \"hello my little party animal! i just thought i'd buzz you as you were with your friends ...*grins*... reminding you were loved and send a naughty adoring kiss\",\n",
       " 'and miss vday the parachute and double coins??? u must not know me very well...',\n",
       " 'maybe you should find something else to do instead???',\n",
       " 'what year. and how many miles.']"
      ]
     },
     "execution_count": 28,
     "metadata": {},
     "output_type": "execute_result"
    }
   ],
   "source": [
    "docs_lower[:5]"
   ]
  },
  {
   "cell_type": "markdown",
   "metadata": {},
   "source": [
    "We can define a simple helper function that counts the occurrences of a particular word in a sentence:"
   ]
  },
  {
   "cell_type": "code",
   "execution_count": 29,
   "metadata": {},
   "outputs": [],
   "source": [
    "def count_word(word, sentence):\n",
    "    tokens = sentence.split()\n",
    "    return len([w for w in tokens if w == word])"
   ]
  },
  {
   "cell_type": "markdown",
   "metadata": {},
   "source": [
    "and apply it to each document:"
   ]
  },
  {
   "cell_type": "code",
   "execution_count": 30,
   "metadata": {},
   "outputs": [],
   "source": [
    "free_counts = [count_word('free', d) for d in docs_lower]\n",
    "df = pd.DataFrame(free_counts, columns=['free'])"
   ]
  },
  {
   "cell_type": "code",
   "execution_count": 31,
   "metadata": {},
   "outputs": [
    {
     "data": {
      "text/html": [
       "<div>\n",
       "<style scoped>\n",
       "    .dataframe tbody tr th:only-of-type {\n",
       "        vertical-align: middle;\n",
       "    }\n",
       "\n",
       "    .dataframe tbody tr th {\n",
       "        vertical-align: top;\n",
       "    }\n",
       "\n",
       "    .dataframe thead th {\n",
       "        text-align: right;\n",
       "    }\n",
       "</style>\n",
       "<table border=\"1\" class=\"dataframe\">\n",
       "  <thead>\n",
       "    <tr style=\"text-align: right;\">\n",
       "      <th></th>\n",
       "      <th>free</th>\n",
       "    </tr>\n",
       "  </thead>\n",
       "  <tbody>\n",
       "    <tr>\n",
       "      <th>0</th>\n",
       "      <td>0</td>\n",
       "    </tr>\n",
       "    <tr>\n",
       "      <th>1</th>\n",
       "      <td>0</td>\n",
       "    </tr>\n",
       "    <tr>\n",
       "      <th>2</th>\n",
       "      <td>0</td>\n",
       "    </tr>\n",
       "    <tr>\n",
       "      <th>3</th>\n",
       "      <td>0</td>\n",
       "    </tr>\n",
       "    <tr>\n",
       "      <th>4</th>\n",
       "      <td>0</td>\n",
       "    </tr>\n",
       "  </tbody>\n",
       "</table>\n",
       "</div>"
      ],
      "text/plain": [
       "   free\n",
       "0     0\n",
       "1     0\n",
       "2     0\n",
       "3     0\n",
       "4     0"
      ]
     },
     "execution_count": 31,
     "metadata": {},
     "output_type": "execute_result"
    }
   ],
   "source": [
    "df.head()"
   ]
  },
  {
   "cell_type": "markdown",
   "metadata": {},
   "source": [
    "Similarly let's build a helper function that counts the numerical character in a sentence using the `re` package:"
   ]
  },
  {
   "cell_type": "code",
   "execution_count": 32,
   "metadata": {},
   "outputs": [],
   "source": [
    "import re"
   ]
  },
  {
   "cell_type": "code",
   "execution_count": 33,
   "metadata": {},
   "outputs": [],
   "source": [
    "def count_numbers(sentence):\n",
    "    return len(re.findall('[0-9]', sentence))"
   ]
  },
  {
   "cell_type": "code",
   "execution_count": 34,
   "metadata": {},
   "outputs": [],
   "source": [
    "df['num_char'] = [count_numbers(d) for d in docs_lower]"
   ]
  },
  {
   "cell_type": "code",
   "execution_count": 35,
   "metadata": {},
   "outputs": [
    {
     "data": {
      "text/html": [
       "<div>\n",
       "<style scoped>\n",
       "    .dataframe tbody tr th:only-of-type {\n",
       "        vertical-align: middle;\n",
       "    }\n",
       "\n",
       "    .dataframe tbody tr th {\n",
       "        vertical-align: top;\n",
       "    }\n",
       "\n",
       "    .dataframe thead th {\n",
       "        text-align: right;\n",
       "    }\n",
       "</style>\n",
       "<table border=\"1\" class=\"dataframe\">\n",
       "  <thead>\n",
       "    <tr style=\"text-align: right;\">\n",
       "      <th></th>\n",
       "      <th>free</th>\n",
       "      <th>num_char</th>\n",
       "    </tr>\n",
       "  </thead>\n",
       "  <tbody>\n",
       "    <tr>\n",
       "      <th>0</th>\n",
       "      <td>0</td>\n",
       "      <td>0</td>\n",
       "    </tr>\n",
       "    <tr>\n",
       "      <th>1</th>\n",
       "      <td>0</td>\n",
       "      <td>0</td>\n",
       "    </tr>\n",
       "    <tr>\n",
       "      <th>2</th>\n",
       "      <td>0</td>\n",
       "      <td>0</td>\n",
       "    </tr>\n",
       "    <tr>\n",
       "      <th>3</th>\n",
       "      <td>0</td>\n",
       "      <td>0</td>\n",
       "    </tr>\n",
       "    <tr>\n",
       "      <th>4</th>\n",
       "      <td>0</td>\n",
       "      <td>0</td>\n",
       "    </tr>\n",
       "  </tbody>\n",
       "</table>\n",
       "</div>"
      ],
      "text/plain": [
       "   free  num_char\n",
       "0     0         0\n",
       "1     0         0\n",
       "2     0         0\n",
       "3     0         0\n",
       "4     0         0"
      ]
     },
     "execution_count": 35,
     "metadata": {},
     "output_type": "execute_result"
    }
   ],
   "source": [
    "df.head()"
   ]
  },
  {
   "cell_type": "markdown",
   "metadata": {},
   "source": [
    "#### Spam classification"
   ]
  },
  {
   "cell_type": "markdown",
   "metadata": {},
   "source": [
    "Notice that most messages don't contain our special features, so we don't expect any model to work super well in this case, but let's try to build one anyways. First, let's import the `train_test_split` function from `sklearn` as well as the the usual `Sequential` model and the `Dense` layer:"
   ]
  },
  {
   "cell_type": "code",
   "execution_count": 36,
   "metadata": {},
   "outputs": [],
   "source": [
    "from sklearn.model_selection import train_test_split\n",
    "from tensorflow.keras.models import Sequential\n",
    "from tensorflow.keras.layers import Dense"
   ]
  },
  {
   "cell_type": "markdown",
   "metadata": {},
   "source": [
    "Now let's define the helper function that follows the usual process that we repeated several times in the previous labs:\n",
    "\n",
    "- Train/test split\n",
    "- Model definition\n",
    "- Model training\n",
    "- Model evaluation on test set\n",
    "\n",
    "We will use a simple [Logistic Regression model](./03_Machine_Learning.ipynb#Logistic-Regression) to start, to make things simple and quick:"
   ]
  },
  {
   "cell_type": "code",
   "execution_count": 37,
   "metadata": {},
   "outputs": [],
   "source": [
    "def split_fit_eval(X, y, model=None,\n",
    "                   epochs=10,\n",
    "                   random_state=0):\n",
    "    X_train, X_test, y_train, y_test = \\\n",
    "    train_test_split(X, y, random_state=random_state)\n",
    "    \n",
    "    if not model:\n",
    "        model = Sequential()\n",
    "        model.add(Dense(1, input_dim=X.shape[1],\n",
    "                        activation='sigmoid'))\n",
    "\n",
    "        model.compile(loss='binary_crossentropy',\n",
    "                      optimizer='adam',\n",
    "                      metrics=['accuracy'])\n",
    "    \n",
    "    h = model.fit(X_train, y_train,\n",
    "                  epochs=epochs,\n",
    "                  verbose=0)\n",
    "    \n",
    "    loss, acc = model.evaluate(X_test, y_test)\n",
    "    \n",
    "    return loss, acc, model, h"
   ]
  },
  {
   "cell_type": "markdown",
   "metadata": {},
   "source": [
    "Executing the function with our values, we'll capture the result in a variable we'll call `res`:"
   ]
  },
  {
   "cell_type": "code",
   "execution_count": 38,
   "metadata": {},
   "outputs": [
    {
     "name": "stdout",
     "output_type": "stream",
     "text": [
      "1393/1393 [==============================] - 0s 84us/sample - loss: 0.3055 - accuracy: 0.9713\n"
     ]
    }
   ],
   "source": [
    "res = split_fit_eval(df.values, y)"
   ]
  },
  {
   "cell_type": "markdown",
   "metadata": {},
   "source": [
    "Let's check the accuracy of our model:"
   ]
  },
  {
   "cell_type": "code",
   "execution_count": 39,
   "metadata": {},
   "outputs": [
    {
     "name": "stdout",
     "output_type": "stream",
     "text": [
      "Simple model accuracy: 0.971\n"
     ]
    }
   ],
   "source": [
    "print(\"Simple model accuracy: {:0.3f}\".format(res[1]))"
   ]
  },
  {
   "cell_type": "markdown",
   "metadata": {},
   "source": [
    "Despite our initial skepticism, this dataset is easy to separate! It is so easy that two simple features  (the counts of the word `free` and the count of numerical characters) already achieve a much better accuracy score than the baseline, that was 0.866."
   ]
  },
  {
   "cell_type": "markdown",
   "metadata": {},
   "source": [
    "### Bag of Words features"
   ]
  },
  {
   "cell_type": "markdown",
   "metadata": {},
   "source": [
    "We can extend the simple approach of the previous model in a few ways:\n",
    "\n",
    "- We could build a vocabulary with more than just one word, and build a feature for each of them which counts how many times that word appears.\n",
    "- We could filter out common English words.\n",
    "\n",
    "Scikit Learn has a transformer that does exactly these two tasks, it's called [`CountVectorizer`](https://scikit-learn.org/stable/modules/generated/sklearn.feature_extraction.text.CountVectorizer.html). Let's import it from `sklearn.feature_extraction.text`:"
   ]
  },
  {
   "cell_type": "code",
   "execution_count": 40,
   "metadata": {},
   "outputs": [],
   "source": [
    "from sklearn.feature_extraction.text \\\n",
    "    import CountVectorizer"
   ]
  },
  {
   "cell_type": "markdown",
   "metadata": {},
   "source": [
    "Let's plan on using the top 3000 most common words in the corpus; this is going to be our **vocabulary size**: "
   ]
  },
  {
   "cell_type": "code",
   "execution_count": 41,
   "metadata": {},
   "outputs": [],
   "source": [
    "vocab_size = 3000"
   ]
  },
  {
   "cell_type": "markdown",
   "metadata": {},
   "source": [
    "Then we can initialize the vectorizer. Here we have to use the additional argument `stop_words='english'` that tells the vectorizer to **ignore common English stop words**. We do this because we are ranking features starting from the most common word. If we didn't ignore common words, we would end up with word features like \"if\", \"and\", \"of\" and so on, at the top of our list, since these words are just ubiquitous in the English language. However, these words do not carry much meaning about spam and by ignoring them we get word features that are more specific to our corpus.\n",
    "\n",
    "We are also going to ignore decoding errors using the `decode_error='ignore'` argument:"
   ]
  },
  {
   "cell_type": "code",
   "execution_count": 42,
   "metadata": {},
   "outputs": [],
   "source": [
    "vect = CountVectorizer(decode_error='ignore',\n",
    "                       stop_words='english',\n",
    "                       lowercase=True,\n",
    "                       max_features=vocab_size)"
   ]
  },
  {
   "cell_type": "markdown",
   "metadata": {},
   "source": [
    "Notice that it also allows for automatic lowercase conversion. You can check what are the stop words using the `.get_stop_words()` method. Let's look at a few of them:"
   ]
  },
  {
   "cell_type": "code",
   "execution_count": 43,
   "metadata": {},
   "outputs": [],
   "source": [
    "stop_words = list(vect.get_stop_words())"
   ]
  },
  {
   "cell_type": "code",
   "execution_count": 44,
   "metadata": {},
   "outputs": [
    {
     "data": {
      "text/plain": [
       "['rather',\n",
       " 'every',\n",
       " 'thru',\n",
       " 'next',\n",
       " 'found',\n",
       " 'cannot',\n",
       " 'i',\n",
       " 'themselves',\n",
       " 'side',\n",
       " 'whom']"
      ]
     },
     "execution_count": 44,
     "metadata": {},
     "output_type": "execute_result"
    }
   ],
   "source": [
    "stop_words[:10]"
   ]
  },
  {
   "cell_type": "markdown",
   "metadata": {},
   "source": [
    "Now that we have created the vectorizer, let's apply it to our corpus:"
   ]
  },
  {
   "cell_type": "code",
   "execution_count": 45,
   "metadata": {},
   "outputs": [
    {
     "data": {
      "text/plain": [
       "<5572x3000 sparse matrix of type '<class 'numpy.int64'>'\n",
       "\twith 37142 stored elements in Compressed Sparse Row format>"
      ]
     },
     "execution_count": 45,
     "metadata": {},
     "output_type": "execute_result"
    }
   ],
   "source": [
    "X = vect.fit_transform(docs)\n",
    "X"
   ]
  },
  {
   "cell_type": "markdown",
   "metadata": {},
   "source": [
    "`X` is a [sparse matrix](https://en.wikipedia.org/wiki/Sparse_matrix) i.e. a matrix in which most of the elements are 0. This makes sense since most messages are short and they will only contain a few of the 3000 words in our feature list. The `X` matrix has 5572 rows (i.e. the total number of sms) and 3000 columns (i.e. the total number of selected words) but only 37142 non-zero entries (less then 1%).\n",
    "\n",
    "To use it for Machine Learning we will convert it to a dense matrix, which we can do by calling `todense()` on the object:"
   ]
  },
  {
   "cell_type": "code",
   "execution_count": 46,
   "metadata": {},
   "outputs": [],
   "source": [
    "Xd = X.todense()"
   ]
  },
  {
   "cell_type": "markdown",
   "metadata": {},
   "source": [
    "> TIP: be careful with converting sparse matrices to dense. If you are dealing with large datasets, you will quickly run out of memory with all those zeros. In those cases, we do on-the-fly conversion to dense of each batch during Stochastic Gradient Descent.\n",
    "\n",
    "Let's also have a look at the features found by the vectorizer:"
   ]
  },
  {
   "cell_type": "code",
   "execution_count": 47,
   "metadata": {},
   "outputs": [],
   "source": [
    "vocab = vect.get_feature_names()"
   ]
  },
  {
   "cell_type": "markdown",
   "metadata": {},
   "source": [
    "The features are listed in alphabetical order:"
   ]
  },
  {
   "cell_type": "code",
   "execution_count": 48,
   "metadata": {},
   "outputs": [
    {
     "data": {
      "text/plain": [
       "['00',\n",
       " '000',\n",
       " '02',\n",
       " '0207',\n",
       " '02073162414',\n",
       " '03',\n",
       " '04',\n",
       " '05',\n",
       " '06',\n",
       " '07123456789']"
      ]
     },
     "execution_count": 48,
     "metadata": {},
     "output_type": "execute_result"
    }
   ],
   "source": [
    "vocab[:10]"
   ]
  },
  {
   "cell_type": "code",
   "execution_count": 49,
   "metadata": {},
   "outputs": [
    {
     "data": {
      "text/plain": [
       "['yogasana', 'yor', 'yr', 'yrs', 'yummy', 'yun', 'yunny', 'yuo', 'yup', 'zed']"
      ]
     },
     "execution_count": 49,
     "metadata": {},
     "output_type": "execute_result"
    }
   ],
   "source": [
    "vocab[-10:]"
   ]
  },
  {
   "cell_type": "markdown",
   "metadata": {},
   "source": [
    "Let's use the helper function we've defined above to train a model on the new features:"
   ]
  },
  {
   "cell_type": "code",
   "execution_count": 50,
   "metadata": {
    "maxlines": 10
   },
   "outputs": [
    {
     "name": "stdout",
     "output_type": "stream",
     "text": [
      "1393/1393 [==============================] - 0s 90us/sample - loss: 0.1831 - accuracy: 0.9713\n"
     ]
    }
   ],
   "source": [
    "res = split_fit_eval(Xd, y)"
   ]
  },
  {
   "cell_type": "code",
   "execution_count": 51,
   "metadata": {},
   "outputs": [
    {
     "name": "stdout",
     "output_type": "stream",
     "text": [
      "Test set accuracy:\t0.971\n"
     ]
    }
   ],
   "source": [
    "print(\"Test set accuracy:\\t{:0.3f}\".format(res[1]))"
   ]
  },
  {
   "cell_type": "markdown",
   "metadata": {},
   "source": [
    "The accuracy on the test set is not much higher than our simple model, however, we can use this model to look for features importances, i.e. to identify words whose weight is high when predicting spam or not. Let's recover the trained model from the `res` object returned by our custom function:"
   ]
  },
  {
   "cell_type": "code",
   "execution_count": 52,
   "metadata": {},
   "outputs": [],
   "source": [
    "model = res[2]"
   ]
  },
  {
   "cell_type": "markdown",
   "metadata": {},
   "source": [
    "Then let's put the weights in a Pandas Series, indexed by the vocabulary:"
   ]
  },
  {
   "cell_type": "code",
   "execution_count": 53,
   "metadata": {},
   "outputs": [],
   "source": [
    "w_ = model.get_weights()[0].ravel()\n",
    "vocab_weights = pd.Series(w_, index=vocab)"
   ]
  },
  {
   "cell_type": "markdown",
   "metadata": {},
   "source": [
    "Let's look at the top 20 words with positive weights:"
   ]
  },
  {
   "cell_type": "code",
   "execution_count": 54,
   "metadata": {
    "scrolled": true
   },
   "outputs": [
    {
     "data": {
      "text/plain": [
       "txt         0.642381\n",
       "www         0.540770\n",
       "claim       0.531602\n",
       "mobile      0.523435\n",
       "free        0.502965\n",
       "150p        0.492700\n",
       "              ...   \n",
       "stop        0.402874\n",
       "1000        0.396701\n",
       "ringtone    0.389498\n",
       "com         0.380621\n",
       "text        0.380217\n",
       "contact     0.370922\n",
       "Length: 20, dtype: float32"
      ]
     },
     "execution_count": 54,
     "metadata": {},
     "output_type": "execute_result"
    }
   ],
   "source": [
    "vocab_weights.sort_values(ascending=False).head(20)"
   ]
  },
  {
   "cell_type": "markdown",
   "metadata": {},
   "source": [
    "Not surprisingly we find here words like `www`, `claim`, `prize`, `cash` etc. Similarly we can look at the bottom 20 words:"
   ]
  },
  {
   "cell_type": "code",
   "execution_count": 55,
   "metadata": {},
   "outputs": [
    {
     "data": {
      "text/plain": [
       "lol     -0.448763\n",
       "wat     -0.453553\n",
       "sure    -0.457073\n",
       "did     -0.460798\n",
       "doing   -0.473974\n",
       "yeah    -0.474591\n",
       "           ...   \n",
       "sorry   -0.493651\n",
       "going   -0.527029\n",
       "ll      -0.527689\n",
       "da      -0.542279\n",
       "ok      -0.580417\n",
       "come    -0.587829\n",
       "Length: 20, dtype: float32"
      ]
     },
     "execution_count": 55,
     "metadata": {},
     "output_type": "execute_result"
    }
   ],
   "source": [
    "vocab_weights.sort_values(ascending=False).tail(20)"
   ]
  },
  {
   "cell_type": "markdown",
   "metadata": {},
   "source": [
    "and see they are pretty common legitimate words like `sorry`, `ok`, `lol`, etc... If we were spammer we could take advantage of this information and craft messages that attempt to fool these simple features by using a lot of words like `sorry`or `ok`. This is a typical **Adversarial Machine Learning** scenario, where the target is constantly trying to beat the model.\n",
    "\n",
    "In any case, it's pretty clear that this dataset is an easy one. So let's load a new dataset and learn a few more tricks!"
   ]
  },
  {
   "cell_type": "markdown",
   "metadata": {},
   "source": [
    "#### Word frequencies"
   ]
  },
  {
   "cell_type": "markdown",
   "metadata": {},
   "source": [
    "In the previous spam classification problem, we used a `CountVectorizer` transformer from Scikit Learn to produce a sparse matrix with term counts of the top 3000 words. Using the absolute counts was ok with SMS messages because they have a maximum length of 160 characters. In the general case, using absolute counts may be a problem if we deal with documents of uneven length. Think of a brief email versus a long article, both about the topic of AI. The word AI will appear in both documents, but it will likely be repeated more times in the long article. Using the counts would lead us to think that the article is more about AI than the short email, while it's simply a longer text.\n",
    "We can account for that using the **term frequency** instead of the count, i.e., by dividing the counts by the length of the document. Using term frequencies is already an improvement, but we can do even better.\n",
    "\n",
    "There will be some words that are common in every document. These could be [common English stop words](https://en.wikipedia.org/wiki/Stop_words), but they could also be words that are common across the specific corpus. For example, if we are trying to sort a corpus of patents by topics, it is clear that words like _patent_, _application_, _grant_ and similar legal terms will be shared across the whole corpus and not indicative of the particular topic of each of the documents in the corpus.\n",
    "\n",
    "We want to normalize our term frequencies with a term inversely proportional to the fraction of documents containing that term, i.e., we want to use an **inverse document frequency**.\n",
    "\n",
    "These features go by the name of [TF-IDF](https://en.wikipedia.org/wiki/Tf%E2%80%93idf), i.e., **term-frequency–inverse-document-frequency**, which is also available as a vectorizer in Scikit Learn.\n",
    "\n",
    "In other words, TF-IDF features look like:\n",
    "\n",
    "```python\n",
    "TFIDF(word, document) = counts_in_document(word, document) /  counts_of_documents_with_word_in_corpus(word)\n",
    "```\n",
    "\n",
    "or using maths:\n",
    "\\begin{equation}\n",
    "\\text{tf-idf}(w, d)=\\frac{\\text{tf}(w, d)}{\\text{df}(w, d)}\n",
    "\\end{equation}\n",
    "\n",
    "where $w$ is a word, $d$ is a document, $\\text{tf}$ stands for \"term frequency\" and $\\text{df}$ for \"document frequency\".\n",
    "\n",
    "As you can read in the [Wikipedia](https://en.wikipedia.org/wiki/Tf%E2%80%93idf) article, there are several ways to improve the above of the _TF-IDF_ formula, using different regularization schemes. [Scikit Learn implements it as follows](https://scikit-learn.org/stable/modules/feature_extraction.html#text-feature-extraction):\n",
    "\n",
    "\\begin{equation}\n",
    "\\text{tf-idf}(w, d)=\\text{tf}(w, d) \\times \\log{\\left(\\frac{1 + n_d}{1+\\text{df}(w, d)}\\right)} + 1\n",
    "\\end{equation}\n",
    "\n",
    "where $n_d$ is the total number of documents and the regularized logarithm takes care of words that are extremely rare or extremely common."
   ]
  },
  {
   "cell_type": "markdown",
   "metadata": {},
   "source": [
    "### Sentiment classification"
   ]
  },
  {
   "cell_type": "markdown",
   "metadata": {},
   "source": [
    "Let's load a new dataset, containing reviews from the popular website [Rotten Tomatoes](https://www.rottentomatoes.com/):"
   ]
  },
  {
   "cell_type": "code",
   "execution_count": 56,
   "metadata": {},
   "outputs": [
    {
     "data": {
      "text/html": [
       "<div>\n",
       "<style scoped>\n",
       "    .dataframe tbody tr th:only-of-type {\n",
       "        vertical-align: middle;\n",
       "    }\n",
       "\n",
       "    .dataframe tbody tr th {\n",
       "        vertical-align: top;\n",
       "    }\n",
       "\n",
       "    .dataframe thead th {\n",
       "        text-align: right;\n",
       "    }\n",
       "</style>\n",
       "<table border=\"1\" class=\"dataframe\">\n",
       "  <thead>\n",
       "    <tr style=\"text-align: right;\">\n",
       "      <th></th>\n",
       "      <th>title</th>\n",
       "      <th>review</th>\n",
       "      <th>vote</th>\n",
       "    </tr>\n",
       "  </thead>\n",
       "  <tbody>\n",
       "    <tr>\n",
       "      <th>0</th>\n",
       "      <td>Toy story</td>\n",
       "      <td>So ingenious in concept, d...</td>\n",
       "      <td>fresh</td>\n",
       "    </tr>\n",
       "    <tr>\n",
       "      <th>1</th>\n",
       "      <td>Toy story</td>\n",
       "      <td>The year's most inventive ...</td>\n",
       "      <td>fresh</td>\n",
       "    </tr>\n",
       "    <tr>\n",
       "      <th>2</th>\n",
       "      <td>Toy story</td>\n",
       "      <td>A winning animated feature...</td>\n",
       "      <td>fresh</td>\n",
       "    </tr>\n",
       "    <tr>\n",
       "      <th>3</th>\n",
       "      <td>Toy story</td>\n",
       "      <td>The film sports a provocat...</td>\n",
       "      <td>fresh</td>\n",
       "    </tr>\n",
       "    <tr>\n",
       "      <th>4</th>\n",
       "      <td>Toy story</td>\n",
       "      <td>An entertaining computer-g...</td>\n",
       "      <td>fresh</td>\n",
       "    </tr>\n",
       "  </tbody>\n",
       "</table>\n",
       "</div>"
      ],
      "text/plain": [
       "       title                         review   vote\n",
       "0  Toy story  So ingenious in concept, d...  fresh\n",
       "1  Toy story  The year's most inventive ...  fresh\n",
       "2  Toy story  A winning animated feature...  fresh\n",
       "3  Toy story  The film sports a provocat...  fresh\n",
       "4  Toy story  An entertaining computer-g...  fresh"
      ]
     },
     "execution_count": 56,
     "metadata": {},
     "output_type": "execute_result"
    }
   ],
   "source": [
    "df = pd.read_csv('../data/movie_reviews.csv')\n",
    "df.head()"
   ]
  },
  {
   "cell_type": "markdown",
   "metadata": {},
   "source": [
    "Let's take a peek into the data we loaded, see how many reviews we have and a few other pieces of information."
   ]
  },
  {
   "cell_type": "code",
   "execution_count": 57,
   "metadata": {},
   "outputs": [
    {
     "name": "stdout",
     "output_type": "stream",
     "text": [
      "<class 'pandas.core.frame.DataFrame'>\n",
      "RangeIndex: 14072 entries, 0 to 14071\n",
      "Data columns (total 3 columns):\n",
      "title     14072 non-null object\n",
      "review    14072 non-null object\n",
      "vote      14072 non-null object\n",
      "dtypes: object(3)\n",
      "memory usage: 329.9+ KB\n"
     ]
    }
   ],
   "source": [
    "df.info()"
   ]
  },
  {
   "cell_type": "markdown",
   "metadata": {},
   "source": [
    "Let's look at the division between the `fresh` votes, the `rotten`, and the `none` votes."
   ]
  },
  {
   "cell_type": "code",
   "execution_count": 58,
   "metadata": {},
   "outputs": [
    {
     "data": {
      "text/plain": [
       "fresh     0.612067\n",
       "rotten    0.386299\n",
       "none      0.001634\n",
       "Name: vote, dtype: float64"
      ]
     },
     "execution_count": 58,
     "metadata": {},
     "output_type": "execute_result"
    }
   ],
   "source": [
    "df['vote'].value_counts() / len(df)"
   ]
  },
  {
   "cell_type": "markdown",
   "metadata": {},
   "source": [
    "As you can see, the dataset contains reviews about famous movies and a judgment of `rotten` VS `fresh`, which is the class we will try to predict.\n",
    "\n",
    "First of all, we notice that a small number of reviews do not have a class, so let's eliminate those few rows from the dataset. We'll do this by selecting all the `votes` that are _not_ `none`:"
   ]
  },
  {
   "cell_type": "code",
   "execution_count": 59,
   "metadata": {},
   "outputs": [],
   "source": [
    "df = df[df.vote != 'none'].copy()"
   ]
  },
  {
   "cell_type": "code",
   "execution_count": 60,
   "metadata": {},
   "outputs": [
    {
     "data": {
      "text/plain": [
       "fresh     0.613069\n",
       "rotten    0.386931\n",
       "Name: vote, dtype: float64"
      ]
     },
     "execution_count": 60,
     "metadata": {},
     "output_type": "execute_result"
    }
   ],
   "source": [
    "df['vote'].value_counts() / len(df)"
   ]
  },
  {
   "cell_type": "markdown",
   "metadata": {},
   "source": [
    "Our reference accuracy is 61.3%, the fraction of the larger class."
   ]
  },
  {
   "cell_type": "markdown",
   "metadata": {},
   "source": [
    "#### Label encoding"
   ]
  },
  {
   "cell_type": "markdown",
   "metadata": {},
   "source": [
    "Notice that the labels are strings, and we need to convert them to 0 and 1 in order to use them for classification. We could do this in many ways, one way is to use the [`LabelEncoder`](https://scikit-learn.org/stable/modules/generated/sklearn.preprocessing.LabelEncoder.html) from Scikit Learn. It is a transformer that will look at the unique values present in our label column and encode them to numbers from 0 to $N-1$, where $N$ is the number of classes, in our case 2."
   ]
  },
  {
   "cell_type": "markdown",
   "metadata": {},
   "source": [
    "Let's first import it from `sklearn.preprocessing`:"
   ]
  },
  {
   "cell_type": "code",
   "execution_count": 61,
   "metadata": {},
   "outputs": [],
   "source": [
    "from sklearn.preprocessing import LabelEncoder"
   ]
  },
  {
   "cell_type": "markdown",
   "metadata": {},
   "source": [
    "Let's instantiate the `LabelEncoder`:"
   ]
  },
  {
   "cell_type": "code",
   "execution_count": 62,
   "metadata": {},
   "outputs": [],
   "source": [
    "le = LabelEncoder()"
   ]
  },
  {
   "cell_type": "markdown",
   "metadata": {},
   "source": [
    "Finally, let's create a vector of 0s and 1s that represent the features:"
   ]
  },
  {
   "cell_type": "code",
   "execution_count": 63,
   "metadata": {},
   "outputs": [],
   "source": [
    "y = le.fit_transform(df['vote'])"
   ]
  },
  {
   "cell_type": "markdown",
   "metadata": {},
   "source": [
    "`y` is now a vector of 0s and 1s. Let's look at the first 10 entries:"
   ]
  },
  {
   "cell_type": "code",
   "execution_count": 64,
   "metadata": {},
   "outputs": [
    {
     "data": {
      "text/plain": [
       "array([0, 0, 0, 0, 0, 0, 0, 0, 0, 0])"
      ]
     },
     "execution_count": 64,
     "metadata": {},
     "output_type": "execute_result"
    }
   ],
   "source": [
    "y[:10]"
   ]
  },
  {
   "cell_type": "markdown",
   "metadata": {},
   "source": [
    "#### Bag of words: TF-IDF features"
   ]
  },
  {
   "cell_type": "markdown",
   "metadata": {},
   "source": [
    "Let's import the `TfidfVectorizer` vector from Scikit Learn:"
   ]
  },
  {
   "cell_type": "code",
   "execution_count": 65,
   "metadata": {},
   "outputs": [],
   "source": [
    "from sklearn.feature_extraction.text import TfidfVectorizer"
   ]
  },
  {
   "cell_type": "markdown",
   "metadata": {},
   "source": [
    "Let's initialize it to look at the top 10000 words in the corpus, excluding English stop words:"
   ]
  },
  {
   "cell_type": "code",
   "execution_count": 66,
   "metadata": {},
   "outputs": [],
   "source": [
    "vocab_size = 10000\n",
    "\n",
    "vect = TfidfVectorizer(decode_error='ignore',\n",
    "                       stop_words='english',\n",
    "                       max_features=vocab_size)"
   ]
  },
  {
   "cell_type": "markdown",
   "metadata": {},
   "source": [
    "We can use the vectorizer to transform our reviews:"
   ]
  },
  {
   "cell_type": "code",
   "execution_count": 67,
   "metadata": {},
   "outputs": [],
   "source": [
    "X = vect.fit_transform(df['review'])"
   ]
  },
  {
   "cell_type": "code",
   "execution_count": 68,
   "metadata": {},
   "outputs": [
    {
     "data": {
      "text/plain": [
       "<14049x10000 sparse matrix of type '<class 'numpy.float64'>'\n",
       "\twith 130025 stored elements in Compressed Sparse Row format>"
      ]
     },
     "execution_count": 68,
     "metadata": {},
     "output_type": "execute_result"
    }
   ],
   "source": [
    "X"
   ]
  },
  {
   "cell_type": "markdown",
   "metadata": {},
   "source": [
    "This generates a sparse matrix with 14049 rows and 10000 columns. This is still small enough to be converted to dense and passed to our model evaluation function. Let's call `todense()` on the object to convert it to a dense matrix:"
   ]
  },
  {
   "cell_type": "code",
   "execution_count": 69,
   "metadata": {},
   "outputs": [],
   "source": [
    "Xd = X.todense()"
   ]
  },
  {
   "cell_type": "markdown",
   "metadata": {},
   "source": [
    "Let's train our model. We will use a higher number of epochs in this case, to ensure convergence with the larger dataset:"
   ]
  },
  {
   "cell_type": "markdown",
   "metadata": {},
   "source": [
    "We'll use our function again:"
   ]
  },
  {
   "cell_type": "code",
   "execution_count": 70,
   "metadata": {
    "maxlines": 10
   },
   "outputs": [
    {
     "name": "stdout",
     "output_type": "stream",
     "text": [
      "3513/3513 [==============================] - 0s 86us/sample - loss: 0.5133 - accuracy: 0.7504\n"
     ]
    }
   ],
   "source": [
    "res = split_fit_eval(Xd, y, epochs=30)"
   ]
  },
  {
   "cell_type": "code",
   "execution_count": 71,
   "metadata": {},
   "outputs": [
    {
     "name": "stdout",
     "output_type": "stream",
     "text": [
      "Test set accuracy:\t0.750\n"
     ]
    }
   ],
   "source": [
    "print(\"Test set accuracy:\\t{:0.3f}\".format(res[1]))"
   ]
  },
  {
   "cell_type": "markdown",
   "metadata": {},
   "source": [
    "The accuracy on the test set is much lower than the last value of accuracy obtained on the training set (last line printed during training), therefore the model is overfitting. This is not unexpected given the large number of features. Despite the overfitting, the test score is still higher than the 61.3% accuracy obtained by always predicting the larger class."
   ]
  },
  {
   "cell_type": "markdown",
   "metadata": {},
   "source": [
    "### Text as a sequence"
   ]
  },
  {
   "cell_type": "markdown",
   "metadata": {},
   "source": [
    "The bag of words approach is very crude. It does not take into account context, i.e. each word is treated as independent feature, regardless of its position in the sentence. This is particularly bad for tasks like sentiment analysis where negations could be present (\"This movie was not good\") and the overall sentiment could not be carried by any particular word.\n",
    "\n",
    "To go beyond the bag of words approach, we need to treat the text as a sequence instead of just looking at frequencies. To do this, we will proceed to:\n",
    "\n",
    "1. create a vocabulary, indexed starting from the most frequent word and then continuing in decreasing order.\n",
    "2. convert the sentences into sequences of integer indices using the dictionary\n",
    "3. feed the sequences to a Neural Network to perform the sentiment classification\n",
    "\n",
    "Keras has a preprocessing [`Tokenizer`](https://keras.io/preprocessing/text/) that allows us to create a vocabulary and convert the sentences using it. Let's load it:"
   ]
  },
  {
   "cell_type": "code",
   "execution_count": 72,
   "metadata": {},
   "outputs": [],
   "source": [
    "from tensorflow.keras.preprocessing.text import Tokenizer"
   ]
  },
  {
   "cell_type": "markdown",
   "metadata": {},
   "source": [
    "Let's initialize the `Tokenizer`. We will use the same vocabulary size of 10000 used in the previous task:"
   ]
  },
  {
   "cell_type": "code",
   "execution_count": 73,
   "metadata": {},
   "outputs": [
    {
     "data": {
      "text/plain": [
       "10000"
      ]
     },
     "execution_count": 73,
     "metadata": {},
     "output_type": "execute_result"
    }
   ],
   "source": [
    "vocab_size"
   ]
  },
  {
   "cell_type": "code",
   "execution_count": 74,
   "metadata": {},
   "outputs": [],
   "source": [
    "tokenizer = Tokenizer(num_words=vocab_size)"
   ]
  },
  {
   "cell_type": "markdown",
   "metadata": {},
   "source": [
    "We can fit the tokenizer on our reviews using the function `.fit_on_texts`. We will pass the column of the dataframe `df` that contains the reviews:"
   ]
  },
  {
   "cell_type": "code",
   "execution_count": 75,
   "metadata": {},
   "outputs": [],
   "source": [
    "tokenizer.fit_on_texts(df['review'])"
   ]
  },
  {
   "cell_type": "markdown",
   "metadata": {},
   "source": [
    "Great! The tokenizer has finished its job, so let's give a look at some of its attributes.\n",
    "\n",
    "The `.document_count` gives us the number of documents used to build the vocabulary:"
   ]
  },
  {
   "cell_type": "code",
   "execution_count": 76,
   "metadata": {},
   "outputs": [
    {
     "data": {
      "text/plain": [
       "14049"
      ]
     },
     "execution_count": 76,
     "metadata": {},
     "output_type": "execute_result"
    }
   ],
   "source": [
    "tokenizer.document_count"
   ]
  },
  {
   "cell_type": "markdown",
   "metadata": {},
   "source": [
    "These are the 14049 reviews left in the dataset after we removed the ones without a vote. The `.num_words` attribute gives us the number of features in the vocabulary. These should be 10000:"
   ]
  },
  {
   "cell_type": "code",
   "execution_count": 77,
   "metadata": {},
   "outputs": [
    {
     "data": {
      "text/plain": [
       "10000"
      ]
     },
     "execution_count": 77,
     "metadata": {},
     "output_type": "execute_result"
    }
   ],
   "source": [
    "tokenizer.num_words"
   ]
  },
  {
   "cell_type": "markdown",
   "metadata": {},
   "source": [
    "Finally, we can retrieve the word index by calling `.word_index`, which returns an vocabulary. Let's look at the first 10 items in it:"
   ]
  },
  {
   "cell_type": "code",
   "execution_count": 78,
   "metadata": {},
   "outputs": [
    {
     "data": {
      "text/plain": [
       "['the', 'a', 'and', 'of', 'to', 'is', 'in', 'it', 'that', 'as']"
      ]
     },
     "execution_count": 78,
     "metadata": {},
     "output_type": "execute_result"
    }
   ],
   "source": [
    "list(tokenizer.word_index)[:10]"
   ]
  },
  {
   "cell_type": "markdown",
   "metadata": {},
   "source": [
    "As you can see this is not sorted alphabetically, but in decreasing order of frequency starting from the most common word. Let's use the tokenizer to convert our reviews to sequences. For instance, \"The movie is great\" translates to the sequence `1539`:\n",
    "\n",
    "![Conversion of words to indices](./assets/word_to_index.png)"
   ]
  },
  {
   "cell_type": "code",
   "execution_count": 79,
   "metadata": {},
   "outputs": [],
   "source": [
    "sequences = tokenizer.texts_to_sequences(df['review'])"
   ]
  },
  {
   "cell_type": "markdown",
   "metadata": {},
   "source": [
    "`sequences` is a list of lists. Each of the inner lists is one of the reviews:"
   ]
  },
  {
   "cell_type": "code",
   "execution_count": 80,
   "metadata": {},
   "outputs": [
    {
     "data": {
      "text/plain": [
       "[[36,\n",
       "  1764,\n",
       "  7,\n",
       "  1058,\n",
       "  800,\n",
       "  3,\n",
       "  1765,\n",
       "  9,\n",
       "  27,\n",
       "  151,\n",
       "  268,\n",
       "  8,\n",
       "  21,\n",
       "  2,\n",
       "  9088,\n",
       "  3879,\n",
       "  5881,\n",
       "  115,\n",
       "  3,\n",
       "  101,\n",
       "  20,\n",
       "  22,\n",
       "  17,\n",
       "  360],\n",
       " [1, 610, 38, 801, 49],\n",
       " [2, 1012, 347, 225, 9, 24, 107, 14, 564, 21, 1, 354, 7122]]"
      ]
     },
     "execution_count": 80,
     "metadata": {},
     "output_type": "execute_result"
    }
   ],
   "source": [
    "sequences[:3]"
   ]
  },
  {
   "cell_type": "markdown",
   "metadata": {},
   "source": [
    "Let's just double check that the conversion is correct by converting the first list back to text. We will need to use the reverse `index -> word` map:"
   ]
  },
  {
   "cell_type": "code",
   "execution_count": 81,
   "metadata": {},
   "outputs": [],
   "source": [
    "tok_items = tokenizer.word_index.items()\n",
    "idx_to_word = {i:w for w, i in tok_items}"
   ]
  },
  {
   "cell_type": "markdown",
   "metadata": {},
   "source": [
    "The first review is:"
   ]
  },
  {
   "cell_type": "code",
   "execution_count": 82,
   "metadata": {},
   "outputs": [
    {
     "data": {
      "text/plain": [
       "'So ingenious in concept, design and execution that you could watch it on a postage stamp-sized screen and still be engulfed by its charm.'"
      ]
     },
     "execution_count": 82,
     "metadata": {},
     "output_type": "execute_result"
    }
   ],
   "source": [
    "df.loc[0, 'review']"
   ]
  },
  {
   "cell_type": "markdown",
   "metadata": {},
   "source": [
    "The first sequence is:"
   ]
  },
  {
   "cell_type": "code",
   "execution_count": 83,
   "metadata": {},
   "outputs": [
    {
     "data": {
      "text/plain": [
       "'so ingenious in concept design and execution that you could watch it on a postage stamp sized screen and still be by its charm'"
      ]
     },
     "execution_count": 83,
     "metadata": {},
     "output_type": "execute_result"
    }
   ],
   "source": [
    "' '.join([idx_to_word[i] for i in sequences[0]])"
   ]
  },
  {
   "cell_type": "markdown",
   "metadata": {},
   "source": [
    "The two sentences are almost identical, however notice a couple of things:\n",
    "\n",
    "1. punctuation has been stripped away in the tokenization.\n",
    "- all words are lowercased.\n",
    "- some really rare word (e.g. \"engulfed\") are out of our top 3000 words and are therefore ignored.\n",
    "\n",
    "Now that we have sequences of numbers, we can organize them into a matrix with one review per row and one word per column. Since not all sequences have the same length, we will need to pad the short ones with zeros.\n",
    "\n",
    "Let's calculate the longest sequence length:"
   ]
  },
  {
   "cell_type": "code",
   "execution_count": 84,
   "metadata": {},
   "outputs": [
    {
     "data": {
      "text/plain": [
       "49"
      ]
     },
     "execution_count": 84,
     "metadata": {},
     "output_type": "execute_result"
    }
   ],
   "source": [
    "maxlen = max([len(seq) for seq in sequences])\n",
    "maxlen"
   ]
  },
  {
   "cell_type": "markdown",
   "metadata": {},
   "source": [
    "The longest review contains 49 words. Let's pad every other review to 49 using the [`pad_sequences`](https://keras.io/preprocessing/sequence/) function from Keras:"
   ]
  },
  {
   "cell_type": "code",
   "execution_count": 85,
   "metadata": {},
   "outputs": [],
   "source": [
    "from tensorflow.keras.preprocessing.sequence import pad_sequences"
   ]
  },
  {
   "cell_type": "markdown",
   "metadata": {},
   "source": [
    "As you can read in the documentation:\n",
    "\n",
    "```python\n",
    "Signature: pad_sequences(sequences, maxlen=None, dtype='int32',\n",
    "                         padding='pre', truncating='pre', value=0.0)\n",
    "Docstring:\n",
    "Pads each sequence to the same length (length of the longest sequence).\n",
    "\n",
    "If maxlen is provided, any sequence longer\n",
    "than maxlen is truncated to maxlen.\n",
    "```\n",
    "\n",
    "`pad_sequences` operates on the sequences by padding and truncating them. Let's set the `maxlen` parameter to the value we already found:"
   ]
  },
  {
   "cell_type": "code",
   "execution_count": 86,
   "metadata": {},
   "outputs": [],
   "source": [
    "X = pad_sequences(sequences, maxlen=maxlen)"
   ]
  },
  {
   "cell_type": "code",
   "execution_count": 87,
   "metadata": {},
   "outputs": [
    {
     "data": {
      "text/plain": [
       "(14049, 49)"
      ]
     },
     "execution_count": 87,
     "metadata": {},
     "output_type": "execute_result"
    }
   ],
   "source": [
    "X.shape"
   ]
  },
  {
   "cell_type": "markdown",
   "metadata": {},
   "source": [
    "`X` has 14049 rows (i.e., the number of samples, review in this case) and 49 columns (i.e., the words of the longest review). Let's print out the first few reviews:"
   ]
  },
  {
   "cell_type": "code",
   "execution_count": 88,
   "metadata": {},
   "outputs": [
    {
     "data": {
      "text/plain": [
       "array([[   0,    0,    0,    0,    0,    0,    0,    0,    0,    0,    0,\n",
       "           0,    0,    0,    0,    0,    0,    0,    0,    0,    0,    0,\n",
       "           0,    0,    0,   36, 1764,    7, 1058,  800,    3, 1765,    9,\n",
       "          27,  151,  268,    8,   21,    2, 9088, 3879, 5881,  115,    3,\n",
       "         101,   20,   22,   17,  360],\n",
       "       [   0,    0,    0,    0,    0,    0,    0,    0,    0,    0,    0,\n",
       "           0,    0,    0,    0,    0,    0,    0,    0,    0,    0,    0,\n",
       "           0,    0,    0,    0,    0,    0,    0,    0,    0,    0,    0,\n",
       "           0,    0,    0,    0,    0,    0,    0,    0,    0,    0,    0,\n",
       "           1,  610,   38,  801,   49],\n",
       "       [   0,    0,    0,    0,    0,    0,    0,    0,    0,    0,    0,\n",
       "           0,    0,    0,    0,    0,    0,    0,    0,    0,    0,    0,\n",
       "           0,    0,    0,    0,    0,    0,    0,    0,    0,    0,    0,\n",
       "           0,    0,    0,    2, 1012,  347,  225,    9,   24,  107,   14,\n",
       "         564,   21,    1,  354, 7122],\n",
       "       [   0,    0,    0,    0,    0,    0,    0,    0,    0,    0,    0,\n",
       "           0,    0,    0,    0,    0,    0,    0,    0,    0,    0,    0,\n",
       "           0,    0,    0,    0,    0,    0,    0,    0,    0,    0,    1,\n",
       "          16, 1190,    2,  822,    3,  485,   42,  121,  144,  285,    1,\n",
       "        1678,    4,   13,  742,  724]], dtype=int32)"
      ]
     },
     "execution_count": 88,
     "metadata": {},
     "output_type": "execute_result"
    }
   ],
   "source": [
    "X[:4]"
   ]
  },
  {
   "cell_type": "markdown",
   "metadata": {},
   "source": [
    "Can we feed this matrix to a Machine Learning model? Let's think about it for a second. If we treat this matrix as tabular data, it would mean each column represents a feature. What feature? Columns in the matrix correspond to the position of the word in a sentence, and so there's absolutely no reason why two words appearing at the same position would carry consistent information about sentiment.\n",
    "\n",
    "Also, the numbers here are the indices of our words in a vocabulary, so their actual value is not a quantity, it's their rank in order of frequency in the dictionary. In other words, word number 347 is not 347 times as large as the word at index 1; it's just the word that appears at index 347 in the vocabulary.\n",
    "\n",
    "The correct way to think of this data is to recognize that each number in `X` really represents an index in a vector with length `vocab_size`, i.e., a vector with 10000 entries. These are the actual features, i.e., all the words in our vocabulary.\n",
    "\n",
    "So, this matrix is a shorthand for an order-3 sparse tensor whose three axes are (sentence, position along the sentence, word feature index). The first axis would locate the sentence in the dataset, and it corresponds to the row axis of our `X` matrix. The second axis would locate the word position in the sentence, and it corresponds to the column axis of our `X` matrix. The third would be a sparse vector, locate the word in the vocabulary. Instead of using a sparse vector, we use the index of the word in the dictionary, which is the value in that specific entry in the  `X`  matrix.\n",
    "\n",
    "![1-hot encoding of words](./assets/word_to_index_to_1_hot.png)\n",
    "\n",
    "It looks like one way to feed this data to a Neural Network would be to expand the `X` matrix to a 1-hot encoded order-3 tensor with 0s and 1s, and then feed this tensor to our network, for example to a [Recurrent layer](7_Time_Series_and_Recurrent_Neural_Networks.ipynb#Recurrent-Neural-Network) with `input_shape=(49, 10000)`. This would be the equivalent of feeding a dataset of 10000 time series, whose elements are all mostly zeros, except for one at each time, which is not zero when that word occurs in that particular sentence.\n",
    "\n",
    "While this encoding works, it is not really memory efficient. Besides that, representing each word along a different orthogonal axis in a 10000-dimensional vector space doesn't capture any information on how that word is used in its context. How can we improve this situation?\n",
    "\n",
    "One idea would be to insert a fully connected layer to compress our input space from the vast sparse vector space of 10000 words in our vocabulary to a much smaller, dense, vector space, for example with just 32 axes. In this new space, each word is represented by a dense vector, whose entries are floating point numbers instead of all 0s and a single 1.\n",
    "\n",
    "![Dense representation of words with vectors](./assets/word_dense.png)\n",
    "\n",
    "This is cool because now we can feed our sequences of much smaller dense vectors to a recurrent network to complete the sentiment classification task, i.e., we are treating the sentiment classification problem as a [Sequence Classification problem](./07_Time_Series_and_Recurrent_Neural_Networks.ipynb#Sequence-Classification) like the ones encountered in Lab 7.\n",
    "\n",
    "Furthermore, since the dense vector comes from a fully connected layer, we can jointly train the fully connected layer and the recurrent layer allowing the fully connected layer to find the best representation for the words to help the recurrent layer achieve its task."
   ]
  },
  {
   "cell_type": "markdown",
   "metadata": {},
   "source": [
    "#### Embeddings"
   ]
  },
  {
   "cell_type": "markdown",
   "metadata": {},
   "source": [
    "In practice, we never actually go through the burden of converting the word indices to 1-hot vectors and then back to dense vectors. We use an **Embedding layer**. In this layer, we specify the output dimension, i.e., the length of the dense vector, and it has an independent set of as many weights for each of the words in the vocabulary. So, for example, if the vocabulary is 10000 words and we specify an output dim of 100, the embedding layer will carry 1000000 weights, 100 for each of the words in the vocabulary.\n",
    "\n",
    "The numbers in the input indicate the indices that select the set of 100 weights for each word, i.e., they will be interpreted as indices in a phantom sparse space, saving us from converting the data to 1-hot and then converting it back to dense.\n",
    "\n",
    "![Embedding vectors](./assets/word_embedding.png)"
   ]
  },
  {
   "cell_type": "markdown",
   "metadata": {},
   "source": [
    "Let's see how to include this in our network. Let's load the [`Embedding`](https://keras.io/layers/embeddings/) layers from Keras:"
   ]
  },
  {
   "cell_type": "code",
   "execution_count": 89,
   "metadata": {},
   "outputs": [],
   "source": [
    "from tensorflow.keras.layers import Embedding"
   ]
  },
  {
   "cell_type": "markdown",
   "metadata": {},
   "source": [
    "Let's see how it works by creating a network with a single such layer that maps a feature space of 100 words to an output dense space of only two dimensions:"
   ]
  },
  {
   "cell_type": "code",
   "execution_count": 90,
   "metadata": {},
   "outputs": [],
   "source": [
    "model = Sequential()\n",
    "model.add(Embedding(input_dim=100, output_dim=2))\n",
    "model.compile(optimizer='sgd',\n",
    "              loss='categorical_crossentropy')"
   ]
  },
  {
   "cell_type": "markdown",
   "metadata": {},
   "source": [
    "The network above assumes the inputs are numbers between 0 and 99. We interpret these as the indices of the single non-zero entry in a 100-dimensional 1-hot vector. Sequences of such indices will be interpreted as sequences of such vectors and will be transformed to sequences 2-dimensional dense vectors since 2 is the dimension of the output space.\n",
    "\n",
    "Let's feed a single sequence of a few indices and perform a forward pass:"
   ]
  },
  {
   "cell_type": "code",
   "execution_count": 91,
   "metadata": {},
   "outputs": [
    {
     "data": {
      "text/plain": [
       "array([[[-0.03956728,  0.03056333],\n",
       "        [-0.04755666,  0.01909782],\n",
       "        [ 0.04237584,  0.00242125],\n",
       "        [-0.03956728,  0.03056333],\n",
       "        [ 0.01191726,  0.02468473]]], dtype=float32)"
      ]
     },
     "execution_count": 91,
     "metadata": {},
     "output_type": "execute_result"
    }
   ],
   "source": [
    "model.predict(np.array([[ 0, 81,  1, 0, 79]]))"
   ]
  },
  {
   "cell_type": "markdown",
   "metadata": {},
   "source": [
    "The embedding layer turned the sequence of five numbers into a sequence of five 2-dimensional vectors. Since we have not trained our Embedding Layer yet, these are just the weight vectors corresponding to each word, so for example, words `0` corresponds to the weights `[-0.03977597, -0.01466479]`. Notice how these appear both on the first row and the fourth row, exactly as one would expect since the words `0` appears at the first and fourth positions in our five words sentence.\n",
    "\n",
    "Similarly, if we feed a batch of few sequences of indices, we will obtain a batch of few sequences of vectors, i.e., a tensor of order three, with axes `(sentence, position in the sentence, embedding)`:"
   ]
  },
  {
   "cell_type": "code",
   "execution_count": 92,
   "metadata": {},
   "outputs": [
    {
     "data": {
      "text/plain": [
       "array([[[-0.03956728,  0.03056333],\n",
       "        [-0.04755666,  0.01909782],\n",
       "        [ 0.04237584,  0.00242125],\n",
       "        [-0.02041857,  0.0362685 ],\n",
       "        [ 0.01191726,  0.02468473]],\n",
       "\n",
       "       [[-0.03104251, -0.01826168],\n",
       "        [ 0.01193748,  0.01767396],\n",
       "        [-0.04211649, -0.00892004],\n",
       "        [ 0.01063975,  0.03848443],\n",
       "        [-0.02258428,  0.01715442]],\n",
       "\n",
       "       [[-0.01262269,  0.04034625],\n",
       "        [ 0.02745339, -0.01809684],\n",
       "        [-0.01439632, -0.04749357],\n",
       "        [-0.04891055,  0.01495666],\n",
       "        [-0.01743649, -0.01524024]]], dtype=float32)"
      ]
     },
     "execution_count": 92,
     "metadata": {},
     "output_type": "execute_result"
    }
   ],
   "source": [
    "model.predict(np.array([[ 0, 81,  1, 96, 79],\n",
    "                        [ 4, 17, 47, 69, 50],\n",
    "                        [15, 49,  3, 12, 88]]))"
   ]
  },
  {
   "cell_type": "markdown",
   "metadata": {},
   "source": [
    "Great! Now we know what to do to build our sentiment classifier. We will:\n",
    "\n",
    "- Split as usual our `X` matrix of indices into train and test\n",
    "- Build a network with:\n",
    "    - Embedding\n",
    "    - Recurrent\n",
    "    - Dense\n",
    "- Classify the sentiment of our reviews\n",
    "\n",
    "Let's start from the train/test split. As we've done several times in the labs, we set `random_state=0` so that we all get the same train/test split.\n",
    "\n",
    "> TIP: Setting the random state is useful when you want to have repeatable random splits."
   ]
  },
  {
   "cell_type": "code",
   "execution_count": 93,
   "metadata": {},
   "outputs": [],
   "source": [
    "X_train, X_test, y_train, y_test = \\\n",
    "    train_test_split(X, y, random_state=0)"
   ]
  },
  {
   "cell_type": "code",
   "execution_count": 94,
   "metadata": {},
   "outputs": [
    {
     "data": {
      "text/plain": [
       "(14049, 49)"
      ]
     },
     "execution_count": 94,
     "metadata": {},
     "output_type": "execute_result"
    }
   ],
   "source": [
    "X.shape"
   ]
  },
  {
   "cell_type": "markdown",
   "metadata": {},
   "source": [
    "#### Recurrent model"
   ]
  },
  {
   "cell_type": "markdown",
   "metadata": {},
   "source": [
    "Let's build our model as we did in the previous lab. First, let's import the `LSTM` layer from Keras:"
   ]
  },
  {
   "cell_type": "code",
   "execution_count": 95,
   "metadata": {},
   "outputs": [],
   "source": [
    "from tensorflow.keras.layers import LSTM"
   ]
  },
  {
   "cell_type": "markdown",
   "metadata": {},
   "source": [
    "Next, let's build up our model. We'll create our `Embedding` layer followed by our `LSTM` layer and the regular `Dense` and `Activation` layers after that:"
   ]
  },
  {
   "cell_type": "code",
   "execution_count": 96,
   "metadata": {},
   "outputs": [],
   "source": [
    "model = Sequential()\n",
    "model.add(Embedding(input_dim=vocab_size,\n",
    "                    output_dim=16,\n",
    "                    input_length=maxlen))\n",
    "model.add(LSTM(32))\n",
    "model.add(Dense(1, activation='sigmoid'))\n",
    "\n",
    "model.compile(loss='binary_crossentropy',\n",
    "              optimizer='adam',\n",
    "              metrics=['accuracy'])"
   ]
  },
  {
   "cell_type": "markdown",
   "metadata": {},
   "source": [
    "Let's train our model using the `fit()` function. We will train the model on batches of 128 reviews for 8 epochs with a 20% validation split:"
   ]
  },
  {
   "cell_type": "code",
   "execution_count": 97,
   "metadata": {
    "maxlines": 8
   },
   "outputs": [
    {
     "name": "stdout",
     "output_type": "stream",
     "text": [
      "Train on 8428 samples, validate on 2108 samples\n",
      "Epoch 1/8\n",
      "8428/8428 [==============================] - 2s 210us/sample - loss: 0.6651 - accuracy: 0.6140 - val_loss: 0.6524 - val_accuracy: 0.6067\n",
      "Epoch 2/8\n",
      "8428/8428 [==============================] - 0s 51us/sample - loss: 0.5679 - accuracy: 0.6940 - val_loss: 0.5475 - val_accuracy: 0.7353\n",
      "Epoch 3/8\n",
      "8428/8428 [==============================] - 0s 47us/sample - loss: 0.3983 - accuracy: 0.8379 - val_loss: 0.5708 - val_accuracy: 0.7500\n",
      "Epoch 4/8\n",
      "8428/8428 [==============================] - 0s 46us/sample - loss: 0.2719 - accuracy: 0.8938 - val_loss: 0.6332 - val_accuracy: 0.7519\n",
      "Epoch 5/8\n",
      "8428/8428 [==============================] - 0s 46us/sample - loss: 0.1926 - accuracy: 0.9286 - val_loss: 0.7121 - val_accuracy: 0.7509\n",
      "Epoch 6/8\n",
      "8428/8428 [==============================] - 0s 47us/sample - loss: 0.1380 - accuracy: 0.9528 - val_loss: 0.8569 - val_accuracy: 0.7434\n",
      "Epoch 7/8\n",
      "8428/8428 [==============================] - 0s 46us/sample - loss: 0.1019 - accuracy: 0.9686 - val_loss: 1.0721 - val_accuracy: 0.7415\n",
      "Epoch 8/8\n",
      "8428/8428 [==============================] - 0s 46us/sample - loss: 0.0787 - accuracy: 0.9754 - val_loss: 1.0436 - val_accuracy: 0.7301\n"
     ]
    }
   ],
   "source": [
    "h = model.fit(X_train, y_train, batch_size=128,\n",
    "              epochs=8, validation_split=0.2)"
   ]
  },
  {
   "cell_type": "markdown",
   "metadata": {},
   "source": [
    "The model seems to be doing much better on the training set than any of the previous models based on Bag of Words, since it achieves an accuracy greater than 95% in only 10 epochs. On the other hand, the validation accuracy sees to be consistently lower, which indicates probable overfitting. Let's evaluate the model on the test set in order to verify the ability of our model to generalize:"
   ]
  },
  {
   "cell_type": "code",
   "execution_count": 98,
   "metadata": {},
   "outputs": [
    {
     "name": "stdout",
     "output_type": "stream",
     "text": [
      "3513/3513 [==============================] - 0s 73us/sample - loss: 0.9546 - accuracy: 0.7353\n"
     ]
    },
    {
     "data": {
      "text/plain": [
       "0.735269"
      ]
     },
     "execution_count": 98,
     "metadata": {},
     "output_type": "execute_result"
    }
   ],
   "source": [
    "loss, acc = model.evaluate(X_test, y_test, batch_size=32)\n",
    "acc"
   ]
  },
  {
   "cell_type": "markdown",
   "metadata": {},
   "source": [
    "Ouch! The test score is not much better than the score obtained by our BOW model. This means the model is overfitting. Let's plot the training history:"
   ]
  },
  {
   "cell_type": "code",
   "execution_count": 99,
   "metadata": {},
   "outputs": [
    {
     "data": {
      "application/pdf": "[encoded data removed]",
      "image/png": "[encoded data removed]",
      "text/plain": [
       "<Figure size 540x360 with 1 Axes>"
      ]
     },
     "metadata": {
      "needs_background": "light"
     },
     "output_type": "display_data"
    }
   ],
   "source": [
    "dfhistory = pd.DataFrame(h.history)\n",
    "dfhistory[['accuracy', 'val_accuracy']].plot(ylim=(-0.05, 1.05));"
   ]
  },
  {
   "cell_type": "markdown",
   "metadata": {},
   "source": [
    "As you can see, after a few of epochs the validation accuracy stops improving while the training accuracy keeps improving.\n",
    "\n",
    "We can also look at the loss and notice that the validation loss does not decrease after a certain point, while the training loss does."
   ]
  },
  {
   "cell_type": "code",
   "execution_count": 100,
   "metadata": {},
   "outputs": [
    {
     "data": {
      "application/pdf": "[encoded data removed]",
      "image/png": "[encoded data removed]",
      "text/plain": [
       "<Figure size 540x360 with 1 Axes>"
      ]
     },
     "metadata": {
      "needs_background": "light"
     },
     "output_type": "display_data"
    }
   ],
   "source": [
    "dfhistory[['loss', 'val_loss']].plot(ylim=(-0.05, 1.05));"
   ]
  },
  {
   "cell_type": "markdown",
   "metadata": {},
   "source": [
    "How many weights are there in our model? Is it too big?"
   ]
  },
  {
   "cell_type": "code",
   "execution_count": 101,
   "metadata": {},
   "outputs": [
    {
     "name": "stdout",
     "output_type": "stream",
     "text": [
      "Model: \"sequential_4\"\n",
      "_________________________________________________________________\n",
      "Layer (type)                 Output Shape              Param #   \n",
      "=================================================================\n",
      "embedding_1 (Embedding)      (None, 49, 16)            160000    \n",
      "_________________________________________________________________\n",
      "unified_lstm (UnifiedLSTM)   (None, 32)                6272      \n",
      "_________________________________________________________________\n",
      "dense_3 (Dense)              (None, 1)                 33        \n",
      "=================================================================\n",
      "Total params: 166,305\n",
      "Trainable params: 166,305\n",
      "Non-trainable params: 0\n",
      "_________________________________________________________________\n"
     ]
    }
   ],
   "source": [
    "model.summary()"
   ]
  },
  {
   "cell_type": "markdown",
   "metadata": {},
   "source": [
    "The model is quite big compared to the size of the dataset. We have over 160 thousand parameters to classify less than 15 thousand short reviews. This is not a good situation, and we expect to overfit. In the exercises, we will repeat the sentiment prediction on a larger corpus of reviews and see if we can get better results.\n",
    "\n",
    "We will also learn another way to reduce overfitting later in the labs when we discuss pre-trained models."
   ]
  },
  {
   "cell_type": "markdown",
   "metadata": {},
   "source": [
    "## Sequence generation and language modeling"
   ]
  },
  {
   "cell_type": "markdown",
   "metadata": {},
   "source": [
    "As mentioned at the beginning of this lab and in the previous one, Neural Networks are not only suited to deal with textual input data but also to generate text output. We can interpret a text as a **sequence of words**  or as a **sequence of characters** and we can use a model to predict the next character or words in a sequence. This is called **Language Modeling** and it has been successfully used to generate \"Shakespeare-sounding\" poems, new pages of Wikipedia and so on (see [this wonderful article by A. Karpathy](http://karpathy.github.io/2015/05/21/rnn-effectiveness/) for a few examples).\n",
    "\n",
    "The basic idea is to apply to text the same approach we used to [improve forecasting](./07_Time_Series_and_Recurrent_Neural_Networks.ipynb#Improving-Forecasting) in the time series prediction of the last lab.\n",
    "\n",
    "We will start from a corpus of text, split it into short, fixed-size Windows, i.e., sub-sentences with a few characters, and then train a model to predict the next character after the sequence.\n",
    "\n",
    "> What are \"windows\" here? What do they refer to?\n",
    "\n",
    "![Windows of text](./assets/text_to_windows.png)\n",
    "\n",
    "Let's give an example by designing an RNN to generate names of babies. We will use [this corpus](http://www.cs.cmu.edu/afs/cs/project/ai-repository/ai/areas/nlp/corpora/names/) as training data, which contains thousands of names.\n",
    "\n",
    "We start by loading all the names from `../data/names.txt`. We also add a `\\n` character to allow the model to learn to predict the end of a name and convert the names to lowercase."
   ]
  },
  {
   "cell_type": "code",
   "execution_count": 102,
   "metadata": {},
   "outputs": [
    {
     "name": "stdout",
     "output_type": "stream",
     "text": [
      "Loaded 7939 names\n"
     ]
    }
   ],
   "source": [
    "with open('../data/names.txt') as f:\n",
    "    names = f.readlines()\n",
    "    names = [n.lower().strip() + '\\n' for n in names]\n",
    "\n",
    "print('Loaded %d names' % len(names))"
   ]
  },
  {
   "cell_type": "markdown",
   "metadata": {},
   "source": [
    "Let's have a look at the first three of them:"
   ]
  },
  {
   "cell_type": "code",
   "execution_count": 103,
   "metadata": {},
   "outputs": [
    {
     "data": {
      "text/plain": [
       "['aamir\\n', 'aaron\\n', 'abbey\\n']"
      ]
     },
     "execution_count": 103,
     "metadata": {},
     "output_type": "execute_result"
    }
   ],
   "source": [
    "names[:3]"
   ]
  },
  {
   "cell_type": "markdown",
   "metadata": {},
   "source": [
    "We need to count all of the characters in our \"vocabulary\" and build a vocabulary that translates between the character and its assigned index (and vice versa). We could do this using the `Tokenizer` from Keras, but it is so simple that we can do it by hand using a Python `set`:"
   ]
  },
  {
   "cell_type": "code",
   "execution_count": 104,
   "metadata": {},
   "outputs": [],
   "source": [
    "chars = set()\n",
    "\n",
    "for name in names:\n",
    "    chars.update(name)\n",
    "\n",
    "vocab_size = len(chars)"
   ]
  },
  {
   "cell_type": "markdown",
   "metadata": {},
   "source": [
    "Let's look at the number of chars we've saved:"
   ]
  },
  {
   "cell_type": "code",
   "execution_count": 105,
   "metadata": {},
   "outputs": [
    {
     "data": {
      "text/plain": [
       "28"
      ]
     },
     "execution_count": 105,
     "metadata": {},
     "output_type": "execute_result"
    }
   ],
   "source": [
    "vocab_size"
   ]
  },
  {
   "cell_type": "code",
   "execution_count": 106,
   "metadata": {},
   "outputs": [
    {
     "data": {
      "text/plain": [
       "{'\\n',\n",
       " '-',\n",
       " 'a',\n",
       " 'b',\n",
       " 'c',\n",
       " 'd',\n",
       " 'e',\n",
       " 'f',\n",
       " 'g',\n",
       " 'h',\n",
       " 'i',\n",
       " 'j',\n",
       " 'k',\n",
       " 'l',\n",
       " 'm',\n",
       " 'n',\n",
       " 'o',\n",
       " 'p',\n",
       " 'q',\n",
       " 'r',\n",
       " 's',\n",
       " 't',\n",
       " 'u',\n",
       " 'v',\n",
       " 'w',\n",
       " 'x',\n",
       " 'y',\n",
       " 'z'}"
      ]
     },
     "execution_count": 106,
     "metadata": {},
     "output_type": "execute_result"
    }
   ],
   "source": [
    "chars"
   ]
  },
  {
   "cell_type": "markdown",
   "metadata": {},
   "source": [
    "Now let's create two dictionaries, one to go fro characters to indices and the other to go back from indices to characters. We'll use these two dictionaries a bit later."
   ]
  },
  {
   "cell_type": "code",
   "execution_count": 107,
   "metadata": {},
   "outputs": [],
   "source": [
    "char_to_idx = dict((c, i) for i, c in enumerate(chars))\n",
    "inds_to_char = dict((i, c) for i, c in enumerate(chars))"
   ]
  },
  {
   "cell_type": "markdown",
   "metadata": {},
   "source": [
    "### Character sequences"
   ]
  },
  {
   "cell_type": "markdown",
   "metadata": {},
   "source": [
    "We can use the vocabulary created above to translate each name in `names` to its number format in `int_names`. We will achieve this using a nested [list comprehension](https://docs.python.org/2/tutorial/datastructures.html#list-comprehensions) where we iterate on names and for each name we iterate on characters:"
   ]
  },
  {
   "cell_type": "code",
   "execution_count": 108,
   "metadata": {},
   "outputs": [],
   "source": [
    "int_names = [[char_to_idx[c] for c in n] for n in names]"
   ]
  },
  {
   "cell_type": "markdown",
   "metadata": {},
   "source": [
    "Now each name has been converted to a sequence of integers, for example, the first name:"
   ]
  },
  {
   "cell_type": "code",
   "execution_count": 109,
   "metadata": {},
   "outputs": [
    {
     "data": {
      "text/plain": [
       "'aamir\\n'"
      ]
     },
     "execution_count": 109,
     "metadata": {},
     "output_type": "execute_result"
    }
   ],
   "source": [
    "names[0]"
   ]
  },
  {
   "cell_type": "markdown",
   "metadata": {},
   "source": [
    "Was converted to:"
   ]
  },
  {
   "cell_type": "code",
   "execution_count": 110,
   "metadata": {},
   "outputs": [
    {
     "data": {
      "text/plain": [
       "[12, 12, 13, 10, 21, 25]"
      ]
     },
     "execution_count": 110,
     "metadata": {},
     "output_type": "execute_result"
    }
   ],
   "source": [
    "int_names[0]"
   ]
  },
  {
   "cell_type": "markdown",
   "metadata": {},
   "source": [
    "Great! Now we want to create short sequences of few characters and try to predict the next. We will do this by cutting up names into input sequence of length `maxlen` and using the following character as training labels. Let's start with `maxlen = 3`:"
   ]
  },
  {
   "cell_type": "code",
   "execution_count": 111,
   "metadata": {},
   "outputs": [],
   "source": [
    "maxlen = 3\n",
    "\n",
    "name_parts = []\n",
    "next_chars = []\n",
    "\n",
    "for name in int_names:\n",
    "    for i in range(0, len(name) - maxlen):\n",
    "        name_parts.append(name[i: i + maxlen])\n",
    "        next_chars.append(name[i + maxlen])"
   ]
  },
  {
   "cell_type": "markdown",
   "metadata": {},
   "source": [
    "`name_parts` is a list with short fractions of names (three characters). Let's take a look at the first elements:"
   ]
  },
  {
   "cell_type": "code",
   "execution_count": 112,
   "metadata": {},
   "outputs": [
    {
     "data": {
      "text/plain": [
       "[[12, 12, 13], [12, 13, 10], [13, 10, 21], [12, 12, 21]]"
      ]
     },
     "execution_count": 112,
     "metadata": {},
     "output_type": "execute_result"
    }
   ],
   "source": [
    "name_parts[:4]"
   ]
  },
  {
   "cell_type": "markdown",
   "metadata": {},
   "source": [
    "`next_chars` is a list with single entries, each representing the next character:"
   ]
  },
  {
   "cell_type": "code",
   "execution_count": 113,
   "metadata": {},
   "outputs": [
    {
     "data": {
      "text/plain": [
       "[10, 21, 25, 20]"
      ]
     },
     "execution_count": 113,
     "metadata": {},
     "output_type": "execute_result"
    }
   ],
   "source": [
    "next_chars[:4]"
   ]
  },
  {
   "cell_type": "markdown",
   "metadata": {},
   "source": [
    "As a last step we convert the nested list of `name_parts` to an array. We can do this, using the same `pad_sequences` function used earlier in this lab. This takes the nested list and converts it to an array trimming the longer sequences and padding the shorter sequences:"
   ]
  },
  {
   "cell_type": "code",
   "execution_count": 114,
   "metadata": {},
   "outputs": [],
   "source": [
    "X = pad_sequences(name_parts, maxlen=maxlen)"
   ]
  },
  {
   "cell_type": "markdown",
   "metadata": {},
   "source": [
    "The final shape of our input is:"
   ]
  },
  {
   "cell_type": "code",
   "execution_count": 115,
   "metadata": {},
   "outputs": [
    {
     "data": {
      "text/plain": [
       "(32016, 3)"
      ]
     },
     "execution_count": 115,
     "metadata": {},
     "output_type": "execute_result"
    }
   ],
   "source": [
    "X.shape"
   ]
  },
  {
   "cell_type": "markdown",
   "metadata": {},
   "source": [
    "i.e. we have 32016 name parts, each with 3 consecutive characters.\n",
    "\n",
    "Now let's deal with the labels. We can use the `to_categorical` function to 1-hot encode the targets. Let's import it from `keras.utils`:"
   ]
  },
  {
   "cell_type": "code",
   "execution_count": 116,
   "metadata": {},
   "outputs": [],
   "source": [
    "from tensorflow.keras.utils import to_categorical"
   ]
  },
  {
   "cell_type": "markdown",
   "metadata": {},
   "source": [
    "Now let's create our categories from the `next_chars` using this function. Notice that we let Keras know how many characters are in the vocabulary by setting `num_classes=vocab_size` in the second argument of the function:"
   ]
  },
  {
   "cell_type": "code",
   "execution_count": 117,
   "metadata": {},
   "outputs": [],
   "source": [
    "y = to_categorical(next_chars, vocab_size)"
   ]
  },
  {
   "cell_type": "markdown",
   "metadata": {},
   "source": [
    "The shape of our labels is:"
   ]
  },
  {
   "cell_type": "code",
   "execution_count": 118,
   "metadata": {},
   "outputs": [
    {
     "data": {
      "text/plain": [
       "(32016, 28)"
      ]
     },
     "execution_count": 118,
     "metadata": {},
     "output_type": "execute_result"
    }
   ],
   "source": [
    "y.shape"
   ]
  },
  {
   "cell_type": "markdown",
   "metadata": {},
   "source": [
    "i.e. we have 32016 characters, each represented by a 1-hot encoded vector of `vocab_size` length."
   ]
  },
  {
   "cell_type": "markdown",
   "metadata": {},
   "source": [
    "### Recurrent Model"
   ]
  },
  {
   "cell_type": "markdown",
   "metadata": {},
   "source": [
    "At this point we are ready to design and train our model. \n",
    "\n",
    "We will need to set up an embedding layer for the input, one or more recurrent layers and a final dense layer with softmax activation to predict the next character. We can design the model using the Sequential API as usual, or we can start to practice with the [Functional API](https://keras.io/getting-started/functional-api-guide/), which we will use more often later on. This API is much more powerful than the [Sequential API](https://keras.io/models/sequential/) we used so far because it allows us to build models that can have more than one processing branch. It is good to start approaching it on a simple case so that we will be more familiar with it when we use it on larger and more complex models."
   ]
  },
  {
   "cell_type": "markdown",
   "metadata": {},
   "source": [
    "Let's import the `Model` class from `tensorflow.keras` and the `Input` layer:"
   ]
  },
  {
   "cell_type": "code",
   "execution_count": 119,
   "metadata": {},
   "outputs": [],
   "source": [
    "from tensorflow.keras.models import Model\n",
    "from tensorflow.keras.layers import Input"
   ]
  },
  {
   "cell_type": "markdown",
   "metadata": {},
   "source": [
    "In the Functional API, each layer is a function, which receives the output of the previous layer and it returns an output to the next. When we specify a model in this way, we need to start from an `Input` layer with the correct shape.\n",
    "\n",
    "Since we have padded our name subsequences to a length of 3, we'll create an `Input` layer with shape `(3,)`:\n",
    "\n",
    "> TIP: remember that the trailing comma is needed in Python to distinguish a tuple with one element from a simple number within parentheses."
   ]
  },
  {
   "cell_type": "code",
   "execution_count": 120,
   "metadata": {},
   "outputs": [],
   "source": [
    "inputs = Input(shape=(3, ))"
   ]
  },
  {
   "cell_type": "markdown",
   "metadata": {},
   "source": [
    "Let's look at the inputs variable we have just defined:"
   ]
  },
  {
   "cell_type": "code",
   "execution_count": 121,
   "metadata": {},
   "outputs": [
    {
     "data": {
      "text/plain": [
       "<tf.Tensor 'input_1:0' shape=(None, 3) dtype=float32>"
      ]
     },
     "execution_count": 121,
     "metadata": {},
     "output_type": "execute_result"
    }
   ],
   "source": [
    "inputs"
   ]
  },
  {
   "cell_type": "markdown",
   "metadata": {},
   "source": [
    "It's a Tensorflow tensor with `shape=(?, 3)`, i.e. it will accept batches of data with 3 features, exactly as we want. Next we create the `Embedding` layer, with input dimension equals to the vocabulary size (i.e. 28) and output dimension equal to 5. "
   ]
  },
  {
   "cell_type": "code",
   "execution_count": 122,
   "metadata": {},
   "outputs": [],
   "source": [
    "emb = Embedding(input_dim=vocab_size, output_dim=5)"
   ]
  },
  {
   "cell_type": "markdown",
   "metadata": {},
   "source": [
    "Next we will use this layer as a function, i.e. we well pass the `inputs` tensor to it and save the output tensor to a temporary variable called `h` (for hidden)."
   ]
  },
  {
   "cell_type": "code",
   "execution_count": 123,
   "metadata": {},
   "outputs": [],
   "source": [
    "h = emb(inputs)"
   ]
  },
  {
   "cell_type": "markdown",
   "metadata": {},
   "source": [
    "Note that we could have achieve the previous two operations in a single line by writing:\n",
    "```python\n",
    "h = Embedding(input_dim=vocab_size, output_dim=5)(inputs)\n",
    "```\n",
    "\n",
    "Following this style, we define the layer to be an `LSTM` layer with eight units, and we reuse the `h` variable for its output:"
   ]
  },
  {
   "cell_type": "code",
   "execution_count": 124,
   "metadata": {},
   "outputs": [],
   "source": [
    "h = LSTM(8)(h)"
   ]
  },
  {
   "cell_type": "markdown",
   "metadata": {},
   "source": [
    "Finally, we create the output layer, a `Dense` layer with as many nodes as `vocab_size` and with a Softmax activation function:"
   ]
  },
  {
   "cell_type": "code",
   "execution_count": 125,
   "metadata": {},
   "outputs": [],
   "source": [
    "outputs = Dense(vocab_size, activation='softmax')(h)"
   ]
  },
  {
   "cell_type": "markdown",
   "metadata": {},
   "source": [
    "Now that we have created all the layers we need and connected their inputs and outputs let's create a model. This is done using the `Model` class that needs to know what the inputs and outputs of the model are:"
   ]
  },
  {
   "cell_type": "code",
   "execution_count": 126,
   "metadata": {},
   "outputs": [],
   "source": [
    "model = Model(inputs=inputs, outputs=outputs)"
   ]
  },
  {
   "cell_type": "markdown",
   "metadata": {},
   "source": [
    "From here onwards we proceed in an identical way to what we've been doing with the Sequential API. We compile the model for a classification problem:"
   ]
  },
  {
   "cell_type": "code",
   "execution_count": 127,
   "metadata": {},
   "outputs": [],
   "source": [
    "model.compile(loss='categorical_crossentropy',\n",
    "              optimizer='adam',\n",
    "              metrics=['accuracy'])"
   ]
  },
  {
   "cell_type": "markdown",
   "metadata": {},
   "source": [
    "and now we are ready to train it. We will let the training run for at least ten epochs. While the model trains, let us reflect on a couple of questions:\n",
    "\n",
    "- Will this model reach 99% accuracy?\n",
    "- Will any model ever reach 99% accuracy on this task?\n",
    "- Would this change if we had access to a corpus of millions of names?\n",
    "- What accuracy would you expect from randomly guessing the next character?\n",
    "\n",
    "Let's train our model by using the `fit()` function. We will run the training for 20 epochs:"
   ]
  },
  {
   "cell_type": "code",
   "execution_count": 128,
   "metadata": {
    "maxlines": 5
   },
   "outputs": [],
   "source": [
    "model.fit(X, y, epochs=20, verbose=0);"
   ]
  },
  {
   "cell_type": "markdown",
   "metadata": {},
   "source": [
    "Great! The model has finished training. Getting above 30% accuracy is a good result in this case. The reason is, we are trying to predict the next character after a sequence of three characters, but there is no unique solution to this prediction problem.\n",
    "\n",
    "Think for example of the three characters `and`. How many names are there in the dataset that start with `and`?\n",
    "\n",
    "- `anders` -> next char is `e`\n",
    "- `andie` -> next char is `i`\n",
    "- `andonis` -> next char is `o`\n",
    "- `andre` -> next char is `r`\n",
    "- `andrea` -> next char is `r`\n",
    "- `andreas` -> next char is `r`\n",
    "- `andrej` -> next char is `r`\n",
    "- `andres` -> next char is `r`\n",
    "- `andrew` -> next char is `r`\n",
    "- `andrey` -> next char is `r`\n",
    "- `andri` -> next char is `r`\n",
    "- `andros` -> next char is `r`\n",
    "- `andrus` -> next char is `r`\n",
    "- `andrzej` -> next char is `r`\n",
    "- `andy` -> next char is `y`\n",
    "\n",
    "From this example, we see that while `r` is the most frequent answer, it's not the only one. Other letters could come after the letters `and` in our training set.\n",
    "\n",
    "By training the model on the truncated sequences, we are effectively teaching our model a probability distribution over our vocabulary. Using the example above, given the series of characters `['a', 'n', 'd']` the model is learning that the character `r` appears 11/15 times, i.e., it has a probability of 0.733, while the characters `e`, `i`, `o`, `y` each appear 1/15 times, i.e., each has a probability of 0.066.\n",
    "\n",
    "> TIP: For the math inclined reader, the model is learning to predict the probability  $p(c_t | c_{t-3}c_{t-2}c_{t-1})$ where the index $t$ indicates the position of a character in the name. $p(A | B)$ is the **conditional probability** of A given B. This is the probability that A will happen when B has already happened.\n",
    "\n",
    "Since the vocabulary size is 28, if the next character would have been predicted using a random uniform distribution over the vocabulary, on average we would predict correctly only one time every 28 trials, which would give an accuracy of about 3.6%. We get to an accuracy of about 30%, which is 10x higher than random."
   ]
  },
  {
   "cell_type": "markdown",
   "metadata": {},
   "source": [
    "### Sampling from the model"
   ]
  },
  {
   "cell_type": "markdown",
   "metadata": {},
   "source": [
    "Now that we trained the model, we can use it to produce new names, that should at least sound like English names. We can sample the model by feeding in a few letters and using the model's prediction for the next letter. Then we feed the model's prediction back in to get the next letter, and so on.\n",
    "\n",
    "First of all, let's define a helper function called `sample`. This function has to take an array of probabilities $\\mathbf{p} = [p_i]_{i \\in \\textrm{vocab}}$ for the characters in the vocabulary and return the index of a character, with probabilities according to $\\mathbf{p}$. This will return more probable characters more often than characters with a lower probability.\n",
    "\n",
    "The [**multinomial distribution**](https://en.wikipedia.org/wiki/Multinomial_distribution) is a generalization of the binomial distribution that can help us in this case. It is implemented in Numpy and its [documentation](https://docs.scipy.org/doc/numpy/reference/generated/numpy.random.multinomial.html) reads:\n",
    "\n",
    "    The multinomial distribution is a multivariate generalization of the\n",
    "    binomial distribution.  Take an experiment with one of ``p``\n",
    "    possible outcomes.  An example of such an experiment is throwing a dice,\n",
    "    where the outcome can be 1 through 6.  Each sample drawn from the\n",
    "    distribution represents `n` such experiments.  Its values,\n",
    "    ``X_i = [X_0, X_1, ..., X_p]``, represent the number of times the\n",
    "    outcome was ``i``.\n",
    "\n",
    "\n",
    "This description says that if our experiment has three possible outcomes with probabilities `[0.25, 0.7, 0.05]`, a single multinomial draw will return an array of length three, where all the entries will be zero except one, that will be a 1, corresponding to the randomly chosen outcome for that experiment. If we were to repeat the draws multiple times, the frequencies of each outcome would tend towards the assigned probabilities.\n",
    "\n",
    "Therefore we can implement the sample function as:\n",
    "\n",
    "\\begin{equation}\n",
    "\\textrm{sample}(p) := \\textrm{argmax}(\\textrm{multinomial}(1, p, 1))\n",
    "\\end{equation}\n",
    "\n",
    "We are going to generalize this a bit more, introducing a parameter called **diversity** that rescales the probabilities. For high values of the diversity, the probability vectors will tend to zero, and we will be approaching the random uniform distribution. When the diversity is low, the most likely characters will be selected even more often, approaching a deterministic character generator."
   ]
  },
  {
   "cell_type": "markdown",
   "metadata": {},
   "source": [
    "Let's create the `sample` function that accepts an input list with a `diversity` argument that allows us to rescale the probabilities as an argument:"
   ]
  },
  {
   "cell_type": "code",
   "execution_count": 129,
   "metadata": {},
   "outputs": [],
   "source": [
    "def sample(p, diversity=1.0):\n",
    "    p1 = np.asarray(p).astype('float64')\n",
    "    p1 = np.log(p1) / diversity\n",
    "    e_p1 = np.exp(p1)\n",
    "    s = np.sum(e_p1)\n",
    "    p1 = e_p1 / s\n",
    "    return np.argmax(np.random.multinomial(1, p1, 1))"
   ]
  },
  {
   "cell_type": "markdown",
   "metadata": {},
   "source": [
    "Let's make sure we understand how this function works with an example. Let's define the probabilities of 3 outcomes (you may think of these as win-loose-draw) where the first one happens 1/4th of the time, the second one 65% of the time and the last one only 10% of the time."
   ]
  },
  {
   "cell_type": "code",
   "execution_count": 130,
   "metadata": {},
   "outputs": [],
   "source": [
    "probs = [0.25, 0.65, 0.1]"
   ]
  },
  {
   "cell_type": "markdown",
   "metadata": {},
   "source": [
    "Drawing samples from this probability distribution we would expect to pull out the number 1 (corresponding to the second outcome) about 65% of the time and so on.\n",
    "Let's sample 100 times:"
   ]
  },
  {
   "cell_type": "code",
   "execution_count": 131,
   "metadata": {},
   "outputs": [],
   "source": [
    "draws = [sample(probs) for i in range(100)]"
   ]
  },
  {
   "cell_type": "markdown",
   "metadata": {},
   "source": [
    "and let's use a `Counter` to count how many of each we drew:"
   ]
  },
  {
   "cell_type": "code",
   "execution_count": 132,
   "metadata": {},
   "outputs": [],
   "source": [
    "from collections import Counter"
   ]
  },
  {
   "cell_type": "code",
   "execution_count": 133,
   "metadata": {},
   "outputs": [
    {
     "data": {
      "text/plain": [
       "Counter({1: 65, 2: 14, 0: 21})"
      ]
     },
     "execution_count": 133,
     "metadata": {},
     "output_type": "execute_result"
    }
   ],
   "source": [
    "Counter(draws)"
   ]
  },
  {
   "cell_type": "markdown",
   "metadata": {},
   "source": [
    "As you can see our results reflect the actual probabilities, with some statistical fluctuations."
   ]
  },
  {
   "cell_type": "markdown",
   "metadata": {},
   "source": [
    "Great! Now that we can sample from the vocabulary let's generate a few names. We will start from an input *seed* of three letters and then iterate in a loop the following steps:\n",
    "\n",
    "- Use the seed to predict the probability distribution for next characters.\n",
    "- Sample the distribution using the sample function.\n",
    "- Append the next character to the seed.\n",
    "- Shift the input window by one to include the last character appended.\n",
    "- Repeat.\n",
    "\n",
    "The loop ends either when we reach a termination character or a pre-defined length.\n",
    "\n",
    "Let's go ahead and build this function step by step. Let's set up the `seed` of our name to be something like `ali`. "
   ]
  },
  {
   "cell_type": "code",
   "execution_count": 134,
   "metadata": {},
   "outputs": [],
   "source": [
    "seed = 'ali'\n",
    "out = seed"
   ]
  },
  {
   "cell_type": "markdown",
   "metadata": {},
   "source": [
    "In order to build the name, let's create an output list (we'll call `x`) to store our output, setting the length to that of the maximum length of the name we want to generate:"
   ]
  },
  {
   "cell_type": "code",
   "execution_count": 135,
   "metadata": {},
   "outputs": [],
   "source": [
    "x = np.zeros((1, maxlen), dtype=int)"
   ]
  },
  {
   "cell_type": "markdown",
   "metadata": {},
   "source": [
    "Let's use a variable we'll call `stop` to stop the loop if our network predicts the `'\\n'` character as the next character and set it to `False`:"
   ]
  },
  {
   "cell_type": "code",
   "execution_count": 136,
   "metadata": {},
   "outputs": [],
   "source": [
    "stop = False"
   ]
  },
  {
   "cell_type": "markdown",
   "metadata": {},
   "source": [
    "Finally let's loop until we have to stop:"
   ]
  },
  {
   "cell_type": "code",
   "execution_count": 137,
   "metadata": {},
   "outputs": [
    {
     "data": {
      "text/plain": [
       "'alistus\\n'"
      ]
     },
     "execution_count": 137,
     "metadata": {},
     "output_type": "execute_result"
    }
   ],
   "source": [
    "while not stop:\n",
    "    for i, c in enumerate(out[-maxlen:]):\n",
    "        x[0, i] = char_to_idx[c]\n",
    "\n",
    "    preds = model.predict(x, verbose=0)[0]\n",
    "\n",
    "    c = inds_to_char[sample(preds)]\n",
    "    out += c\n",
    "\n",
    "    if c == '\\n':\n",
    "        stop = True\n",
    "out"
   ]
  },
  {
   "cell_type": "markdown",
   "metadata": {},
   "source": [
    "The network produced a few characters and then stopped. Now let's wrap these steps in a function that encapsulates this entire process in a single method. Let's call our function `complete_name`. This function will take an input *seed* of three letters and run through the previous steps to predict the next character."
   ]
  },
  {
   "cell_type": "code",
   "execution_count": 138,
   "metadata": {},
   "outputs": [],
   "source": [
    "def complete_name(seed, maxlen=3, max_name_len=None,\n",
    "                  diversity=1.0):\n",
    "    '''\n",
    "    Completes a name until a termination character is\n",
    "    predicted or max_name_len is reached.\n",
    "\n",
    "    Parameters\n",
    "    ----------\n",
    "    seed : string\n",
    "        The start of the name to sample\n",
    "    maxlen : int, default 3\n",
    "        The size of the model's input\n",
    "    max_name_len : int, default None\n",
    "        The maximum name length; if None then samples\n",
    "        are generated until the model generates a '.'\n",
    "    diversity : float, default 1.0\n",
    "        Parameter to increase or decrease the randomness\n",
    "        of the samples; higher = more random,\n",
    "        lower = more deterministic\n",
    "\n",
    "    Returns\n",
    "    -------\n",
    "    out : string\n",
    "    '''\n",
    "    \n",
    "    out = seed\n",
    "    \n",
    "    x = np.zeros((1, maxlen), dtype=int)\n",
    "    \n",
    "    stop = False\n",
    "    \n",
    "    while not stop:\n",
    "        for i, c in enumerate(out[-maxlen:]):\n",
    "            x[0, i] = char_to_idx[c]\n",
    "        \n",
    "        preds = model.predict(x, verbose=0)[0]\n",
    "        \n",
    "        c = inds_to_char[sample(preds, diversity)]\n",
    "        out += c\n",
    "        \n",
    "        if c == '\\n':\n",
    "            stop = True\n",
    "        else:\n",
    "            if max_name_len is not None:\n",
    "                if len(out) > max_name_len - 1:\n",
    "                    out = out + '\\n'\n",
    "                    stop = True\n",
    "    return out"
   ]
  },
  {
   "cell_type": "markdown",
   "metadata": {},
   "source": [
    "Nice! Now that we have a function to complete names, let's predict a few names that start as `jen`:"
   ]
  },
  {
   "cell_type": "code",
   "execution_count": 139,
   "metadata": {},
   "outputs": [
    {
     "name": "stdout",
     "output_type": "stream",
     "text": [
      "jenlie\n",
      "\n",
      "jenelorla\n",
      "\n",
      "jenda\n",
      "\n",
      "jen\n",
      "\n",
      "jenela\n",
      "\n",
      "jenny\n",
      "\n",
      "jen\n",
      "\n",
      "jenryme\n",
      "\n",
      "jenansa\n",
      "\n",
      "jendee\n",
      "\n"
     ]
    }
   ],
   "source": [
    "for i in range(10):\n",
    "    print(complete_name('jen'))"
   ]
  },
  {
   "cell_type": "markdown",
   "metadata": {},
   "source": [
    "Not bad! Let's play with the _diversity_ parameter to understand what it does. If we set the diversity to be high, we get random sequences of characters:"
   ]
  },
  {
   "cell_type": "code",
   "execution_count": 140,
   "metadata": {},
   "outputs": [
    {
     "name": "stdout",
     "output_type": "stream",
     "text": [
      "jensilregtpliodmzyti\n",
      "\n",
      "jenq\n",
      "\n",
      "jennortvariiejb-pawf\n",
      "\n",
      "jensllaxfpqs\n",
      "\n",
      "jenedbtvxlleieadxold\n",
      "\n",
      "jen\n",
      "\n",
      "jenfiiquxegvdqj-s-in\n",
      "\n",
      "jencgyvopyrdceg\n",
      "\n",
      "jene\n",
      "\n",
      "jenllectcubvfdcifdnr\n",
      "\n"
     ]
    }
   ],
   "source": [
    "for i in range(10):\n",
    "    print(complete_name('jen', diversity=10,\n",
    "                        max_name_len=20))"
   ]
  },
  {
   "cell_type": "markdown",
   "metadata": {},
   "source": [
    "If we set it to a small value, the function becomes deterministic.\n",
    "\n",
    "> TIP: since the `sample` function involves logarithms and exponential, it accumulates numerical errors very quickly. It would be better to build a model that predicts logits instead of probabilities, but Keras does not allow to do that. "
   ]
  },
  {
   "cell_type": "code",
   "execution_count": 141,
   "metadata": {},
   "outputs": [
    {
     "name": "stdout",
     "output_type": "stream",
     "text": [
      "jen\n",
      "\n",
      "jen\n",
      "\n",
      "jen\n",
      "\n",
      "jen\n",
      "\n",
      "jen\n",
      "\n",
      "jen\n",
      "\n",
      "jen\n",
      "\n",
      "jen\n",
      "\n",
      "jen\n",
      "\n",
      "jen\n",
      "\n"
     ]
    }
   ],
   "source": [
    "for i in range(10):\n",
    "    print(complete_name('jen', diversity=0.01, \n",
    "                        max_name_len=20))"
   ]
  },
  {
   "cell_type": "markdown",
   "metadata": {},
   "source": [
    "Awesome! We now know how to build a language model! Go ahead and unleash your powers on your author of choice and start producing new poems or stories. The model we built has a memory of 3 characters, so it won't exactly be \"Shakespeare\" when it tries to produce sentences. To have a model producing correct sentences in English, we would need to train it with a much larger corpus and with longer Windows of text. For example, a memory of 20-25 characters is long enough to generate English-looking text.\n",
    "\n",
    "In the next section, we will extend our skills to build a language translation model."
   ]
  },
  {
   "cell_type": "markdown",
   "metadata": {},
   "source": [
    "### Sequence to sequence models and language translation"
   ]
  },
  {
   "cell_type": "markdown",
   "metadata": {},
   "source": [
    "**Sequence-to-sequence (Seq2Seq)**  models take a sentence in input and return a new sequence in output. They are very common in language translation, where the input sequence is a sentence in the first language, and the output sequence is the translation in the second language.\n",
    "\n",
    "![Encoder - Decoder network](./assets/encoder_decoder.png)\n",
    "\n",
    "There is a [great article by Francois Chollet on the Keras Blog](https://blog.keras.io/a-ten-minute-introduction-to-sequence-to-sequence-learning-in-keras.html) on how to build them in Keras. We strongly encourage you to read it!\n",
    "\n",
    "In this lab, we have approached text problems from a variety of angles and hopefully inspired you to dig deeper into this domain."
   ]
  },
  {
   "cell_type": "markdown",
   "metadata": {},
   "source": [
    "## Exercises"
   ]
  },
  {
   "cell_type": "markdown",
   "metadata": {},
   "source": [
    "### Exercise 1"
   ]
  },
  {
   "cell_type": "markdown",
   "metadata": {},
   "source": [
    "For our Spam detection model, we used a `CountVectorizer` with a vocabulary size of 3000. Was this the best size? Let's find out:\n",
    "\n",
    "- reload the spam dataset\n",
    "- do a train test split with `random_state=0` on the SMS data frame\n",
    "- write a function `train_for_vocab_size` that takes `vocab_size` as input and does the following:\n",
    "    - initialize a `CountVectorizer` with `max_features=vocab_size`\n",
    "    - fit the vectorizer on the training messages\n",
    "    - transform both the training and the test messages to count matrices\n",
    "    - train the model on the training set\n",
    "    - return the model accuracy on the training and test set\n",
    "- plot the behavior of the train and test set accuracies as a function of `vocab_size` for a range of different vocab sizes"
   ]
  },
  {
   "cell_type": "code",
   "execution_count": null,
   "metadata": {},
   "outputs": [],
   "source": []
  },
  {
   "cell_type": "markdown",
   "metadata": {},
   "source": [
    "### Exercise 2"
   ]
  },
  {
   "cell_type": "markdown",
   "metadata": {},
   "source": [
    "Keras provides a large dataset of movie reviews extracted from the [Internet Movie Database](www.imdb.com) for sentiment analysis purposes. This dataset is much larger than the one we have used, and its already encoded as sequences of integers. Let's put what we have learned to good use and build a sentiment classifier for movie reviews:\n",
    "\n",
    "- decide what size of vocabulary you are going to use and set the `vocab_size` variable\n",
    "- import the `imdb` module from `keras.datasets`\n",
    "- load the train and test sets using `num_words=vocab_size`\n",
    "- check the data you have just loaded; they should be sequences of integers\n",
    "- pad the sequences to a fixed length of your choice. You will need to:\n",
    "    - decide what a reasonable length to express a movie review is\n",
    "    - decide if you are going to truncate the beginning or the end of reviews that are longer than such length\n",
    "    - decide if you are going to pad with zeros at the beginning or the end for reviews that are shorter than such length\n",
    "- build a model to do sentiment analysis on the truncated sequences\n",
    "- train the model on the training set\n",
    "- evaluate the performance of the model on the test set\n",
    "\n",
    "Bonus points: can you convert back the sentences to their original text form? You should look at `imdb.get_word_index()` to download the word index:"
   ]
  },
  {
   "cell_type": "code",
   "execution_count": null,
   "metadata": {},
   "outputs": [],
   "source": []
  }
 ],
 "metadata": {
  "kernelspec": {
   "display_name": "Python 3",
   "language": "python",
   "name": "python3"
  },
  "language_info": {
   "codemirror_mode": {
    "name": "ipython",
    "version": 3
   },
   "file_extension": ".py",
   "mimetype": "text/x-python",
   "name": "python",
   "nbconvert_exporter": "python",
   "pygments_lexer": "ipython3",
   "version": "3.7.3"
  },
  "title": "Natural Language Processing and Text Data"
 },
 "nbformat": 4,
 "nbformat_minor": 1
}
