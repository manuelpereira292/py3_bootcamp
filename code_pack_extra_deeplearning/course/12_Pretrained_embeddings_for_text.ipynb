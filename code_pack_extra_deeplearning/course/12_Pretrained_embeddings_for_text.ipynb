{
 "cells": [
  {
   "cell_type": "markdown",
   "metadata": {},
   "source": [
    "# Lab 12: Pre-trained embeddings for Text"
   ]
  },
  {
   "cell_type": "markdown",
   "metadata": {},
   "source": [
    "In the last part of [Lab 8](./08_NLP_and_Text_Data.ipynb#Embeddings) we introduced the concept of **Embeddings**. These are dense vectors that represent words and are often used as a starting point when approaching NLP problems like language translation or sentiment analysis. The word vectors we introduced in Lab 8 were trained together with the rest of the model and therefore were specific to the particular problem we were trying to solve.\n",
    "\n",
    "For example, when we trained our [Recurrent Model](./08_NLP_and_Text_Data.ipynb#Recurrent-model) for the IMDB sentiment analysis task, the embedding layer was the first layer in a Sequential model, followed by a recurrent layer and a classification head for the sentiment prediction. The weights of the word vectors in the embedding layer were learned together with the weights of the recurrent layer and the classification layer. The single task of predicting the sentiment of a movie review would provide a value for the loss which would then propagate back through the network to adjust both the recurrent and the embedding weights.\n",
    "\n",
    "The approach we have just described has two drawbacks:\n",
    "\n",
    "1) since the embedding layer has many of weights (e.g., for a vocabulary of 10k words, each embedded with 100 numbers, we have 1M weights), we need lots of data for this model to generalize well and avoid overfitting\n",
    "\n",
    "2) since the embeddings are trained on the sentiment analysis task, they will work well on that task but will not necessarily learn general properties of the semantic space. In other words, we will not be able to use those same embeddings for an entirely different NLP task, like machine translation.\n",
    "\n",
    "To overcome these two limitations, researchers have proposed a different approach to building more generic embeddings. These approaches try to capture the meaning of a word in a language and learn more general embeddings where similar vectors represent words with similar meanings. Although this may seem crazy at first, it works well in practice.\n",
    "\n",
    "In this lab, we will see a couple of different famous embeddings, and we will use them to do fun operations with text.\n",
    "\n",
    "Let's get started."
   ]
  },
  {
   "cell_type": "markdown",
   "metadata": {},
   "source": [
    "## \"Unsupervised\"-\"supervised learning\""
   ]
  },
  {
   "cell_type": "markdown",
   "metadata": {},
   "source": [
    "How can we train a generic embedding layer that encodes the meaning of words? We'll have to resort to a trick, common when training large networks. This trick is often referred to as \"Unsupervised Learning\" although, as we shall see, it is a special case of Supervised Learning where humans do not generate the labels.\n",
    "\n",
    "Let's think back of the [sequence generation](./08_NLP_and_Text_Data.ipynb#Sequence-generation-and-language-modeling) example we introduced in Lab 8. There we built a network that learned to predict the most likely letter after a sequence of 3 letters, using a corpus of English baby names. The same approach can be used to build a model that is trained to predict the most likely word after a sequence of words. For example, if trained using a corpus of songs from John Lennon, the model should be able to learn that \"heaven\" should be the most likely word after the words \"imagine there's no\". This task is called **language modeling** because the model learns the structure of a language.\n",
    "\n",
    "The output of this model is a Softmax over the vocabulary of the language, while the input is a sequence of words encoded as vectors by the input embedding layer of the language model. Since the model is solving a forecasting task (predict the most likely words after a sequence of words), we are still in the domain of Supervised Learning. The labels, however, are contained in the corpus itself.\n",
    "\n",
    "Consider for example this excerpt from the song [Imagine](https://genius.com/John-lennon-imagine-lyrics) by John Lennon:"
   ]
  },
  {
   "cell_type": "code",
   "execution_count": 1,
   "metadata": {},
   "outputs": [],
   "source": [
    "text = \"\"\"\n",
    "    imagine there's no heaven\n",
    "    it's easy if you try\n",
    "    no hell below us\n",
    "    above us only sky\n",
    "    imagine all the people living for today\n",
    "    \n",
    "    imagine there's no country\n",
    "    it isn't hard to do\n",
    "    nothing to kill or die for\n",
    "    and no religion too\n",
    "    imagine all the people living life in peace,\n",
    "    you\n",
    "\n",
    "    you may say i'm a dreamer\n",
    "    but i'm not the only one\n",
    "    i hope some day you'll join us\n",
    "    and the world will be as one\n",
    "    \n",
    "    ...\n",
    "\"\"\""
   ]
  },
  {
   "cell_type": "markdown",
   "metadata": {},
   "source": [
    "From this text we can build the following pairs of inputs and labels:\n",
    "\n",
    "\n",
    "|Sequence|Label|\n",
    "|:--------:|:--------:|\n",
    "|imagine there's no|heaven|\n",
    "|there's no heaven|it's|\n",
    "|no heaven it's|easy|\n",
    "|heaven it's easy|if|\n",
    "|it's easy if|you|\n",
    "|easy if you|try|\n",
    "|...|...|\n",
    "\n",
    "\n",
    "Both the inputs and the labels come from the same corpus by merely sliding a window of fixed length and asking the model to predict the word coming immediately after the window.\n",
    "\n",
    "This generic forecasting approach is amazingly powerful! Our ability to label data no longer limit us. We can use any text. We could use the whole of Wikipedia, and train a very generic language model that attempts to predict the next word in a sequence. The embeddings of this model must be more generic than the ones trained on the sentiment problem!\n",
    "\n",
    "Starting with this intuition, that you can obtain labels from the text, researchers have invented several approaches to train generic embeddings. We will mention here a few of the most famous and show you where to find them and how to use them.\n",
    "\n",
    "Let's start with a very common set of embeddings called [GloVe](https://nlp.stanford.edu/projects/glove/), which stands for Global Vectors for Word Representation."
   ]
  },
  {
   "cell_type": "markdown",
   "metadata": {},
   "source": [
    "## GloVe embeddings"
   ]
  },
  {
   "cell_type": "code",
   "execution_count": 2,
   "metadata": {},
   "outputs": [],
   "source": [
    "with open('common.py') as fin:\n",
    "    exec(fin.read())"
   ]
  },
  {
   "cell_type": "code",
   "execution_count": 3,
   "metadata": {},
   "outputs": [],
   "source": [
    "with open('matplotlibconf.py') as fin:\n",
    "    exec(fin.read())"
   ]
  },
  {
   "cell_type": "markdown",
   "metadata": {},
   "source": [
    "In the `data/embeddings` folder we provide a download script that downloads and extracts GloVe embeddings from: https://nlp.stanford.edu/projects/glove/. Here is its content:"
   ]
  },
  {
   "cell_type": "code",
   "execution_count": 4,
   "metadata": {},
   "outputs": [
    {
     "name": "stdout",
     "output_type": "stream",
     "text": [
      "# Script to download and extract Glove\r\n",
      "# word embeddings. More information at:\r\n",
      "# https://nlp.stanford.edu/projects/glove/\r\n",
      "\r\n",
      "# Uncomment the file you'd like to download\r\n",
      "EMBEDDINGS=glove.6B\r\n",
      "# EMBEDDINGS=glove.42B.300d\r\n",
      "# EMBEDDINGS=glove.840B.300d\r\n",
      "\r\n",
      "# download and extract\r\n",
      "wget http://nlp.stanford.edu/data/$EMBEDDINGS.zip\r\n",
      "unzip $EMBEDDINGS.zip\r\n",
      "rm $EMBEDDINGS.zip\r\n"
     ]
    }
   ],
   "source": [
    "cat ../data/embeddings/glove_download.sh"
   ]
  },
  {
   "cell_type": "markdown",
   "metadata": {},
   "source": [
    "Go ahead and run the script to retrieve the `glove.6B` embeddings. Let's take a look at them. First let's define a path variable:"
   ]
  },
  {
   "cell_type": "code",
   "execution_count": 5,
   "metadata": {},
   "outputs": [],
   "source": [
    "glove_path = '../data/embeddings/glove.6B.50d.txt'"
   ]
  },
  {
   "cell_type": "markdown",
   "metadata": {},
   "source": [
    "And let's look at the first line in the file:"
   ]
  },
  {
   "cell_type": "code",
   "execution_count": 6,
   "metadata": {},
   "outputs": [],
   "source": [
    "with open(glove_path, 'r', encoding='utf-8') as fin:\n",
    "    line = fin.readline()"
   ]
  },
  {
   "cell_type": "code",
   "execution_count": 7,
   "metadata": {},
   "outputs": [
    {
     "data": {
      "text/plain": [
       "'the 0.418 0.24968 -0.41242 0.1217 0.34527 -0.044457 -0.49688 -0.17862 -0.00066023 -0.6566 0.27843 -0.14767 -0.55677 0.14658 -0.0095095 0.011658 0.10204 -0.12792 -0.8443 -0.12181 -0.016801 -0.33279 -0.1552 -0.23131 -0.19181 -1.8823 -0.76746 0.099051 -0.42125 -0.19526 4.0071 -0.18594 -0.52287 -0.31681 0.00059213 0.0074449 0.17778 -0.15897 0.012041 -0.054223 -0.29871 -0.15749 -0.34758 -0.045637 -0.44251 0.18785 0.0027849 -0.18411 -0.11514 -0.78581\\n'"
      ]
     },
     "execution_count": 7,
     "metadata": {},
     "output_type": "execute_result"
    }
   ],
   "source": [
    "line"
   ]
  },
  {
   "cell_type": "markdown",
   "metadata": {},
   "source": [
    "As you can see the line contains the word `the` as first element, followed by 50 space-separated floating point numbers, which form the word vector. Let's define a parse function that parses the line and returns the word and the vector as a numpy array.\n",
    "\n",
    "We should take care of removing the trailing `\\n` character at the end, then split the line at spaces, which will return a list.\n",
    "Finally, we'll take the first element in the list as `word` and the remaining values as the vector. Here's the parse function:"
   ]
  },
  {
   "cell_type": "code",
   "execution_count": 8,
   "metadata": {},
   "outputs": [],
   "source": [
    "def parse_line(line):\n",
    "    values = line.strip().split()\n",
    "    word = values[0]\n",
    "    vector = np.asarray(values[1:], dtype='float32')\n",
    "    return word, vector"
   ]
  },
  {
   "cell_type": "markdown",
   "metadata": {},
   "source": [
    "Now that we have defined a parse function let's use it to load the word embeddings. We will use a Python dictionary for the embeddings and one for the word index. Let's create two empty dictionaries:"
   ]
  },
  {
   "cell_type": "code",
   "execution_count": 9,
   "metadata": {},
   "outputs": [],
   "source": [
    "embeddings = {}\n",
    "word_index = {}"
   ]
  },
  {
   "cell_type": "markdown",
   "metadata": {},
   "source": [
    "Let's also create an empty list for the inverted index that will map numbers to words:"
   ]
  },
  {
   "cell_type": "code",
   "execution_count": 10,
   "metadata": {},
   "outputs": [],
   "source": [
    "word_inverted_index = []"
   ]
  },
  {
   "cell_type": "markdown",
   "metadata": {},
   "source": [
    "Now we can loop over the lines in the file, parse each line and store it in the embeddings and word index dictionary. We will `enumerate` the lines as we proceed with the loop so that we can also retrieve their numeric index.\n",
    "\n",
    "Let's do it:"
   ]
  },
  {
   "cell_type": "code",
   "execution_count": 11,
   "metadata": {},
   "outputs": [],
   "source": [
    "with open(glove_path, 'r', encoding='utf-8') as fin:\n",
    "    for idx, line in enumerate(fin):\n",
    "        word, vector = parse_line(line) # parse a line\n",
    "        \n",
    "        embeddings[word] = vector  # add word vector\n",
    "        word_index[word] = idx  # add idx\n",
    "        word_inverted_index.append(word)  # append word"
   ]
  },
  {
   "cell_type": "markdown",
   "metadata": {},
   "source": [
    "Let's check a few entries in the indexes we built. For example, using `word_index`, we can retrieve the line number at which the word `good` appears:"
   ]
  },
  {
   "cell_type": "code",
   "execution_count": 12,
   "metadata": {},
   "outputs": [
    {
     "data": {
      "text/plain": [
       "219"
      ]
     },
     "execution_count": 12,
     "metadata": {},
     "output_type": "execute_result"
    }
   ],
   "source": [
    "word_index['good']"
   ]
  },
  {
   "cell_type": "markdown",
   "metadata": {},
   "source": [
    "Using the `word_inverted_index` we can do the reverse, i.e., given a line number, find the corresponding word:"
   ]
  },
  {
   "cell_type": "code",
   "execution_count": 13,
   "metadata": {},
   "outputs": [
    {
     "data": {
      "text/plain": [
       "'good'"
      ]
     },
     "execution_count": 13,
     "metadata": {},
     "output_type": "execute_result"
    }
   ],
   "source": [
    "word_inverted_index[219]"
   ]
  },
  {
   "cell_type": "markdown",
   "metadata": {},
   "source": [
    "The `embeddings` dictionary contains the actual word vectors, so for example, the word vector corresponding to the word `good` is the following:"
   ]
  },
  {
   "cell_type": "code",
   "execution_count": 14,
   "metadata": {},
   "outputs": [
    {
     "data": {
      "text/plain": [
       "array([-3.5586e-01,  5.2130e-01, -6.1070e-01, -3.0131e-01,  9.4862e-01,\n",
       "       -3.1539e-01, -5.9831e-01,  1.2188e-01, -3.1943e-02,  5.5695e-01,\n",
       "       -1.0621e-01,  6.3399e-01, -4.7340e-01, -7.5895e-02,  3.8247e-01,\n",
       "        8.1569e-02,  8.2214e-01,  2.2220e-01, -8.3764e-03, -7.6620e-01,\n",
       "       -5.6253e-01,  6.1759e-01,  2.0292e-01, -4.8598e-02,  8.7815e-01,\n",
       "       -1.6549e+00, -7.7418e-01,  1.5435e-01,  9.4823e-01, -3.9520e-01,\n",
       "        3.7302e+00,  8.2855e-01, -1.4104e-01,  1.6395e-02,  2.1115e-01,\n",
       "       -3.6085e-02, -1.5587e-01,  8.6583e-01,  2.6309e-01, -7.1015e-01,\n",
       "       -3.6770e-02,  1.8282e-03, -1.7704e-01,  2.7032e-01,  1.1026e-01,\n",
       "        1.4133e-01, -5.7322e-02,  2.7207e-01,  3.1305e-01,  9.2771e-01],\n",
       "      dtype=float32)"
      ]
     },
     "execution_count": 14,
     "metadata": {},
     "output_type": "execute_result"
    }
   ],
   "source": [
    "embeddings['good']"
   ]
  },
  {
   "cell_type": "markdown",
   "metadata": {},
   "source": [
    "How many components does this vector have? Let's check its length:"
   ]
  },
  {
   "cell_type": "code",
   "execution_count": 15,
   "metadata": {},
   "outputs": [
    {
     "data": {
      "text/plain": [
       "50"
      ]
     },
     "execution_count": 15,
     "metadata": {},
     "output_type": "execute_result"
    }
   ],
   "source": [
    "embedding_size = len(embeddings['good'])\n",
    "embedding_size"
   ]
  },
  {
   "cell_type": "markdown",
   "metadata": {},
   "source": [
    "We can also plot it:"
   ]
  },
  {
   "cell_type": "code",
   "execution_count": 16,
   "metadata": {},
   "outputs": [
    {
     "data": {
      "application/pdf": "[encoded data removed]",
      "image/png": "[encoded data removed]",
      "text/plain": [
       "<Figure size 540x360 with 1 Axes>"
      ]
     },
     "metadata": {
      "needs_background": "light"
     },
     "output_type": "display_data"
    }
   ],
   "source": [
    "plt.plot(embeddings['good']);"
   ]
  },
  {
   "cell_type": "markdown",
   "metadata": {},
   "source": [
    "It doesn't tell us much, but for example, we can compare the word vectors of a few words and see how they look. Let's plot a few numbers, like _two_, _three_, and _four_ and a few animals like _cat_, _dog_, and _rabbit_. As you will see numbers will look very similar to one another, and animals will be distinctly different from the numbers:"
   ]
  },
  {
   "cell_type": "code",
   "execution_count": 17,
   "metadata": {},
   "outputs": [
    {
     "data": {
      "application/pdf": "[encoded data removed]",
      "image/png": "[encoded data removed]",
      "text/plain": [
       "<Figure size 540x360 with 2 Axes>"
      ]
     },
     "metadata": {
      "needs_background": "light"
     },
     "output_type": "display_data"
    }
   ],
   "source": [
    "plt.subplot(211)\n",
    "plt.plot(embeddings['two'])\n",
    "plt.plot(embeddings['three'])\n",
    "plt.plot(embeddings['four'])\n",
    "plt.title(\"A few numbers\")\n",
    "plt.ylim(-2, 5)\n",
    "\n",
    "plt.subplot(212)\n",
    "plt.plot(embeddings['cat'])\n",
    "plt.plot(embeddings['dog'])\n",
    "plt.plot(embeddings['rabbit'])\n",
    "plt.title(\"A few animals\")\n",
    "plt.ylim(-2, 5)\n",
    "\n",
    "plt.tight_layout()"
   ]
  },
  {
   "cell_type": "markdown",
   "metadata": {},
   "source": [
    "This is reminiscent of [Bottleneck features](11_Pretrained_models_for_images.ipynb#Bottleneck-features) we've encountered in Lab 11. Each word corresponds to a vector with fifty numbers and words that carry similar semantic value will be encoded with similar vectors. As we shall see, GloVe vectors are built by looking at co-occurrence of words, so the above plots tell us that numbers like two, three and four are often found near to each other, which makes sense since they appear in similar contexts. I can say: \"I ran _two_ miles\" or \"I ran _three_ miles\" and both sentences make sense, while I cannot say \"I ran _cat_ miles\". _Two_ and _three_ can be found in similar contexts and therefore are encoded as similar vectors.\n",
    "\n",
    "Let's see how many words are contained in our GloVe embeddings by checking the `len` of the `embeddings` variable:"
   ]
  },
  {
   "cell_type": "code",
   "execution_count": 18,
   "metadata": {},
   "outputs": [
    {
     "data": {
      "text/plain": [
       "400000"
      ]
     },
     "execution_count": 18,
     "metadata": {},
     "output_type": "execute_result"
    }
   ],
   "source": [
    "vocabulary_size = len(embeddings)\n",
    "vocabulary_size"
   ]
  },
  {
   "cell_type": "markdown",
   "metadata": {},
   "source": [
    "There are 400000 words in the embeddings, which will cover most of our needs.\n",
    "\n",
    "> TIP: If you are curious to know more about how to build GloVe embeddings, we encourage you to read the [original paper](https://nlp.stanford.edu/pubs/glove.pdf) or take a look at the [source code](https://github.com/stanfordnlp/GloVe/tree/master/src)."
   ]
  },
  {
   "cell_type": "markdown",
   "metadata": {},
   "source": [
    "## Loading pre-trained embeddings in Keras"
   ]
  },
  {
   "cell_type": "markdown",
   "metadata": {},
   "source": [
    "Let's import tensorflow:"
   ]
  },
  {
   "cell_type": "code",
   "execution_count": 19,
   "metadata": {},
   "outputs": [],
   "source": [
    "import tensorflow as tf"
   ]
  },
  {
   "cell_type": "markdown",
   "metadata": {},
   "source": [
    "As we have seen in [Lab 8](./08_NLP_and_Text_Data.ipynb), Keras has an `Embedding` layer that can be trained to build custom embeddings. Here we will learn how to initialize it using pre-trained embeddings like the GloVe embeddings we have just loaded. First, let's load the `Sequential` model and the `Embedding` layer from Keras:"
   ]
  },
  {
   "cell_type": "code",
   "execution_count": 20,
   "metadata": {},
   "outputs": [],
   "source": [
    "from tensorflow.keras.models import Sequential\n",
    "from tensorflow.keras.layers import Embedding"
   ]
  },
  {
   "cell_type": "markdown",
   "metadata": {},
   "source": [
    "Next, we are going to arrange our pre-trained embeddings as a giant matrix of shape `(vocabulary_size, embedding_size)`. We will do this in 2 steps. First, let's create a zero matrix with the correct shape:"
   ]
  },
  {
   "cell_type": "code",
   "execution_count": 21,
   "metadata": {},
   "outputs": [],
   "source": [
    "embedding_weights = np.zeros((vocabulary_size,\n",
    "                              embedding_size))"
   ]
  },
  {
   "cell_type": "markdown",
   "metadata": {},
   "source": [
    "Then let's iterate over the items in our `word_index` dictionary and let's assign each vector in the `embeddings` dictionary to a line in the matrix. For example, we know from above that the word `good` has index 219. We will assign its vector to the row in the matrix corresponding to index 219 (i.e., the 220-th row). Let's do it:"
   ]
  },
  {
   "cell_type": "code",
   "execution_count": 22,
   "metadata": {},
   "outputs": [],
   "source": [
    "for word, index in word_index.items():\n",
    "    embedding_weights[index, :] = embeddings[word]"
   ]
  },
  {
   "cell_type": "markdown",
   "metadata": {},
   "source": [
    "Now that we have our pre-trained weights arranged in a matrix, we can create a model with a single `Embedding` layer, and we will then set the weights to be the pre-trained weights.\n",
    "\n",
    "We start by creating the embedding layer:"
   ]
  },
  {
   "cell_type": "code",
   "execution_count": 23,
   "metadata": {},
   "outputs": [],
   "source": [
    "emb_layer = Embedding(input_dim=vocabulary_size,\n",
    "                      output_dim=embedding_size,\n",
    "                      mask_zero=False,\n",
    "                      trainable=False)"
   ]
  },
  {
   "cell_type": "markdown",
   "metadata": {},
   "source": [
    "Notice that we specified the following parameters:\n",
    "- `input_dim`: this is the number of distinct words to embed, and it is equal to the `vocabulary_size`\n",
    "- `output_dim`: this is the embedding dimension and it has to coincide with the size of Glove vectors, i.e. 50 in our case.\n",
    "- `mask_zero`: this tells Keras whether we are using the index 0 as a special padding value or as a word. In our case, the index zero corresponds to the word 'the', so we need to set this flag to `False`\n",
    "- `trainable`: this tells Keras whether the weights in the embedding layer should be trainable. Since we take weights from Glove, this also should be false."
   ]
  },
  {
   "cell_type": "markdown",
   "metadata": {},
   "source": [
    "> TIP: for more info on the `mask_zero` flag, here is its documentation:\n",
    "\n",
    "    mask_zero: Whether or not the input value 0 is a special \"padding\"\n",
    "          value that should be masked out.\n",
    "          This is useful when using [recurrent layers](recurrent.md)\n",
    "          which may take variable length input.\n",
    "          If this is `True` then all subsequent layers\n",
    "          in the model need to support masking or an exception will be raised.\n",
    "          If mask_zero is set to True, as a consequence, index 0 cannot be\n",
    "          used in the vocabulary (input_dim should equal size of\n",
    "          vocabulary + 1).\n",
    "\n",
    "In our case, we have used the index 0 in the vocabulary for the word `the`, as we can check in the `word_inverted_index`:"
   ]
  },
  {
   "cell_type": "code",
   "execution_count": 24,
   "metadata": {},
   "outputs": [
    {
     "data": {
      "text/plain": [
       "'the'"
      ]
     },
     "execution_count": 24,
     "metadata": {},
     "output_type": "execute_result"
    }
   ],
   "source": [
    "word_inverted_index[0]"
   ]
  },
  {
   "cell_type": "markdown",
   "metadata": {},
   "source": [
    "so we have to set `mask_zero` to `False`. Had we started enumerating the word vectors from 1, we could have reserved the 0 value for padding, which, as the doc says, is useful when using recurrent layers.\n",
    "\n",
    "The `trainable=False` flag tells Keras that this layer is not trainable, i.e., its weights cannot be changed during training. We used this earlier when using pre-trained models for images in [Lab11](11_Pretrained_models_for_images.ipynb).\n",
    "\n",
    "Notice that simply passing the matrix to the `Embedding` constructor is not enough. We need to put this layer in a model in order for Keras to actually create a Tensorflow graph with it. Let's do it:"
   ]
  },
  {
   "cell_type": "code",
   "execution_count": 25,
   "metadata": {},
   "outputs": [],
   "source": [
    "model = Sequential()\n",
    "model.add(emb_layer)"
   ]
  },
  {
   "cell_type": "markdown",
   "metadata": {},
   "source": [
    "Finally we need to set the weights to be the Glove weights:"
   ]
  },
  {
   "cell_type": "code",
   "execution_count": 26,
   "metadata": {},
   "outputs": [],
   "source": [
    "model.set_weights([embedding_weights])"
   ]
  },
  {
   "cell_type": "markdown",
   "metadata": {},
   "source": [
    "Now that we have created a model we can check that the embedding layer does use the pre-trained weights. Let's check the embeddings for the word `cat`. Here are the original values we loaded from the file:"
   ]
  },
  {
   "cell_type": "code",
   "execution_count": 27,
   "metadata": {},
   "outputs": [
    {
     "data": {
      "text/plain": [
       "array([ 0.45281 , -0.50108 , -0.53714 , -0.015697,  0.22191 ,  0.54602 ,\n",
       "       -0.67301 , -0.6891  ,  0.63493 , -0.19726 ,  0.33685 ,  0.7735  ,\n",
       "        0.90094 ,  0.38488 ,  0.38367 ,  0.2657  , -0.08057 ,  0.61089 ,\n",
       "       -1.2894  , -0.22313 , -0.61578 ,  0.21697 ,  0.35614 ,  0.44499 ,\n",
       "        0.60885 , -1.1633  , -1.1579  ,  0.36118 ,  0.10466 , -0.78325 ,\n",
       "        1.4352  ,  0.18629 , -0.26112 ,  0.83275 , -0.23123 ,  0.32481 ,\n",
       "        0.14485 , -0.44552 ,  0.33497 , -0.95946 , -0.097479,  0.48138 ,\n",
       "       -0.43352 ,  0.69455 ,  0.91043 , -0.28173 ,  0.41637 , -1.2609  ,\n",
       "        0.71278 ,  0.23782 ], dtype=float32)"
      ]
     },
     "execution_count": 27,
     "metadata": {},
     "output_type": "execute_result"
    }
   ],
   "source": [
    "embeddings['cat'] "
   ]
  },
  {
   "cell_type": "markdown",
   "metadata": {},
   "source": [
    "Now let's retieve the index of the word `cat` and let's pass it to the `model.predict` method. First we retrieve the index of the word `cat` using the `word_index`:"
   ]
  },
  {
   "cell_type": "code",
   "execution_count": 28,
   "metadata": {},
   "outputs": [],
   "source": [
    "cat_index = word_index['cat']"
   ]
  },
  {
   "cell_type": "markdown",
   "metadata": {},
   "source": [
    "The index is:"
   ]
  },
  {
   "cell_type": "code",
   "execution_count": 29,
   "metadata": {},
   "outputs": [
    {
     "data": {
      "text/plain": [
       "5450"
      ]
     },
     "execution_count": 29,
     "metadata": {},
     "output_type": "execute_result"
    }
   ],
   "source": [
    "cat_index"
   ]
  },
  {
   "cell_type": "markdown",
   "metadata": {},
   "source": [
    "Now that we have the index, we run `model.predict` on a double nested list containing the single index of the word `cat`:\n",
    "\n",
    "> TIP: we need to use a list here because the `predict` method expects as input an integer matrix of size (batch, input_length), as explained in the [documentation](https://keras.io/layers/embeddings/) and here we have a batch of 1 point with a sequence of 1 word."
   ]
  },
  {
   "cell_type": "code",
   "execution_count": 30,
   "metadata": {},
   "outputs": [
    {
     "data": {
      "text/plain": [
       "array([[[ 0.45281 , -0.50108 , -0.53714 , -0.015697,  0.22191 ,\n",
       "          0.54602 , -0.67301 , -0.6891  ,  0.63493 , -0.19726 ,\n",
       "          0.33685 ,  0.7735  ,  0.90094 ,  0.38488 ,  0.38367 ,\n",
       "          0.2657  , -0.08057 ,  0.61089 , -1.2894  , -0.22313 ,\n",
       "         -0.61578 ,  0.21697 ,  0.35614 ,  0.44499 ,  0.60885 ,\n",
       "         -1.1633  , -1.1579  ,  0.36118 ,  0.10466 , -0.78325 ,\n",
       "          1.4352  ,  0.18629 , -0.26112 ,  0.83275 , -0.23123 ,\n",
       "          0.32481 ,  0.14485 , -0.44552 ,  0.33497 , -0.95946 ,\n",
       "         -0.097479,  0.48138 , -0.43352 ,  0.69455 ,  0.91043 ,\n",
       "         -0.28173 ,  0.41637 , -1.2609  ,  0.71278 ,  0.23782 ]]],\n",
       "      dtype=float32)"
      ]
     },
     "execution_count": 30,
     "metadata": {},
     "output_type": "execute_result"
    }
   ],
   "source": [
    "model.predict([[cat_index]])"
   ]
  },
  {
   "cell_type": "markdown",
   "metadata": {},
   "source": [
    "As you can see the method returns exactly the same values, so we have successfully initialized a Keras model with a pre-trained embedding."
   ]
  },
  {
   "cell_type": "markdown",
   "metadata": {},
   "source": [
    "## Gensim"
   ]
  },
  {
   "cell_type": "markdown",
   "metadata": {},
   "source": [
    "Gensim is a topic modelling library in Python that contains a lot of functions related to extracting meaning and manipulating text. Let's import it and have some fun with word embeddings:"
   ]
  },
  {
   "cell_type": "code",
   "execution_count": 31,
   "metadata": {},
   "outputs": [],
   "source": [
    "import gensim"
   ]
  },
  {
   "cell_type": "markdown",
   "metadata": {},
   "source": [
    "In order to load Glove embeddings using Gensim we need to convert them into the appropriate format. Luckily for us Gensim has a function for that. We just need to import the `glove2word2vec` script:"
   ]
  },
  {
   "cell_type": "code",
   "execution_count": 32,
   "metadata": {},
   "outputs": [],
   "source": [
    "from gensim.scripts.glove2word2vec import glove2word2vec"
   ]
  },
  {
   "cell_type": "markdown",
   "metadata": {},
   "source": [
    "and then run it. We first set input and output paths:"
   ]
  },
  {
   "cell_type": "code",
   "execution_count": 33,
   "metadata": {},
   "outputs": [],
   "source": [
    "glove_path = '../data/embeddings/glove.6B.50d.txt'\n",
    "glove_w2v_path = '../data/embeddings/glove.6B.50d.txt.vec'"
   ]
  },
  {
   "cell_type": "code",
   "execution_count": 34,
   "metadata": {},
   "outputs": [
    {
     "data": {
      "text/plain": [
       "(400000, 50)"
      ]
     },
     "execution_count": 34,
     "metadata": {},
     "output_type": "execute_result"
    }
   ],
   "source": [
    "glove2word2vec(glove_path, glove_w2v_path)"
   ]
  },
  {
   "cell_type": "markdown",
   "metadata": {},
   "source": [
    "Next we use the `gensim.models.KeyedVectors.load_word2vec_format` to load the word vectors from the file:"
   ]
  },
  {
   "cell_type": "code",
   "execution_count": 35,
   "metadata": {},
   "outputs": [],
   "source": [
    "from gensim.models import KeyedVectors"
   ]
  },
  {
   "cell_type": "code",
   "execution_count": 36,
   "metadata": {},
   "outputs": [],
   "source": [
    "glove_model = KeyedVectors.load_word2vec_format(\n",
    "    glove_w2v_path, binary=False)"
   ]
  },
  {
   "cell_type": "markdown",
   "metadata": {},
   "source": [
    "Now that we have loaded the vectors into a Gensim model, we have access to a lot of functionality. For example, we can quickly find what are the most similar words to a given word.\n",
    "\n",
    "Here's how we look for the five closest words to the word `good`:"
   ]
  },
  {
   "cell_type": "code",
   "execution_count": 37,
   "metadata": {},
   "outputs": [
    {
     "data": {
      "text/plain": [
       "[('better', 0.9284390807151794),\n",
       " ('really', 0.9220625162124634),\n",
       " ('always', 0.9165270328521729),\n",
       " ('sure', 0.9033513069152832),\n",
       " ('something', 0.9014205932617188)]"
      ]
     },
     "execution_count": 37,
     "metadata": {},
     "output_type": "execute_result"
    }
   ],
   "source": [
    "glove_model.most_similar(positive=['good'], topn=5)"
   ]
  },
  {
   "cell_type": "markdown",
   "metadata": {},
   "source": [
    "The `.most_similar` method allows for both a list of `positive` and `negative` words. Feel free to play with the list of words to get a feel for how they affect the output. The closest words to `good` are words that can appear in the same context as good, so it's quite obvious that we should get similar adjectives like `better` or adverbs like `really` and `always`.\n",
    "\n",
    "If we try with the number `two` we should get other numbers:"
   ]
  },
  {
   "cell_type": "code",
   "execution_count": 38,
   "metadata": {},
   "outputs": [
    {
     "data": {
      "text/plain": [
       "[('three', 0.9885902404785156),\n",
       " ('four', 0.9817472696304321),\n",
       " ('five', 0.9644663333892822),\n",
       " ('six', 0.964131236076355),\n",
       " ('seven', 0.9512959718704224)]"
      ]
     },
     "execution_count": 38,
     "metadata": {},
     "output_type": "execute_result"
    }
   ],
   "source": [
    "glove_model.most_similar(positive=['two'], topn=5)"
   ]
  },
  {
   "cell_type": "markdown",
   "metadata": {},
   "source": [
    "### Word Analogies"
   ]
  },
  {
   "cell_type": "markdown",
   "metadata": {},
   "source": [
    "Since word vectors are vectors, we can do any vector operation with them, including addition, subtraction and dot products. For example we can perform operations between words like:\n",
    "\n",
    "    result = king - man + woman\n",
    "\n",
    "where the vector `result` is a perfectly valid vector in the embedding space. Using the `.most_similar` method, we can look for the three vectors closest to `result`. Can you guess which vector will be the closest?\n",
    "\n",
    "If you guessed `queen`, which is the feminine counterpart of `king`, you guessed right. Let's see it in action:"
   ]
  },
  {
   "cell_type": "code",
   "execution_count": 39,
   "metadata": {},
   "outputs": [
    {
     "data": {
      "text/plain": [
       "[('queen', 0.8523603677749634),\n",
       " ('throne', 0.7664333581924438),\n",
       " ('prince', 0.7592144012451172)]"
      ]
     },
     "execution_count": 39,
     "metadata": {},
     "output_type": "execute_result"
    }
   ],
   "source": [
    "glove_model.most_similar(positive=['king', 'woman'],\n",
    "                         negative=['man'], topn=3)"
   ]
  },
  {
   "cell_type": "markdown",
   "metadata": {},
   "source": [
    "i.e. we have found that\n",
    "\n",
    "    queen ~ king - man + woman\n",
    "\n",
    "Another way to look at this is to say that the vector `queen - king` is similar to the vector `woman - man`. This is often described with this famous picture:\n",
    "\n",
    "![Semantic relations in embedding space](./assets/manwomankingqueen.png)\n",
    "\n",
    "In this figure, we imagine an embedding space that has only two axes (instead of 50 or 300), and we represent the words as points in the embedded space. The arrows represent the vector distances between the words.\n",
    "\n",
    "Since this chart can be useful to understand how the model is representing the semantic space, it's legitimate to ask if we can visualize all of glove words in a similar chart using a [dimensionality reduction]() technique. The answer to this question is yes, and we can actually leverage tensorboard for this. We'll see how in the next Section."
   ]
  },
  {
   "cell_type": "markdown",
   "metadata": {},
   "source": [
    "## Visualization"
   ]
  },
  {
   "cell_type": "markdown",
   "metadata": {},
   "source": [
    "Tensorboard also contains a projector that allows us to explore word embeddings visually. Let's save our word embeddings and let's visualize them in Tensorboard. First we need to create an output folder. We'll use the `/tmp/ztdl_models/embeddings/` folder for output. We will need the `os` module:"
   ]
  },
  {
   "cell_type": "code",
   "execution_count": 40,
   "metadata": {},
   "outputs": [],
   "source": [
    "import os"
   ]
  },
  {
   "cell_type": "markdown",
   "metadata": {},
   "source": [
    "Then let's define a path variable that we'll use later too:"
   ]
  },
  {
   "cell_type": "code",
   "execution_count": 41,
   "metadata": {},
   "outputs": [],
   "source": [
    "model_dir = '/tmp/ztdl_models/embeddings/'"
   ]
  },
  {
   "cell_type": "markdown",
   "metadata": {},
   "source": [
    "Let's also load the `rmtree` function from `shutil` so that we can delete the directory if it already exists:"
   ]
  },
  {
   "cell_type": "code",
   "execution_count": 42,
   "metadata": {},
   "outputs": [],
   "source": [
    "from shutil import rmtree"
   ]
  },
  {
   "cell_type": "code",
   "execution_count": 43,
   "metadata": {},
   "outputs": [],
   "source": [
    "rmtree(model_dir, ignore_errors=True)"
   ]
  },
  {
   "cell_type": "markdown",
   "metadata": {},
   "source": [
    "Finally let's create the folder:"
   ]
  },
  {
   "cell_type": "code",
   "execution_count": 44,
   "metadata": {},
   "outputs": [],
   "source": [
    "os.makedirs(model_dir)"
   ]
  },
  {
   "cell_type": "markdown",
   "metadata": {},
   "source": [
    "For the purposes of this visualization we will limit our Embedding layer to the top most frequent 4000 words in the glove set. Let's set a variable called `n_viz` to 4000 (you can change this number if you wish):"
   ]
  },
  {
   "cell_type": "code",
   "execution_count": 45,
   "metadata": {},
   "outputs": [],
   "source": [
    "n_viz = 4000"
   ]
  },
  {
   "cell_type": "markdown",
   "metadata": {},
   "source": [
    "Let's create a new embedding layer, with only 4000 x 50 weights. Notice that we still pass the `mask_zero=False` parameter since our first vector, corresponding to the index 0, is the word `the`:"
   ]
  },
  {
   "cell_type": "code",
   "execution_count": 46,
   "metadata": {},
   "outputs": [],
   "source": [
    "emb_layer_viz = Embedding(n_viz,\n",
    "                          embedding_size,\n",
    "                          mask_zero=False,\n",
    "                          trainable=False)"
   ]
  },
  {
   "cell_type": "markdown",
   "metadata": {},
   "source": [
    "Let's stick this layer into a Sequential model so that the weights get initialized:"
   ]
  },
  {
   "cell_type": "code",
   "execution_count": 47,
   "metadata": {},
   "outputs": [],
   "source": [
    "model = Sequential([emb_layer_viz])"
   ]
  },
  {
   "cell_type": "markdown",
   "metadata": {},
   "source": [
    "and let's set the weights to Glove:"
   ]
  },
  {
   "cell_type": "code",
   "execution_count": 48,
   "metadata": {},
   "outputs": [],
   "source": [
    "model.set_weights([embedding_weights[:n_viz]])"
   ]
  },
  {
   "cell_type": "markdown",
   "metadata": {},
   "source": [
    "Now let's visualize these embeddings. The [most recent documentation](https://www.tensorflow.org/alpha/tutorials/sequences/word_embeddings) on how to do this suggests to create a separate tsv file for the weights and the metadata. We will choose a different route, saving the model as a [Checkpoint](https://www.tensorflow.org/alpha/guide/checkpoints) and attaching the metadata to it with a small config file.\n",
    "\n",
    "Note that in Tensorflow you can save a model as a `Checkpoint` or as a `SavedModel`. We'll use checkpoints here, and saved models in the next lab for serving\n",
    "\n",
    "We need to accomplish three things, which are independent:\n",
    "- save a model checkpoint\n",
    "- save a file with the words (metadata)\n",
    "- save a configuration file that binds the metadata to the embedding tensor\n",
    "\n",
    "Let's start by saving the model:"
   ]
  },
  {
   "cell_type": "code",
   "execution_count": 49,
   "metadata": {},
   "outputs": [
    {
     "data": {
      "text/plain": [
       "'/tmp/ztdl_models/embeddings/model.ckpt-1'"
      ]
     },
     "execution_count": 49,
     "metadata": {},
     "output_type": "execute_result"
    }
   ],
   "source": [
    "checkpoint = tf.train.Checkpoint(model=model)\n",
    "checkpoint.save(os.path.join(model_dir, 'model.ckpt'))"
   ]
  },
  {
   "cell_type": "markdown",
   "metadata": {},
   "source": [
    "This operation creates a few files in the `model_dir` folder, as you can see with the `os.listdir` command:"
   ]
  },
  {
   "cell_type": "code",
   "execution_count": 50,
   "metadata": {},
   "outputs": [
    {
     "data": {
      "text/plain": [
       "['model.ckpt-1.index', 'model.ckpt-1.data-00000-of-00001', 'checkpoint']"
      ]
     },
     "execution_count": 50,
     "metadata": {},
     "output_type": "execute_result"
    }
   ],
   "source": [
    "os.listdir(model_dir)"
   ]
  },
  {
   "cell_type": "markdown",
   "metadata": {},
   "source": [
    "These files contain the weights, but have no information about which word corresponds to each vector. What we need is a `metadata.tsv` file with the list of words. We can easily create it by looping over the indexes from 0 to `n_viz` adding one word per line to the file:"
   ]
  },
  {
   "cell_type": "code",
   "execution_count": 51,
   "metadata": {},
   "outputs": [],
   "source": [
    "fname = os.path.join(model_dir, 'metadata.tsv')\n",
    "\n",
    "with open(fname, 'w', encoding=\"utf-8\") as fout:\n",
    "    for index in range(0, n_viz):\n",
    "        word = word_inverted_index[index]\n",
    "        fout.write(word + '\\n')"
   ]
  },
  {
   "cell_type": "markdown",
   "metadata": {},
   "source": [
    "You can check the content of this file and see that it contains one word per line like:\n",
    "\n",
    "    the\n",
    "    ,\n",
    "    .\n",
    "    of\n",
    "    to\n",
    "    and\n",
    "    ..."
   ]
  },
  {
   "cell_type": "markdown",
   "metadata": {},
   "source": [
    "This file can be associated to the model using a small configuration file."
   ]
  },
  {
   "cell_type": "code",
   "execution_count": 52,
   "metadata": {},
   "outputs": [],
   "source": [
    "config_string = \"\"\"\n",
    "embeddings {\n",
    "  tensor_name: \"model/layer_with_weights-0/embeddings/.ATTRIBUTES/VARIABLE_VALUE\"\n",
    "  metadata_path: \"metadata.tsv\"\n",
    "}\n",
    "\"\"\""
   ]
  },
  {
   "cell_type": "code",
   "execution_count": 53,
   "metadata": {},
   "outputs": [],
   "source": [
    "fname = os.path.join(model_dir, 'projector_config.pbtxt')\n",
    "\n",
    "with open(fname, 'w', encoding=\"utf-8\") as fout:\n",
    "    fout.write(config_string)"
   ]
  },
  {
   "cell_type": "markdown",
   "metadata": {},
   "source": [
    "> TIP: As noted above, we could also save the weights and the metadata as tsv and then load them in the Tensorboard projector. This is explained in the [Tensorflow 2.0 guide](https://www.tensorflow.org/alpha/tutorials/sequences/word_embeddings)."
   ]
  },
  {
   "cell_type": "markdown",
   "metadata": {},
   "source": [
    "We can now start [Tensorboard](https://www.tensorflow.org/guide/summaries_and_tensorboard):\n",
    "\n",
    "    tensorboard --logdir=/tmp/ztdl_models/embeddings/\n",
    "\n",
    "and point our browser to:\n",
    "\n",
    "    http://localhost:6006/#projector\n",
    "\n",
    "We should see the word embedding projector spinning. Using the `Search` tab on the right, let's look for a specific word, for example, the word `network` and see what the closest words are. You should see something like this:\n",
    "\n",
    "![Tensorflow projector](./assets/projector.png)\n",
    "\n",
    "You can also uncomment the next two cells to display Tensorboard in the notebook."
   ]
  },
  {
   "cell_type": "code",
   "execution_count": 54,
   "metadata": {},
   "outputs": [],
   "source": [
    "# %load_ext tensorboard.notebook"
   ]
  },
  {
   "cell_type": "code",
   "execution_count": 55,
   "metadata": {},
   "outputs": [],
   "source": [
    "# %tensorboard --logdir /tmp/ztdl_models/embeddings/"
   ]
  },
  {
   "cell_type": "markdown",
   "metadata": {},
   "source": [
    "## Other pre-trained embeddings"
   ]
  },
  {
   "cell_type": "markdown",
   "metadata": {},
   "source": [
    "We have learned how to use and visualize pre-trained embeddings using GloVe. GloVe is a commonly used set of pre-trained embeddings, but it's not the only one. We will briefly introduce here two other trendy sets of pre-trained embeddings: _Word2Vec_ and _FastText_."
   ]
  },
  {
   "cell_type": "markdown",
   "metadata": {},
   "source": [
    "### Word2Vec"
   ]
  },
  {
   "cell_type": "markdown",
   "metadata": {},
   "source": [
    "[Word2Vec](https://code.google.com/archive/p/word2vec/) is a set of word vectors introduced by Google in 2013. These vectors also try to encapsulate the meaning of a word by looking at its context, i.e., the words that precede it and follow it.\n",
    "\n",
    "You can find a detailed tutorial on how to build Word2Vec vectors in the [Tensorflow Tutorials page](https://www.tensorflow.org/tutorials/representation/word2vec). The two main useful ideas are the _Skip-gram Model_ and the _noise-contrastive estimation (NCE) loss_. Let's take a look at these in a bit more detail."
   ]
  },
  {
   "cell_type": "markdown",
   "metadata": {},
   "source": [
    "#### Skip-grams"
   ]
  },
  {
   "cell_type": "markdown",
   "metadata": {},
   "source": [
    "Skip-grams are simply pairs of words that appear in context. Let's consider the first two lines of the song imagine:\n",
    "\n",
    "```\n",
    "imagine there's no heaven it's easy if you try\n",
    "```\n",
    "\n",
    "and let's focus on the word _heaven_. If we choose a context of -2, +2 words, we see that the following words appear in the context of heaven:\n",
    "- _there's_\n",
    "- _no_\n",
    "- _it's_\n",
    "- _easy_\n",
    "\n",
    "We could, therefore, try to build a model that takes a word in input and tries to predict the probability that another word in the dictionary appears in its context by using input/output pairs like:\n",
    "\n",
    "|INPUT|OUTPUT|\n",
    "|:---:|:---:|\n",
    "|heaven|there's|\n",
    "|heaven|no|\n",
    "|heaven|it's|\n",
    "|heaven|easy|\n",
    "\n",
    "We could use a Softmax over the whole dictionary and eventually learn these probabilities. However, this would require a massive amount of data, since the dictionary size is enormous.\n",
    "\n",
    "Hence, Word2Vec is trained using a trick called _Negative Sampling_."
   ]
  },
  {
   "cell_type": "markdown",
   "metadata": {},
   "source": [
    "#### Negative Sampling and the noise-contrastive estimation (NCE) loss"
   ]
  },
  {
   "cell_type": "markdown",
   "metadata": {},
   "source": [
    "Imagine solving a slightly different problem where instead of having a word as input and a word as output, we have a pair as input and a binary label as output. We can use the pairs above as positive examples, since they are actual pairs found in the training text, and we can build fake pairs that have the same first word and a random second word. Our data will look like this:\n",
    "\n",
    "|INPUT|OUTPUT|\n",
    "|:---:|:---:|\n",
    "|(heaven, there's)|1|\n",
    "|(heaven, no)|1|\n",
    "|(heaven, it's)|1|\n",
    "|(heaven, easy)|1|\n",
    "|(heaven, cat)|0|\n",
    "|(heaven, brain)|0|\n",
    "|(heaven, swimming)|0|\n",
    "|(heaven, chair)|0|\n",
    "|...|...|\n",
    "\n",
    "We have constructed negative pairs by randomly choosing words from the dictionary. This model learns to predict the probability that given a first word, the second word is in its context or not, which is the same problem as before. However, this model is much faster to train, because we are only choosing a small set of negative examples at each batch instead of having the whole dictionary.\n",
    "\n",
    "These two tricks allow training Word2Vec quite easily. In our case, we will not even train it but rely on a pre-trained version of these embeddings that's been trained using data from Google News.\n",
    "\n",
    "> TIP: if you want to learn more about Word2Vec we encourage you to read the [Wikipedia page](https://en.wikipedia.org/wiki/Word2vec) and to go through the [tutorial](https://www.tensorflow.org/tutorials/representation/word2vec) mentioned earlier."
   ]
  },
  {
   "cell_type": "markdown",
   "metadata": {},
   "source": [
    "### FastText"
   ]
  },
  {
   "cell_type": "markdown",
   "metadata": {},
   "source": [
    "[FastText](https://fasttext.cc/) is a library for efficient learning of word representations and sentence classification developed by Facebook Research. It is open-source, free and lightweight and it allows users to learn text representations and text classifiers. [Here](https://github.com/facebookresearch/fastText) is the Github repository and [here](https://fasttext.cc/blog/2016/08/18/blog-post.html) you can read the blog post announcing its publication.\n",
    "\n",
    "FastText has two exciting aspects.\n",
    "\n",
    "1) fastText word vectors are built from vectors of substrings of characters contained in it. This allows building vectors even for misspelled words or concatenation of words.\n",
    "\n",
    "2) fastText has been designed to work on a variety of languages by taking advantage of their morphological structure. So, pre-trained vectors are available for many other languages besides English.\n",
    "\n",
    "You can download the pre-trained English vectors [here](https://fasttext.cc/docs/en/english-vectors.html).\n",
    "You can download the pre-trained vectors for many other languages [here](https://fasttext.cc/docs/en/crawl-vectors.html)\n",
    "\n",
    "In the exercises we will use these vectors and compare their results with GloVe and Word2Vec."
   ]
  },
  {
   "cell_type": "markdown",
   "metadata": {},
   "source": [
    "## Exercises"
   ]
  },
  {
   "cell_type": "markdown",
   "metadata": {},
   "source": [
    "### Exercise 1"
   ]
  },
  {
   "cell_type": "markdown",
   "metadata": {},
   "source": [
    "Compare the representations of Word2Vec, Glove and FastText. In the `data/embeddings` folder we provided you with two additional scripts to download FastText and Word2Vec. Go ahead and download each of them into the `data/embeddings`. Then load each of the 3 embeddings in a separate Gensim model and complete the following steps:\n",
    "\n",
    "1. define a list of words containing the following words: 'good', 'bad', 'fast', 'tensor', 'teacher', 'student'.\n",
    "- create a function called `get_top_5(words, model)` that retrieves the top 5 most similar words to the list of words and compare what the 3 different embeddings give you\n",
    "- apply the same function to each word in the list separately and compare the lists of the 3 embeddings.\n",
    "- explore the following word analogies:\n",
    "\n",
    "\n",
    "    man:king=woman:? ==> expected queen\n",
    "    france:paris=germany:? ==> expected berlin\n",
    "    teacher:teach=student:? ==> expected learn\n",
    "    cat:kitten=dog:? ==> expected puppy\n",
    "    english:friday=italiano:? ==> expected venerdì\n",
    "\n",
    "Can word analogies be used for translation?\n",
    "\n",
    "Note that loading the vector may take several minutes depending on your computer."
   ]
  },
  {
   "cell_type": "code",
   "execution_count": null,
   "metadata": {},
   "outputs": [],
   "source": []
  },
  {
   "cell_type": "markdown",
   "metadata": {},
   "source": [
    "### Exercise 2"
   ]
  },
  {
   "cell_type": "markdown",
   "metadata": {},
   "source": [
    "The [Reuters Newswire topic classification dataset](https://keras.io/datasets/#reuters-newswire-topics-classification) is a dataset of 11,228 newswires from Reuters, labeled over 46 topics. This dataset is provided in the `keras.datasets` module and it's easy to use.\n",
    "\n",
    "Let's compare the performance of a model using pre-trained embeddings with a model using random embeddings on the topic classification task.\n",
    "\n",
    "- Load the data from `keras.datasets.reuters`\n",
    "- Retrieve the word index and create the reverse_word_idx as done for IMDB in [Lab 8](8_NLP_and_Text_Data.ipynb).\n",
    "- Augment the reverse word index with `pad_char`, `start_char` and `oov_char` at indices 0, 1, 2 respectively.\n",
    "- Check the maximum length of a newswire and use the `pad_sequences` function to pad everything to that 100 words.\n",
    "- Create and train two models, one using pre-trained embeddings and the other using a randomly initialized embedding\n",
    "- Compare their performance on this dataset using a recurrent model. In particular, check which of the two models shows the worst overfitting."
   ]
  },
  {
   "cell_type": "code",
   "execution_count": null,
   "metadata": {},
   "outputs": [],
   "source": []
  }
 ],
 "metadata": {
  "kernelspec": {
   "display_name": "Python 3",
   "language": "python",
   "name": "python3"
  },
  "language_info": {
   "codemirror_mode": {
    "name": "ipython",
    "version": 3
   },
   "file_extension": ".py",
   "mimetype": "text/x-python",
   "name": "python",
   "nbconvert_exporter": "python",
   "pygments_lexer": "ipython3",
   "version": "3.7.3"
  },
  "title": "Pretrained Embeddings for Text"
 },
 "nbformat": 4,
 "nbformat_minor": 2
}
