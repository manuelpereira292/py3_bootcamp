{
 "cells": [
  {
   "cell_type": "markdown",
   "metadata": {},
   "source": [
    "# Preface"
   ]
  },
  {
   "cell_type": "markdown",
   "metadata": {},
   "source": [
    "### How to approach exercises"
   ]
  },
  {
   "cell_type": "markdown",
   "metadata": {},
   "source": [
    "Before we go on, let's spend a couple of words on exercises. They are a crucial part of this labs, and we suggest working as follows:\n",
    "\n",
    "1. Execute the code provided with the lab, to get a sense of what it is doing.\n",
    "1. Once we have run the provided code, we suggest starting working through the exercises. We begin with easy exercises and build gradually towards more difficult ones.\n",
    "\n",
    "If you find yourself stuck, here are some resources where you can look for help:\n",
    "\n",
    "- Look at the error message: understand which parts of it are essential. The most critical line in the Python error message is the last one. It tells us the error type. The other lines give us information about what caused the error to happen so that we can go ahead and fix it.\n",
    "- The internet: try pasting part of the error message in a search engine and see what you find. It is very likely that someone has already encountered the same problem and a solution is available.\n",
    "- [Stack Overflow](https://stackoverflow.com/): this is a vast knowledge base where people answer code-related questions. Very often you can search for the specific error message you got and find the answer here."
   ]
  },
  {
   "cell_type": "markdown",
   "metadata": {},
   "source": [
    "### Notation"
   ]
  },
  {
   "cell_type": "markdown",
   "metadata": {},
   "source": [
    "You will find different fonts for different parts of the text:\n",
    "\n",
    "- **bold** for new terms\n",
    "- _italic_  to emphasize important concepts\n",
    "- `fixed width` for code variables\n",
    "- $math$ for math\n",
    "\n",
    "We may use tip blocks, like this one:\n",
    "\n",
    "> TIP: this is a tip\n",
    "\n",
    "to indicate practical suggestions and concepts that add to the material but are not strictly core. \n",
    "\n",
    "And we may also use math blocks, like this one:\n",
    "\n",
    "\\begin{equation}\n",
    "x_0 + x_1 + x_2\n",
    "\\end{equation}\n",
    "\n",
    "for math formulas."
   ]
  },
  {
   "cell_type": "markdown",
   "metadata": {
    "button": false,
    "new_sheet": false,
    "run_control": {
     "read_only": false
    }
   },
   "source": [
    "## Prerequisites - Is this labs right for me?"
   ]
  },
  {
   "cell_type": "markdown",
   "metadata": {},
   "source": [
    "This labs is for software engineers and developers that want to approach Machine Learning and Deep Learning and understand it. When reviewing current labss on these topics, we found that they tend to either be very abstract and theoretical with lots of maths and formulas or too practical, with just code and no explanation of the theory.\n",
    "\n",
    "In this labs, we'll try to find a balance between the two. It is an application focused labs, with working examples, coding exercises, solutions, and real-world datasets. At the same time, we won't shy away from the math when necessary. We'll try to keep equations to a minimum, so here are a few symbols you may encounter in the course of the labs."
   ]
  },
  {
   "cell_type": "markdown",
   "metadata": {},
   "source": [
    "### Sum"
   ]
  },
  {
   "cell_type": "markdown",
   "metadata": {},
   "source": [
    "Sometimes we will need to indicate the sum of many quantities at once. Instead of writing the sum explicitly like this:\n",
    "\n",
    "\\begin{equation}\n",
    "x_0 + x_1 + x_2 + x_3 + x_4 + x_5 +...\n",
    "\\end{equation}\n",
    "\n",
    "we may use the summation symbol $\\sum$ and write it like this:\n",
    "\n",
    "\\begin{equation}\n",
    "\\sum_i x_i\n",
    "\\end{equation}"
   ]
  },
  {
   "cell_type": "markdown",
   "metadata": {},
   "source": [
    "### Partial derivatives"
   ]
  },
  {
   "cell_type": "markdown",
   "metadata": {},
   "source": [
    "Sometimes we will need to indicate the speed of change in a function with respect to one of its arguments, which is obtained through a **partial derivative**, indicated with the symbol $\\partial$:\n",
    "\n",
    "\\begin{equation}\n",
    "\\frac{\\partial f(x_1, x_2, ...)}{\\partial x_1}\n",
    "\\end{equation}\n",
    "\n",
    "It means we are looking at how much $f$ is changing for a unit of change in $x_1$ when all the other variables are kept fixed (find more about on [Wikipedia](https://en.wikipedia.org/wiki/Partial_derivative))."
   ]
  },
  {
   "cell_type": "markdown",
   "metadata": {},
   "source": [
    "### Dot product"
   ]
  },
  {
   "cell_type": "markdown",
   "metadata": {},
   "source": [
    "A lot of Deep Learning relies on a few common linear algebra concepts like vectors and matrices. In particular, an operation we will frequently use is the dot product: $A.B$. If you've never seen this before it may be a great time to look up on [Wikipedia](https://en.wikipedia.org/wiki/Dot_product) how it works.\n",
    "\n",
    "In any case do not worry too much about the math. We will introduce it gradually and only when needed, so you'll have time to get used to it."
   ]
  },
  {
   "cell_type": "markdown",
   "metadata": {},
   "source": [
    "### Python"
   ]
  },
  {
   "cell_type": "markdown",
   "metadata": {},
   "source": [
    "This labs is not about Python. It's a labs about Deep Learning and how to build Deep Learning models using Python. Therefore, some familiarity with Python is required to follow along.\n",
    "\n",
    "One of the questions we often receive is  \"I don't have any experience with Python, would I able to follow the course if I take a basic Python course before?\". The answer is YES, but let us help you with that.\n",
    "\n",
    "This labs focuses on data techniques, and it assumes some familiarity with Python and programming languages. It is designed to speed up your learning curve in deep learning giving you enough knowledge for you to then be able to continue learning on your own.\n",
    "\n",
    "So what are the things you can do to ramp up in Python?\n",
    "\n",
    "Here are two resources to get you started:\n",
    "- [Learn Python the Hard Way](https://learnpythonthehardway.org/book/):  a great way to start learning without putting too much effort into it.\n",
    "- [Hacker Rank 30 days of code](https://www.hackerrank.com/domains/tutorials/30-days-of-code):  more problem-solving oriented resource.\n",
    "    \n",
    "To follow this course easily, you should be familiar with the following Python constructs:\n",
    "\n",
    "- special keywords: _in_, _return_, _None_\n",
    "- variables and data types: _int_, _float_, _strings_\n",
    "- data structures: _lists_, _dictionaries_, _sets_ and _tuples_\n",
    "- flow control: _for_ loops, _while_ loops, conditional statements (_if_, _elif_, _else_)\n",
    "- _functions_\n",
    "- _classes_ and a bit of _object oriented programming_\n",
    "- _packages_ and how to _import_ them\n",
    "- _pythonic_ constructs like _list comprehension_, _iterators_ and _generators_\n",
    "\n",
    "Once you are comfortable with these, you'll be ready to take this course."
   ]
  },
  {
   "cell_type": "markdown",
   "metadata": {
    "button": false,
    "new_sheet": false,
    "run_control": {
     "read_only": false
    }
   },
   "source": [
    "## Our development environment"
   ]
  },
  {
   "cell_type": "markdown",
   "metadata": {},
   "source": [
    "Since this is a practical course, we'll need to get some tools installed on your computer. Whether you have Linux, Mac or Windows, the software required for this course runs on all these systems, so you won't have to worry about it.\n",
    "\n",
    "We will need to install Python and a few libraries that allow us to perform Machine Learning and Deep Learning experiments."
   ]
  },
  {
   "cell_type": "markdown",
   "metadata": {},
   "source": [
    "### Miniconda Python"
   ]
  },
  {
   "cell_type": "markdown",
   "metadata": {},
   "source": [
    "[Anaconda Python](https://www.anaconda.com) is an excellent open source distribution of Python packages geared to data science. It comes with a lot of useful tools, and we encourage you to have a look at it. For this labs, we will not need the full Anaconda distribution, but we will install the required packages so that we can keep space requirements to a minimum.\n",
    "\n",
    "> TIP: if you already have Anaconda Python installed, make sure `conda` is up to date by running `conda update conda` in a terminal window.\n",
    "\n",
    "We can do this by installing Miniconda, which includes Python and the Anaconda package installer `conda`. Here are the steps to complete to install it:\n",
    "\n",
    "\n",
    "1. Download [Miniconda Python 3.7](https://conda.io/en/latest/miniconda.html) for your system (Windows/Mac OS X/Linux).\n",
    "2. Run the installer and make sure that it completes successfully.\n",
    "3. Done!\n",
    "\n",
    "If you've completed these steps successfully, you can open a command prompt (how to do this will differ depending on which OS you're using) and type `python` to launch the Python interpreter.  It should display something like the following (Linux):\n",
    "```\n",
    "Python 3.7.2 (default, Dec 29 2018, 06:19:36)\n",
    "[GCC 7.3.0] :: Anaconda, Inc. on linux\n",
    "Type \"help\", \"copyright\", \"credits\" or \"license\" for more information.\n",
    "```\n",
    "or (MacOS):\n",
    "```\n",
    "Python 3.7.2 (default, Dec 29 2018, 00:00:04)\n",
    "[Clang 4.0.1 (tags/RELEASE_401/final)] :: Anaconda, Inc. on darwin\n",
    "Type \"help\", \"copyright\", \"credits\" or \"license\" for more information.\n",
    "```"
   ]
  },
  {
   "cell_type": "markdown",
   "metadata": {},
   "source": [
    "Congratulations, you have just installed Miniconda Python successfully."
   ]
  },
  {
   "cell_type": "markdown",
   "metadata": {},
   "source": [
    "### Conda Environment"
   ]
  },
  {
   "cell_type": "markdown",
   "metadata": {},
   "source": [
    "#### Environment creation"
   ]
  },
  {
   "cell_type": "markdown",
   "metadata": {},
   "source": [
    "Now that we have installed Python, we need to download and install the packages required to run the code of this labs. We will do this in a few simple steps.\n",
    "\n",
    "1. Open a terminal window.\n",
    "- Change directory to the folder you have downloaded from our labs repository using the command `cd`.\n",
    "- Run the command `conda env create` to create the environment with all the required packages.\n",
    "\n",
    "> TIP: when you run the `create` command you will get the error:\n",
    ">\n",
    "> ```\n",
    "> CondaValueError: prefix already exists:\n",
    "> ```\n",
    "> If the environment already exists. In that case, run the command `conda env update` instead.\n",
    "\n",
    "You will see a lot of lines on your terminal. What is going on? The `conda` package installer is creating an **environment**, i.e. a special folder that contains the specific versions of each required package for the labs. The environment is specified in the file `environment.yml`, that looks like this:\n",
    "\n",
    "\n",
    "```python\n",
    "name: ztdlbook\n",
    "channels:\n",
    "- defaults\n",
    "dependencies:\n",
    "- python=3.7.*\n",
    "- bz2file==0.98\n",
    "- cython==0.29.*\n",
    "- numpy==1.16.*\n",
    "- flask==1.0.*\n",
    "- gensim==3.4.*\n",
    "- h5py==2.9.*\n",
    "- jupyter==1.0.*\n",
    "- matplotlib==3.0.*\n",
    "- nomkl==3.0.*\n",
    "- pandas==0.24.*\n",
    "- pillow==5.4.*\n",
    "- pip==19.0.*\n",
    "- pytest==4.1.*\n",
    "- pyhamcrest==1.9.*\n",
    "- scikit-learn==0.20.*\n",
    "- scipy==1.2.*\n",
    "- seaborn==0.9.*\n",
    "- setuptools==40.8.*\n",
    "- twisted==18.9.*\n",
    "- pip:\n",
    "  - jupyter_contrib_nbextensions==0.5.*\n",
    "  - tensorflow==2.0.0-alpha0\n",
    "  - tensorflow-serving-api==1.13.*\n",
    "```"
   ]
  },
  {
   "cell_type": "markdown",
   "metadata": {},
   "source": [
    "The package installer reads the environment file and downloads the correct versions of each package including its dependencies.\n",
    "\n",
    "Once you created the environment you should see a message like the following (Mac/Linux):\n",
    "\n",
    "\n",
    "    # To activate this environment, use:\n",
    "    # > conda activate ztdlbook\n",
    "    #\n",
    "    # To deactivate an active environment, use:\n",
    "    # > conda deactivate\n",
    "\n",
    "\n",
    "or the following (Windows):\n",
    "\n",
    "\n",
    "    # To activate this environment, use:\n",
    "    # > activate ztdlbook\n",
    "    #\n",
    "    # To deactivate an active environment, use:\n",
    "    # > deactivate ztdlbook\n",
    "\n",
    "\n",
    "This tells you how to activate and deactivate the environment.\n",
    "\n",
    "You can read more about conda environments [here](https://conda.io/projects/conda/en/latest/user-guide/tasks/manage-environments.html).\n",
    "\n",
    "So let's go ahead and activate the environment by typing:\n",
    "\n",
    "```\n",
    "conda activate ztdlbook\n",
    "```\n",
    "\n",
    "(or the Windows equivalent). If you do that, you'll notice that your command prompt changes and now displays the environment name at the beginning, within parentheses, like this:\n",
    "\n",
    "```\n",
    "(ztdlbook) <other stuff in the prompt> $\n",
    "```\n",
    "\n",
    "If you see this, you can go ahead to the next step."
   ]
  },
  {
   "cell_type": "markdown",
   "metadata": {},
   "source": [
    "### GPU enabled environment"
   ]
  },
  {
   "cell_type": "markdown",
   "metadata": {},
   "source": [
    "If your machine has an NVIDIA GPU you'll want to install the GPU-enabled version of Tensorflow. In [lab 9](./09_Training_with_GPUs.ipynb) we cover cloud GPUs in detail and explain how to install all the required software. Assuming you have already installed the NVIDIA drivers, CUDA and CUdnn, you can create the environment for this labs in a few simple steps:\n",
    "\n",
    "1. run:\n",
    "```\n",
    "conda env create -f environment-gpu.yml\n",
    "```\n",
    "\n",
    "It is the same environment as the standard one, minus the `tensorflow-serving-api` package. The reason for this is that this package has standard Tensorflow as dependency and if we install it programmatically it will clutter our `tensorflow-gpu` installation. So go ahead and create the environment using the above config file.\n",
    "\n",
    "2. After creating the environment, activate it with:\n",
    "```\n",
    "conda activate ztdlbook\n",
    "```\n",
    "\n",
    "3. Finally, install the `tensorflow-serving-api` package without dependencies:\n",
    "```\n",
    "pip install tensorflow-serving-api==1.13.* --no-deps\n",
    "```"
   ]
  },
  {
   "cell_type": "markdown",
   "metadata": {},
   "source": [
    "###  Tensorflow 2.0"
   ]
  },
  {
   "cell_type": "markdown",
   "metadata": {},
   "source": [
    "Tensorflow 2.0 was introduced in March 2019, and it is a notable update to the library. The most relevant change for the readers of this labs is that Keras became the default interface for building models. The merger of Keras into Tensorflow has been going on for the past year, but with Tensorflow 2.0 redundant functionality from other APIs has been removed, leaving Keras as the preferred way to define models.\n",
    "When we began writing this labs, Keras and Tensorflow were not so tightly integrated, and it made sense to install them separately and consider them as independent libraries. As of 2019, [Keras](https://keras.io/) continues to be an open-source API specification that supports different backends including Tensorflow, CNTK, and Theano. At the same time, the Tensorflow project integrates an independent implementation of the Keras API, and it's this implementation which is becoming the standard high-level API for model definition in Tensorflow.\n",
    "The support from the Tensorflow developer community makes the integration of Keras with Tensorflow much tighter than with any other backend, and therefore we decided to port our code to Tensorflow 2.0 and use its API throughout the labs.\n",
    "If you've been reading the beta versions of the labs, you will see that changes are minimal. On the other hand, are very proud to be one of the first Deep Learning labss with code written for Tensorflow 2.0!"
   ]
  },
  {
   "cell_type": "markdown",
   "metadata": {
    "button": false,
    "new_sheet": false,
    "run_control": {
     "read_only": false
    }
   },
   "source": [
    "### Jupyter notebook"
   ]
  },
  {
   "cell_type": "markdown",
   "metadata": {},
   "source": [
    "Now that we have installed Python and the required packages let's explore the code for this labs. We provide the code as Jupyter notebooks. These are documents that can contain live code, equations, visualizations, and explanatory text. They are very common in the data science community because they allow for easy prototyping of ideas and fast iteration. Notebook files are opened and edited through the Jupyter Notebook web application. Let's launch it!"
   ]
  },
  {
   "cell_type": "markdown",
   "metadata": {},
   "source": [
    "#### Starting Jupyter Notebook"
   ]
  },
  {
   "cell_type": "markdown",
   "metadata": {},
   "source": [
    "In the terminal, change directory to the course folder (if you haven't already) and then type:\n",
    "\n",
    "```\n",
    "    jupyter notebook\n",
    "```\n",
    "\n",
    "This command will start the notebook server and open a window in your default browser, and you should reach a window like the one shown in here:"
   ]
  },
  {
   "cell_type": "markdown",
   "metadata": {
    "caption": "Jupyter Notebook",
    "label": "fig:jupyternotebook"
   },
   "source": [
    "![Jupyter Notebook](./assets/jupyter.png)"
   ]
  },
  {
   "cell_type": "markdown",
   "metadata": {},
   "source": [
    "This is the **notebook dashboard** and serves as a home page for the notebook. There are three tabs:\n",
    "\n",
    "- _Files_ : this tab displays the notebooks and files in the current directory. By clicking on the breadcrumbs or on sub-directories at the top of notebook list, you can navigate your file system. You can create and upload new files. To create a new notebook, click on the “New” button at the top of the list and select a kernel from the dropdown. To upload a new file, click on the “Upload” button and browse the file from your computer. By selecting a notebook file, you can perform several tasks, such as “Duplicate”, “Shutdown”, “View”, “Edit” or “Delete” it.\n",
    "\n",
    "- _Running_ : this tab displays the currently running Jupyter processes, either a Terminals or Notebooks. This tab allows you to shut down running notebook.\n",
    "\n",
    "> TIP: Notebooks remain running until you explicitly shut them down, and closing the notebook’s page is not sufficient.\n",
    "\n",
    "- _Cluster_ : this tab displays parallel processes, provided by [IPython parallel](https://github.com/ipython/ipyparallel) and it requires further activation, not necessary for the scope of this labs."
   ]
  },
  {
   "cell_type": "markdown",
   "metadata": {},
   "source": [
    "#### Starting your first Jupyter Notebook"
   ]
  },
  {
   "cell_type": "markdown",
   "metadata": {},
   "source": [
    "If you are new to Jupyter Notebook, it may feel a little disorienting at first, mainly if you usually work with an IDE. However, you'll see that it's quite easy to navigate your way around it. Let's start from how you open the first notebook.\n",
    "\n",
    "Click on the **`course`** folder:\n",
    "\n",
    "![The course folder](./assets/jupyter_course.png)\n",
    "\n",
    "and the notebooks forming the course will appear. Go ahead and click on the `00_Introduction.ipynb` notebook:\n",
    "\n",
    "![Course notebook](./assets/jupyter_course_notebooks.png)\n",
    "\n",
    "This will open a new tab where you should see the content of this lab in the notebook. Now scroll down to this point and feel free to continue reading from the screen if you prefer."
   ]
  },
  {
   "cell_type": "markdown",
   "metadata": {},
   "source": [
    "#### Jupyter Notebook cheatsheet"
   ]
  },
  {
   "cell_type": "markdown",
   "metadata": {},
   "source": [
    "Let us summarize here a few handy commands to get you started with Jupyter Notebook.\n",
    "\n",
    "> TIP: For a complete introduction to the Jupyter Notebook we encourage you to have a look at the official [documentation](https://jupyter-notebook.readthedocs.io/en/stable/examples/Notebook/Notebook%20Basics.html).\n",
    "\n",
    "- `Ctrl-ENTER` executes the currently active cell and **keeps** the cursor on the same cell\n",
    "- `Shift-ENTER` executes the currently active cell and **moves** the cursor on the same cell\n",
    "- `ESC` enables the Command Mode. Try it. You'll see the **border of the notebook change to Blue**. In Command Mode you can press a single key and access many commands. For example, use:\n",
    "    - `A` to insert cell **above** the cursor\n",
    "    - `B` to insert cell **below** the cursor\n",
    "    - `DD` to delete the current cell\n",
    "    - `F` to open the **find/replace** dialogue\n",
    "    - `Z` to undo the last command\n",
    "\n",
    "Finally, you can use `H` to access the help dialog with all the keyboard shortcuts for both command and edit mode:\n",
    "\n",
    "![Jupyter shortcuts](./assets/jupyter_shortcuts.png)"
   ]
  },
  {
   "cell_type": "markdown",
   "metadata": {},
   "source": [
    "### Environment check"
   ]
  },
  {
   "cell_type": "markdown",
   "metadata": {},
   "source": [
    "If you have followed the instructions this far, you should be running the first notebook.\n",
    "\n",
    "The next command cell makes sure that you are using the Python executable from within the course environment and should evaluate without an error.\n",
    "\n",
    "> TIP: If you get an error, try the following:\n",
    ">\n",
    "> 1. Close this notebook.\n",
    "> 2. Go to the terminal and **stop Jupyter Notebook** using:\n",
    "> ```\n",
    "> CTRL+C\n",
    "> ```\n",
    "> 3. Make sure that you have activated the environment, you should see a prompt like:\n",
    "> ```\n",
    "> (ztdlbook) $\n",
    "> ```\n",
    "> 4. (Optional) if you don't see that prompt activate the environment:\n",
    ">     - mac/linux:\n",
    ">     ```\n",
    ">     conda activate ztdlbook\n",
    ">     ```\n",
    ">     - Windows:\n",
    ">     ```\n",
    ">     activate ztdlbook\n",
    ">     ```\n",
    "> 5. Restart Jupyter Notebook.\n",
    "> 6. Re-open the first notebook in the course folder\n",
    "> 7. Re-run the next cell."
   ]
  },
  {
   "cell_type": "code",
   "execution_count": 1,
   "metadata": {},
   "outputs": [
    {
     "name": "stdout",
     "output_type": "stream",
     "text": [
      "Congrats! Your environment is correct!\n"
     ]
    }
   ],
   "source": [
    "import os\n",
    "import sys\n",
    "\n",
    "env_name = 'ztdlbook'\n",
    "\n",
    "p = sys.executable\n",
    "try:\n",
    "    assert(p.find(env_name) != -1)\n",
    "    print(\"Congrats! Your environment is correct!\")\n",
    "except Exception as ex:\n",
    "    print(\"It seems your environment is not correct.\\n\",\n",
    "          \"Currently running Python from this path:\\n\",\n",
    "          p,\n",
    "          \"\\n\",\n",
    "          \"Please follow the instructions and retry.\")\n",
    "    raise ex"
   ]
  },
  {
   "cell_type": "markdown",
   "metadata": {},
   "source": [
    "### Python 3.7"
   ]
  },
  {
   "cell_type": "markdown",
   "metadata": {},
   "source": [
    "The next line checks that you're using Python 3.7.x and it should execute without any error.\n",
    "\n",
    "If you get an error, go back to the previous step and make sure you created and activated the environment correctly."
   ]
  },
  {
   "cell_type": "code",
   "execution_count": 2,
   "metadata": {},
   "outputs": [
    {
     "name": "stdout",
     "output_type": "stream",
     "text": [
      "Congrats! Your Python is correct!\n"
     ]
    }
   ],
   "source": [
    "python_version = \"3.7\"\n",
    "\n",
    "v = sys.version\n",
    "try:\n",
    "    assert(v.find(python_version) != -1)\n",
    "    print(\"Congrats! Your Python is correct!\")\n",
    "except Exception as ex:\n",
    "    print(\"It seems your Python is not correct.\\n\",\n",
    "          \"Version should be:\", python_version, \"\\n\"\n",
    "          \"Python sys.version:\\n\",\n",
    "          v,\n",
    "          \"\\n\",\n",
    "          \"Please follow the instructions above\\n\",\n",
    "          \"and make sure activated the environment.\")\n",
    "    raise ex"
   ]
  },
  {
   "cell_type": "markdown",
   "metadata": {},
   "source": [
    "### Jupyter"
   ]
  },
  {
   "cell_type": "markdown",
   "metadata": {},
   "source": [
    "Let's check that Jupyter is running from within the environment."
   ]
  },
  {
   "cell_type": "code",
   "execution_count": 3,
   "metadata": {},
   "outputs": [
    {
     "name": "stdout",
     "output_type": "stream",
     "text": [
      "Congrats! You are using Jupyter from\n",
      " within the environment.\n"
     ]
    }
   ],
   "source": [
    "import jupyter\n",
    "j = jupyter.__file__\n",
    "\n",
    "try:\n",
    "    assert(j.find('jupyter') != -1)\n",
    "    assert(j.find(env_name) != -1)\n",
    "    print(\"Congrats! You are using Jupyter from\\n\",\n",
    "          \"within the environment.\")\n",
    "except Exception as ex:\n",
    "    print(\"It seems you are not using the correct\\n\",\n",
    "          \"version of Jupyter.\\n\",\n",
    "          \"Currently running Python from this path:\\n\",\n",
    "          j,\n",
    "          \"\\n\",\n",
    "          \"Please follow the instructions above\\n\",\n",
    "          \"and make sure activated the environment.\")\n",
    "    raise ex"
   ]
  },
  {
   "cell_type": "markdown",
   "metadata": {},
   "source": [
    "### Other packages"
   ]
  },
  {
   "cell_type": "markdown",
   "metadata": {},
   "source": [
    "Here we will check that all the packages are installed and have the correct versions. If everything is ok you should see:\n",
    "    \n",
    "    Houston, we are 'go'!\n",
    "\n",
    "If there's an issue here, please make sure you have checked the previous steps."
   ]
  },
  {
   "cell_type": "code",
   "execution_count": 4,
   "metadata": {},
   "outputs": [
    {
     "name": "stdout",
     "output_type": "stream",
     "text": [
      "Houston, we are 'go'!\n"
     ]
    }
   ],
   "source": [
    "import pip\n",
    "import bz2file\n",
    "import cython\n",
    "import flask\n",
    "import gensim\n",
    "import h5py\n",
    "import jupyter\n",
    "import matplotlib\n",
    "import numpy\n",
    "import pandas\n",
    "import PIL\n",
    "import pytest\n",
    "import sklearn\n",
    "import scipy\n",
    "import seaborn\n",
    "import setuptools\n",
    "import twisted\n",
    "import hamcrest\n",
    "import tensorflow\n",
    "# import tensorflow_serving\n",
    "\n",
    "def check_version(pkg, version):\n",
    "    actual = pkg.__version__.split('.')\n",
    "    if len(actual) == 3:\n",
    "        actual_major = '.'.join(actual[:2])\n",
    "    elif len(actual) == 2:\n",
    "        actual_major = '.'.join(actual)\n",
    "    else:\n",
    "        raise NotImplementedError(pkg.__name__ +\n",
    "                                  \"actual version :\"+\n",
    "                                  pkg.__version__)\n",
    "    try:\n",
    "        assert(actual_major == version)\n",
    "    except Exception as ex:\n",
    "        print(\"{} {}\\t=> {}\".format(pkg.__name__,\n",
    "                                    version,\n",
    "                                    pkg.__version__))\n",
    "        raise ex\n",
    "\n",
    "check_version(cython, '0.29')\n",
    "check_version(flask, '1.0')\n",
    "check_version(gensim, '3.4')\n",
    "check_version(h5py, '2.9')\n",
    "check_version(matplotlib, '3.0')\n",
    "check_version(numpy, '1.16')\n",
    "check_version(pandas, '0.24')\n",
    "check_version(PIL, '5.4')\n",
    "check_version(pip, '19.0')\n",
    "check_version(pytest, '4.1')\n",
    "check_version(sklearn, '0.20')\n",
    "check_version(scipy, '1.2')\n",
    "check_version(seaborn, '0.9')\n",
    "check_version(setuptools, '40.8')\n",
    "check_version(twisted, '18.9')\n",
    "check_version(hamcrest, '1.9')\n",
    "check_version(tensorflow, '2.0')\n",
    "\n",
    "print(\"Houston, we are 'go'!\")"
   ]
  },
  {
   "cell_type": "markdown",
   "metadata": {
    "collapsed": true
   },
   "source": [
    "Congratulations, you have just verified that you have correctly set up your computer to run the code in this labs."
   ]
  },
  {
   "cell_type": "markdown",
   "metadata": {},
   "source": [
    "### Troubleshooting installation"
   ]
  },
  {
   "cell_type": "markdown",
   "metadata": {},
   "source": [
    "If for some reason you encounter errors while running the first notebook, the simplest solution is to delete the environment and start from scratch again.\n",
    "\n",
    "To remove the environment:\n",
    "\n",
    "- close the browser and go back to your terminal\n",
    "- stop Jupyter Notebook `(CTRL-C)`\n",
    "- deactivate the environment (Mac/Linux):\n",
    "\n",
    "```\n",
    "conda deactivate ztdlbook\n",
    "```\n",
    "\n",
    "- deactivate the environment (Windows 10):\n",
    "\n",
    "```\n",
    "deactivate ztdlbook\n",
    "```\n",
    "\n",
    "- delete the environment:\n",
    "\n",
    "```\n",
    "conda remove -y -n ztdlbook --all\n",
    "```\n",
    "\n",
    "- restart from environment creation and make sure that each step completes until the end."
   ]
  },
  {
   "cell_type": "markdown",
   "metadata": {},
   "source": [
    "### Updating Conda"
   ]
  },
  {
   "cell_type": "markdown",
   "metadata": {},
   "source": [
    "One thing you can also try is to update your conda executable. It may help if you already had Anaconda installed on your system.\n",
    "\n",
    "```\n",
    "conda update conda\n",
    "```\n",
    "\n",
    "We tested these instructions on:\n",
    "\n",
    "- Mac OSX Sierra 10.14\n",
    "- Ubuntu 16.04 and 18.04\n",
    "- Windows 10"
   ]
  }
 ],
 "metadata": {
  "kernelspec": {
   "display_name": "Python 3",
   "language": "python",
   "name": "python3"
  },
  "language_info": {
   "codemirror_mode": {
    "name": "ipython",
    "version": 3
   },
   "file_extension": ".py",
   "mimetype": "text/x-python",
   "name": "python",
   "nbconvert_exporter": "python",
   "pygments_lexer": "ipython3",
   "version": "3.7.1"
  },
  "title": "Preface"
 },
 "nbformat": 4,
 "nbformat_minor": 2
}
