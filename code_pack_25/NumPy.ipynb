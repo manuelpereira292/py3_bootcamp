{
 "cells": [
  {
   "cell_type": "markdown",
   "metadata": {},
   "source": [
    "# NumPy \n",
    "\n",
    "NumPy (or Numpy) is a Linear Algebra Library for Python.<br>\n",
    "\n",
    "_**<font color=green>Why is it so important for Data Science with Python?</font>**_\n",
    "\n",
    "- Numpy is incredibly fast, as it has bindings to C libraries\n",
    "\n",
    "- Almost all of the libraries in the PyData Ecosystem rely on NumPy as one of their main building blocks\n",
    "\n",
    "__*[numpy](http://www.numpy.org/)*__ is the core library for scientific computing in Python. \n",
    "\n",
    "It provides a high-performance multidimensional array object, as well as tools for working with these arrays. \n",
    "\n",
    "If you are already familiar with MATLAB, you might find *[this tutorial useful](http://wiki.scipy.org/NumPy_for_Matlab_Users)* to get started with Numpy.\n",
    "\n",
    "For more info on why you would want to use Arrays instead of lists, [check out this great StackOverflow post](http://stackoverflow.com/questions/993984/why-numpy-instead-of-python-lists).\n",
    "\n",
    "We will only learn the basics of NumPy in this notebook. And to get started, we need to install it!"
   ]
  },
  {
   "cell_type": "markdown",
   "metadata": {},
   "source": [
    "## Installation Instructions\n",
    "\n",
    "It is **_highly recommended_** you install Python using the [Anaconda distribution](https://anaconda.org) to make sure all underlying dependencies (such as Linear Algebra libraries) all sync up with the use of a conda install.\n",
    "\n",
    "If you have Anaconda, install NumPy by going to your terminal or command prompt and typing:\n",
    "    \n",
    "    conda install numpy\n",
    "    \n",
    "If you do not have Anaconda and can not install it, **please refer to [Numpy's official documentation on various installation instructions.](http://docs.scipy.org/doc/numpy-1.10.1/user/install.html)**"
   ]
  },
  {
   "cell_type": "markdown",
   "metadata": {},
   "source": [
    "## Using NumPy\n",
    "\n",
    "Once you've installed NumPy you can import it as a library: \n",
    "\n",
    "`import numpy as np`"
   ]
  },
  {
   "cell_type": "code",
   "execution_count": 1,
   "metadata": {},
   "outputs": [],
   "source": [
    "import numpy as np"
   ]
  },
  {
   "cell_type": "markdown",
   "metadata": {},
   "source": [
    "NumPy has many built-in functions and capabilities. In this notebook we will focus on some of the most important aspects of NumPy:\n",
    "- vectors\n",
    "- arrays\n",
    "- matrices\n",
    "- number generation\n",
    "\n",
    "Let's start by discussing basic arrays.\n",
    "\n",
    "# Arrays\n",
    "\n",
    "NumPy arrays are the main way we will use NumPy throughout the course. \n",
    "\n",
    "NumPy arrays essentially come in two flavors:\n",
    "- vectors \n",
    "- matrices\n",
    "\n",
    "**Vectors** are strictly 1-d arrays. (like a list)\n",
    "\n",
    "**Matrices** are 2-d (but you should note a matrix can still have only one row or one column).\n",
    "\n",
    "A numpy *array* is a grid of values, all of the same type, and is indexed by a tuple of nonnegative integers.\n",
    "\n",
    "-  __rank:__ The number of rows in the array\n",
    "-  __shape:__ tuple of integers giving the size of the array along each dimension\n",
    "\n",
    "\n",
    "## Creating NumPy Arrays\n",
    "\n",
    "We can initialize NumPy arrays from nested Python lists, and access elements using square brackets.\n",
    "\n",
    "You can read about other methods (than those listed below) of array creation [in the documentation](http://docs.scipy.org/doc/numpy/user/basics.creation.html#arrays-creation).\n",
    "\n",
    "### From a Python List\n",
    "\n",
    "We can create an array by directly converting a list or list of lists.\n",
    "\n",
    "**ACTION STEPS:**\n",
    "<div class=\"alert alert-block alert-success\">\n",
    "1. Return the value of **int_list**:  a list of integers [1, 4)<br>\n",
    "2. Create an array called **arr1** from that list:  `np.array(your_list)`<br>\n",
    "3. Show the type(**arr1**)<br>\n",
    "4. Show element 2 of **arr1**<br>\n",
    "5. Create **my_matrix** - a 3 element list where each element is made of 3 INTs<br>\n",
    "6. Create an array from **my_matrix** (see number 2 above)</div>"
   ]
  },
  {
   "cell_type": "code",
   "execution_count": 3,
   "metadata": {},
   "outputs": [
    {
     "data": {
      "text/plain": [
       "[1, 2, 3]"
      ]
     },
     "execution_count": 3,
     "metadata": {},
     "output_type": "execute_result"
    }
   ],
   "source": [
    "int_list = [1,2,3]\n",
    "int_list"
   ]
  },
  {
   "cell_type": "code",
   "execution_count": 4,
   "metadata": {},
   "outputs": [
    {
     "data": {
      "text/plain": [
       "array([1, 2, 3])"
      ]
     },
     "execution_count": 4,
     "metadata": {},
     "output_type": "execute_result"
    }
   ],
   "source": [
    "arr1 = np.array(int_list)\n",
    "arr1"
   ]
  },
  {
   "cell_type": "code",
   "execution_count": 5,
   "metadata": {},
   "outputs": [
    {
     "data": {
      "text/plain": [
       "numpy.ndarray"
      ]
     },
     "execution_count": 5,
     "metadata": {},
     "output_type": "execute_result"
    }
   ],
   "source": [
    "type(arr1)"
   ]
  },
  {
   "cell_type": "code",
   "execution_count": 6,
   "metadata": {},
   "outputs": [
    {
     "data": {
      "text/plain": [
       "3"
      ]
     },
     "execution_count": 6,
     "metadata": {},
     "output_type": "execute_result"
    }
   ],
   "source": [
    "arr1[2]"
   ]
  },
  {
   "cell_type": "code",
   "execution_count": 9,
   "metadata": {},
   "outputs": [
    {
     "name": "stdout",
     "output_type": "stream",
     "text": [
      "[[1, 2, 3], [4, 5, 6], [7, 8, 9]]\n"
     ]
    }
   ],
   "source": [
    "my_matrix = [[1,2,3],[4,5,6],[7,8,9]]\n",
    "print(my_matrix)"
   ]
  },
  {
   "cell_type": "code",
   "execution_count": 10,
   "metadata": {},
   "outputs": [
    {
     "name": "stdout",
     "output_type": "stream",
     "text": [
      "[[1 2 3]\n",
      " [4 5 6]\n",
      " [7 8 9]]\n"
     ]
    }
   ],
   "source": [
    "print(np.array(my_matrix))"
   ]
  },
  {
   "cell_type": "markdown",
   "metadata": {},
   "source": [
    "## For Multiple Array (Matrix)\n",
    "\n",
    "`np.array(list)[row]` == `var[row]`\n",
    "\n",
    "`np.array(list)[row][col]` == `np.array(list)[row, col]`\n",
    "\n",
    "Action Steps:\n",
    "<div class=\"alert alert-block alert-success\">\n",
    "1. Create a variable **arr_shape2** and create an np.array like:<br>\n",
    "    | 1 | 2 | 3 |<br>\n",
    "    | 4 | 5 | 6 |<br>\n",
    "2. Provide **arr_shape2**'s shape<br>\n",
    "3. Provide **arr_shape2**'s type<br>\n",
    "4. Show element 1 of **arr_shape2**<br>\n",
    "5. Show element 1, column 2 of **arr_shape2**</div>\n",
    "\n",
    "<div class=\"alert alert-block alert-warning\">**Thoughts to Ponder:**<br>\n",
    "1. What other way could you do 5?</div>"
   ]
  },
  {
   "cell_type": "code",
   "execution_count": 13,
   "metadata": {},
   "outputs": [
    {
     "name": "stdout",
     "output_type": "stream",
     "text": [
      "[[1 2 3]\n",
      " [4 5 6]]\n"
     ]
    }
   ],
   "source": [
    "arr_shape2 = np.array([[1,2,3], [4,5,6]])\n",
    "print(arr_shape2)\n",
    "x=1"
   ]
  },
  {
   "cell_type": "code",
   "execution_count": 14,
   "metadata": {},
   "outputs": [
    {
     "data": {
      "text/plain": [
       "(2, 3)"
      ]
     },
     "execution_count": 14,
     "metadata": {},
     "output_type": "execute_result"
    }
   ],
   "source": [
    "arr_shape2.shape"
   ]
  },
  {
   "cell_type": "code",
   "execution_count": 15,
   "metadata": {},
   "outputs": [
    {
     "data": {
      "text/plain": [
       "numpy.ndarray"
      ]
     },
     "execution_count": 15,
     "metadata": {},
     "output_type": "execute_result"
    }
   ],
   "source": [
    "type(arr_shape2)"
   ]
  },
  {
   "cell_type": "code",
   "execution_count": 16,
   "metadata": {},
   "outputs": [
    {
     "data": {
      "text/plain": [
       "array([4, 5, 6])"
      ]
     },
     "execution_count": 16,
     "metadata": {},
     "output_type": "execute_result"
    }
   ],
   "source": [
    "arr_shape2[1]"
   ]
  },
  {
   "cell_type": "code",
   "execution_count": 19,
   "metadata": {},
   "outputs": [
    {
     "name": "stdout",
     "output_type": "stream",
     "text": [
      "6\n",
      "6\n"
     ]
    }
   ],
   "source": [
    "print(arr_shape2[1,2])\n",
    "print(arr_shape2[1][2])"
   ]
  },
  {
   "cell_type": "markdown",
   "metadata": {},
   "source": [
    "### zeros ones\n",
    "\n",
    "This section will explain how to generate arrays of zeros.\n",
    "\n",
    "This is for a **numpy** rank 1 of `int1` zeros:\n",
    "\n",
    "`np.zeros(int1)`\n",
    "\n",
    "This is for a **numpy** rank `int1` of `int2` zeros:\n",
    "\n",
    "`np.zeros((int1, int2))`\n",
    "\n",
    "This takes in 2 options for the first & only argument.\n",
    "1. INTEGER - will create an array of 1 row, INT columns\n",
    "2. TUPLE - will create an array of (row, col)\n",
    "\n",
    "**ACTION PLAN:**\n",
    "<div class=\"alert alert block alert-success\">\n",
    "1. Create a **numpy** array of rank 1 of 3 zeros<br>\n",
    "2. Create a **numpy** array of rank 4 of 8 zeros<br</div>"
   ]
  },
  {
   "cell_type": "code",
   "execution_count": 20,
   "metadata": {},
   "outputs": [
    {
     "data": {
      "text/plain": [
       "array([0., 0., 0.])"
      ]
     },
     "execution_count": 20,
     "metadata": {},
     "output_type": "execute_result"
    }
   ],
   "source": [
    "np.zeros(3)"
   ]
  },
  {
   "cell_type": "code",
   "execution_count": 25,
   "metadata": {},
   "outputs": [
    {
     "data": {
      "text/plain": [
       "array([[0., 0., 0., ..., 0., 0., 0.],\n",
       "       [0., 0., 0., ..., 0., 0., 0.],\n",
       "       [0., 0., 0., ..., 0., 0., 0.],\n",
       "       ...,\n",
       "       [0., 0., 0., ..., 0., 0., 0.],\n",
       "       [0., 0., 0., ..., 0., 0., 0.],\n",
       "       [0., 0., 0., ..., 0., 0., 0.]])"
      ]
     },
     "execution_count": 25,
     "metadata": {},
     "output_type": "execute_result"
    }
   ],
   "source": [
    "np.zeros((4,8))\n",
    "#np.zeros((768,1024))"
   ]
  },
  {
   "cell_type": "markdown",
   "metadata": {},
   "source": [
    "### ones\n",
    "\n",
    "This section will explain how to generate arrays of zeros or ones.\n",
    "\n",
    "This is for a **numpy** rank 1 of `int1` ones:\n",
    "\n",
    "`np.ones(int1)`\n",
    "\n",
    "This is for a **numpy** rank `int1` of `int2` ones:\n",
    "\n",
    "`np.ones((int1, int2))`\n",
    "\n",
    "**ACTION PLAN:**\n",
    "<div class=\"alert alert block alert-success\">\n",
    "1. Create a **numpy** array of rank 1 of 3 ones<br>\n",
    "2. Create a **numpy** array of rank 3 of 3 ones</div>"
   ]
  },
  {
   "cell_type": "code",
   "execution_count": 26,
   "metadata": {},
   "outputs": [
    {
     "data": {
      "text/plain": [
       "array([1., 1., 1.])"
      ]
     },
     "execution_count": 26,
     "metadata": {},
     "output_type": "execute_result"
    }
   ],
   "source": [
    "np.ones(3)"
   ]
  },
  {
   "cell_type": "code",
   "execution_count": 30,
   "metadata": {},
   "outputs": [
    {
     "data": {
      "text/plain": [
       "array([[1., 1., 1.],\n",
       "       [1., 1., 1.],\n",
       "       [1., 1., 1.]])"
      ]
     },
     "execution_count": 30,
     "metadata": {},
     "output_type": "execute_result"
    }
   ],
   "source": [
    "np.ones((3,3),np.float)"
   ]
  },
  {
   "cell_type": "markdown",
   "metadata": {},
   "source": [
    "### Create A Constant Array\n",
    "\n",
    "If you're looking to create an array full of any number, simply call the **_full()_** function on *numpy* as follows:\n",
    "\n",
    "`np.full((row, col), int_or_float)`\n",
    "\n",
    "**ACTION STEPS:**\n",
    "<div class=\"alert alert-block alert-success\">\n",
    "1. Create a constant array of 5 rows, 8 columns with 1 as the 2nd input parameter.<br>\n",
    "2. Create a constant array of 8 rows, 5 columns with 1.75 as the 2nd input parameter.</div>"
   ]
  },
  {
   "cell_type": "code",
   "execution_count": 31,
   "metadata": {},
   "outputs": [
    {
     "data": {
      "text/plain": [
       "array([[1, 1, 1, 1, 1, 1, 1, 1],\n",
       "       [1, 1, 1, 1, 1, 1, 1, 1],\n",
       "       [1, 1, 1, 1, 1, 1, 1, 1],\n",
       "       [1, 1, 1, 1, 1, 1, 1, 1],\n",
       "       [1, 1, 1, 1, 1, 1, 1, 1]])"
      ]
     },
     "execution_count": 31,
     "metadata": {},
     "output_type": "execute_result"
    }
   ],
   "source": [
    "np.full((5,8), 1)"
   ]
  },
  {
   "cell_type": "code",
   "execution_count": 32,
   "metadata": {},
   "outputs": [
    {
     "data": {
      "text/plain": [
       "array([[1.75, 1.75, 1.75, 1.75, 1.75],\n",
       "       [1.75, 1.75, 1.75, 1.75, 1.75],\n",
       "       [1.75, 1.75, 1.75, 1.75, 1.75],\n",
       "       [1.75, 1.75, 1.75, 1.75, 1.75],\n",
       "       [1.75, 1.75, 1.75, 1.75, 1.75],\n",
       "       [1.75, 1.75, 1.75, 1.75, 1.75],\n",
       "       [1.75, 1.75, 1.75, 1.75, 1.75],\n",
       "       [1.75, 1.75, 1.75, 1.75, 1.75]])"
      ]
     },
     "execution_count": 32,
     "metadata": {},
     "output_type": "execute_result"
    }
   ],
   "source": [
    "np.full((8,5), 1.75)"
   ]
  },
  {
   "cell_type": "markdown",
   "metadata": {},
   "source": [
    "### linspace\n",
    "Return evenly spaced numbers over a specified interval.\n",
    "\n",
    "`np.linspace(float1, float2, float3)`\n",
    "\n",
    "- float1:  starting float\n",
    "- float2:  ending float\n",
    "- float3:  number of elements requested back\n",
    "\n",
    "**ACTION PLAN:**\n",
    "<div class=\"alert alert-block alert-success\">\n",
    "1. Create an array of 6 evenly spaced numbers from 0 up to and including 42<br>\n",
    "2. Create an array of 50 evenly spaced numbers from 0 up to and including 10<br>\n",
    "3. Show the shape of both</div>"
   ]
  },
  {
   "cell_type": "code",
   "execution_count": 33,
   "metadata": {},
   "outputs": [
    {
     "data": {
      "text/plain": [
       "array([ 0. ,  8.4, 16.8, 25.2, 33.6, 42. ])"
      ]
     },
     "execution_count": 33,
     "metadata": {},
     "output_type": "execute_result"
    }
   ],
   "source": [
    "np.linspace(0,42, 6)"
   ]
  },
  {
   "cell_type": "code",
   "execution_count": 34,
   "metadata": {},
   "outputs": [
    {
     "data": {
      "text/plain": [
       "array([ 0.        ,  0.20408163,  0.40816327,  0.6122449 ,  0.81632653,\n",
       "        1.02040816,  1.2244898 ,  1.42857143,  1.63265306,  1.83673469,\n",
       "        2.04081633,  2.24489796,  2.44897959,  2.65306122,  2.85714286,\n",
       "        3.06122449,  3.26530612,  3.46938776,  3.67346939,  3.87755102,\n",
       "        4.08163265,  4.28571429,  4.48979592,  4.69387755,  4.89795918,\n",
       "        5.10204082,  5.30612245,  5.51020408,  5.71428571,  5.91836735,\n",
       "        6.12244898,  6.32653061,  6.53061224,  6.73469388,  6.93877551,\n",
       "        7.14285714,  7.34693878,  7.55102041,  7.75510204,  7.95918367,\n",
       "        8.16326531,  8.36734694,  8.57142857,  8.7755102 ,  8.97959184,\n",
       "        9.18367347,  9.3877551 ,  9.59183673,  9.79591837, 10.        ])"
      ]
     },
     "execution_count": 34,
     "metadata": {},
     "output_type": "execute_result"
    }
   ],
   "source": [
    "np.linspace(0,10, 50)"
   ]
  },
  {
   "cell_type": "code",
   "execution_count": 35,
   "metadata": {},
   "outputs": [
    {
     "name": "stdout",
     "output_type": "stream",
     "text": [
      "(6,)\n",
      "(50,)\n"
     ]
    }
   ],
   "source": [
    "print(np.linspace(0,42, 6).shape)\n",
    "print(np.linspace(0,10, 50).shape)"
   ]
  },
  {
   "cell_type": "markdown",
   "metadata": {},
   "source": [
    "## eye\n",
    "\n",
    "Creates an identity matrix.\n",
    "\n",
    "`np.eye(int1)`\n",
    "\n",
    "The INT required input parameter tells how many columns/rows it should create to make a square and fill in the diagonal.\n",
    "\n",
    "**ACTION PLAN:**\n",
    "<div class=\"alert alert-block alert-success\">\n",
    "1. Create a 4 by 4 identity matrix</div>"
   ]
  },
  {
   "cell_type": "code",
   "execution_count": 36,
   "metadata": {},
   "outputs": [
    {
     "data": {
      "text/plain": [
       "array([[1., 0., 0., 0.],\n",
       "       [0., 1., 0., 0.],\n",
       "       [0., 0., 1., 0.],\n",
       "       [0., 0., 0., 1.]])"
      ]
     },
     "execution_count": 36,
     "metadata": {},
     "output_type": "execute_result"
    }
   ],
   "source": [
    "np.eye(4)"
   ]
  },
  {
   "cell_type": "markdown",
   "metadata": {},
   "source": [
    "## Random \n",
    "\n",
    "NumPy also has lots of ways to create random number arrays:\n",
    "\n",
    "### rand\n",
    "Create an array of the given shape and populate it with\n",
    "random samples from a uniform distribution\n",
    "over ``[0, 1)``.\n",
    "\n",
    "`np.random.rand(int1)` \n",
    "\n",
    "Creates a vector array of int1 elements with shape (`int1`, ) using random numbers.\n",
    "\n",
    "`np.random.rand(int1, int2)` \n",
    "\n",
    "Creates a matrix with shape (int1, int2) using random data\n",
    "\n",
    "**ACTION PLAN:**\n",
    "<div class=\"alert alert-block alert-success\">\n",
    "1. Create a random array of rank 1 with 2 elements<br>\n",
    "2. Create a random 5 by 5 matrix</div>"
   ]
  },
  {
   "cell_type": "code",
   "execution_count": 42,
   "metadata": {},
   "outputs": [
    {
     "data": {
      "text/plain": [
       "array([[0.22209732, 0.72612367]])"
      ]
     },
     "execution_count": 42,
     "metadata": {},
     "output_type": "execute_result"
    }
   ],
   "source": [
    "np.random.rand(1,2)"
   ]
  },
  {
   "cell_type": "code",
   "execution_count": 43,
   "metadata": {},
   "outputs": [
    {
     "data": {
      "text/plain": [
       "array([[2.35095432e-01, 5.54011308e-01, 5.75371025e-01, 2.11456462e-01,\n",
       "        7.70406969e-01],\n",
       "       [5.15022384e-01, 9.37481067e-01, 3.17717476e-01, 5.10266331e-01,\n",
       "        8.42220217e-01],\n",
       "       [7.43545535e-02, 6.07850021e-01, 7.89549899e-01, 3.53022389e-01,\n",
       "        6.55373650e-04],\n",
       "       [9.26790913e-01, 6.73786537e-01, 7.18795058e-01, 9.06368234e-01,\n",
       "        3.16696952e-01],\n",
       "       [4.67208055e-01, 4.83062546e-01, 8.42404189e-01, 2.17196462e-01,\n",
       "        7.84439390e-01]])"
      ]
     },
     "execution_count": 43,
     "metadata": {},
     "output_type": "execute_result"
    }
   ],
   "source": [
    "np.random.rand(5,5)"
   ]
  },
  {
   "cell_type": "markdown",
   "metadata": {},
   "source": [
    "### randn\n",
    "\n",
    "Return a sample (or samples) from the \"standard normal\" distribution - unlike rand which is uniform.\n",
    "\n",
    "<div class=\"alert alert-block alert-info\">This can include negative floats unlike **rand** function.</div>\n",
    "\n",
    "`np.random.randn(int1)`\n",
    "\n",
    "Creates an array with shape (int1, ) filled with samples from the \"standard normal\" deviation.\n",
    "\n",
    "`np.random.randn(int1, int2)`\n",
    "\n",
    "Creates an array with shape (int1, int2) filled with samples from the \"standard normal\" deviation.\n",
    "\n",
    "**ACTION PLAN:**\n",
    "<div class=\"alert alert-block alert-success\">\n",
    "1. Create a vector array of 2 samples of \"standard normal\" distribution<br>\n",
    "2. Create a 5 by 5 matrix array of \"standard normal\" distribution</div>"
   ]
  },
  {
   "cell_type": "code",
   "execution_count": 44,
   "metadata": {},
   "outputs": [
    {
     "data": {
      "text/plain": [
       "array([0.0142257 , 1.11499125])"
      ]
     },
     "execution_count": 44,
     "metadata": {},
     "output_type": "execute_result"
    }
   ],
   "source": [
    "np.random.randn(2)"
   ]
  },
  {
   "cell_type": "code",
   "execution_count": 45,
   "metadata": {},
   "outputs": [
    {
     "data": {
      "text/plain": [
       "array([[-0.34654538,  0.91213074,  0.79762076,  1.51637536,  0.8098395 ],\n",
       "       [ 0.21600932,  0.4121488 ,  0.06432961, -0.35175271,  0.76319984],\n",
       "       [ 0.35537491,  0.36646089, -1.96673804,  1.23707713,  2.24947235],\n",
       "       [ 0.74714328, -0.74615919, -0.94895424,  0.59668291, -0.8184049 ],\n",
       "       [-0.58090157,  0.35379032,  1.30635992, -2.07320481, -0.32296673]])"
      ]
     },
     "execution_count": 45,
     "metadata": {},
     "output_type": "execute_result"
    }
   ],
   "source": [
    "np.random.randn(5,5)"
   ]
  },
  {
   "cell_type": "markdown",
   "metadata": {},
   "source": [
    "### randint\n",
    "Return random integers from `low` (inclusive) to `high` (exclusive).\n",
    "\n",
    "`np.random.randint(int1, int2, int3)`\n",
    "\n",
    "If int3 is not provided, this command will return a single INT. Otherwise, an array of shape (`int3`, ) will be returned.\n",
    "\n",
    "**ACTION PLAN:**\n",
    "<div class=\"alert alert-block alert-success\">\n",
    "1. Return a random integer from 1 up to but not including 100<br>\n",
    "2. Create a vector array of 10 random integers from 1 to 100 exclusive</div>"
   ]
  },
  {
   "cell_type": "code",
   "execution_count": 48,
   "metadata": {},
   "outputs": [
    {
     "data": {
      "text/plain": [
       "94"
      ]
     },
     "execution_count": 48,
     "metadata": {},
     "output_type": "execute_result"
    }
   ],
   "source": [
    "np.random.randint(1,100)"
   ]
  },
  {
   "cell_type": "code",
   "execution_count": 51,
   "metadata": {},
   "outputs": [
    {
     "data": {
      "text/plain": [
       "array([42, 21, 80, 40, 88, 59, 37, 99, 35,  0])"
      ]
     },
     "execution_count": 51,
     "metadata": {},
     "output_type": "execute_result"
    }
   ],
   "source": [
    "np.random.randint(0,100, 10)"
   ]
  },
  {
   "cell_type": "markdown",
   "metadata": {},
   "source": [
    "# Array Attributes and Methods\n",
    "\n",
    "There are many built-in ways to generate Arrays - here are a few most common ones.\n",
    "\n",
    "## arange\n",
    "\n",
    "`np.arange(int1, int2, int3)`\n",
    "\n",
    "Provides an array of `int3` elements from `start_int` to `stop_int`.\n",
    "\n",
    "`np.arange(0, stop_int)` === `np.arnage(stop_int)`\n",
    "\n",
    "Provides an array of shape (int1, ) filled with integers starting from 0 up to but not including int1.\n",
    "\n",
    "- **1st argument:**  starting point\n",
    "- **2nd argument:**  up to and **not including** point\n",
    "- **3rd argument:**  preferred spacing\n",
    "\n",
    "<div class=\"alert alert-block alert-info\">**NOTE:** If None (or nothing provided) for 3rd argument it will default to 1</div>\n",
    "\n",
    "**ACTION STEPS:**\n",
    "<div class=\"alert alert-block alert-success\">\n",
    "1. Create a range of INTs from 0 to 25 & assign to **arr**<br>\n",
    "2. Create a range of INTs from 0 to 11 with a step of 2</div>"
   ]
  },
  {
   "cell_type": "code",
   "execution_count": 53,
   "metadata": {},
   "outputs": [
    {
     "data": {
      "text/plain": [
       "array([ 0,  1,  2,  3,  4,  5,  6,  7,  8,  9, 10, 11, 12, 13, 14, 15, 16,\n",
       "       17, 18, 19, 20, 21, 22, 23, 24])"
      ]
     },
     "execution_count": 53,
     "metadata": {},
     "output_type": "execute_result"
    }
   ],
   "source": [
    "arr = np.arange(0,25)\n",
    "arr"
   ]
  },
  {
   "cell_type": "code",
   "execution_count": 56,
   "metadata": {},
   "outputs": [
    {
     "name": "stdout",
     "output_type": "stream",
     "text": [
      "[ 0  2  4  6  8 10]\n"
     ]
    }
   ],
   "source": [
    "#print(np.linspace(0,12,7))\n",
    "print(np.arange(0,11,2))"
   ]
  },
  {
   "cell_type": "markdown",
   "metadata": {},
   "source": [
    "## dtype\n",
    "\n",
    "You can also grab the data type of the object in the array.\n",
    "\n",
    "`var.dtype`\n",
    "\n",
    "**ACTION PLAN:**\n",
    "<div class=\"alert alert-block alert-success\">\n",
    "1. Call the dtype attribute for **arr**</div>"
   ]
  },
  {
   "cell_type": "code",
   "execution_count": 59,
   "metadata": {},
   "outputs": [
    {
     "data": {
      "text/plain": [
       "dtype('int32')"
      ]
     },
     "execution_count": 59,
     "metadata": {},
     "output_type": "execute_result"
    }
   ],
   "source": [
    "type(arr)\n",
    "arr.shape\n",
    "arr.dtype"
   ]
  },
  {
   "cell_type": "markdown",
   "metadata": {},
   "source": [
    "## max,min,argmax,argmin\n",
    "\n",
    "These are useful methods for finding max or min values.\n",
    "<br>... Or to find their index locations using argmin or argmax.\n",
    "\n",
    "`var.max()`\n",
    "\n",
    "Returns the max value in the array.\n",
    "\n",
    "`var.argmax()`\n",
    "\n",
    "Returns the location (index) of the max value within the array.\n",
    "\n",
    "`var.min()`\n",
    "\n",
    "Returns the min value in the array\n",
    "\n",
    "`var.argmin()`\n",
    "\n",
    "Returns the location (index) of the min value within the array.\n",
    "\n",
    "**ACTION PLAN:**\n",
    "<div class=\"alert alert-block alert-success\">\n",
    "1. Assign **arr** the creation of an array of 25 random values of standard deviation<br>\n",
    "2. Find the max of **arr**<br>\n",
    "3. Find the index of the max of **arr**<br>\n",
    "4. Find the min of **arr**<br>\n",
    "5. Find the index of min of **arr**</div>"
   ]
  },
  {
   "cell_type": "code",
   "execution_count": 63,
   "metadata": {},
   "outputs": [
    {
     "data": {
      "text/plain": [
       "array([-0.88241182, -0.42854637, -1.16310469, -0.63880992, -1.19410077,\n",
       "       -0.6832738 , -0.68615558, -0.14458476, -1.59410106, -0.3934634 ,\n",
       "       -0.19794046,  0.34840901, -1.81800176,  0.91827835,  2.57183525,\n",
       "        0.2225418 ,  1.59975007, -0.49670532, -0.88890396, -1.03514511,\n",
       "       -0.35399532,  0.10708129, -0.05042042, -0.42401613,  0.55496822])"
      ]
     },
     "execution_count": 63,
     "metadata": {},
     "output_type": "execute_result"
    }
   ],
   "source": [
    "arr =  np.random.randn(25)\n",
    "arr"
   ]
  },
  {
   "cell_type": "code",
   "execution_count": 64,
   "metadata": {},
   "outputs": [
    {
     "data": {
      "text/plain": [
       "2.5718352464275203"
      ]
     },
     "execution_count": 64,
     "metadata": {},
     "output_type": "execute_result"
    }
   ],
   "source": [
    "arr.max()"
   ]
  },
  {
   "cell_type": "code",
   "execution_count": 65,
   "metadata": {},
   "outputs": [
    {
     "data": {
      "text/plain": [
       "14"
      ]
     },
     "execution_count": 65,
     "metadata": {},
     "output_type": "execute_result"
    }
   ],
   "source": [
    "arr.argmax()"
   ]
  },
  {
   "cell_type": "code",
   "execution_count": 66,
   "metadata": {},
   "outputs": [
    {
     "data": {
      "text/plain": [
       "-1.8180017620807027"
      ]
     },
     "execution_count": 66,
     "metadata": {},
     "output_type": "execute_result"
    }
   ],
   "source": [
    "arr.min()"
   ]
  },
  {
   "cell_type": "code",
   "execution_count": 67,
   "metadata": {},
   "outputs": [
    {
     "data": {
      "text/plain": [
       "12"
      ]
     },
     "execution_count": 67,
     "metadata": {},
     "output_type": "execute_result"
    }
   ],
   "source": [
    "arr.argmin()"
   ]
  },
  {
   "cell_type": "markdown",
   "metadata": {},
   "source": [
    "# Shape\n",
    "\n",
    "Shape is an attribute that arrays have (not a method).\n",
    "\n",
    "`var.shape`\n",
    "\n",
    "Creates a **vector** and returns a 2 element tuple:  *(columns, rows)*\n",
    "\n",
    "#### For Single Array (Vector)\n",
    "\n",
    "Action Steps:\n",
    "<div class=\"alert alert-block alert-success\">\n",
    "1. Create a variable **arr_shape1** and assign it the value of an np.array() with 3 INTs & show result<br>\n",
    "2. Provide **arr_shape1**'s shape<br>\n",
    "3. Provide **arr_shape1**'s type<br>\n",
    "4. Show element 2 of **arr_shape1**</div>"
   ]
  },
  {
   "cell_type": "code",
   "execution_count": 69,
   "metadata": {},
   "outputs": [],
   "source": [
    "arr_shape1 = np.array([1,2,3])"
   ]
  },
  {
   "cell_type": "code",
   "execution_count": 70,
   "metadata": {},
   "outputs": [
    {
     "data": {
      "text/plain": [
       "(3,)"
      ]
     },
     "execution_count": 70,
     "metadata": {},
     "output_type": "execute_result"
    }
   ],
   "source": [
    "arr_shape1.shape"
   ]
  },
  {
   "cell_type": "code",
   "execution_count": 73,
   "metadata": {},
   "outputs": [
    {
     "data": {
      "text/plain": [
       "numpy.ndarray"
      ]
     },
     "execution_count": 73,
     "metadata": {},
     "output_type": "execute_result"
    }
   ],
   "source": [
    "# type(arr_shape1.shape) # tuple\n",
    "type(arr_shape1)"
   ]
  },
  {
   "cell_type": "code",
   "execution_count": 74,
   "metadata": {},
   "outputs": [
    {
     "data": {
      "text/plain": [
       "3"
      ]
     },
     "execution_count": 74,
     "metadata": {},
     "output_type": "execute_result"
    }
   ],
   "source": [
    "arr_shape1[2]"
   ]
  },
  {
   "cell_type": "markdown",
   "metadata": {},
   "source": [
    "## Reshape\n",
    "Returns an array containing the same data with a new shape.\n",
    "\n",
    "`var.reshape(int1, int2)`\n",
    "\n",
    "Where **var** is some variable created for an array of shape `(int1, int2)`\n",
    "\n",
    "<div class=\"alert alert-block alert-info\">**REMEMBER:**<br>\n",
    "_int1 by int2 must create a matrix to fill that size<br><br>In other words ..._<br>\n",
    "- a 5 by 5 matrix will have 25 elements<br>\n",
    "- a 2 by 4 matrix will have 8 elements</div>\n",
    "\n",
    "<div class=\"alert alert-block alert-success\">**EXERCISES:**<br>\n",
    "1. print (or show) **arr**<br>\n",
    "2. Get the shape of vector **arr**<br>\n",
    "2. Reshape **arr** to be 1 row by 25 columns & show results<br>\n",
    "3. Provide the shape of answer to 2<br>\n",
    "4. Reshape **arr** as 25 rows by 1 column<br>\n",
    "5. Show shape of number 4<br>\n",
    "6. reshape **arr** to be 5x4</div>\n",
    "\n",
    "<div class=\"alert alert-block alert-warning\">**Thoughts to Ponder:**<br>\n",
    "1. What did you notice different beween 2 & 4?<br>\n",
    "2. What can you tell about this problem from the error in number 3?</div>"
   ]
  },
  {
   "cell_type": "code",
   "execution_count": 75,
   "metadata": {},
   "outputs": [
    {
     "data": {
      "text/plain": [
       "array([-0.88241182, -0.42854637, -1.16310469, -0.63880992, -1.19410077,\n",
       "       -0.6832738 , -0.68615558, -0.14458476, -1.59410106, -0.3934634 ,\n",
       "       -0.19794046,  0.34840901, -1.81800176,  0.91827835,  2.57183525,\n",
       "        0.2225418 ,  1.59975007, -0.49670532, -0.88890396, -1.03514511,\n",
       "       -0.35399532,  0.10708129, -0.05042042, -0.42401613,  0.55496822])"
      ]
     },
     "execution_count": 75,
     "metadata": {},
     "output_type": "execute_result"
    }
   ],
   "source": [
    "arr"
   ]
  },
  {
   "cell_type": "code",
   "execution_count": 76,
   "metadata": {},
   "outputs": [
    {
     "data": {
      "text/plain": [
       "(25,)"
      ]
     },
     "execution_count": 76,
     "metadata": {},
     "output_type": "execute_result"
    }
   ],
   "source": [
    "arr.shape"
   ]
  },
  {
   "cell_type": "code",
   "execution_count": 77,
   "metadata": {},
   "outputs": [
    {
     "data": {
      "text/plain": [
       "array([[-0.88241182, -0.42854637, -1.16310469, -0.63880992, -1.19410077,\n",
       "        -0.6832738 , -0.68615558, -0.14458476, -1.59410106, -0.3934634 ,\n",
       "        -0.19794046,  0.34840901, -1.81800176,  0.91827835,  2.57183525,\n",
       "         0.2225418 ,  1.59975007, -0.49670532, -0.88890396, -1.03514511,\n",
       "        -0.35399532,  0.10708129, -0.05042042, -0.42401613,  0.55496822]])"
      ]
     },
     "execution_count": 77,
     "metadata": {},
     "output_type": "execute_result"
    }
   ],
   "source": [
    "arr.reshape(1,25)"
   ]
  },
  {
   "cell_type": "code",
   "execution_count": 81,
   "metadata": {},
   "outputs": [
    {
     "data": {
      "text/plain": [
       "(1, 25)"
      ]
     },
     "execution_count": 81,
     "metadata": {},
     "output_type": "execute_result"
    }
   ],
   "source": [
    "arr.reshape(1,25).shape"
   ]
  },
  {
   "cell_type": "code",
   "execution_count": 80,
   "metadata": {},
   "outputs": [
    {
     "data": {
      "text/plain": [
       "array([[-0.88241182],\n",
       "       [-0.42854637],\n",
       "       [-1.16310469],\n",
       "       [-0.63880992],\n",
       "       [-1.19410077],\n",
       "       [-0.6832738 ],\n",
       "       [-0.68615558],\n",
       "       [-0.14458476],\n",
       "       [-1.59410106],\n",
       "       [-0.3934634 ],\n",
       "       [-0.19794046],\n",
       "       [ 0.34840901],\n",
       "       [-1.81800176],\n",
       "       [ 0.91827835],\n",
       "       [ 2.57183525],\n",
       "       [ 0.2225418 ],\n",
       "       [ 1.59975007],\n",
       "       [-0.49670532],\n",
       "       [-0.88890396],\n",
       "       [-1.03514511],\n",
       "       [-0.35399532],\n",
       "       [ 0.10708129],\n",
       "       [-0.05042042],\n",
       "       [-0.42401613],\n",
       "       [ 0.55496822]])"
      ]
     },
     "execution_count": 80,
     "metadata": {},
     "output_type": "execute_result"
    }
   ],
   "source": [
    "arr.reshape(25,1)"
   ]
  },
  {
   "cell_type": "code",
   "execution_count": 82,
   "metadata": {},
   "outputs": [
    {
     "data": {
      "text/plain": [
       "(25, 1)"
      ]
     },
     "execution_count": 82,
     "metadata": {},
     "output_type": "execute_result"
    }
   ],
   "source": [
    "arr.reshape(25,1).shape"
   ]
  },
  {
   "cell_type": "code",
   "execution_count": 85,
   "metadata": {},
   "outputs": [
    {
     "ename": "ValueError",
     "evalue": "cannot reshape array of size 25 into shape (5,4)",
     "output_type": "error",
     "traceback": [
      "\u001b[1;31m---------------------------------------------------------------------------\u001b[0m",
      "\u001b[1;31mValueError\u001b[0m                                Traceback (most recent call last)",
      "\u001b[1;32m<ipython-input-85-7d1c356338f9>\u001b[0m in \u001b[0;36m<module>\u001b[1;34m\u001b[0m\n\u001b[0;32m      2\u001b[0m \u001b[1;31m#arr.reshape(5,5).shape - Works\u001b[0m\u001b[1;33m\u001b[0m\u001b[1;33m\u001b[0m\u001b[1;33m\u001b[0m\u001b[0m\n\u001b[0;32m      3\u001b[0m \u001b[1;33m\u001b[0m\u001b[0m\n\u001b[1;32m----> 4\u001b[1;33m \u001b[0marr\u001b[0m\u001b[1;33m.\u001b[0m\u001b[0mreshape\u001b[0m\u001b[1;33m(\u001b[0m\u001b[1;36m5\u001b[0m\u001b[1;33m,\u001b[0m\u001b[1;36m4\u001b[0m\u001b[1;33m)\u001b[0m  \u001b[1;31m# fails\u001b[0m\u001b[1;33m\u001b[0m\u001b[1;33m\u001b[0m\u001b[0m\n\u001b[0m",
      "\u001b[1;31mValueError\u001b[0m: cannot reshape array of size 25 into shape (5,4)"
     ]
    }
   ],
   "source": [
    "#arr.reshape(5,5)    - Works\n",
    "#arr.reshape(5,5).shape - Works\n",
    "\n",
    "arr.reshape(5,4)  # fails"
   ]
  },
  {
   "cell_type": "markdown",
   "metadata": {},
   "source": [
    "# Indexing & Slicing\n",
    "\n",
    "From here we're going to go over how to select elements or groups of elements from an array.\n",
    "\n",
    "**ACTION PLAN:**\n",
    "<div class=\"alert alert-block alert-success\">\n",
    "1. Assign **arr** the value returned from creating a sample array of ranged integers from [0, 11)</div>"
   ]
  },
  {
   "cell_type": "code",
   "execution_count": 89,
   "metadata": {},
   "outputs": [
    {
     "data": {
      "text/plain": [
       "array([ 0,  1,  2,  3,  4,  5,  6,  7,  8,  9, 10])"
      ]
     },
     "execution_count": 89,
     "metadata": {},
     "output_type": "execute_result"
    }
   ],
   "source": [
    "arr = np.arange(0,11)\n",
    "arr"
   ]
  },
  {
   "cell_type": "markdown",
   "metadata": {},
   "source": [
    "## Bracket Indexing and Selection\n",
    "\n",
    "The simplest way to pick one or some elements of an array looks very similar to python lists.\n",
    "\n",
    "**ACTION PLAN:**\n",
    "<div class=\"alert alert-block alert-success\">\n",
    "1. Get element 8 of **arr**<br>\n",
    "2. Slice **arr** from element [1, 5)<br>\n",
    "3. Slice **arr** from element [None, 4)<br>\n",
    "4. Slice **arr** from element [0, 3)</div>\n",
    "\n",
    "<div class=\"alert alert-block alert-info\">**REMEMBER:**<br>\n",
    "If you see a None somewhere in documentation, it means you can leave it **_blank_**!!!</div>"
   ]
  },
  {
   "cell_type": "code",
   "execution_count": 90,
   "metadata": {},
   "outputs": [
    {
     "data": {
      "text/plain": [
       "8"
      ]
     },
     "execution_count": 90,
     "metadata": {},
     "output_type": "execute_result"
    }
   ],
   "source": [
    "arr[8]"
   ]
  },
  {
   "cell_type": "code",
   "execution_count": 91,
   "metadata": {},
   "outputs": [
    {
     "data": {
      "text/plain": [
       "array([1, 2, 3, 4])"
      ]
     },
     "execution_count": 91,
     "metadata": {},
     "output_type": "execute_result"
    }
   ],
   "source": [
    "arr[1:5]"
   ]
  },
  {
   "cell_type": "code",
   "execution_count": 93,
   "metadata": {},
   "outputs": [
    {
     "data": {
      "text/plain": [
       "array([0, 1, 2, 3])"
      ]
     },
     "execution_count": 93,
     "metadata": {},
     "output_type": "execute_result"
    }
   ],
   "source": [
    "arr[None:4]"
   ]
  },
  {
   "cell_type": "code",
   "execution_count": 94,
   "metadata": {},
   "outputs": [
    {
     "data": {
      "text/plain": [
       "array([0, 1, 2, 3])"
      ]
     },
     "execution_count": 94,
     "metadata": {},
     "output_type": "execute_result"
    }
   ],
   "source": [
    "arr[:4]"
   ]
  },
  {
   "cell_type": "code",
   "execution_count": 95,
   "metadata": {},
   "outputs": [
    {
     "data": {
      "text/plain": [
       "array([0, 1, 2])"
      ]
     },
     "execution_count": 95,
     "metadata": {},
     "output_type": "execute_result"
    }
   ],
   "source": [
    "arr[0:3]"
   ]
  },
  {
   "cell_type": "markdown",
   "metadata": {},
   "source": [
    "## Broadcasting\n",
    "\n",
    "NumPy arrays differ from a normal Python list because of their ability to _**broadcast**_.\n",
    "\n",
    "Basically? When you broadcast, it changes all elements to be whatever you _\"broadcast\"_.\n",
    "\n",
    "`var[int1:int2]=int3`\n",
    "\n",
    "**ACTION PLAN:**\n",
    "<div class=\"alert alert-block alert-success\">\n",
    "1. Make the 1st 4 elements in **arr** be 100.<br>\n",
    "2. Assign **arr** the value of an array of a range of integers between 0 and up to excluding 11<br>\n",
    "3. Create a slice of **arr** from 0 up to and including 5 - call it **slice_of_arr**<br>\n",
    "4. Broadcast to entire **slice_of_arr** the value of (INT) 99<br>\n",
    "5. Print **slice_of_arr**<br>\n",
    "6. Print **arr**<br>\n",
    "7. Call the **copy()** function on **arr** and assign to **arr_copy**</div>\n",
    "\n",
    "<div class=\"alert alert-block alert-warning\">**Thoughts To Ponder:**<br>\n",
    "1. (arr == arr_copy) == True ???<br>\n",
    "2. (arr is arr_copy) == True ???</div>"
   ]
  },
  {
   "cell_type": "code",
   "execution_count": 97,
   "metadata": {},
   "outputs": [
    {
     "data": {
      "text/plain": [
       "array([100, 100, 100, 100,   4,   5,   6,   7,   8,   9,  10])"
      ]
     },
     "execution_count": 97,
     "metadata": {},
     "output_type": "execute_result"
    }
   ],
   "source": [
    "arr[:4]=100\n",
    "arr"
   ]
  },
  {
   "cell_type": "code",
   "execution_count": 100,
   "metadata": {},
   "outputs": [
    {
     "data": {
      "text/plain": [
       "array([ 0,  1,  2,  3,  4,  5,  6,  7,  8,  9, 10])"
      ]
     },
     "execution_count": 100,
     "metadata": {},
     "output_type": "execute_result"
    }
   ],
   "source": [
    "arr = np.arange(0,11,1)\n",
    "arr"
   ]
  },
  {
   "cell_type": "code",
   "execution_count": 102,
   "metadata": {},
   "outputs": [
    {
     "data": {
      "text/plain": [
       "array([0, 1, 2, 3, 4, 5])"
      ]
     },
     "execution_count": 102,
     "metadata": {},
     "output_type": "execute_result"
    }
   ],
   "source": [
    "slice_of_arr = arr[0:6]\n",
    "slice_of_arr"
   ]
  },
  {
   "cell_type": "code",
   "execution_count": 103,
   "metadata": {},
   "outputs": [],
   "source": [
    "slice_of_arr[:]=99"
   ]
  },
  {
   "cell_type": "code",
   "execution_count": 104,
   "metadata": {},
   "outputs": [
    {
     "data": {
      "text/plain": [
       "array([99, 99, 99, 99, 99, 99])"
      ]
     },
     "execution_count": 104,
     "metadata": {},
     "output_type": "execute_result"
    }
   ],
   "source": [
    "slice_of_arr"
   ]
  },
  {
   "cell_type": "code",
   "execution_count": 105,
   "metadata": {},
   "outputs": [
    {
     "data": {
      "text/plain": [
       "array([99, 99, 99, 99, 99, 99,  6,  7,  8,  9, 10])"
      ]
     },
     "execution_count": 105,
     "metadata": {},
     "output_type": "execute_result"
    }
   ],
   "source": [
    "arr"
   ]
  },
  {
   "cell_type": "code",
   "execution_count": 106,
   "metadata": {},
   "outputs": [
    {
     "data": {
      "text/plain": [
       "array([99, 99, 99, 99, 99, 99,  6,  7,  8,  9, 10])"
      ]
     },
     "execution_count": 106,
     "metadata": {},
     "output_type": "execute_result"
    }
   ],
   "source": [
    "arr_copy = arr.copy()\n",
    "arr_copy"
   ]
  },
  {
   "cell_type": "code",
   "execution_count": 107,
   "metadata": {},
   "outputs": [
    {
     "data": {
      "text/plain": [
       "array([ True,  True,  True,  True,  True,  True,  True,  True,  True,\n",
       "        True,  True])"
      ]
     },
     "execution_count": 107,
     "metadata": {},
     "output_type": "execute_result"
    }
   ],
   "source": [
    "arr == arr_copy"
   ]
  },
  {
   "cell_type": "code",
   "execution_count": 108,
   "metadata": {},
   "outputs": [
    {
     "data": {
      "text/plain": [
       "False"
      ]
     },
     "execution_count": 108,
     "metadata": {},
     "output_type": "execute_result"
    }
   ],
   "source": [
    "arr is arr_copy"
   ]
  },
  {
   "cell_type": "code",
   "execution_count": 109,
   "metadata": {},
   "outputs": [
    {
     "data": {
      "text/plain": [
       "False"
      ]
     },
     "execution_count": 109,
     "metadata": {},
     "output_type": "execute_result"
    }
   ],
   "source": [
    "arr is slice_of_arr"
   ]
  },
  {
   "cell_type": "code",
   "execution_count": 111,
   "metadata": {},
   "outputs": [
    {
     "name": "stdout",
     "output_type": "stream",
     "text": [
      "[99 99 99 99 99 99  6  7  8  9 -1]\n"
     ]
    },
    {
     "data": {
      "text/plain": [
       "array([ True,  True,  True,  True,  True,  True,  True,  True,  True,\n",
       "        True, False])"
      ]
     },
     "execution_count": 111,
     "metadata": {},
     "output_type": "execute_result"
    }
   ],
   "source": [
    "arr_copy[-1] = -1\n",
    "print(arr_copy)\n",
    "arr == arr_copy"
   ]
  },
  {
   "cell_type": "markdown",
   "metadata": {},
   "source": [
    "## Indexing a 2D array (Matrices)\n",
    "\n",
    "The general format for a indexing a matrix is:\n",
    "\n",
    "- `arr_2d[row][col]`\n",
    "- `arr_2d[row,col]`\n",
    "\n",
    "I recommend usually using the comma notation for clarity.\n",
    "\n",
    "**ACTION PLAN:**\n",
    "<div class=\"alert alert-block alert-success\">\n",
    "1. Create **arr_2d** to be an array of rank 3 with 3 columns where each row is in increments of 5 starting at 5\n",
    "    _**HINT:** [[5, 10, 15], ...]_<br>\n",
    "2. What is row 1 of **arr_2d**?<br>\n",
    "3. What is returned from **arr_2d** at row 1, column 0?<br>\n",
    "4. Write number 3 a different way.<br>\n",
    "5. Create a slice of **arr_2d** from first 2 rows and columns 1 until the end<br>\n",
    "6. Reshape number 5 to be (1, 3)</div>\n",
    "\n",
    "<div class=\"alert alert-block alert-warning\">**Things To Ponder:**<br>\n",
    "- What exactly happened when you called **reshape(int1, int2)**?<br>\n",
    "- How to fix it?</div>"
   ]
  },
  {
   "cell_type": "code",
   "execution_count": 112,
   "metadata": {},
   "outputs": [
    {
     "data": {
      "text/plain": [
       "array([[ 5, 10, 15],\n",
       "       [20, 25, 30],\n",
       "       [35, 40, 45]])"
      ]
     },
     "execution_count": 112,
     "metadata": {},
     "output_type": "execute_result"
    }
   ],
   "source": [
    "arr_2d = np.array([[5,10,15], [20,25,30], [35, 40, 45]])\n",
    "arr_2d"
   ]
  },
  {
   "cell_type": "code",
   "execution_count": 115,
   "metadata": {},
   "outputs": [
    {
     "data": {
      "text/plain": [
       "array([20, 25, 30])"
      ]
     },
     "execution_count": 115,
     "metadata": {},
     "output_type": "execute_result"
    }
   ],
   "source": [
    "#arr_2d.shape\n",
    "#arr_2d.dtype\n",
    "arr_2d[1]"
   ]
  },
  {
   "cell_type": "code",
   "execution_count": 116,
   "metadata": {},
   "outputs": [
    {
     "data": {
      "text/plain": [
       "20"
      ]
     },
     "execution_count": 116,
     "metadata": {},
     "output_type": "execute_result"
    }
   ],
   "source": [
    "arr_2d[1][0]"
   ]
  },
  {
   "cell_type": "code",
   "execution_count": 117,
   "metadata": {},
   "outputs": [
    {
     "data": {
      "text/plain": [
       "20"
      ]
     },
     "execution_count": 117,
     "metadata": {},
     "output_type": "execute_result"
    }
   ],
   "source": [
    "arr_2d[1, 0]"
   ]
  },
  {
   "cell_type": "code",
   "execution_count": 118,
   "metadata": {},
   "outputs": [
    {
     "data": {
      "text/plain": [
       "array([[10, 15],\n",
       "       [25, 30]])"
      ]
     },
     "execution_count": 118,
     "metadata": {},
     "output_type": "execute_result"
    }
   ],
   "source": [
    "arr_2d[:2, 1:]"
   ]
  },
  {
   "cell_type": "code",
   "execution_count": 119,
   "metadata": {},
   "outputs": [
    {
     "data": {
      "text/plain": [
       "array([[ 5, 10, 15, 20, 25, 30, 35, 40, 45]])"
      ]
     },
     "execution_count": 119,
     "metadata": {},
     "output_type": "execute_result"
    }
   ],
   "source": [
    "arr_2d.reshape(1,9)"
   ]
  },
  {
   "cell_type": "code",
   "execution_count": 120,
   "metadata": {},
   "outputs": [
    {
     "data": {
      "text/plain": [
       "array([[ 5],\n",
       "       [10],\n",
       "       [15],\n",
       "       [20],\n",
       "       [25],\n",
       "       [30],\n",
       "       [35],\n",
       "       [40],\n",
       "       [45]])"
      ]
     },
     "execution_count": 120,
     "metadata": {},
     "output_type": "execute_result"
    }
   ],
   "source": [
    "arr_2d.reshape(9,1)"
   ]
  },
  {
   "cell_type": "code",
   "execution_count": 121,
   "metadata": {},
   "outputs": [
    {
     "data": {
      "text/plain": [
       "array([ 5, 10, 15, 20, 25, 30, 35, 40, 45])"
      ]
     },
     "execution_count": 121,
     "metadata": {},
     "output_type": "execute_result"
    }
   ],
   "source": [
    "arr_2d.reshape(9)"
   ]
  },
  {
   "cell_type": "code",
   "execution_count": 122,
   "metadata": {},
   "outputs": [
    {
     "ename": "ValueError",
     "evalue": "cannot reshape array of size 9 into shape (1,3)",
     "output_type": "error",
     "traceback": [
      "\u001b[1;31m---------------------------------------------------------------------------\u001b[0m",
      "\u001b[1;31mValueError\u001b[0m                                Traceback (most recent call last)",
      "\u001b[1;32m<ipython-input-122-ef6e47b33e0f>\u001b[0m in \u001b[0;36m<module>\u001b[1;34m\u001b[0m\n\u001b[1;32m----> 1\u001b[1;33m \u001b[0marr_2d\u001b[0m\u001b[1;33m.\u001b[0m\u001b[0mreshape\u001b[0m\u001b[1;33m(\u001b[0m\u001b[1;36m1\u001b[0m\u001b[1;33m,\u001b[0m\u001b[1;36m3\u001b[0m\u001b[1;33m)\u001b[0m\u001b[1;33m\u001b[0m\u001b[1;33m\u001b[0m\u001b[0m\n\u001b[0m",
      "\u001b[1;31mValueError\u001b[0m: cannot reshape array of size 9 into shape (1,3)"
     ]
    }
   ],
   "source": [
    "arr_2d.reshape(1,3)"
   ]
  },
  {
   "cell_type": "markdown",
   "metadata": {},
   "source": [
    "## Fancy Indexing\n",
    "\n",
    "Fancy indexing allows you to select entire rows out of order.\n",
    "\n",
    "`some_array[[rowx, ...]]`\n",
    "\n",
    "This will return the rows at each index within the list input.\n",
    "\n",
    "**ACTION PLAN:**\n",
    "<div class=\"alert alert-block alert-success\">\n",
    "1. Assign **arr_2d** a zeros array of 10 by 10<br>\n",
    "2. What is the count of row 1 in **arr_2d**? _(Trick Question!)_<br>\n",
    "3. Assign to **arr_length** the answer to number 2<br>\n",
    "4. For each element in range of the answer to number 2, broadcast the element _(assign the element to that row)_<br>\n",
    "5. Grab rows 6, 2, 4, and 7 from **arr_2d**</div>\n",
    "\n",
    "<div class=\"alert alert-block alert-warning\">**Thoughts To Ponder:**<br>\n",
    "- What did number 4 teach you?</div>"
   ]
  },
  {
   "cell_type": "code",
   "execution_count": 124,
   "metadata": {},
   "outputs": [
    {
     "data": {
      "text/plain": [
       "array([[0., 0., 0., 0., 0., 0., 0., 0., 0., 0.],\n",
       "       [0., 0., 0., 0., 0., 0., 0., 0., 0., 0.],\n",
       "       [0., 0., 0., 0., 0., 0., 0., 0., 0., 0.],\n",
       "       [0., 0., 0., 0., 0., 0., 0., 0., 0., 0.],\n",
       "       [0., 0., 0., 0., 0., 0., 0., 0., 0., 0.],\n",
       "       [0., 0., 0., 0., 0., 0., 0., 0., 0., 0.],\n",
       "       [0., 0., 0., 0., 0., 0., 0., 0., 0., 0.],\n",
       "       [0., 0., 0., 0., 0., 0., 0., 0., 0., 0.],\n",
       "       [0., 0., 0., 0., 0., 0., 0., 0., 0., 0.],\n",
       "       [0., 0., 0., 0., 0., 0., 0., 0., 0., 0.]])"
      ]
     },
     "execution_count": 124,
     "metadata": {},
     "output_type": "execute_result"
    }
   ],
   "source": [
    "arr_2d = np.zeros((10,10))\n",
    "arr_2d"
   ]
  },
  {
   "cell_type": "code",
   "execution_count": 130,
   "metadata": {},
   "outputs": [
    {
     "data": {
      "text/plain": [
       "(10,)"
      ]
     },
     "execution_count": 130,
     "metadata": {},
     "output_type": "execute_result"
    }
   ],
   "source": [
    "#len(arr_2d[1]) # 10\n",
    "# n_rows, n_cols = arr_2d.shape # 10,10\n",
    "\n",
    "arr_2d[1].shape"
   ]
  },
  {
   "cell_type": "code",
   "execution_count": 142,
   "metadata": {},
   "outputs": [
    {
     "data": {
      "text/plain": [
       "10"
      ]
     },
     "execution_count": 142,
     "metadata": {},
     "output_type": "execute_result"
    }
   ],
   "source": [
    "arr_length = arr_2d[1].shape[0]\n",
    "arr_length"
   ]
  },
  {
   "cell_type": "code",
   "execution_count": 144,
   "metadata": {},
   "outputs": [
    {
     "data": {
      "text/plain": [
       "array([[ 0.,  0.,  0.,  0.,  0.,  0.,  0.,  0.,  0.,  0.],\n",
       "       [ 2.,  2.,  2.,  2.,  2.,  2.,  2.,  2.,  2.,  2.],\n",
       "       [ 4.,  4.,  4.,  4.,  4.,  4.,  4.,  4.,  4.,  4.],\n",
       "       [ 6.,  6.,  6.,  6.,  6.,  6.,  6.,  6.,  6.,  6.],\n",
       "       [ 8.,  8.,  8.,  8.,  8.,  8.,  8.,  8.,  8.,  8.],\n",
       "       [10., 10., 10., 10., 10., 10., 10., 10., 10., 10.],\n",
       "       [12., 12., 12., 12., 12., 12., 12., 12., 12., 12.],\n",
       "       [14., 14., 14., 14., 14., 14., 14., 14., 14., 14.],\n",
       "       [16., 16., 16., 16., 16., 16., 16., 16., 16., 16.],\n",
       "       [18., 18., 18., 18., 18., 18., 18., 18., 18., 18.]])"
      ]
     },
     "execution_count": 144,
     "metadata": {},
     "output_type": "execute_result"
    }
   ],
   "source": [
    "for i in range(arr_length):\n",
    "    arr_2d[i] =  i*2\n",
    "\n",
    "arr_2d"
   ]
  },
  {
   "cell_type": "code",
   "execution_count": 147,
   "metadata": {},
   "outputs": [
    {
     "data": {
      "text/plain": [
       "array([[ 0.,  0.],\n",
       "       [ 2.,  2.],\n",
       "       [ 4.,  4.],\n",
       "       [ 6.,  6.],\n",
       "       [ 8.,  8.],\n",
       "       [10., 10.],\n",
       "       [12., 12.],\n",
       "       [14., 14.],\n",
       "       [16., 16.],\n",
       "       [18., 18.]])"
      ]
     },
     "execution_count": 147,
     "metadata": {},
     "output_type": "execute_result"
    }
   ],
   "source": [
    "arr_2d[:,-1:-3:-1]"
   ]
  },
  {
   "cell_type": "code",
   "execution_count": 149,
   "metadata": {},
   "outputs": [
    {
     "data": {
      "text/plain": [
       "array([[12., 12., 12., 12., 12., 12., 12., 12., 12., 12.],\n",
       "       [ 4.,  4.,  4.,  4.,  4.,  4.,  4.,  4.,  4.,  4.],\n",
       "       [ 8.,  8.,  8.,  8.,  8.,  8.,  8.,  8.,  8.,  8.],\n",
       "       [14., 14., 14., 14., 14., 14., 14., 14., 14., 14.]])"
      ]
     },
     "execution_count": 149,
     "metadata": {},
     "output_type": "execute_result"
    }
   ],
   "source": [
    "arr_2d[[6, 2, 4,  7]]"
   ]
  },
  {
   "cell_type": "code",
   "execution_count": 151,
   "metadata": {},
   "outputs": [
    {
     "data": {
      "text/plain": [
       "array([[12., 12.],\n",
       "       [ 4.,  4.],\n",
       "       [ 8.,  8.],\n",
       "       [14., 14.]])"
      ]
     },
     "execution_count": 151,
     "metadata": {},
     "output_type": "execute_result"
    }
   ],
   "source": [
    "arr_2d[[6, 2, 4,  7], -1:-3:-1]"
   ]
  },
  {
   "cell_type": "code",
   "execution_count": 152,
   "metadata": {},
   "outputs": [
    {
     "data": {
      "text/plain": [
       "array([[ 0.,  0.,  0.,  0.,  0.,  0.,  0.,  0.,  0.,  0.],\n",
       "       [ 2.,  2.,  2.,  2.,  2.,  2.,  2.,  2.,  2.,  2.],\n",
       "       [ 4.,  4.,  4.,  4.,  4.,  4.,  4.,  4.,  4.,  4.],\n",
       "       [ 6.,  6.,  6.,  6.,  6.,  6.,  6.,  6.,  6.,  6.],\n",
       "       [ 8.,  8.,  8.,  8.,  8.,  8.,  8.,  8.,  8.,  8.],\n",
       "       [10., 10., 10., 10., 10., 10., 10., 10., 10., 10.],\n",
       "       [12., 12., 12., 12., 12., 12., 12., 12., 12., 12.],\n",
       "       [14., 14., 14., 14., 14., 14., 14., 14., 14., 14.],\n",
       "       [16., 16., 16., 16., 16., 16., 16., 16., 16., 16.],\n",
       "       [18., 18., 18., 18., 18., 18., 18., 18., 18., 18.]])"
      ]
     },
     "execution_count": 152,
     "metadata": {},
     "output_type": "execute_result"
    }
   ],
   "source": [
    "arr_2d"
   ]
  },
  {
   "cell_type": "code",
   "execution_count": 165,
   "metadata": {},
   "outputs": [
    {
     "data": {
      "text/plain": [
       "array([[ 4.,  4.],\n",
       "       [14., 14.]])"
      ]
     },
     "execution_count": 165,
     "metadata": {},
     "output_type": "execute_result"
    }
   ],
   "source": [
    "arr_2d[[2, -3], 1::7]"
   ]
  },
  {
   "cell_type": "markdown",
   "metadata": {},
   "source": [
    "## Slicing\n",
    "\n",
    "Similar to Python lists, NumPy arrays can be sliced. Since arrays may be multidimensional, you must specify a slice for each dimension of the array.\n",
    "\n",
    "**ACTION PLAN:**\n",
    "\n",
    "<div class=\"alert alert-block alert-success\">Create the following rank 2 array with shape (3, 4):</div>\n",
    "<div class=\"alert alert-block alert-warning\">[[ 1  2  3  4]<br>[ 5  6  7  8]<br>[ 9 10 11 12]]</div>"
   ]
  },
  {
   "cell_type": "code",
   "execution_count": 168,
   "metadata": {},
   "outputs": [
    {
     "data": {
      "text/plain": [
       "array([[ 1,  2,  3,  4],\n",
       "       [ 5,  6,  7,  8],\n",
       "       [ 9, 10, 11, 12]])"
      ]
     },
     "execution_count": 168,
     "metadata": {},
     "output_type": "execute_result"
    }
   ],
   "source": [
    "a= np.array([[ 1, 2, 3, 4],\n",
    "             [ 5, 6, 7, 8],\n",
    "             [ 9, 10, 11, 12]])"
   ]
  },
  {
   "cell_type": "code",
   "execution_count": 169,
   "metadata": {},
   "outputs": [
    {
     "name": "stdout",
     "output_type": "stream",
     "text": [
      "[[ 1  2  3  4]\n",
      " [ 5  6  7  8]\n",
      " [ 9 10 11 12]]\n"
     ]
    }
   ],
   "source": [
    "print(a)"
   ]
  },
  {
   "cell_type": "markdown",
   "metadata": {},
   "source": [
    "Slicing with indexes is just like slicing with strings or lists.\n",
    "<div class=\"alert alert-block alert-info\">a = 'I love Python'<br>b = a[7:]    # 'Python'</div>\n",
    "\n",
    "Use slicing to:\n",
    "- pull out the subarray consisting of the first 2 rows and columns 1 and 2 & assign to **b**\n",
    "- ensure **b** has the following array of shape (2, 2)"
   ]
  },
  {
   "cell_type": "code",
   "execution_count": 171,
   "metadata": {},
   "outputs": [
    {
     "data": {
      "text/plain": [
       "array([[2, 3],\n",
       "       [6, 7]])"
      ]
     },
     "execution_count": 171,
     "metadata": {},
     "output_type": "execute_result"
    }
   ],
   "source": [
    "b= a[:2, 1:3]\n",
    "b"
   ]
  },
  {
   "cell_type": "markdown",
   "metadata": {},
   "source": [
    "A slice of an array is a view into the same data, so modifying it will modify the original array.\n",
    "\n",
    "Run these commands:\n",
    "<div class=\"alert alert-block alert-warning\">a[0, 1]<br>b[0, 0] = 77<br>a[0, 1]</div>\n",
    "<div class=\"alert alert-block alert-info\">**REMEMBER:** b[0, 0] is the same piece of data as a[0, 1]</div>"
   ]
  },
  {
   "cell_type": "code",
   "execution_count": 172,
   "metadata": {},
   "outputs": [
    {
     "data": {
      "text/plain": [
       "2"
      ]
     },
     "execution_count": 172,
     "metadata": {},
     "output_type": "execute_result"
    }
   ],
   "source": [
    "a[0, 1]"
   ]
  },
  {
   "cell_type": "code",
   "execution_count": 173,
   "metadata": {},
   "outputs": [],
   "source": [
    "b[0, 0] = 77"
   ]
  },
  {
   "cell_type": "code",
   "execution_count": 174,
   "metadata": {},
   "outputs": [
    {
     "data": {
      "text/plain": [
       "77"
      ]
     },
     "execution_count": 174,
     "metadata": {},
     "output_type": "execute_result"
    }
   ],
   "source": [
    "a[0, 1]"
   ]
  },
  {
   "cell_type": "code",
   "execution_count": 178,
   "metadata": {},
   "outputs": [
    {
     "data": {
      "text/plain": [
       "array([[ 7,  7,  3,  4],\n",
       "       [ 5,  6,  7,  8],\n",
       "       [ 9, 10, 11, 12]])"
      ]
     },
     "execution_count": 178,
     "metadata": {},
     "output_type": "execute_result"
    }
   ],
   "source": [
    "a[:1,:1]= b[0, 0] = b[1, 1]\n",
    "a"
   ]
  },
  {
   "cell_type": "code",
   "execution_count": 179,
   "metadata": {},
   "outputs": [
    {
     "data": {
      "text/plain": [
       "array([[ 7,  7,  3,  4],\n",
       "       [ 7,  7,  7,  8],\n",
       "       [ 9, 10, 11, 12]])"
      ]
     },
     "execution_count": 179,
     "metadata": {},
     "output_type": "execute_result"
    }
   ],
   "source": [
    "a[:2,:2]= b[0, 0] = b[1, 1]\n",
    "a"
   ]
  },
  {
   "cell_type": "markdown",
   "metadata": {},
   "source": [
    "You can also mix integer indexing with slice indexing. However, doing so will yield an array of lower rank than the original array. Note that this is quite different from the way that MATLAB handles array slicing...\n",
    "\n",
    "Create the following rank 2 array with shape (3, 4):\n",
    "\n",
    "<div class=\"alert alert-block alert-info\">[[ 1  2  3  4]<br>  [ 5  6  7  8]<br>  [ 9 10 11 12]]</div>\n",
    "\n",
    "Here is the code to run:\n",
    "\n",
    "**ACTION PLAN:**\n",
    "<div class=\"alert alert-block alert-success\">\n",
    "1. Create an array of rank 3, where each rank consists of a range of 4 integers from [1:12]</div>"
   ]
  },
  {
   "cell_type": "code",
   "execution_count": 184,
   "metadata": {},
   "outputs": [
    {
     "data": {
      "text/plain": [
       "array([[ 1,  2,  3,  4],\n",
       "       [ 5,  6,  7,  8],\n",
       "       [ 9, 10, 11, 12]])"
      ]
     },
     "execution_count": 184,
     "metadata": {},
     "output_type": "execute_result"
    }
   ],
   "source": [
    "a = np.array([np.arange(1,5), np.arange(5,9), np.arange(9,13)])\n",
    "a"
   ]
  },
  {
   "cell_type": "markdown",
   "metadata": {},
   "source": [
    "There are two ways of accessing the data in the middle row of the array.\n",
    "1. Mixing integer indexing with slices yields an array of lower rank\n",
    "2. Using only slices yields an array of the same rank as the original array\n",
    "\n",
    "**ACTION PLAN:**\n",
    "<div class=\"alert alert-block alert-success\">\n",
    "1. Print **a** and it's shape<br>\n",
    "2. Create variable row_r1 that has a rank 1 view of the 2nd row of a<br>\n",
    "2. Create variable row_r2 that has rank 2 view of the 2nd row of a</div>\n",
    "    \n",
    "<div class=\"alert alert-block alert-info\">**REMEMBER:**  A \"rank\" is the row of a matrix.</div>\n",
    "\n",
    "<div class=\"alert alert-block alert-warning\">**Thoughts to Ponder:**<br>\n",
    "1. (row_r1 == row_r2) == True?<br>\n",
    "2. (row_r1 is row_r2) == True?<br>\n",
    "3. (a[1, :] is row_r1) == True?<br>\n",
    "4. (row_r2 is a[1:2, :]) == True?<div>"
   ]
  },
  {
   "cell_type": "code",
   "execution_count": null,
   "metadata": {},
   "outputs": [],
   "source": []
  },
  {
   "cell_type": "code",
   "execution_count": null,
   "metadata": {},
   "outputs": [],
   "source": []
  },
  {
   "cell_type": "code",
   "execution_count": null,
   "metadata": {},
   "outputs": [],
   "source": []
  },
  {
   "cell_type": "code",
   "execution_count": null,
   "metadata": {},
   "outputs": [],
   "source": []
  },
  {
   "cell_type": "code",
   "execution_count": null,
   "metadata": {},
   "outputs": [],
   "source": []
  },
  {
   "cell_type": "code",
   "execution_count": null,
   "metadata": {},
   "outputs": [],
   "source": []
  },
  {
   "cell_type": "code",
   "execution_count": null,
   "metadata": {},
   "outputs": [],
   "source": []
  },
  {
   "cell_type": "markdown",
   "metadata": {},
   "source": [
    "We can make the same distinction when accessing columns of an array...\n",
    "\n",
    "**ACTION PLAN:**\n",
    "<div class=\"alert alert-block alert-success\">\n",
    "1. print **a**<br>\n",
    "2. Assign **col_r1** the slice of a for all rows for column 1<br>\n",
    "3. Print **col_r1** and it's shape<br>\n",
    "4. Assign **col_r2** the slice of **a** for all rows between columns [1, 2)<br>\n",
    "5. print **col_r2** and it's shape</div>"
   ]
  },
  {
   "cell_type": "code",
   "execution_count": null,
   "metadata": {},
   "outputs": [],
   "source": []
  },
  {
   "cell_type": "code",
   "execution_count": null,
   "metadata": {},
   "outputs": [],
   "source": []
  },
  {
   "cell_type": "code",
   "execution_count": null,
   "metadata": {},
   "outputs": [],
   "source": []
  },
  {
   "cell_type": "markdown",
   "metadata": {},
   "source": [
    "In other words:\n",
    "- `a[:, 1]` is taking all of the rows of the first column and creating a 1 by x matrix (aka:  array)\n",
    "- `a[:,1:2]` is taking all rows of the columns between 1 and up to not including 2 in order to create an x by 1 column matrix\n",
    "\n",
    "Try this on for size:\n",
    "<div class=\"alert alert-block alert-warning\">print(a, a.shape)<br>print(a[:, 1], a[:, 1].shape)<br>print(a[:, :1], a[:, :1].shape)<br>print(a[:,2:], a[:,2:].shape)<br>print(a[:, 2:4], a[:, 2:4].shape)<br>print(a, a.shape)<br>print(a[1:,2:], a[1:,2:].shape)<div>"
   ]
  },
  {
   "cell_type": "code",
   "execution_count": null,
   "metadata": {},
   "outputs": [],
   "source": []
  },
  {
   "cell_type": "code",
   "execution_count": null,
   "metadata": {},
   "outputs": [],
   "source": []
  },
  {
   "cell_type": "code",
   "execution_count": null,
   "metadata": {},
   "outputs": [],
   "source": []
  },
  {
   "cell_type": "code",
   "execution_count": null,
   "metadata": {},
   "outputs": [],
   "source": []
  },
  {
   "cell_type": "code",
   "execution_count": null,
   "metadata": {},
   "outputs": [],
   "source": []
  },
  {
   "cell_type": "code",
   "execution_count": null,
   "metadata": {},
   "outputs": [],
   "source": []
  },
  {
   "cell_type": "code",
   "execution_count": null,
   "metadata": {},
   "outputs": [],
   "source": []
  },
  {
   "cell_type": "markdown",
   "metadata": {},
   "source": [
    "## Integer Array Indexing\n",
    "\n",
    "This feature is useful when selecting or mutating a single element from each row of a matrix.\n",
    "\n",
    "`arr_matrix[[row_x, ...], [col_a, ...]]`\n",
    "\n",
    "**ACTION PLAN:**\n",
    "<div class=\"alert alert-block alert-success\">\n",
    "1. Create matrix **a** as a 3 by 2 matrix of integers from 1 up to and including 6<br>\n",
    "2. Print an array of elements at (0, 0), (1, 1), and (2,0)<br>\n",
    "3. Print an array of elements at (0,1) and (0,1)</div>\n",
    "\n",
    "<div class=\"alert alert-class alert-warning\">**Thoughts To Ponder:**<br>\n",
    "Did number 3 break? Why or why not?</div>"
   ]
  },
  {
   "cell_type": "code",
   "execution_count": null,
   "metadata": {},
   "outputs": [],
   "source": []
  },
  {
   "cell_type": "code",
   "execution_count": null,
   "metadata": {},
   "outputs": [],
   "source": []
  },
  {
   "cell_type": "code",
   "execution_count": null,
   "metadata": {},
   "outputs": [],
   "source": []
  },
  {
   "cell_type": "markdown",
   "metadata": {},
   "source": [
    "This feature is useful when selecting or mutating a single element from each row of a matrix.\n",
    "\n",
    "**ACTION PLAN:**\n",
    "<div class=\"alert alert-block alert-success\">\n",
    "1. Reassign **a** to a 4 by 3 array of arrays from 1 up to and including 12<br>\n",
    "2. Create an array **b** of 4 integers, each between [0, 3)<br>\n",
    "3. Add 10 to the section of **a** where row input is a range [0, 4) and column input is **b**</div>\n",
    "\n",
    "<div class=\"alert alert-class alert-warning\">**Thoughts To Ponder:**<br>\n",
    "What exactly did you just do?</div>"
   ]
  },
  {
   "cell_type": "code",
   "execution_count": null,
   "metadata": {},
   "outputs": [],
   "source": []
  },
  {
   "cell_type": "code",
   "execution_count": null,
   "metadata": {},
   "outputs": [],
   "source": []
  },
  {
   "cell_type": "code",
   "execution_count": null,
   "metadata": {},
   "outputs": [],
   "source": []
  },
  {
   "cell_type": "markdown",
   "metadata": {},
   "source": [
    "## Boolean Array Indexing (Selection)\n",
    "\n",
    "This section will briefly go over how to use brackets for selection based off of comparison operators.\n",
    "\n",
    "1. If you add a comparison operator to an array such as `np.arange(1, 11)` you receive a new array of booleans.\n",
    "\n",
    "2. When you apply that array of **_bools_** to the original array you get back only the ones that are **_True_**\n",
    "\n",
    "`some_array(some_bool)`\n",
    "\n",
    "Frequently used to select elements of an array that satisfy some condition.\n",
    "\n",
    "**ACTION PLAN:**\n",
    "<div class=\"alert alert-class alert-success\">\n",
    "1. Create **bool_idx** and assign the value of **a > 10**<br>\n",
    "2. Print the value of **a** at \"index\" **bool_idx**<br></div>"
   ]
  },
  {
   "cell_type": "code",
   "execution_count": 185,
   "metadata": {},
   "outputs": [
    {
     "data": {
      "text/plain": [
       "array([[ 1,  2,  3],\n",
       "       [ 4,  5,  6],\n",
       "       [ 7,  8,  9],\n",
       "       [10, 11, 12]])"
      ]
     },
     "execution_count": 185,
     "metadata": {},
     "output_type": "execute_result"
    }
   ],
   "source": [
    "a =  np.array([np.arange(1,4), np.arange(4,7), np.arange(7,10), np.arange(10,13)])\n",
    "a[]"
   ]
  },
  {
   "cell_type": "code",
   "execution_count": 191,
   "metadata": {},
   "outputs": [
    {
     "data": {
      "text/plain": [
       "array([[False, False, False],\n",
       "       [False, False, False],\n",
       "       [False, False, False],\n",
       "       [False,  True,  True]])"
      ]
     },
     "execution_count": 191,
     "metadata": {},
     "output_type": "execute_result"
    }
   ],
   "source": [
    "bool_idx =  a > 10 # what are the one that fullfill\n",
    "bool_idx"
   ]
  },
  {
   "cell_type": "code",
   "execution_count": 188,
   "metadata": {},
   "outputs": [
    {
     "data": {
      "text/plain": [
       "array([11, 12])"
      ]
     },
     "execution_count": 188,
     "metadata": {},
     "output_type": "execute_result"
    }
   ],
   "source": [
    "a[bool_idx]"
   ]
  },
  {
   "cell_type": "code",
   "execution_count": 189,
   "metadata": {},
   "outputs": [
    {
     "data": {
      "text/plain": [
       "array([11, 12])"
      ]
     },
     "execution_count": 189,
     "metadata": {},
     "output_type": "execute_result"
    }
   ],
   "source": [
    "a[ a > 10] # Select them (Slice)"
   ]
  },
  {
   "cell_type": "markdown",
   "metadata": {},
   "source": [
    "## The End\n",
    "\n",
    "If you would like to learn more, please <a href='http://docs.scipy.org/doc/numpy/reference/arrays.indexing.html'>read the documentation</a>."
   ]
  }
 ],
 "metadata": {
  "kernelspec": {
   "display_name": "Python 3",
   "language": "python",
   "name": "python3"
  },
  "language_info": {
   "codemirror_mode": {
    "name": "ipython",
    "version": 3
   },
   "file_extension": ".py",
   "mimetype": "text/x-python",
   "name": "python",
   "nbconvert_exporter": "python",
   "pygments_lexer": "ipython3",
   "version": "3.7.6"
  }
 },
 "nbformat": 4,
 "nbformat_minor": 2
}
