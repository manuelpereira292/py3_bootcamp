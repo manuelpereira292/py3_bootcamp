{
 "cells": [
  {
   "cell_type": "markdown",
   "metadata": {},
   "source": [
    "# Port Scanner\n",
    "## Training RUMOS\n"
   ]
  },
  {
   "cell_type": "markdown",
   "metadata": {},
   "source": [
    "This is Already Done!"
   ]
  },
  {
   "cell_type": "code",
   "execution_count": 1,
   "metadata": {},
   "outputs": [],
   "source": [
    "import socket\n",
    "\n",
    "def conn_scan(host, port):\n",
    "    print('[*] Scanning port {}'.format(port), end='')\n",
    "    try:\n",
    "        with socket.socket(socket.AF_INET, socket.SOCK_STREAM) as s:\n",
    "            s.connect((host, port))\n",
    "            s.send(b'KNOK...KNOK\\r\\n')\n",
    "            data = s.recv(1024)\n",
    "        print(' ... open')\n",
    "        #print(data)\n",
    "    except:\n",
    "        print(' ... close')"
   ]
  },
  {
   "cell_type": "markdown",
   "metadata": {},
   "source": [
    "Start Here! \n",
    "\n",
    "make sure this happens\n",
    "\n",
    "[*] Scanning host 185.240.248.25  \n",
    "[*] Scanning port 22 ... open  \n",
    "[*] Scanning port 23 ... close  \n",
    "[*] Scanning port 80 ... open  \n"
   ]
  },
  {
   "cell_type": "code",
   "execution_count": 2,
   "metadata": {},
   "outputs": [
    {
     "output_type": "stream",
     "name": "stdout",
     "text": "[+] Scanning host 185.240.248.25\n[*] Scanning port 22 ... open\n[*] Scanning port 80 ... open\n[*] Scanning port 143 ... open\n"
    }
   ],
   "source": [
    "def port_scan(host, ports):\n",
    "    print(\"[+] Scanning host {}\".format(host))\n",
    "    #print(type(ports)) # <class 'list'>\n",
    "    \n",
    "    for port in ports:\n",
    "        conn_scan(host, port)\n",
    "\n",
    "if __name__ == '__main__':\n",
    "    hosts='185.240.248.25'\n",
    "    ports = [22, 80, 143]\n",
    "    port_scan(hosts, ports)"
   ]
  }
 ],
 "metadata": {
  "kernelspec": {
   "display_name": "Python 3",
   "language": "python",
   "name": "python3"
  },
  "language_info": {
   "codemirror_mode": {
    "name": "ipython",
    "version": 3
   },
   "file_extension": ".py",
   "mimetype": "text/x-python",
   "name": "python",
   "nbconvert_exporter": "python",
   "pygments_lexer": "ipython3",
   "version": "3.8.2-final"
  }
 },
 "nbformat": 4,
 "nbformat_minor": 2
}