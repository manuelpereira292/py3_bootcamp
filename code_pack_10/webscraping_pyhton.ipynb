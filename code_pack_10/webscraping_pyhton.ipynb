{
 "cells": [
  {
   "cell_type": "markdown",
   "metadata": {},
   "source": [
    "## Webscraping com Python\n",
    "\n",
    "Tutorial de webscraping com pyhton utilizando a biblioteca BeautifulSoup\n",
    "\n",
    "### O que é webscraping?\n",
    "\n",
    "Webscraping é uma técnica de extração de dados, com ela podemos coletar dados de sites. Fazemos a 'raspagem' dos dados  que são interessantes para nós.\n",
    "\n",
    "Por exemplo: resgatar os últimos posts que foram escritos em vários blogs, assim sem precisarmos entrar nos sites alvo, podemos simplesmente iterar sobre eles e resgatar os dados, este seria um exemplo simples da aplicação da técnica.\n",
    "\n",
    "O que é muito mais rápido do que entrar em blog por blog e verificar o conteúdo e copiar para alguma planinha.\n",
    "\n",
    "Há muitas empresas que utilizam como forma de gerar recursos, um exemplo clássico é o site Buscapé, ele varre os sites que vendem os produtos pesquisados em busca dos menores preços.\n",
    "\n",
    "### Mais sobre o webscraping:\n",
    "\n",
    "Depois da extração dos dados, podemos armazenar eles de diversas formas:\n",
    "\n",
    "- Salvar em um banco de dados;\n",
    "- Salvar em CSV;\n",
    "- Salvar em XLS;\n",
    "- Entre outros;\n",
    "\n",
    "O processo em si é bem básico, definimos os dados que queremos, escolhemos os sites, montamos o script e recebemos os dados para análise, este é o ciclo de vida do webscraping.\n",
    "\n",
    "Outro ponto legal é que se você souber um pouco de programação web vai se sentir muito confortável na exploração das tags, e na própria estrutura do HTML, isso já te deixa na frente.\n",
    "\n",
    "### Porque utilizar?\n",
    "\n",
    "Bom, vamos imaginar um caso: precisamos dos comentários dos usuários de um produto X em 200 e-commerces diferentes para analisa-los e validar se o produto tem aceitação no mercado.\n",
    "\n",
    "Poderiamos entrar nos 200 sites copiar todos os comentários e salvar de alguma forma, por exemplo, mas e quantas horas gastariamos nisso? E se a pesquisa precisa ser repetida toda semana? Se faltou algum dado na primeira pesquisa?\n",
    "\n",
    "Teriamos que novamente nos submetermos a todo este processo manual, gastando horas para gerar algo super simples!\n",
    "\n",
    "É aí que entra o webscraping, automatizamos todo o processo e só precisamos rodar o script até quando precisarmos, é muito mais vantajoso, e se feito de maneira correta se torna muito mais preciso também, a prova de erros humanos.\n",
    "\n",
    "### Antes de iniciarmos a prática\n",
    "\n",
    "Vou utilizar o Jupyter Notebook para demonstrar todos os exemplos, instalando o Anaconda você já consegue todas as libs usadas neste tutorial e inclusive o Notebook, que é uma forma excelente para executarmos nossos testes.\n",
    "\n",
    "Caso você opte por instalar as libs separadamente, faça isso com o pip, o resultado final será o mesmo, gosto da solução do Anaconda pois é prática e rápida, além de ser muito utilizada para tutoriais e compartilhamento de notebooks.\n",
    "\n",
    "Fiz um artigo de como instalar o Jupyter em diversas plataformas, caso queira aproveitar: [confira aqui!](https://medium.com/matheusbudkewicz/como-instalar-o-jupyter-notebook-windows-e-linux-20701fc583c)\n",
    "\n",
    "### Projeto no final\n",
    "\n",
    "Outro aviso é para os que gostam de prática, no fim do artigo teremos um mini projeto que simula uma situação do dia a dia, explorando todos os conceitos aprendidos durante a leitura!\n",
    "\n",
    "### Repositório\n",
    "\n",
    "Todo o conteúdo se encontra no Github caso queira analisar o código: [ir para o repositório!](https://github.com/matheusbattisti/webscraping_python)\n",
    "\n",
    "### Hello World em webscraping\n",
    "\n",
    "Quem está nesse mundo da programação sabe que precisamos fazer um Hello World o quanto antes, é parte da tradição!\n",
    "\n",
    "Vamos colocar a mão na massa para adicionar um pouco de prática, assim já conseguiremos abordar tópicos mais avançados"
   ]
  },
  {
   "cell_type": "code",
   "execution_count": 2,
   "metadata": {},
   "outputs": [
    {
     "output_type": "execute_result",
     "data": {
      "text/plain": "b'<html>\\n<head>\\n<title>A Useful Page</title>\\n</head>\\n<body>\\n<h1>An Interesting Title</h1>\\n<div>\\nLorem ipsum dolor sit amet, consectetur adipisicing elit, sed do eiusmod tempor incididunt ut labore et dolore magna aliqua. Ut enim ad minim veniam, quis nostrud exercitation ullamco laboris nisi ut aliquip ex ea commodo consequat. Duis aute irure dolor in reprehenderit in voluptate velit esse cillum dolore eu fugiat nulla pariatur. Excepteur sint occaecat cupidatat non proident, sunt in culpa qui officia deserunt mollit anim id est laborum.\\n</div>\\n</body>\\n</html>\\n'"
     },
     "metadata": {},
     "execution_count": 2
    }
   ],
   "source": [
    "# Importando as libs\n",
    "from urllib.request import urlopen\n",
    "\n",
    "# Definimos a url alvo. obs: esta url vem de um livro sobre o assunto do tópico\n",
    "url = 'http://pythonscraping.com/pages/page1.html'\n",
    "\n",
    "# Aplicamos uma requisição para pegar o HTML\n",
    "html = urlopen(url)\n",
    "\n",
    "# Verificação do conteúdo\n",
    "html.read()"
   ]
  },
  {
   "cell_type": "markdown",
   "metadata": {},
   "source": [
    "### Pronto!\n",
    "\n",
    "Temos o primeiro resultado por webscraping, foi fácil não?\n",
    "\n",
    "O retorno do método urlopen foi um HTML simples com diversos elementos que vemos todos os dias, o próximo passo seria extrair os dados que nós desejamos.\n",
    "\n",
    "Outro ponto importante é que no passo acima utilizamos a lib urllopen, nativa do Python, porém em outros tutoriais você pode se deparar com a Requests, que é bem conhecida e a comunidade abraça bem ela, então porque utilizamos a urllib?\n",
    "\n",
    "\n",
    "### Requests ou urllib?\n",
    "\n",
    "Bom, como vamos fazer requisições HTTP, no caso get, nas páginas que queremos extrair dados, precisamos de uma lib para isso, durante meus estudos sobre o tema estas duas apareceram de forma igual, então fui atrás para saber as vantagens e desvantagens de cada uma.\n",
    "\n",
    "Basicamente o que encontrei é que Requests é uma lib externa, no caso estariamos criando uma dependência para o projeto, já um ponto forte é a simplicidade de escrever o código, escrevemos menos linhas para chegar ao mesmo resultado comparando com a urllib, além disso há alguns comentários que dizem que Requests tem um código mais limpo e moderno que a outra.\n",
    "\n",
    "Já urllib é nativa do Python, o que quer dizer que provavelmente será mantida pela mesma equipe que trabalha na linguagem e até enquanto Python durar ou fizeram outra versão que resolva este problema, há alguns comentários pelo stackoverflow que falam sobre o desenvolvimento dela ser feito numa lógica de 'resolver o problema' ao invés de código limpo e performático.\n",
    "\n",
    "Neste post pretendo seguir com a urllib, mas teremos um exemplo com a Requests para você poder escolher a que mais te agrada."
   ]
  },
  {
   "cell_type": "code",
   "execution_count": 3,
   "metadata": {
    "scrolled": true
   },
   "outputs": [
    {
     "output_type": "execute_result",
     "data": {
      "text/plain": "               \\n                            </ul>\\n                        </div><!-- end .shrubbery -->\\n\\n                    </div>\\n\\n                    <div class=\"medium-widget event-widget last\">\\n                        \\n                        <div class=\"shrubbery\">\\n                        \\n                            <h2 class=\"widget-title\"><span aria-hidden=\"true\" class=\"icon-calendar\"></span>Upcoming Events</h2>\\n                            <p class=\"give-me-more\"><a href=\"/events/calendars/\" title=\"More Events\">More</a></p>\\n                            \\n                            <ul class=\"menu\">\\n                                \\n                                \\n                                \\n                                <li>\\n<time datetime=\"2020-05-16T06:50:00+00:00\"><span class=\"say-no-more\">2020-</span>05-16</time>\\n <a href=\"/events/python-events/971/\">Python fwdays&#39;20</a></li>\\n                                \\n                                \\n                                \\n                                <li>\\n<time datetime=\"2020-05-16T07:00:00+00:00\"><span class=\"say-no-more\">2020-</span>05-16</time>\\n <a href=\"/events/python-user-group/956/\">Django Girls Groningen</a></li>\\n                                \\n                                \\n                                \\n                                <li>\\n<time datetime=\"2020-05-23T06:50:00+00:00\"><span class=\"say-no-more\">2020-</span>05-23</time>\\n <a href=\"/events/python-events/970/\">Python fwdays&#39;20</a></li>\\n                                \\n                                \\n                                \\n                                <li>\\n<time datetime=\"2020-06-05T00:00:00+00:00\"><span class=\"say-no-more\">2020-</span>06-05</time>\\n <a href=\"/events/python-events/948/\">PyLondinium 2020 (postponed)</a></li>\\n                                \\n                                \\n                                \\n                                <li>\\n<time datetime=\"2020-06-05T00:00:00+00:00\"><span class=\"say-no-more\">2020-</span>06-05</time>\\n <a href=\"/events/python-events/895/\">PyCon CZ 2020 (canceled)</a></li>\\n                                \\n                                \\n                            </ul>\\n                        </div>\\n\\n                    </div>\\n\\n                </div>\\n\\n                <div class=\"row\">\\n\\n                    <div class=\"medium-widget success-stories-widget\">\\n                        \\n\\n\\n\\n                        <div class=\"shrubbery\">\\n                            \\n\\n                            <h2 class=\"widget-title\"><span aria-hidden=\"true\" class=\"icon-success-stories\"></span>Success Stories</h2>\\n                            <p class=\"give-me-more\"><a href=\"/success-stories/\" title=\"More Success Stories\">More</a></p>\\n\\n                            \\n                            <div class=\"success-story-item\" id=\"success-story-930\">\\n\\n                            <blockquote>\\n                                <a href=\"/success-stories/python-for-financial-machine-learning-at-union-investment/\">Python and its broad variety of libraries are very well suited to develop customized machine learning tools which tackle the complex challenges posed by financial time series.</a>\\n                            </blockquote>\\n\\n                            <table cellpadding=\"0\" cellspacing=\"0\" border=\"0\" width=\"100%\" class=\"quote-from\">\\n                                <tbody>\\n                                    <tr>\\n                                        \\n                                        <td><p><a href=\"/success-stories/python-for-financial-machine-learning-at-union-investment/\">Python for Financial Machine Learning at Union Investment</a> <em>by Dr. Christian Mandery and Nikolas Gerlich</em></p></td>\\n                                    </tr>\\n                                </tbody>\\n                            </table>\\n                            </div>\\n                            \\n\\n                        </div><!-- end .shrubbery -->\\n\\n                    </div>\\n\\n                    <div class=\"medium-widget applications-widget last\">\\n                        <div class=\"shrubbery\">\\n                            <h2 class=\"widget-title\"><span aria-hidden=\"true\" class=\"icon-python\"></span>Use Python for&hellip;</h2>\\r\\n<p class=\"give-me-more\"><a href=\"/about/apps\" title=\"More Applications\">More</a></p>\\r\\n\\r\\n<ul class=\"menu\">\\r\\n    <li><b>Web Development</b>:\\r\\n        <span class=\"tag-wrapper\"><a class=\"tag\" href=\"http://www.djangoproject.com/\">Django</a>, <a class=\"tag\" href=\"http://www.pylonsproject.org/\">Pyramid</a>, <a class=\"tag\" href=\"http://bottlepy.org\">Bottle</a>, <a class=\"tag\" href=\"http://tornadoweb.org\">Tornado</a>, <a href=\"http://flask.pocoo.org/\" class=\"tag\">Flask</a>, <a class=\"tag\" href=\"http://www.web2py.com/\">web2py</a></span></li>\\r\\n    <li><b>GUI Development</b>:\\r\\n        <span class=\"tag-wrapper\"><a class=\"tag\" href=\"http://wiki.python.org/moin/TkInter\">tkInter</a>, <a class=\"tag\" href=\"https://wiki.gnome.org/Projects/PyGObject\">PyGObject</a>, <a class=\"tag\" href=\"http://www.riverbankcomputing.co.uk/software/pyqt/intro\">PyQt</a>, <a class=\"tag\" href=\"https://wiki.qt.io/PySide\">PySide</a>, <a class=\"tag\" href=\"https://kivy.org/\">Kivy</a>, <a class=\"tag\" href=\"http://www.wxpython.org/\">wxPython</a></span></li>\\r\\n    <li><b>Scientific and Numeric</b>:\\r\\n        <span class=\"tag-wrapper\">\\r\\n<a class=\"tag\" href=\"http://www.scipy.org\">SciPy</a>, <a class=\"tag\" href=\"http://pandas.pydata.org/\">Pandas</a>, <a href=\"http://ipython.org\" class=\"tag\">IPython</a></span></li>\\r\\n    <li><b>Software Development</b>:\\r\\n        <span class=\"tag-wrapper\"><a class=\"tag\" href=\"http://buildbot.net/\">Buildbot</a>, <a class=\"tag\" href=\"http://trac.edgewall.org/\">Trac</a>, <a class=\"tag\" href=\"http://roundup.sourceforge.net/\">Roundup</a></span></li>\\r\\n    <li><b>System Administration</b>:\\r\\n        <span class=\"tag-wrapper\"><a class=\"tag\" href=\"http://www.ansible.com\">Ansible</a>, <a class=\"tag\" href=\"http://www.saltstack.com\">Salt</a>, <a class=\"tag\" href=\"https://www.openstack.org\">OpenStack</a></span></li>\\r\\n</ul>\\r\\n\\n                        </div><!-- end .shrubbery -->\\n                    </div>\\n\\n                </div>\\n\\n                \\n                <div class=\"pep-widget\">\\n\\n                    <h2 class=\"widget-title\">\\n                        <span class=\"prompt\">&gt;&gt;&gt;</span> <a href=\"/dev/peps/\">Python Enhancement Proposals<span class=\"say-no-more\"> (PEPs)</span></a>: The future of Python<span class=\"say-no-more\"> is discussed here.</span>\\n                        <a aria-hidden=\"true\" class=\"rss-link\" href=\"/dev/peps/peps.rss\"><span class=\"icon-feed\"></span> RSS</a>\\n                    </h2>\\n\\n\\n                    \\n                    \\n                </div>\\n\\n                                <div class=\"psf-widget\">\\n\\n                    <div class=\"python-logo\"></div>\\n                    \\n                    <h2 class=\"widget-title\">\\r\\n    <span class=\"prompt\">&gt;&gt;&gt;</span> <a href=\"/psf/\">Python Software Foundation</a>\\r\\n</h2>\\r\\n<p>The mission of the Python Software Foundation is to promote, protect, and advance the Python programming language, and to support and facilitate the growth of a diverse and international community of Python programmers. <a class=\"readmore\" href=\"/psf/\">Learn more</a> </p>\\r\\n<p class=\"click-these\">\\r\\n    <a class=\"button\" href=\"/users/membership/\">Become a Member</a>\\r\\n    <a class=\"button\" href=\"/psf/donations/\">Donate to the PSF</a>\\r\\n</p>\\n                </div>\\n\\n\\n\\n\\n                </section>\\n\\n                \\n                \\n\\n                \\n                \\n\\n\\n            </div><!-- end .container -->\\n        </div><!-- end #content .content-wrapper -->\\n\\n        <!-- Footer and social media list -->\\n        <footer id=\"site-map\" class=\"main-footer\" role=\"contentinfo\">\\n            <div class=\"main-footer-links\">\\n                <div class=\"container\">\\n\\n                    \\n                    <a id=\"back-to-top-1\" class=\"jump-link\" href=\"#python-network\"><span aria-hidden=\"true\" class=\"icon-arrow-up\"><span>&#9650;</span></span> Back to Top</a>\\n\\n                    \\n\\n<ul class=\"sitemap navigation menu do-not-print\" role=\"tree\" id=\"container\">\\n    \\n    <li class=\"tier-1 element-1\">\\n        <a href=\"/about/\" >About</a>\\n        \\n            \\n\\n<ul class=\"subnav menu\">\\n    \\n        <li class=\"tier-2 element-1\" role=\"treeitem\"><a href=\"/about/apps/\" title=\"\">Applications</a></li>\\n    \\n        <li class=\"tier-2 element-2\" role=\"treeitem\"><a href=\"/about/quotes/\" title=\"\">Quotes</a></li>\\n    \\n        <li class=\"tier-2 element-3\" role=\"treeitem\"><a href=\"/about/gettingstarted/\" title=\"\">Getting Started</a></li>\\n    \\n        <li class=\"tier-2 element-4\" role=\"treeitem\"><a href=\"/about/help/\" title=\"\">Help</a></li>\\n    \\n        <li class=\"tier-2 element-5\" role=\"treeitem\"><a href=\"http://brochure.getpython.info/\" title=\"\">Python Brochure</a></li>\\n    \\n</ul>\\n\\n        \\n    </li>\\n    \\n    <li class=\"tier-1 element-2\">\\n        <a href=\"/downloads/\" >Downloads</a>\\n        \\n            \\n\\n<ul class=\"subnav menu\">\\n    \\n        <li class=\"tier-2 element-1\" role=\"treeitem\"><a href=\"/downloads/\" title=\"\">All releases</a></li>\\n    \\n        <li class=\"tier-2 element-2\" role=\"treeitem\"><a href=\"/downloads/source/\" title=\"\">Source code</a></li>\\n    \\n        <li class=\"tier-2 element-3\" role=\"treeitem\"><a href=\"/downloads/windows/\" title=\"\">Windows</a></li>\\n    \\n        <li class=\"tier-2 element-4\" role=\"treeitem\"><a href=\"/downloads/mac-osx/\" title=\"\">Mac OS X</a></li>\\n    \\n        <li class=\"tier-2 element-5\" role=\"treeitem\"><a href=\"/download/other/\" title=\"\">Other Platforms</a></li>\\n    \\n        <li class=\"tier-2 element-6\" role=\"treeitem\"><a href=\"https://docs.python.org/3/license.html\" title=\"\">License</a></li>\\n    \\n        <li class=\"tier-2 element-7\" role=\"treeitem\"><a href=\"/download/alternatives\" title=\"\">Alternative Implementations</a></li>\\n    \\n</ul>\\n\\n        \\n    </li>\\n    \\n    <li class=\"tier-1 element-3\">\\n        <a href=\"/doc/\" >Documentation</a>\\n        \\n            \\n\\n<ul class=\"subnav menu\">\\n    \\n        <li class=\"tier-2 element-1\" role=\"treeitem\"><a href=\"/doc/\" title=\"\">Docs</a></li>\\n    \\n        <li class=\"tier-2 element-2\" role=\"treeitem\"><a href=\"/doc/av\" title=\"\">Audio/Visual Talks</a></li>\\n    \\n        <li class=\"tier-2 element-3\" role=\"treeitem\"><a href=\"https://wiki.python.org/moin/BeginnersGuide\" title=\"\">Beginner&#39;s Guide</a></li>\\n    \\n        <li class=\"tier-2 element-4\" role=\"treeitem\"><a href=\"https://devguide.python.org/\" title=\"\">Developer&#39;s Guide</a></li>\\n    \\n        <li class=\"tier-2 element-5\" role=\"treeitem\"><a href=\"https://docs.python.org/faq/\" title=\"\">FAQ</a></li>\\n    \\n        <li class=\"tier-2 element-6\" role=\"treeitem\"><a href=\"http://wiki.python.org/moin/Languages\" title=\"\">Non-English Docs</a></li>\\n    \\n        <li class=\"tier-2 element-7\" role=\"treeitem\"><a href=\"http://python.org/dev/peps/\" title=\"\">PEP Index</a></li>\\n    \\n        <li class=\"tier-2 element-8\" role=\"treeitem\"><a href=\"https://wiki.python.org/moin/PythonBooks\" title=\"\">Python Books</a></li>\\n    \\n        <li class=\"tier-2 element-9\" role=\"treeitem\"><a href=\"/doc/essays/\" title=\"\">Python Essays</a></li>\\n    \\n</ul>\\n\\n        \\n    </li>\\n    \\n    <li class=\"tier-1 element-4\">\\n        <a href=\"/community/\" >Community</a>\\n        \\n            \\n\\n<ul class=\"subnav menu\">\\n    \\n        <li class=\"tier-2 element-1\" role=\"treeitem\"><a href=\"/community/survey\" title=\"\">Community Survey</a></li>\\n    \\n        <li class=\"tier-2 element-2\" role=\"treeitem\"><a href=\"/community/diversity/\" title=\"\">Diversity</a></li>\\n    \\n        <li class=\"tier-2 element-3\" role=\"treeitem\"><a href=\"/community/lists/\" title=\"\">Mailing Lists</a></li>\\n    \\n        <li class=\"tier-2 element-4\" role=\"treeitem\"><a href=\"/community/irc/\" title=\"\">IRC</a></li>\\n    \\n        <li class=\"tier-2 element-5\" role=\"treeitem\"><a href=\"/community/forums/\" title=\"\">Forums</a></li>\\n    \\n        <li class=\"tier-2 element-6\" role=\"treeitem\"><a href=\"/psf/annual-report/2020/\" title=\"\">PSF Annual Impact Report</a></li>\\n    \\n        <li class=\"tier-2 element-7\" role=\"treeitem\"><a href=\"/community/workshops/\" title=\"\">Python Conferences</a></li>\\n    \\n        <li class=\"tier-2 element-8\" role=\"treeitem\"><a href=\"/community/sigs/\" title=\"\">Special Interest Groups</a></li>\\n    \\n        <li class=\"tier-2 element-9\" role=\"treeitem\"><a href=\"/community/logos/\" title=\"\">Python Logo</a></li>\\n    \\n        <li class=\"tier-2 element-10\" role=\"treeitem\"><a href=\"https://wiki.python.org/moin/\" title=\"\">Python Wiki</a></li>\\n    \\n        <li class=\"tier-2 element-11\" role=\"treeitem\"><a href=\"/community/merchandise/\" title=\"\">Merchandise</a></li>\\n    \\n        <li class=\"tier-2 element-12\" role=\"treeitem\"><a href=\"/community/awards\" title=\"\">Community Awards</a></li>\\n    \\n        <li class=\"tier-2 element-13\" role=\"treeitem\"><a href=\"/psf/conduct/\" title=\"\">Code of Conduct</a></li>\\n    \\n</ul>\\n\\n        \\n    </li>\\n    \\n    <li class=\"tier-1 element-5\">\\n        <a href=\"/success-stories/\" title=\"success-stories\">Success Stories</a>\\n        \\n            \\n\\n<ul class=\"subnav menu\">\\n    \\n        <li class=\"tier-2 element-1\" role=\"treeitem\"><a href=\"/success-stories/category/arts/\" title=\"\">Arts</a></li>\\n    \\n        <li class=\"tier-2 element-2\" role=\"treeitem\"><a href=\"/success-stories/category/business/\" title=\"\">Business</a></li>\\n    \\n        <li class=\"tier-2 element-3\" role=\"treeitem\"><a href=\"/success-stories/category/education/\" title=\"\">Education</a></li>\\n    \\n        <li class=\"tier-2 element-4\" role=\"treeitem\"><a href=\"/success-stories/category/engineering/\" title=\"\">Engineering</a></li>\\n    \\n        <li class=\"tier-2 element-5\" role=\"treeitem\"><a href=\"/success-stories/category/government/\" title=\"\">Government</a></li>\\n    \\n        <li class=\"tier-2 element-6\" role=\"treeitem\"><a href=\"/success-stories/category/scientific/\" title=\"\">Scientific</a></li>\\n    \\n        <li class=\"tier-2 element-7\" role=\"treeitem\"><a href=\"/success-stories/category/software-development/\" title=\"\">Software Development</a></li>\\n    \\n</ul>\\n\\n        \\n    </li>\\n    \\n    <li class=\"tier-1 element-6\">\\n        <a href=\"/blogs/\" title=\"News from around the Python world\">News</a>\\n        \\n            \\n\\n<ul class=\"subnav menu\">\\n    \\n        <li class=\"tier-2 element-1\" role=\"treeitem\"><a href=\"/blogs/\" title=\"Python Insider Blog Posts\">Python News</a></li>\\n    \\n        <li class=\"tier-2 element-2\" role=\"treeitem\"><a href=\"/psf/newsletter/\" title=\"Python Software Foundation Newsletter\">PSF Newsletter</a></li>\\n    \\n        <li class=\"tier-2 element-3\" role=\"treeitem\"><a href=\"http://planetpython.org/\" title=\"Planet Python\">Community News</a></li>\\n    \\n        <li class=\"tier-2 element-4\" role=\"treeitem\"><a href=\"http://pyfound.blogspot.com/\" title=\"PSF Blog\">PSF News</a></li>\\n    \\n        <li class=\"tier-2 element-5\" role=\"treeitem\"><a href=\"http://pycon.blogspot.com/\" title=\"PyCon Blog\">PyCon News</a></li>\\n    \\n</ul>\\n\\n        \\n    </li>\\n    \\n    <li class=\"tier-1 element-7\">\\n        <a href=\"/events/\" >Events</a>\\n        \\n            \\n\\n<ul class=\"subnav menu\">\\n    \\n        <li class=\"tier-2 element-1\" role=\"treeitem\"><a href=\"/events/python-events\" title=\"\">Python Events</a></li>\\n    \\n        <li class=\"tier-2 element-2\" role=\"treeitem\"><a href=\"/events/python-user-group/\" title=\"\">User Group Events</a></li>\\n    \\n        <li class=\"tier-2 element-3\" role=\"treeitem\"><a href=\"/events/python-events/past/\" title=\"\">Python Events Archive</a></li>\\n    \\n        <li class=\"tier-2 element-4\" role=\"treeitem\"><a href=\"/events/python-user-group/past/\" title=\"\">User Group Events Archive</a></li>\\n    \\n        <li class=\"tier-2 element-5\" role=\"treeitem\"><a href=\"https://wiki.python.org/moin/PythonEventsCalendar#Submitting_an_Event\" title=\"\">Submit an Event</a></li>\\n    \\n</ul>\\n\\n        \\n    </li>\\n    \\n    <li class=\"tier-1 element-8\">\\n        <a href=\"/dev/\" >Contributing</a>\\n        \\n            \\n\\n<ul class=\"subnav menu\">\\n    \\n        <li class=\"tier-2 element-1\" role=\"treeitem\"><a href=\"https://devguide.python.org/\" title=\"\">Developer&#39;s Guide</a></li>\\n    \\n        <li class=\"tier-2 element-2\" role=\"treeitem\"><a href=\"https://bugs.python.org/\" title=\"\">Issue Tracker</a></li>\\n    \\n        <li class=\"tier-2 element-3\" role=\"treeitem\"><a href=\"https://mail.python.org/mailman/listinfo/python-dev\" title=\"\">python-dev list</a></li>\\n    \\n        <li class=\"tier-2 element-4\" role=\"treeitem\"><a href=\"/dev/core-mentorship/\" title=\"\">Core Mentorship</a></li>\\n    \\n        <li class=\"tier-2 element-5\" role=\"treeitem\"><a href=\"/dev/security/\" title=\"\">Report a Security Issue</a></li>\\n    \\n</ul>\\n\\n        \\n    </li>\\n    \\n</ul>\\n\\n\\n                    <a id=\"back-to-top-2\" class=\"jump-link\" href=\"#python-network\"><span aria-hidden=\"true\" class=\"icon-arrow-up\"><span>&#9650;</span></span> Back to Top</a>\\n                    \\n\\n                </div><!-- end .container -->\\n            </div> <!-- end .main-footer-links -->\\n\\n            <div class=\"site-base\">\\n                <div class=\"container\">\\n                    \\n                    <ul class=\"footer-links navigation menu do-not-print\" role=\"tree\">\\n                        <li class=\"tier-1 element-1\"><a href=\"/about/help/\">Help &amp; <span class=\"say-no-more\">General</span> Contact</a></li>\\n                        <li class=\"tier-1 element-2\"><a href=\"/community/diversity/\">Diversity <span class=\"say-no-more\">Initiatives</span></a></li>\\n                        <li class=\"tier-1 element-3\"><a href=\"https://github.com/python/pythondotorg/issues\">Submit Website Bug</a></li>\\n                        <li class=\"tier-1 element-4\">\\n                            <a href=\"https://status.python.org/\">Status <span class=\"python-status-indicator-default\" id=\"python-status-indicator\"></span></a>\\n                        </li>\\n                    </ul>\\n\\n                    <div class=\"copyright\">\\n                        <p><small>\\n                            <span class=\"pre\">Copyright &copy;2001-2020.</span>\\n                            &nbsp;<span class=\"pre\"><a href=\"/psf-landing/\">Python Software Foundation</a></span>\\n                            &nbsp;<span class=\"pre\"><a href=\"/about/legal/\">Legal Statements</a></span>\\n                            &nbsp;<span class=\"pre\"><a href=\"/privacy/\">Privacy Policy</a></span>\\n                            &nbsp;<span class=\"pre\"><a href=\"/psf/sponsorship/sponsors/#heroku\">Powered by Heroku</a></span>\\n                        </small></p>\\n                    </div>\\n\\n                </div><!-- end .container -->\\n            </div><!-- end .site-base -->\\n\\n        </footer>\\n\\n    </div><!-- end #touchnav-wrapper -->\\n\\n    \\n    <script src=\"//ajax.googleapis.com/ajax/libs/jquery/1.8.2/jquery.min.js\"></script>\\n    <script>window.jQuery || document.write(\\'<script src=\"/static/js/libs/jquery-1.8.2.min.js\"><\\\\/script>\\')</script>\\n\\n    <script src=\"/static/js/libs/masonry.pkgd.min.js\"></script>\\n    <script src=\"/static/js/libs/html-includes.js\"></script>\\n\\n    <script type=\"text/javascript\" src=\"/static/js/main-min.a3326162e3f0.js\" charset=\"utf-8\"></script>\\n    \\n\\n    <!--[if lte IE 7]>\\n    <script type=\"text/javascript\" src=\"/static/js/plugins/IE8-min.98b6ab00aab8.js\" charset=\"utf-8\"></script>\\n    \\n    \\n    <![endif]-->\\n\\n    <!--[if lte IE 8]>\\n    <script type=\"text/javascript\" src=\"/static/js/plugins/getComputedStyle-min.c3860be1d290.js\" charset=\"utf-8\"></script>\\n    \\n    \\n    <![endif]-->\\n\\n    \\n\\n    \\n    \\n\\n</body>\\n</html>\\n'"
     },
     "metadata": {},
     "execution_count": 3
    }
   ],
   "source": [
    "# Importando a Requests\n",
    "import requests\n",
    "\n",
    "# Vamos testar a biblioteca requests\n",
    "html = requests.get(\"https://www.python.org\")\n",
    "\n",
    "# Diferente da urllib, usamos text para apresentar o conteudo que o get nos trouxe\n",
    "html.text"
   ]
  },
  {
   "cell_type": "markdown",
   "metadata": {},
   "source": [
    "Agora que vimos como conseguir os dados de um site, está na hora de avançarmos ao próximo nível: usar uma biblioteca para poder manipular o HTML de uma forma mais fácil\n",
    "\n",
    "### BeautifulSoup\n",
    "\n",
    "Com a BeautifulSoup tudo será mais fácil, esta biblioteca do Python serve para extrairmos dados de HTML e XML, de forma fácil e descomplicada podemos acessar os 'nós' da estrutura do HTML da página ou até mesmo classes e pegar as informações\n",
    "\n",
    "Vamos utilizar ela num exemplo para que fique claro o quanto mais fácil será se locomover pelas tags HTML ao invés de texto puro, como nos retornos dos métodos anteriores\n",
    "\n",
    "No próximo exemplo vou pegar o título da página"
   ]
  },
  {
   "cell_type": "code",
   "execution_count": 4,
   "metadata": {},
   "outputs": [
    {
     "output_type": "stream",
     "name": "stdout",
     "text": "<title>Welcome to Python.org</title>\n"
    }
   ],
   "source": [
    "# Importando a BeautifulSoup\n",
    "from bs4 import BeautifulSoup\n",
    "\n",
    "# Vamos mudar a URL\n",
    "url = 'https://www.python.org/'\n",
    "\n",
    "# lendo a URL com a urllopen\n",
    "html = urlopen(url)\n",
    "\n",
    "# Enfim mostrando o poder da bs4\n",
    "bs = BeautifulSoup(html, 'lxml')\n",
    "\n",
    "# Imprimindo o título da página\n",
    "print(bs.title)"
   ]
  },
  {
   "cell_type": "markdown",
   "metadata": {},
   "source": [
    "Já neste exemplo eu procuro por todas as tags h1 da página com o método find_all()"
   ]
  },
  {
   "cell_type": "code",
   "execution_count": 5,
   "metadata": {},
   "outputs": [
    {
     "output_type": "stream",
     "name": "stdout",
     "text": "[<h1 class=\"site-headline\">\n<a href=\"/\"><img alt=\"python™\" class=\"python-logo\" src=\"/static/img/python-logo.png\"/></a>\n</h1>, <h1>Functions Defined</h1>, <h1>Compound Data Types</h1>, <h1>Intuitive Interpretation</h1>, <h1>Quick &amp; Easy to Learn</h1>, <h1>All the Flow You’d Expect</h1>]\n"
    }
   ],
   "source": [
    "# Imprimindo todas as h1s da página\n",
    "l1=bs.find_all('h1')\n",
    "len(l1)\n",
    "print(bs.find_all('h1'))"
   ]
  },
  {
   "cell_type": "code",
   "execution_count": 6,
   "metadata": {},
   "outputs": [
    {
     "output_type": "execute_result",
     "data": {
      "text/plain": "6"
     },
     "metadata": {},
     "execution_count": 6
    }
   ],
   "source": [
    "len(l1)"
   ]
  },
  {
   "cell_type": "markdown",
   "metadata": {},
   "source": [
    "### Introdução de HTML\n",
    "\n",
    "Vou apresentar uma rápida introdução ao HTML, caso você já se sinta confortável para entender a estrutura ou já trabalhou com desenvolvimento web, pule para a próxima parte. :)\n",
    "\n",
    "A seguir uma estrutura HTML simples:\n",
    "\n",
    "\n",
    "![HTML](img/ws4.png)\n",
    "\n",
    "Toda página HTML tem pelo menos 3 tags que vão definir o esqueleto principal:\n",
    "\n",
    "- **< html >:** ela define que este é um documento HTML;\n",
    "- **< head >:** dentro destas tags serão colocadas configurações da página como encode, adicionados outros arquivos externos como scripts, definido o título da página ( o que aparece na aba do browser ), entre outras que são como parâmetros para a página web;\n",
    "- **< body >:** esta tag contém todos os elementos visíveis da página, textos, listas, parágrafos e etc;\n",
    "\n",
    "Tudo que está entre sinais de < e > são tags, é por meio delas que estruturamos a página, a grande maioria precisa ser aberta e fechada, como no exemplo a seguir:\n",
    "\n",
    "< p >Texto do parágrafo< /p >\n",
    "\n",
    "Porém há algumas que não tem essa necessidade, mas não vem ao caso neste post, fogem do escopo.\n",
    "\n",
    "Como observado antes no nosso primeiro exemplo de webscraping, requisitamos title que é a tag title \n",
    "\n",
    "HTML é uma linguagem de marcação, não de programação, ela nos ajuda a estruturar as páginas, com elementos que podem representar blocos que dividem as páginas em partes (div), elementos de texto como título (h1), listas (ul), tabelas (table) e por aí vai, sempre seguindo esta lógica de cada tag conter um conteúdo diferente, lembrando que tudo que é visível fica dentro da tag body.\n",
    "\n",
    "As tags tambem aceitam parâmetros, os mais utilizados são classes e ids:\n",
    "\n",
    "- **classe:** o intuito de adicionar uma classe é que vários elementos possam aproveitar suas características\n",
    "- **id:** quando colocamos um id num elemento, ele tende a ser único na página, nas boas práticas dois elementos diferentes não podem ter o mesmo id\n",
    "\n",
    "Quando falo características me refiro a CSS ou manipulação do DOM com JS, não vou entrar nesse assunto também, mas é basicamente estilização dos elementos ou manipulação deles por meio destas duas linguagens.\n",
    "\n",
    "Voltando para o webscraping, as classes e ids nos auxiliarão a acessar os elementos que queremos resgatar os dados.\n",
    "\n",
    "Por exemplo: identificamos que um dado importante está em um parágrafo, se procurarmos por parágrafos podemos achar inúmeros elementos com essa tag, agora se o elemento alvo conter um id ele será apenas um, e isso facilitará muito nossa vida.\n",
    "\n",
    "Creio que com isso, o básico do HTML está exemplificado e além disso conseguimos estabelecer ligações entre o webscraping e a estrutura HTML, como iremos navegar para resgatar os dados!\n",
    "\n",
    "Vamos retornar para a BeautifulSoup\n",
    "\n",
    "### Métodos find() e find_all()\n",
    "\n",
    "O método find_all procura por todo o documento por resultados da nossa pesquisa, e nos retornas toda as ocorrências encontradas.\n",
    "\n",
    "Porém as vezes queremos encontrar apenas um elemento, o que nos dá duas possibilidades\n",
    "\n",
    "- passar o argumento limit = 1, no find_all()\n",
    "- utilizar o find()\n",
    "\n",
    "Com o find() o primeiro elemento encontrado é retornado, assim caso buscassemos uma tabela e soubermos que apenas uma tabela existe em todo o HTML é desnecessário utilizar o find_all() que leria o documento todo, assim por questões até de performance optariamos pelo find()\n",
    "\n",
    "Veremos agora os dois na prática:"
   ]
  },
  {
   "cell_type": "code",
   "execution_count": 7,
   "metadata": {},
   "outputs": [
    {
     "output_type": "stream",
     "name": "stdout",
     "text": "[<h1 class=\"site-headline\">\n<a href=\"/\"><img alt=\"python™\" class=\"python-logo\" src=\"/static/img/python-logo.png\"/></a>\n</h1>, <h1>Functions Defined</h1>, <h1>Compound Data Types</h1>, <h1>Intuitive Interpretation</h1>, <h1>Quick &amp; Easy to Learn</h1>, <h1>All the Flow You’d Expect</h1>]\n\n\nForam encontradas 6 ocorrências de h1\n"
    }
   ],
   "source": [
    "# Vamos permanecer na url que o site do Python se contra e vamos verificar todas as tags h1\n",
    "print(bs.find_all('h1'))\n",
    "\n",
    "# pulando linha\n",
    "print('\\n')\n",
    "\n",
    "# Número de h1's encontrados\n",
    "print('Foram encontradas {} ocorrências de h1'.format(len(bs.find_all('h1'))))"
   ]
  },
  {
   "cell_type": "markdown",
   "metadata": {},
   "source": [
    "### O que aconteceu?\n",
    "\n",
    "Usamos bs que é a instância de BeautifulSoup criada anteriormente para extrair dados da página.\n",
    "\n",
    "Conseguimos pegar todos os h1's presentes na home do site, vimos que 6 elementos foram encontrados.\n",
    "\n",
    "E caso quisessemos apenas o primeiro?\n",
    "\n",
    "find() ao resgate!"
   ]
  },
  {
   "cell_type": "code",
   "execution_count": 8,
   "metadata": {
    "scrolled": true
   },
   "outputs": [
    {
     "output_type": "execute_result",
     "data": {
      "text/plain": "<h1 class=\"site-headline\">\n<a href=\"/\"><img alt=\"python™\" class=\"python-logo\" src=\"/static/img/python-logo.png\"/></a>\n</h1>"
     },
     "metadata": {},
     "execution_count": 8
    }
   ],
   "source": [
    "# Agora com find, para apenas o primeiro resultado ser extraído\n",
    "bs.find('h1')"
   ]
  },
  {
   "cell_type": "code",
   "execution_count": 9,
   "metadata": {
    "scrolled": true
   },
   "outputs": [
    {
     "output_type": "execute_result",
     "data": {
      "text/plain": "<h1 class=\"site-headline\">\n<a href=\"/\"><img alt=\"python™\" class=\"python-logo\" src=\"/static/img/python-logo.png\"/></a>\n</h1>"
     },
     "metadata": {},
     "execution_count": 9
    }
   ],
   "source": [
    "# Agora com find, para apenas o primeiro resultado ser extraído\n",
    "bs.find('h1')"
   ]
  },
  {
   "cell_type": "markdown",
   "metadata": {},
   "source": [
    "### O primeiro h1 foi encontrado e o método ja nos retornou\n",
    "\n",
    "Como explicado anteriormente, em vez de ler todo o HTML a bs4 apenas achou o elemento alvo e nos retornou.\n",
    "\n",
    "Simples não?\n",
    "\n",
    "### Selecionando por class e id\n",
    "\n",
    "Agora vamos mudar de URL, para termos mais exemplos e trabalharmos com estruturas diferentes.\n",
    "\n",
    "O que será abordado neste tópico é a seleção de elementos por class e id, como vimos anteriormente no HTML estes dois atributos são amplamente utilizados e vão nos guiar até os elementos corretos\n",
    "\n",
    "BeautifulSoup não poderia ficar para trás, criou formas de selecionarmos os elementos pelos dois.\n",
    "\n",
    "### Inspecionando elemento\n",
    "\n",
    "Vale a pena ressaltar aqui também, caso você não tenha muita experiência com web, a funcionalidade de inspecionar elementos do HTML\n",
    "\n",
    "Com ela é que vamos descobrir as classes e ids que queremos.\n",
    "\n",
    "- **No Chrome:** podemos acessar clicando com o botão direito na página e selecionando 'Inspecionar'\n",
    "- **No Firefox:** podemos acessar clicando com o botão direito na página e selecionando 'Inspecionar Elemento'\n",
    "\n",
    "Nos demais brownsers a lógica é a mesma, não tem muito mistério.\n",
    "\n",
    "\n",
    "### Voltando ao exemplo\n",
    "\n",
    "Vamos inspecionar o título principal do site da [Wikipedia](https://www.wikipedia.org/)\n",
    "\n",
    "![Wikipedia](img/ws1.png)\n",
    "\n",
    "Agora vamos ver a estrutura HTML\n",
    "\n",
    "![DOM](img/ws2.png)\n",
    "\n",
    "Temos uma div com uma classe chamada 'central-textlogo__image', é exatamente ela que vamos selecionar para extrair o texto do título, veja abaixo:"
   ]
  },
  {
   "cell_type": "code",
   "execution_count": 10,
   "metadata": {
    "scrolled": true
   },
   "outputs": [
    {
     "output_type": "stream",
     "name": "stdout",
     "text": "<div class=\"central-textlogo__image sprite svg-Wikipedia_wordmark\">\nWikipedia\n</div>\n\nWikipedia\n\n"
    }
   ],
   "source": [
    "# Trocando URL\n",
    "url = 'https://www.wikipedia.org/'\n",
    "\n",
    "# lendo a URL com a urllopen\n",
    "html = urlopen(url)\n",
    "\n",
    "# Enfim mostrando o poder da bs4\n",
    "bs = BeautifulSoup(html, 'lxml')\n",
    "\n",
    "# Imprimindo o título da página\n",
    "print(bs.find('div', class_='central-textlogo__image'))\n",
    "\n",
    "# Se quisermos apenas o texto, podemos utilizar a propriedade text\n",
    "print(bs.find('div', class_='central-textlogo__image').text)"
   ]
  },
  {
   "cell_type": "markdown",
   "metadata": {},
   "source": [
    "Conseguimos ter o retorno esperado, pela classe conseguimos filtrar melhor o que queremos extrair\n",
    "\n",
    "### Selecionando por id\n",
    "\n",
    "Agora vamos ver com o parâmetro id, como devemos utilizar para selecionar o elemento alvo\n",
    "\n",
    "Mais abaixo no HTML temos as seleções de linguagem, vamos selecionar a que se refere a língua francesa\n",
    "\n",
    "![linguagem francês](img/ws3.png)\n",
    "\n",
    "O elemento com id 'js-link-box-fr' é o que precisamos selecionar\n",
    "\n",
    "![id](img/ws5.png)"
   ]
  },
  {
   "cell_type": "code",
   "execution_count": 11,
   "metadata": {},
   "outputs": [
    {
     "output_type": "stream",
     "name": "stdout",
     "text": "<a class=\"link-box\" data-slogan=\"L’encyclopédie libre\" href=\"//fr.wikipedia.org/\" id=\"js-link-box-fr\" title=\"Français — Wikipédia — L’encyclopédie libre\">\n<strong>Français</strong>\n<small><bdi dir=\"ltr\">2 214 000+</bdi> <span>articles</span></small>\n</a>\n\nFrançais\n2 214 000+ articles\n\n"
    }
   ],
   "source": [
    "# Selecionando a língua francesa\n",
    "print(bs.find(id='js-link-box-fr'))\n",
    "\n",
    "# Imprimindo apenas o texto\n",
    "print(bs.find(id='js-link-box-fr').text)"
   ]
  },
  {
   "cell_type": "markdown",
   "metadata": {},
   "source": [
    "### Mais preciso\n",
    "\n",
    "Agora temos maneiras de selecionar dados de formas mais precisas, sem ter que navegador muito pelo HTML, com classes e ids nosso trabalho é facilitado\n",
    "\n",
    "\n",
    "### Seletores CSS\n",
    "\n",
    "Outra maneira de selecionar dados são os seletores CSS, como vimos anteriormente no HTML as tags são aninhadas uma nas outras, assim sendo podemos nos guiar por esta estrutura para selecionar algum elemento, exemplos:\n",
    "\n",
    "- **p a:** todas as tags a dentro de um parágrafo\n",
    "- **div p:** todos os parágrafos dentro de divs\n",
    "- **div p span:** todos os spans que estão dentro de um parágrafo que estes estão dentro de uma div\n",
    "- **table td**: todos os tds que estão dentro de tables\n",
    "\n",
    "Basicamente selecionamos de acordo com o aninhamento da estrutura, talvez se você conheça um pouco de web já se sinta mais confortável, mas caso não, é bem simples: olhe a árvore do HTML e verifique dentro de que elemento está o seu alvo, quanto mais preciso for, no caso de mais tags forem especificadas, mais refinado seu resultado virá\n",
    "\n",
    "E uma pequena mudança: agora vamos utilizar o método select(), passando como argumento o seletor CSS desejado"
   ]
  },
  {
   "cell_type": "code",
   "execution_count": 12,
   "metadata": {
    "scrolled": true
   },
   "outputs": [
    {
     "output_type": "stream",
     "name": "stdout",
     "text": "[<strong class=\"jsl10n localized-slogan\" data-jsl10n=\"slogan\">The Free Encyclopedia</strong>, <strong>English</strong>, <strong>日本語</strong>, <strong>Español</strong>, <strong>Deutsch</strong>, <strong>Русский</strong>, <strong>Français</strong>, <strong>Italiano</strong>, <strong>中文</strong>, <strong>Português</strong>, <strong>Polski</strong>, <strong class=\"jsl10n\" data-jsl10n=\"app-links.title\">\n<a class=\"jsl10n\" data-jsl10n=\"app-links.url\" href=\"https://en.wikipedia.org/wiki/List_of_Wikipedia_mobile_applications\">\nDownload Wikipedia for Android or iOS\n</a>\n</strong>]\n\n\n[<input name=\"family\" type=\"hidden\" value=\"wikipedia\"/>, <input id=\"hiddenLanguageInput\" name=\"language\" type=\"hidden\" value=\"en\"/>, <input accesskey=\"F\" autocomplete=\"off\" autofocus=\"autofocus\" dir=\"auto\" id=\"searchInput\" list=\"suggestions\" name=\"search\" size=\"20\" type=\"search\"/>, <input name=\"go\" type=\"hidden\" value=\"Go\"/>]\n"
    }
   ],
   "source": [
    "# Vamos selecionar todas as tags strong dentro de divs\n",
    "print(bs.select('div strong'))\n",
    "\n",
    "# pulando linha\n",
    "print('\\n')\n",
    "\n",
    "# Agora todas as tags input dentro de forms que estão dentro de divs\n",
    "print(bs.select('div form input'))"
   ]
  },
  {
   "cell_type": "markdown",
   "metadata": {},
   "source": [
    "Podemos também utilizar os seletores CSS para classes e ids, que são representados por:\n",
    "\n",
    "- **.** : quando colocamos um . (ponto) na frente de algum texto, bs4 assim como CSS vai automaticamente procurar por classes deste nome\n",
    "- **#** : e o mesmo caso acontece para ids, colocando # na frente de algum nome de id\n",
    "\n",
    "Veja nos exemplos abaixo a aplicação:"
   ]
  },
  {
   "cell_type": "code",
   "execution_count": 13,
   "metadata": {},
   "outputs": [
    {
     "output_type": "stream",
     "name": "stdout",
     "text": "[<input name=\"family\" type=\"hidden\" value=\"wikipedia\"/>, <input id=\"hiddenLanguageInput\" name=\"language\" type=\"hidden\" value=\"en\"/>, <input accesskey=\"F\" autocomplete=\"off\" autofocus=\"autofocus\" dir=\"auto\" id=\"searchInput\" list=\"suggestions\" name=\"search\" size=\"20\" type=\"search\"/>, <input name=\"go\" type=\"hidden\" value=\"Go\"/>]\n\n\n[<form action=\"//www.wikipedia.org/search-redirect.php\" class=\"pure-form\" data-el-section=\"search\" id=\"search-form\">\n<fieldset>\n<!-- search-redirect.php is project-independent, requires a family -->\n<input name=\"family\" type=\"hidden\" value=\"wikipedia\"/>\n<input id=\"hiddenLanguageInput\" name=\"language\" type=\"hidden\" value=\"en\"/>\n<div class=\"search-input\" id=\"search-input\">\n<label class=\"screen-reader-text\" data-jsl10n=\"search-input-label\" for=\"searchInput\">Search Wikipedia</label>\n<input accesskey=\"F\" autocomplete=\"off\" autofocus=\"autofocus\" dir=\"auto\" id=\"searchInput\" list=\"suggestions\" name=\"search\" size=\"20\" type=\"search\"/>\n<div class=\"styled-select no-js\">\n<div class=\"hide-arrow\">\n<select id=\"searchLanguage\" name=\"language\">\n<!-- 100,000+ content pages, sorted by romanization -->\n<option lang=\"ar\" value=\"ar\">العربية</option><!-- Al-ʿArabīyah -->\n<option lang=\"ast\" value=\"ast\">Asturianu</option>\n<option lang=\"az\" value=\"az\">Azərbaycanca</option>\n<option lang=\"bg\" value=\"bg\">Български</option><!-- Bǎlgarski -->\n<option lang=\"nan\" value=\"nan\">Bân-lâm-gú / Hō-ló-oē</option>\n<option lang=\"be\" value=\"be\">Беларуская</option><!-- Belaruskaya -->\n<option lang=\"ca\" value=\"ca\">Català</option>\n<option lang=\"cs\" value=\"cs\">Čeština</option><!-- čeština -->\n<option lang=\"da\" value=\"da\">Dansk</option>\n<option lang=\"de\" value=\"de\">Deutsch</option>\n<option lang=\"et\" value=\"et\">Eesti</option>\n<option lang=\"el\" value=\"el\">Ελληνικά</option><!-- Ellīniká -->\n<option lang=\"en\" selected=\"selected\" value=\"en\">English</option><!-- English -->\n<option lang=\"es\" value=\"es\">Español</option>\n<option lang=\"eo\" value=\"eo\">Esperanto</option>\n<option lang=\"eu\" value=\"eu\">Euskara</option>\n<option lang=\"fa\" value=\"fa\">فارسی</option><!-- Fārsi -->\n<option lang=\"fr\" value=\"fr\">Français</option>\n<option lang=\"gl\" value=\"gl\">Galego</option>\n<option lang=\"hy\" value=\"hy\">Հայերեն</option><!-- Hayeren -->\n<option lang=\"hi\" value=\"hi\">हिन्दी</option><!-- Hindī -->\n<option lang=\"hr\" value=\"hr\">Hrvatski</option>\n<option lang=\"id\" value=\"id\">Bahasa Indonesia</option>\n<option lang=\"it\" value=\"it\">Italiano</option>\n<option lang=\"he\" value=\"he\">עברית</option><!-- ʿIvrit -->\n<option lang=\"ka\" value=\"ka\">ქართული</option><!-- Kartuli -->\n<option lang=\"la\" value=\"la\">Latina</option>\n<option lang=\"lv\" value=\"lv\">Latviešu</option>\n<option lang=\"lt\" value=\"lt\">Lietuvių</option>\n<option lang=\"hu\" value=\"hu\">Magyar</option>\n<option lang=\"mk\" value=\"mk\">Македонски</option><!-- Makedonski -->\n<option lang=\"arz\" value=\"arz\">مصرى</option><!-- Maṣrī -->\n<option lang=\"ms\" value=\"ms\">Bahasa Melayu</option>\n<option lang=\"min\" value=\"min\">Bahaso Minangkabau</option>\n<option lang=\"nl\" value=\"nl\">Nederlands</option>\n<option lang=\"ja\" value=\"ja\">日本語</option><!-- Nihongo -->\n<option lang=\"nb\" value=\"no\">Norsk (bokmål)</option>\n<option lang=\"nn\" value=\"nn\">Norsk (nynorsk)</option>\n<option lang=\"ce\" value=\"ce\">Нохчийн</option><!-- Noxçiyn -->\n<option lang=\"uz\" value=\"uz\">Oʻzbekcha / Ўзбекча</option>\n<option lang=\"pl\" value=\"pl\">Polski</option>\n<option lang=\"pt\" value=\"pt\">Português</option>\n<option lang=\"kk\" value=\"kk\">Қазақша / Qazaqşa / قازاقشا</option>\n<option lang=\"ro\" value=\"ro\">Română</option>\n<option lang=\"ru\" value=\"ru\">Русский</option><!-- Russkiy -->\n<option lang=\"cy\" value=\"cy\">Cymraeg</option><!-- Saesneg -->\n<option lang=\"en\" value=\"simple\">Simple English</option>\n<option lang=\"ceb\" value=\"ceb\">Sinugboanong Binisaya</option>\n<option lang=\"sk\" value=\"sk\">Slovenčina</option>\n<option lang=\"sl\" value=\"sl\">Slovenščina</option>\n<option lang=\"sr\" value=\"sr\">Српски / Srpski</option>\n<option lang=\"sh\" value=\"sh\">Srpskohrvatski / Српскохрватски</option>\n<option lang=\"fi\" value=\"fi\">Suomi</option><!-- suomi -->\n<option lang=\"sv\" value=\"sv\">Svenska</option>\n<option lang=\"ta\" value=\"ta\">தமிழ்</option><!-- Tamiḻ -->\n<option lang=\"th\" value=\"th\">ภาษาไทย</option><!-- Phasa Thai -->\n<option lang=\"tg\" value=\"tg\">Тоҷикӣ</option><!-- Tojikī -->\n<option lang=\"azb\" value=\"azb\">تۆرکجه</option><!-- Türkce -->\n<option lang=\"tr\" value=\"tr\">Türkçe</option><!-- Türkçe -->\n<option lang=\"uk\" value=\"uk\">Українська</option><!-- Ukrayins’ka -->\n<option lang=\"ur\" value=\"ur\">اردو</option><!-- Urdu -->\n<option lang=\"vi\" value=\"vi\">Tiếng Việt</option>\n<option lang=\"vo\" value=\"vo\">Volapük</option>\n<option lang=\"war\" value=\"war\">Winaray</option>\n<option lang=\"zh\" value=\"zh\">中文</option><!-- Zhōngwén -->\n<option lang=\"ko\" value=\"ko\">한국어</option><!-- Hangugeo -->\n</select>\n<div class=\"styled-select-active-helper\"></div>\n</div>\n<i class=\"sprite svg-arrow-down\"></i>\n</div>\n</div>\n<button class=\"pure-button pure-button-primary-progressive\" type=\"submit\">\n<i class=\"sprite svg-search-icon\" data-jsl10n=\"search-input-button\">Search</i>\n</button>\n<input name=\"go\" type=\"hidden\" value=\"Go\"/>\n</fieldset>\n</form>]\n"
    }
   ],
   "source": [
    "# Aqui selecionamos pela classe pure-form todos os inputs dentro dela\n",
    "print(bs.select('.pure-form input'))\n",
    "\n",
    "# pulando linha\n",
    "print('\\n')\n",
    "\n",
    "\n",
    "# Aqui selecionamos pela classe pure-form todos os inputs dentro dela\n",
    "print(bs.select('#search-form'))"
   ]
  },
  {
   "cell_type": "markdown",
   "metadata": {},
   "source": [
    "### Validação de erros\n",
    "\n",
    "Agora que já vimos as maneiras mais comuns de selecionar dados, e posso dizer que para operações simples de webscraping isso já está de bom tamanho, precisamos falar de erros\n",
    "\n",
    "Erros podem acontecer por vários motivos:\n",
    "\n",
    "- Servidor\n",
    "- Programação\n",
    "- Mudança do site\n",
    "\n",
    "Quando saímos da prática e o webscraping vira uma atividade do nosso trabalho, precisamos adicionar confiabilidade no código, e com isso tratar erros para que o código não simplesmente exploda quando alguem tentar rodar, mas sim, informe a pessoa sobre o provavelmente aconteceu\n",
    "\n",
    "Vamos ver agora a nível de requisição como é possível fazer uma validação simples, porém efetiva\n",
    "\n",
    "Primeiramente devemos importar o submódulos que tratam estes erros, que são:"
   ]
  },
  {
   "cell_type": "code",
   "execution_count": 14,
   "metadata": {},
   "outputs": [],
   "source": [
    "# Importando os submódulos que vão ajudar a tratar os erros\n",
    "from urllib.error import HTTPError\n",
    "from urllib.error import URLError"
   ]
  },
  {
   "cell_type": "markdown",
   "metadata": {},
   "source": [
    "E então podemos fazer uma validação por classificação de erro, que fica assim:"
   ]
  },
  {
   "cell_type": "code",
   "execution_count": 15,
   "metadata": {},
   "outputs": [
    {
     "output_type": "stream",
     "name": "stdout",
     "text": "The server could not be found!\n"
    }
   ],
   "source": [
    "# Aqui iniciamos a tratar os erros em nível de URL\n",
    "try:\n",
    "    html = urlopen('http://www.python5.com.br')\n",
    "except HTTPError as e:\n",
    "# Erros HTTP\n",
    "    print(e)\n",
    "except URLError as e:\n",
    "    # URL errada\n",
    "    print('The server could not be found!')"
   ]
  },
  {
   "cell_type": "markdown",
   "metadata": {},
   "source": [
    "Como exemplo forcei um erro de URL errada, porém caso o servidor retorne erros como 404 ou 503, caíriam no primeiro caso\n",
    "\n",
    "Isso nos ajudará, não só nós mas também quem vai pegar o código depois, a ter um log que fará com que os problemas se identifiquem mais rapidamente\n",
    "\n",
    "É de responsabilidade do desenvolvedor fazer um código consistente e que trate erros, então fora destes exemplos aqui, sempre opte por tratar os erros e enviar mensagens ao usuários do sistema, caso não possam aparecer na tela emita logs\n",
    "\n",
    "\n",
    "### Projeto\n",
    "\n",
    "Agora para fixar os conceitos vamos nos aproximar de algo mais real, que será explorar os dados da lista dos 250 melhores filmes no IMDB, que é um site de review, críticas e notícias de filmes, séries e afins, nossos objetivos serão:\n",
    "\n",
    "- Importar as libs necessárias;\n",
    "- Validar a URL dos 250 filmes;\n",
    "- Resgatar os dados título, direção e escritores, data do filme e nota;\n",
    "- Transferir os dados para um dataset\n",
    "- Salvar num arquivo CSV\n",
    "\n",
    "Nós vamos iniciar do absoluto zero e comentar cada passo dado até o fim do procedimento, incialmente vamos importas as libs que serão utilizadas:\n",
    "\n",
    "#### Importando libs:"
   ]
  },
  {
   "cell_type": "code",
   "execution_count": 16,
   "metadata": {},
   "outputs": [],
   "source": [
    "# Importando as libs\n",
    "import pandas as pd\n",
    "from urllib.request import urlopen\n",
    "from urllib.error import HTTPError\n",
    "from urllib.error import URLError\n",
    "from bs4 import BeautifulSoup"
   ]
  },
  {
   "cell_type": "markdown",
   "metadata": {},
   "source": [
    "Com a pandas vamos trabalhar no dataset, urllib nos auxiliará a fazer as requisições ao site, e a BeautifulSoup que fará a extração de forma fácil\n",
    "\n",
    "Com as bibliotecas importadas, o próximo passo é definir a URL e o termo de pesquisa para que as consultas não sejam fixas, vamos deixar que o usuário do script escolha o termo a pesquisar\n",
    "\n",
    "#### Validando URL:"
   ]
  },
  {
   "cell_type": "code",
   "execution_count": 17,
   "metadata": {},
   "outputs": [],
   "source": [
    "# URL base\n",
    "url = 'https://www.imdb.com/chart/moviemeter/?ref_=nv_mv_mpm'"
   ]
  },
  {
   "cell_type": "markdown",
   "metadata": {},
   "source": [
    "Temos nossa URL definida, agora vamos fazer a validação da url com os submódulos de urllib"
   ]
  },
  {
   "cell_type": "code",
   "execution_count": 18,
   "metadata": {},
   "outputs": [],
   "source": [
    "# Tratando erros da url\n",
    "try:\n",
    "    html = urlopen(url)\n",
    "except HTTPError as e:\n",
    "# Erros HTTP\n",
    "    print(e)\n",
    "except URLError as e:\n",
    "    # URL errada\n",
    "    print('The server could not be found!')"
   ]
  },
  {
   "cell_type": "markdown",
   "metadata": {},
   "source": [
    "A URL é válida, e o servidor não apresentou erros, agora vamos para a etapa de selecionar os dados.\n",
    "\n",
    "Primeiramente devemos analisar o HTML\n",
    "\n",
    "**Para selecionar cada filme:**\n",
    "\n",
    "![select_filme](img/ws6.png)\n",
    "\n",
    "Vamos selecionar todas as tr's dentro dessa tbody com classe lister-list\n",
    "\n",
    "Precisamos também instaciar o objeto da BeautifulSoup com a url escolhida\n",
    "\n",
    "#### Resgatando os dados:"
   ]
  },
  {
   "cell_type": "code",
   "execution_count": 19,
   "metadata": {
    "tags": [
     "outputPrepend"
    ]
   },
   "outputs": [
    {
     "output_type": "stream",
     "name": "stdout",
     "text": " class=\"unseen\"> </div>\n<div class=\"rating\"></div>\n<div class=\"seen\">Seen</div>\n</div>\n</div>\n</td>\n<td class=\"watchlistColumn\">\n<div class=\"wlb_ribbon\" data-recordmetrics=\"true\" data-tconst=\"tt3778644\"></div>\n</td>\n</tr>, <tr>\n<td class=\"posterColumn\">\n<span data-value=\"88\" name=\"rk\"></span>\n<span data-value=\"7.7\" name=\"ir\"></span>\n<span data-value=\"1.5251328E12\" name=\"us\"></span>\n<span data-value=\"448871\" name=\"nv\"></span>\n<span data-value=\"-3.3\" name=\"ur\"></span>\n<a href=\"/title/tt5463162/\"> <img alt=\"Deadpool 2\" height=\"67\" src=\"https://m.media-amazon.com/images/M/MV5BNjk1Njk3YjctMmMyYS00Y2I4LThhMzktN2U0MTMyZTFlYWQ5XkEyXkFqcGdeQXVyODM2ODEzMDA@._V1_UY67_CR11,0,45,67_AL_.jpg\" width=\"45\"/>\n</a> </td>\n<td class=\"titleColumn\">\n<a href=\"/title/tt5463162/\" title=\"David Leitch (dir.), Ryan Reynolds, Josh Brolin\">Deadpool 2</a>\n<span class=\"secondaryInfo\">(2018)</span>\n<div class=\"velocity\">88\n<span class=\"secondaryInfo\">(\n<span class=\"global-sprite titlemeter up\"></span>\n88)</span>\n</div>\n</td>\n<td class=\"ratingColumn imdbRating\">\n<strong title=\"7.7 based on 448,871 user ratings\">7.7</strong>\n</td>\n<td class=\"ratingColumn\">\n<div class=\"seen-widget seen-widget-tt5463162 pending\" data-titleid=\"tt5463162\">\n<div class=\"boundary\">\n<div class=\"popover\">\n<span class=\"delete\"> </span><ol><li>1</li><li>2</li><li>3</li><li>4</li><li>5</li><li>6</li><li>7</li><li>8</li><li>9</li><li>10</li></ol> </div>\n</div>\n<div class=\"inline\">\n<div class=\"pending\"></div>\n<div class=\"unseeable\">NOT YET RELEASED</div>\n<div class=\"unseen\"> </div>\n<div class=\"rating\"></div>\n<div class=\"seen\">Seen</div>\n</div>\n</div>\n</td>\n<td class=\"watchlistColumn\">\n<div class=\"wlb_ribbon\" data-recordmetrics=\"true\" data-tconst=\"tt5463162\"></div>\n</td>\n</tr>, <tr>\n<td class=\"posterColumn\">\n<span data-value=\"89\" name=\"rk\"></span>\n<span data-value=\"6.9\" name=\"ir\"></span>\n<span data-value=\"1.5626304E12\" name=\"us\"></span>\n<span data-value=\"189578\" name=\"nv\"></span>\n<span data-value=\"-4.1\" name=\"ur\"></span>\n<a href=\"/title/tt6105098/\"> <img alt=\"O Rei Leão\" height=\"67\" src=\"https://m.media-amazon.com/images/M/MV5BMjIwMjE1Nzc4NV5BMl5BanBnXkFtZTgwNDg4OTA1NzM@._V1_UY67_CR0,0,45,67_AL_.jpg\" width=\"45\"/>\n</a> </td>\n<td class=\"titleColumn\">\n<a href=\"/title/tt6105098/\" title=\"Jon Favreau (dir.), Donald Glover, Beyoncé\">O Rei Leão</a>\n<span class=\"secondaryInfo\">(2019)</span>\n<div class=\"velocity\">89\n<span class=\"secondaryInfo\">(\n<span class=\"global-sprite titlemeter down\"></span>\n18)</span>\n</div>\n</td>\n<td class=\"ratingColumn imdbRating\">\n<strong title=\"6.9 based on 189,578 user ratings\">6.9</strong>\n</td>\n<td class=\"ratingColumn\">\n<div class=\"seen-widget seen-widget-tt6105098 pending\" data-titleid=\"tt6105098\">\n<div class=\"boundary\">\n<div class=\"popover\">\n<span class=\"delete\"> </span><ol><li>1</li><li>2</li><li>3</li><li>4</li><li>5</li><li>6</li><li>7</li><li>8</li><li>9</li><li>10</li></ol> </div>\n</div>\n<div class=\"inline\">\n<div class=\"pending\"></div>\n<div class=\"unseeable\">NOT YET RELEASED</div>\n<div class=\"unseen\"> </div>\n<div class=\"rating\"></div>\n<div class=\"seen\">Seen</div>\n</div>\n</div>\n</td>\n<td class=\"watchlistColumn\">\n<div class=\"wlb_ribbon\" data-recordmetrics=\"true\" data-tconst=\"tt6105098\"></div>\n</td>\n</tr>, <tr>\n<td class=\"posterColumn\">\n<span data-value=\"90\" name=\"rk\"></span>\n<span data-value=\"0.0\" name=\"ir\"></span>\n<span data-value=\"1.6038432E12\" name=\"us\"></span>\n<span data-value=\"0\" name=\"nv\"></span>\n<span data-value=\"-11.0\" name=\"ur\"></span>\n<a href=\"/title/tt3480822/\"> <img alt=\"Viúva Negra\" height=\"67\" src=\"https://m.media-amazon.com/images/M/MV5BMzFiODE0ZDUtN2IxNC00OTI5LTg4OWItZTE2MjU4ZTk2NjM5XkEyXkFqcGdeQXVyNDYzODU1ODM@._V1_UY67_CR0,0,45,67_AL_.jpg\" width=\"45\"/>\n</a> </td>\n<td class=\"titleColumn\">\n<a href=\"/title/tt3480822/\" title=\"Cate Shortland (dir.), Florence Pugh, Scarlett Johansson\">Viúva Negra</a>\n<span class=\"secondaryInfo\">(2020)</span>\n<div class=\"velocity\">90\n<span class=\"secondaryInfo\">(\n<span class=\"global-sprite titlemeter down\"></span>\n1)</span>\n</div>\n</td>\n<td class=\"ratingColumn imdbRating\">\n</td>\n<td class=\"ratingColumn\">\n<div class=\"seen-widget seen-widget-tt3480822 pending\" data-titleid=\"tt3480822\">\n<div class=\"boundary\">\n<div class=\"popover\">\n<span class=\"delete\"> </span><ol><li>1</li><li>2</li><li>3</li><li>4</li><li>5</li><li>6</li><li>7</li><li>8</li><li>9</li><li>10</li></ol> </div>\n</div>\n<div class=\"inline\">\n<div class=\"pending\"></div>\n<div class=\"unseeable\">NOT YET RELEASED</div>\n<div class=\"unseen\"> </div>\n<div class=\"rating\"></div>\n<div class=\"seen\">Seen</div>\n</div>\n</div>\n</td>\n<td class=\"watchlistColumn\">\n<div class=\"wlb_ribbon\" data-recordmetrics=\"true\" data-tconst=\"tt3480822\"></div>\n</td>\n</tr>, <tr>\n<td class=\"posterColumn\">\n<span data-value=\"91\" name=\"rk\"></span>\n<span data-value=\"8.6\" name=\"ir\"></span>\n<span data-value=\"8.111232E11\" name=\"us\"></span>\n<span data-value=\"1376980\" name=\"nv\"></span>\n<span data-value=\"-2.4000000000000004\" name=\"ur\"></span>\n<a href=\"/title/tt0114369/\"> <img alt=\"Seven - 7 Pecados Mortais\" height=\"67\" src=\"https://m.media-amazon.com/images/M/MV5BOTUwODM5MTctZjczMi00OTk4LTg3NWUtNmVhMTAzNTNjYjcyXkEyXkFqcGdeQXVyNjU0OTQ0OTY@._V1_UX45_CR0,0,45,67_AL_.jpg\" width=\"45\"/>\n</a> </td>\n<td class=\"titleColumn\">\n<a href=\"/title/tt0114369/\" title=\"David Fincher (dir.), Morgan Freeman, Brad Pitt\">Seven - 7 Pecados Mortais</a>\n<span class=\"secondaryInfo\">(1995)</span>\n<div class=\"velocity\">91\n<span class=\"secondaryInfo\">(\n<span class=\"global-sprite titlemeter up\"></span>\n6)</span>\n</div>\n</td>\n<td class=\"ratingColumn imdbRating\">\n<strong title=\"8.6 based on 1,376,980 user ratings\">8.6</strong>\n</td>\n<td class=\"ratingColumn\">\n<div class=\"seen-widget seen-widget-tt0114369 pending\" data-titleid=\"tt0114369\">\n<div class=\"boundary\">\n<div class=\"popover\">\n<span class=\"delete\"> </span><ol><li>1</li><li>2</li><li>3</li><li>4</li><li>5</li><li>6</li><li>7</li><li>8</li><li>9</li><li>10</li></ol> </div>\n</div>\n<div class=\"inline\">\n<div class=\"pending\"></div>\n<div class=\"unseeable\">NOT YET RELEASED</div>\n<div class=\"unseen\"> </div>\n<div class=\"rating\"></div>\n<div class=\"seen\">Seen</div>\n</div>\n</div>\n</td>\n<td class=\"watchlistColumn\">\n<div class=\"wlb_ribbon\" data-recordmetrics=\"true\" data-tconst=\"tt0114369\"></div>\n</td>\n</tr>, <tr>\n<td class=\"posterColumn\">\n<span data-value=\"92\" name=\"rk\"></span>\n<span data-value=\"6.8\" name=\"ir\"></span>\n<span data-value=\"1.5761952E12\" name=\"us\"></span>\n<span data-value=\"57825\" name=\"nv\"></span>\n<span data-value=\"-4.2\" name=\"ur\"></span>\n<a href=\"/title/tt6394270/\"> <img alt=\"Bombshell - O Escândalo\" height=\"67\" src=\"https://m.media-amazon.com/images/M/MV5BZjlhOWE3YjktY2MzOC00ZmQ1LWIwNjgtZmVhZmFjZGExMzgyXkEyXkFqcGdeQXVyMDA4NzMyOA@@._V1_UX45_CR0,0,45,67_AL_.jpg\" width=\"45\"/>\n</a> </td>\n<td class=\"titleColumn\">\n<a href=\"/title/tt6394270/\" title=\"Jay Roach (dir.), Charlize Theron, Nicole Kidman\">Bombshell - O Escândalo</a>\n<span class=\"secondaryInfo\">(2019)</span>\n<div class=\"velocity\">92\n<span class=\"secondaryInfo\">(\n<span class=\"global-sprite titlemeter down\"></span>\n20)</span>\n</div>\n</td>\n<td class=\"ratingColumn imdbRating\">\n<strong title=\"6.8 based on 57,825 user ratings\">6.8</strong>\n</td>\n<td class=\"ratingColumn\">\n<div class=\"seen-widget seen-widget-tt6394270 pending\" data-titleid=\"tt6394270\">\n<div class=\"boundary\">\n<div class=\"popover\">\n<span class=\"delete\"> </span><ol><li>1</li><li>2</li><li>3</li><li>4</li><li>5</li><li>6</li><li>7</li><li>8</li><li>9</li><li>10</li></ol> </div>\n</div>\n<div class=\"inline\">\n<div class=\"pending\"></div>\n<div class=\"unseeable\">NOT YET RELEASED</div>\n<div class=\"unseen\"> </div>\n<div class=\"rating\"></div>\n<div class=\"seen\">Seen</div>\n</div>\n</div>\n</td>\n<td class=\"watchlistColumn\">\n<div class=\"wlb_ribbon\" data-recordmetrics=\"true\" data-tconst=\"tt6394270\"></div>\n</td>\n</tr>, <tr>\n<td class=\"posterColumn\">\n<span data-value=\"93\" name=\"rk\"></span>\n<span data-value=\"8.6\" name=\"ir\"></span>\n<span data-value=\"9.009792E11\" name=\"us\"></span>\n<span data-value=\"1183673\" name=\"nv\"></span>\n<span data-value=\"-2.4000000000000004\" name=\"ur\"></span>\n<a href=\"/title/tt0120815/\"> <img alt=\"O Resgate do Soldado Ryan\" height=\"67\" src=\"https://m.media-amazon.com/images/M/MV5BZjhkMDM4MWItZTVjOC00ZDRhLThmYTAtM2I5NzBmNmNlMzI1XkEyXkFqcGdeQXVyNDYyMDk5MTU@._V1_UY67_CR0,0,45,67_AL_.jpg\" width=\"45\"/>\n</a> </td>\n<td class=\"titleColumn\">\n<a href=\"/title/tt0120815/\" title=\"Steven Spielberg (dir.), Tom Hanks, Matt Damon\">O Resgate do Soldado Ryan</a>\n<span class=\"secondaryInfo\">(1998)</span>\n<div class=\"velocity\">93\n<span class=\"secondaryInfo\">(\n<span class=\"global-sprite titlemeter up\"></span>\n53)</span>\n</div>\n</td>\n<td class=\"ratingColumn imdbRating\">\n<strong title=\"8.6 based on 1,183,673 user ratings\">8.6</strong>\n</td>\n<td class=\"ratingColumn\">\n<div class=\"seen-widget seen-widget-tt0120815 pending\" data-titleid=\"tt0120815\">\n<div class=\"boundary\">\n<div class=\"popover\">\n<span class=\"delete\"> </span><ol><li>1</li><li>2</li><li>3</li><li>4</li><li>5</li><li>6</li><li>7</li><li>8</li><li>9</li><li>10</li></ol> </div>\n</div>\n<div class=\"inline\">\n<div class=\"pending\"></div>\n<div class=\"unseeable\">NOT YET RELEASED</div>\n<div class=\"unseen\"> </div>\n<div class=\"rating\"></div>\n<div class=\"seen\">Seen</div>\n</div>\n</div>\n</td>\n<td class=\"watchlistColumn\">\n<div class=\"wlb_ribbon\" data-recordmetrics=\"true\" data-tconst=\"tt0120815\"></div>\n</td>\n</tr>, <tr>\n<td class=\"posterColumn\">\n<span data-value=\"94\" name=\"rk\"></span>\n<span data-value=\"8.7\" name=\"ir\"></span>\n<span data-value=\"9.222336E11\" name=\"us\"></span>\n<span data-value=\"1605622\" name=\"nv\"></span>\n<span data-value=\"-2.3000000000000007\" name=\"ur\"></span>\n<a href=\"/title/tt0133093/\"> <img alt=\"Matrix\" height=\"67\" src=\"https://m.media-amazon.com/images/M/MV5BNzQzOTk3OTAtNDQ0Zi00ZTVkLWI0MTEtMDllZjNkYzNjNTc4L2ltYWdlXkEyXkFqcGdeQXVyNjU0OTQ0OTY@._V1_UX45_CR0,0,45,67_AL_.jpg\" width=\"45\"/>\n</a> </td>\n<td class=\"titleColumn\">\n<a href=\"/title/tt0133093/\" title=\"Lana Wachowski (dir.), Keanu Reeves, Laurence Fishburne\">Matrix</a>\n<span class=\"secondaryInfo\">(1999)</span>\n<div class=\"velocity\">94\n<span class=\"secondaryInfo\">(\n<span class=\"global-sprite titlemeter down\"></span>\n10)</span>\n</div>\n</td>\n<td class=\"ratingColumn imdbRating\">\n<strong title=\"8.7 based on 1,605,622 user ratings\">8.7</strong>\n</td>\n<td class=\"ratingColumn\">\n<div class=\"seen-widget seen-widget-tt0133093 pending\" data-titleid=\"tt0133093\">\n<div class=\"boundary\">\n<div class=\"popover\">\n<span class=\"delete\"> </span><ol><li>1</li><li>2</li><li>3</li><li>4</li><li>5</li><li>6</li><li>7</li><li>8</li><li>9</li><li>10</li></ol> </div>\n</div>\n<div class=\"inline\">\n<div class=\"pending\"></div>\n<div class=\"unseeable\">NOT YET RELEASED</div>\n<div class=\"unseen\"> </div>\n<div class=\"rating\"></div>\n<div class=\"seen\">Seen</div>\n</div>\n</div>\n</td>\n<td class=\"watchlistColumn\">\n<div class=\"wlb_ribbon\" data-recordmetrics=\"true\" data-tconst=\"tt0133093\"></div>\n</td>\n</tr>, <tr>\n<td class=\"posterColumn\">\n<span data-value=\"95\" name=\"rk\"></span>\n<span data-value=\"0.0\" name=\"ir\"></span>\n<span data-value=\"1.6086816E12\" name=\"us\"></span>\n<span data-value=\"0\" name=\"nv\"></span>\n<span data-value=\"-11.0\" name=\"ur\"></span>\n<a href=\"/title/tt1745960/\"> <img alt=\"Top Gun: Maverick\" height=\"67\" src=\"https://m.media-amazon.com/images/M/MV5BNTEyYTA5YWYtYmIxYS00NWRlLWExNjMtNjliZmVlZDgxNTBlXkEyXkFqcGdeQXVyODk4OTc3MTY@._V1_UY67_CR0,0,45,67_AL_.jpg\" width=\"45\"/>\n</a> </td>\n<td class=\"titleColumn\">\n<a href=\"/title/tt1745960/\" title=\"Joseph Kosinski (dir.), Jake Picking, Tom Cruise\">Top Gun: Maverick</a>\n<span class=\"secondaryInfo\">(2020)</span>\n<div class=\"velocity\">95\n<span class=\"secondaryInfo\">(\n<span class=\"global-sprite titlemeter up\"></span>\n16)</span>\n</div>\n</td>\n<td class=\"ratingColumn imdbRating\">\n</td>\n<td class=\"ratingColumn\">\n<div class=\"seen-widget seen-widget-tt1745960 pending\" data-titleid=\"tt1745960\">\n<div class=\"boundary\">\n<div class=\"popover\">\n<span class=\"delete\"> </span><ol><li>1</li><li>2</li><li>3</li><li>4</li><li>5</li><li>6</li><li>7</li><li>8</li><li>9</li><li>10</li></ol> </div>\n</div>\n<div class=\"inline\">\n<div class=\"pending\"></div>\n<div class=\"unseeable\">NOT YET RELEASED</div>\n<div class=\"unseen\"> </div>\n<div class=\"rating\"></div>\n<div class=\"seen\">Seen</div>\n</div>\n</div>\n</td>\n<td class=\"watchlistColumn\">\n<div class=\"wlb_ribbon\" data-recordmetrics=\"true\" data-tconst=\"tt1745960\"></div>\n</td>\n</tr>, <tr>\n<td class=\"posterColumn\">\n<span data-value=\"96\" name=\"rk\"></span>\n<span data-value=\"8.2\" name=\"ir\"></span>\n<span data-value=\"1.558224E12\" name=\"us\"></span>\n<span data-value=\"36390\" name=\"nv\"></span>\n<span data-value=\"-2.8000000000000007\" name=\"ur\"></span>\n<a href=\"/title/tt8613070/\"> <img alt=\"Retrato da Rapariga em Chamas\" height=\"67\" src=\"https://m.media-amazon.com/images/M/MV5BNjgwNjkwOWYtYmM3My00NzI1LTk5OGItYWY0OTMyZTY4OTg2XkEyXkFqcGdeQXVyODk4OTc3MTY@._V1_UY67_CR0,0,45,67_AL_.jpg\" width=\"45\"/>\n</a> </td>\n<td class=\"titleColumn\">\n<a href=\"/title/tt8613070/\" title=\"Céline Sciamma (dir.), Noémie Merlant, Adèle Haenel\">Retrato da Rapariga em Chamas</a>\n<span class=\"secondaryInfo\">(2019)</span>\n<div class=\"velocity\">96\n<span class=\"secondaryInfo\">(\n<span class=\"global-sprite titlemeter down\"></span>\n19)</span>\n</div>\n</td>\n<td class=\"ratingColumn imdbRating\">\n<strong title=\"8.2 based on 36,390 user ratings\">8.2</strong>\n</td>\n<td class=\"ratingColumn\">\n<div class=\"seen-widget seen-widget-tt8613070 pending\" data-titleid=\"tt8613070\">\n<div class=\"boundary\">\n<div class=\"popover\">\n<span class=\"delete\"> </span><ol><li>1</li><li>2</li><li>3</li><li>4</li><li>5</li><li>6</li><li>7</li><li>8</li><li>9</li><li>10</li></ol> </div>\n</div>\n<div class=\"inline\">\n<div class=\"pending\"></div>\n<div class=\"unseeable\">NOT YET RELEASED</div>\n<div class=\"unseen\"> </div>\n<div class=\"rating\"></div>\n<div class=\"seen\">Seen</div>\n</div>\n</div>\n</td>\n<td class=\"watchlistColumn\">\n<div class=\"wlb_ribbon\" data-recordmetrics=\"true\" data-tconst=\"tt8613070\"></div>\n</td>\n</tr>, <tr>\n<td class=\"posterColumn\">\n<span data-value=\"97\" name=\"rk\"></span>\n<span data-value=\"0.0\" name=\"ir\"></span>\n<span data-value=\"1.5901056E12\" name=\"us\"></span>\n<span data-value=\"0\" name=\"nv\"></span>\n<span data-value=\"-11.0\" name=\"ur\"></span>\n<a href=\"/title/tt7923220/\"> <img alt=\"Inheritance\" height=\"67\" src=\"https://m.media-amazon.com/images/M/MV5BYTYzZjE4NmEtZjQ2NC00NjNjLTlhNTItNjM3YTA3YTQyODk1XkEyXkFqcGdeQXVyMzQwMTY2Nzk@._V1_UY67_CR0,0,45,67_AL_.jpg\" width=\"45\"/>\n</a> </td>\n<td class=\"titleColumn\">\n<a href=\"/title/tt7923220/\" title=\"Vaughn Stein (dir.), Lily Collins, Simon Pegg\">Inheritance</a>\n<span class=\"secondaryInfo\">(2020)</span>\n<div class=\"velocity\">97\n<span class=\"secondaryInfo\">(\n<span class=\"global-sprite titlemeter up\"></span>\n564)</span>\n</div>\n</td>\n<td class=\"ratingColumn imdbRating\">\n</td>\n<td class=\"ratingColumn\">\n<div class=\"seen-widget seen-widget-tt7923220 pending\" data-titleid=\"tt7923220\">\n<div class=\"boundary\">\n<div class=\"popover\">\n<span class=\"delete\"> </span><ol><li>1</li><li>2</li><li>3</li><li>4</li><li>5</li><li>6</li><li>7</li><li>8</li><li>9</li><li>10</li></ol> </div>\n</div>\n<div class=\"inline\">\n<div class=\"pending\"></div>\n<div class=\"unseeable\">NOT YET RELEASED</div>\n<div class=\"unseen\"> </div>\n<div class=\"rating\"></div>\n<div class=\"seen\">Seen</div>\n</div>\n</div>\n</td>\n<td class=\"watchlistColumn\">\n<div class=\"wlb_ribbon\" data-recordmetrics=\"true\" data-tconst=\"tt7923220\"></div>\n</td>\n</tr>, <tr>\n<td class=\"posterColumn\">\n<span data-value=\"98\" name=\"rk\"></span>\n<span data-value=\"7.5\" name=\"ir\"></span>\n<span data-value=\"1.115856E12\" name=\"us\"></span>\n<span data-value=\"684761\" name=\"nv\"></span>\n<span data-value=\"-3.5\" name=\"ur\"></span>\n<a href=\"/title/tt0121766/\"> <img alt=\"Star Wars: Episódio III - A Vingança dos Sith\" height=\"67\" src=\"https://m.media-amazon.com/images/M/MV5BNTc4MTc3NTQ5OF5BMl5BanBnXkFtZTcwOTg0NjI4NA@@._V1_UY67_CR2,0,45,67_AL_.jpg\" width=\"45\"/>\n</a> </td>\n<td class=\"titleColumn\">\n<a href=\"/title/tt0121766/\" title=\"George Lucas (dir.), Hayden Christensen, Natalie Portman\">Star Wars: Episódio III - A Vingança dos Sith</a>\n<span class=\"secondaryInfo\">(2005)</span>\n<div class=\"velocity\">98\n<span class=\"secondaryInfo\">(\n<span class=\"global-sprite titlemeter up\"></span>\n270)</span>\n</div>\n</td>\n<td class=\"ratingColumn imdbRating\">\n<strong title=\"7.5 based on 684,761 user ratings\">7.5</strong>\n</td>\n<td class=\"ratingColumn\">\n<div class=\"seen-widget seen-widget-tt0121766 pending\" data-titleid=\"tt0121766\">\n<div class=\"boundary\">\n<div class=\"popover\">\n<span class=\"delete\"> </span><ol><li>1</li><li>2</li><li>3</li><li>4</li><li>5</li><li>6</li><li>7</li><li>8</li><li>9</li><li>10</li></ol> </div>\n</div>\n<div class=\"inline\">\n<div class=\"pending\"></div>\n<div class=\"unseeable\">NOT YET RELEASED</div>\n<div class=\"unseen\"> </div>\n<div class=\"rating\"></div>\n<div class=\"seen\">Seen</div>\n</div>\n</div>\n</td>\n<td class=\"watchlistColumn\">\n<div class=\"wlb_ribbon\" data-recordmetrics=\"true\" data-tconst=\"tt0121766\"></div>\n</td>\n</tr>, <tr>\n<td class=\"posterColumn\">\n<span data-value=\"99\" name=\"rk\"></span>\n<span data-value=\"5.2\" name=\"ir\"></span>\n<span data-value=\"1.22688E12\" name=\"us\"></span>\n<span data-value=\"409808\" name=\"nv\"></span>\n<span data-value=\"-5.8\" name=\"ur\"></span>\n<a href=\"/title/tt1099212/\"> <img alt=\"Crepúsculo\" height=\"67\" src=\"https://m.media-amazon.com/images/M/MV5BMTQ2NzUxMTAxN15BMl5BanBnXkFtZTcwMzEyMTIwMg@@._V1_UY67_CR0,0,45,67_AL_.jpg\" width=\"45\"/>\n</a> </td>\n<td class=\"titleColumn\">\n<a href=\"/title/tt1099212/\" title=\"Catherine Hardwicke (dir.), Kristen Stewart, Robert Pattinson\">Crepúsculo</a>\n<span class=\"secondaryInfo\">(2008)</span>\n<div class=\"velocity\">99\n<span class=\"secondaryInfo\">(\n<span class=\"global-sprite titlemeter up\"></span>\n140)</span>\n</div>\n</td>\n<td class=\"ratingColumn imdbRating\">\n<strong title=\"5.2 based on 409,808 user ratings\">5.2</strong>\n</td>\n<td class=\"ratingColumn\">\n<div class=\"seen-widget seen-widget-tt1099212 pending\" data-titleid=\"tt1099212\">\n<div class=\"boundary\">\n<div class=\"popover\">\n<span class=\"delete\"> </span><ol><li>1</li><li>2</li><li>3</li><li>4</li><li>5</li><li>6</li><li>7</li><li>8</li><li>9</li><li>10</li></ol> </div>\n</div>\n<div class=\"inline\">\n<div class=\"pending\"></div>\n<div class=\"unseeable\">NOT YET RELEASED</div>\n<div class=\"unseen\"> </div>\n<div class=\"rating\"></div>\n<div class=\"seen\">Seen</div>\n</div>\n</div>\n</td>\n<td class=\"watchlistColumn\">\n<div class=\"wlb_ribbon\" data-recordmetrics=\"true\" data-tconst=\"tt1099212\"></div>\n</td>\n</tr>, <tr>\n<td class=\"posterColumn\">\n<span data-value=\"100\" name=\"rk\"></span>\n<span data-value=\"8.7\" name=\"ir\"></span>\n<span data-value=\"3.273696E11\" name=\"us\"></span>\n<span data-value=\"1116508\" name=\"nv\"></span>\n<span data-value=\"-2.3000000000000007\" name=\"ur\"></span>\n<a href=\"/title/tt0080684/\"> <img alt=\"O Império Contra-Ataca\" height=\"67\" src=\"https://m.media-amazon.com/images/M/MV5BYmU1NDRjNDgtMzhiMi00NjZmLTg5NGItZDNiZjU5NTU4OTE0XkEyXkFqcGdeQXVyNzkwMjQ5NzM@._V1_UX45_CR0,0,45,67_AL_.jpg\" width=\"45\"/>\n</a> </td>\n<td class=\"titleColumn\">\n<a href=\"/title/tt0080684/\" title=\"Irvin Kershner (dir.), Mark Hamill, Harrison Ford\">O Império Contra-Ataca</a>\n<span class=\"secondaryInfo\">(1980)</span>\n<div class=\"velocity\">100\n<span class=\"secondaryInfo\">(\n<span class=\"global-sprite titlemeter up\"></span>\n298)</span>\n</div>\n</td>\n<td class=\"ratingColumn imdbRating\">\n<strong title=\"8.7 based on 1,116,508 user ratings\">8.7</strong>\n</td>\n<td class=\"ratingColumn\">\n<div class=\"seen-widget seen-widget-tt0080684 pending\" data-titleid=\"tt0080684\">\n<div class=\"boundary\">\n<div class=\"popover\">\n<span class=\"delete\"> </span><ol><li>1</li><li>2</li><li>3</li><li>4</li><li>5</li><li>6</li><li>7</li><li>8</li><li>9</li><li>10</li></ol> </div>\n</div>\n<div class=\"inline\">\n<div class=\"pending\"></div>\n<div class=\"unseeable\">NOT YET RELEASED</div>\n<div class=\"unseen\"> </div>\n<div class=\"rating\"></div>\n<div class=\"seen\">Seen</div>\n</div>\n</div>\n</td>\n<td class=\"watchlistColumn\">\n<div class=\"wlb_ribbon\" data-recordmetrics=\"true\" data-tconst=\"tt0080684\"></div>\n</td>\n</tr>]\n"
    }
   ],
   "source": [
    "# Enfim mostrando o poder da bs4\n",
    "bs = BeautifulSoup(html, 'lxml')\n",
    "\n",
    "# Imprimindo o título da página\n",
    "movies = bs.select('.lister-list tr')\n",
    "\n",
    "print(movies)"
   ]
  },
  {
   "cell_type": "markdown",
   "metadata": {},
   "source": [
    "Primeiro vamos analisar o HTML para saber quais elementos devemos resgatar\n",
    "\n",
    "**Para o título:**\n",
    "\n",
    "![select_title](img/ws7.png)\n",
    "\n",
    "Para o título vamos selecionar o a que esta dentro de um td com classe titleColumn e pegar o texto dela\n",
    "\n",
    "**Para os diretores e escritores:**\n",
    "\n",
    "![select_authors](img/ws8.png)\n",
    "\n",
    "Vamos aproveitar a estrutura dos títulos e selecionar o parâmetro title, que nos vai dar os diretores e escritores\n",
    "\n",
    "**Para o ano do filme:**\n",
    "\n",
    "![select_year](img/ws9.png)\n",
    "\n",
    "Ainda no td com classe titleColumn, vamos selecionar o span que é o ano do filme\n",
    "\n",
    "**Para as ratings:**\n",
    "\n",
    "![select_year](img/ws10.png)\n",
    "\n",
    "Vamos selecionar o td com a classe imdbRating e pegar o texto da tag strong dentro deste td\n",
    "\n",
    "Agora que sabemos como selecionar todos os dados, vamos ao código"
   ]
  },
  {
   "cell_type": "code",
   "execution_count": 118,
   "metadata": {},
   "outputs": [],
   "source": [
    "titles = []\n",
    "directors_writers = []\n",
    "years = []\n",
    "ratings = []\n",
    "\n",
    "for movie in movies:\n",
    "    titles.append           (movie.find('td', class_='titleColumn').find('a').get_text())\n",
    "    directors_writers.append(movie.find('td', class_='titleColumn').find('a')['title'])\n",
    "    years.append            (movie.find('td', class_='titleColumn').find('span').get_text()[1:5])\n",
    "    try:\n",
    "        ratings.append(movie.find('td', class_='ratingColumn imdbRating').find('strong').get_text())\n",
    "    except:\n",
    "        ratings.append('')\n"
   ]
  },
  {
   "cell_type": "markdown",
   "metadata": {},
   "source": [
    "Agora vamos criar o dataframe com os dados que nós extraímos\n",
    "\n",
    "#### Criando o dataset:\n",
    "\n",
    "Vamos definir o nome das colunas, e testar o dataset com o método head()"
   ]
  },
  {
   "cell_type": "code",
   "execution_count": 119,
   "metadata": {},
   "outputs": [
    {
     "output_type": "stream",
     "name": "stdout",
     "text": "100\n100\n100\n100\n"
    }
   ],
   "source": [
    "print(len(titles))\n",
    "print(len(directors_writers))\n",
    "print(len(years))\n",
    "print(len(ratings))\n"
   ]
  },
  {
   "cell_type": "code",
   "execution_count": 120,
   "metadata": {
    "scrolled": true
   },
   "outputs": [
    {
     "output_type": "execute_result",
     "data": {
      "text/plain": "                                              title  year rating  \\\n0                   Tyler Rake: Operação de Resgate  2020    6.8   \n1  Star Wars: Episódio IX - A Ascensão de Skywalker  2019    6.7   \n2                                Mentiras Perigosas  2020    5.2   \n3                                Se Tu Soubesses...  2020    7.1   \n4                                           365 dni  2020    3.6   \n\n                                director_and_writers  \n0  Sam Hargrave (dir.), Chris Hemsworth, Bryon Lerum  \n1      J.J. Abrams (dir.), Daisy Ridley, John Boyega  \n2    Michael M. Scott (dir.), Nick Purcha, Joe Costa  \n3         Alice Wu (dir.), Leah Lewis, Daniel Diemer  \n4  Barbara Bialowas (dir.), Michele Morrone, Anna...  ",
      "text/html": "<div>\n<style scoped>\n    .dataframe tbody tr th:only-of-type {\n        vertical-align: middle;\n    }\n\n    .dataframe tbody tr th {\n        vertical-align: top;\n    }\n\n    .dataframe thead th {\n        text-align: right;\n    }\n</style>\n<table border=\"1\" class=\"dataframe\">\n  <thead>\n    <tr style=\"text-align: right;\">\n      <th></th>\n      <th>title</th>\n      <th>year</th>\n      <th>rating</th>\n      <th>director_and_writers</th>\n    </tr>\n  </thead>\n  <tbody>\n    <tr>\n      <th>0</th>\n      <td>Tyler Rake: Operação de Resgate</td>\n      <td>2020</td>\n      <td>6.8</td>\n      <td>Sam Hargrave (dir.), Chris Hemsworth, Bryon Lerum</td>\n    </tr>\n    <tr>\n      <th>1</th>\n      <td>Star Wars: Episódio IX - A Ascensão de Skywalker</td>\n      <td>2019</td>\n      <td>6.7</td>\n      <td>J.J. Abrams (dir.), Daisy Ridley, John Boyega</td>\n    </tr>\n    <tr>\n      <th>2</th>\n      <td>Mentiras Perigosas</td>\n      <td>2020</td>\n      <td>5.2</td>\n      <td>Michael M. Scott (dir.), Nick Purcha, Joe Costa</td>\n    </tr>\n    <tr>\n      <th>3</th>\n      <td>Se Tu Soubesses...</td>\n      <td>2020</td>\n      <td>7.1</td>\n      <td>Alice Wu (dir.), Leah Lewis, Daniel Diemer</td>\n    </tr>\n    <tr>\n      <th>4</th>\n      <td>365 dni</td>\n      <td>2020</td>\n      <td>3.6</td>\n      <td>Barbara Bialowas (dir.), Michele Morrone, Anna...</td>\n    </tr>\n  </tbody>\n</table>\n</div>"
     },
     "metadata": {},
     "execution_count": 120
    }
   ],
   "source": [
    "df = pd.DataFrame({\n",
    "        \"title\": titles, \n",
    "        \"year\": years, \n",
    "        \"rating\": ratings, \n",
    "        \"director_and_writers\":directors_writers\n",
    "    })\n",
    "\n",
    "df.head()"
   ]
  },
  {
   "cell_type": "markdown",
   "metadata": {},
   "source": [
    "Dataset criado e testado, vamos prosseguir para a etapa de salvar os dados em um arquivo CSV\n",
    "\n",
    "#### Salvando em um arquivo:\n",
    "\n",
    "Com o método to_csv() o pandas vai criar um arquivo .csv do dataset para nós"
   ]
  },
  {
   "cell_type": "code",
   "execution_count": 121,
   "metadata": {},
   "outputs": [],
   "source": [
    "df.to_csv('imdb_best_movies.csv')"
   ]
  },
  {
   "cell_type": "markdown",
   "metadata": {},
   "source": [
    "## Ética\n",
    "\n",
    "Bom, esse é um tópico interessante, e não se refere necessáriamente a lei, porém as boas maneiras que devemos praticar ao pegar dados de sites que não nos pertençam\n",
    "\n",
    "Pense no contrário: alguem entrando em nossos sites fazendo varreduras, carregando servidores, o que você acharia disso?\n",
    "\n",
    "Estando no outro lado vemos que as vezes isso pode ser incomodo, então preste atenção nestes tópicos:\n",
    "\n",
    "- Caso o site disponibilize uma API, prefira usar ela ao scraping;\n",
    "- Faça requisições de forma moderada, para que afetem de forma menor possível a infraestrurura do proprietário do site\n",
    "- Só pegue os dados que você realmente precisa;\n",
    "- Tente de alguma forma retornar algo que seja de valor para o site, como por exemplo: tráfego;\n",
    "- Tenha em mente seus objetivos, para que fim o dado será usado e que seja diferente do objetivo do site, caso não você estaria apenas duplicando um dado, o que não é interessante para o detentor do conteúdo;\n",
    "\n",
    "É o básico, como viver em sociedade, respeite o próximo, neste caso, o site dele.\n",
    "\n",
    "## Conclusão\n",
    "\n",
    "Bom, vimos do básico a prática do webscraping, claro que no dia a dia veremos situações talvez mais desafiadores que nos levará a procurar num Stackoverflow ou docs das libs, porém a ideia é esta.\n",
    "\n",
    "Precisamos de uma biblioteca para fazer as requisições, que neste caso escolhemos a urllib, e também uma para manipulação do HTML que é a BeautifulSoup, esta última está presente em 100% dos materais que busquei sobre o assunto.\n",
    "\n",
    "E então com as bibliotecas solicitadas, nós precisamos ter conhecimento dos dados que queremos extrair, definir o site alvo e aí olhar sua estrutura HTML para podermos iniciar a raspagem.\n",
    "\n",
    "Tendo as informações já em nossa mão talvez vamos precisar fazer algumas mínimas manipulações de string para termos exatamente o que precisamos.\n",
    "\n",
    "Por fim podemos utilizar os dados, salvar em um arquivo, montar um dataset, aí vai de acordo com o nosso objetivo.\n",
    "\n",
    "Obrigado por lerem, e qualquer dúvida ou sugestão comentem! :)"
   ]
  }
 ],
 "metadata": {
  "kernelspec": {
   "display_name": "Python 3",
   "language": "python",
   "name": "python3"
  },
  "language_info": {
   "codemirror_mode": {
    "name": "ipython",
    "version": 3
   },
   "file_extension": ".py",
   "mimetype": "text/x-python",
   "name": "python",
   "nbconvert_exporter": "python",
   "pygments_lexer": "ipython3",
   "version": "3.8.2-final"
  }
 },
 "nbformat": 4,
 "nbformat_minor": 2
}